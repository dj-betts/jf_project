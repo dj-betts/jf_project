{
 "cells": [
  {
   "cell_type": "code",
   "execution_count": 3,
   "id": "turkish-intermediate",
   "metadata": {},
   "outputs": [
    {
     "name": "stdout",
     "output_type": "stream",
     "text": [
      "The google.cloud.bigquery extension is already loaded. To reload it, use:\n",
      "  %reload_ext google.cloud.bigquery\n"
     ]
    }
   ],
   "source": [
    "%load_ext google.cloud.bigquery\n",
    "from google.cloud import bigquery"
   ]
  },
  {
   "cell_type": "code",
   "execution_count": 4,
   "id": "offshore-entrepreneur",
   "metadata": {},
   "outputs": [],
   "source": [
    "import pandas as pd\n",
    "import matplotlib.pyplot as plt\n",
    "import numpy as np"
   ]
  },
  {
   "cell_type": "code",
   "execution_count": 5,
   "id": "likely-balance",
   "metadata": {},
   "outputs": [],
   "source": [
    "from datetime import datetime "
   ]
  },
  {
   "cell_type": "code",
   "execution_count": 6,
   "id": "initial-provider",
   "metadata": {},
   "outputs": [],
   "source": [
    "#client = bigquery.Client()"
   ]
  },
  {
   "cell_type": "code",
   "execution_count": 7,
   "id": "coupled-leather",
   "metadata": {},
   "outputs": [],
   "source": [
    "data = pd.read_csv('/Users/djbetts/Desktop/jf_project/jf_data.csv',usecols=['event_name', 'event_date_partition', 'event_params__activity_total_time', 'event_params__video_title', 'event_params__videotitle', 'geo__country', 'geo__city', 'user_pseudo_id'], low_memory=False)"
   ]
  },
  {
   "cell_type": "code",
   "execution_count": 8,
   "id": "ancient-executive",
   "metadata": {},
   "outputs": [],
   "source": [
    "df = data.copy()"
   ]
  },
  {
   "cell_type": "code",
   "execution_count": 9,
   "id": "ahead-skirt",
   "metadata": {},
   "outputs": [
    {
     "data": {
      "text/html": [
       "<div>\n",
       "<style scoped>\n",
       "    .dataframe tbody tr th:only-of-type {\n",
       "        vertical-align: middle;\n",
       "    }\n",
       "\n",
       "    .dataframe tbody tr th {\n",
       "        vertical-align: top;\n",
       "    }\n",
       "\n",
       "    .dataframe thead th {\n",
       "        text-align: right;\n",
       "    }\n",
       "</style>\n",
       "<table border=\"1\" class=\"dataframe\">\n",
       "  <thead>\n",
       "    <tr style=\"text-align: right;\">\n",
       "      <th></th>\n",
       "      <th>event_date_partition</th>\n",
       "      <th>event_name</th>\n",
       "      <th>event_params__activity_total_time</th>\n",
       "      <th>event_params__video_title</th>\n",
       "      <th>event_params__videotitle</th>\n",
       "      <th>geo__city</th>\n",
       "      <th>geo__country</th>\n",
       "      <th>user_pseudo_id</th>\n",
       "    </tr>\n",
       "  </thead>\n",
       "  <tbody>\n",
       "    <tr>\n",
       "      <th>0</th>\n",
       "      <td>2020-10-08T00:00:00</td>\n",
       "      <td>screen_view</td>\n",
       "      <td>NaN</td>\n",
       "      <td>NaN</td>\n",
       "      <td>NaN</td>\n",
       "      <td>Corvallis</td>\n",
       "      <td>United States</td>\n",
       "      <td>1AE4EF46D71643F386340D1630CC6082</td>\n",
       "    </tr>\n",
       "    <tr>\n",
       "      <th>1</th>\n",
       "      <td>2020-10-08T00:00:00</td>\n",
       "      <td>screen_view</td>\n",
       "      <td>NaN</td>\n",
       "      <td>NaN</td>\n",
       "      <td>NaN</td>\n",
       "      <td>Corvallis</td>\n",
       "      <td>United States</td>\n",
       "      <td>1AE4EF46D71643F386340D1630CC6082</td>\n",
       "    </tr>\n",
       "    <tr>\n",
       "      <th>2</th>\n",
       "      <td>2020-10-08T00:00:00</td>\n",
       "      <td>screen_view</td>\n",
       "      <td>NaN</td>\n",
       "      <td>NaN</td>\n",
       "      <td>NaN</td>\n",
       "      <td>Corvallis</td>\n",
       "      <td>United States</td>\n",
       "      <td>1AE4EF46D71643F386340D1630CC6082</td>\n",
       "    </tr>\n",
       "    <tr>\n",
       "      <th>3</th>\n",
       "      <td>2020-10-08T00:00:00</td>\n",
       "      <td>screen_view</td>\n",
       "      <td>NaN</td>\n",
       "      <td>NaN</td>\n",
       "      <td>NaN</td>\n",
       "      <td>Corvallis</td>\n",
       "      <td>United States</td>\n",
       "      <td>1AE4EF46D71643F386340D1630CC6082</td>\n",
       "    </tr>\n",
       "    <tr>\n",
       "      <th>4</th>\n",
       "      <td>2020-10-08T00:00:00</td>\n",
       "      <td>screen_view</td>\n",
       "      <td>NaN</td>\n",
       "      <td>NaN</td>\n",
       "      <td>NaN</td>\n",
       "      <td>Corvallis</td>\n",
       "      <td>United States</td>\n",
       "      <td>1AE4EF46D71643F386340D1630CC6082</td>\n",
       "    </tr>\n",
       "  </tbody>\n",
       "</table>\n",
       "</div>"
      ],
      "text/plain": [
       "  event_date_partition   event_name  event_params__activity_total_time  \\\n",
       "0  2020-10-08T00:00:00  screen_view                                NaN   \n",
       "1  2020-10-08T00:00:00  screen_view                                NaN   \n",
       "2  2020-10-08T00:00:00  screen_view                                NaN   \n",
       "3  2020-10-08T00:00:00  screen_view                                NaN   \n",
       "4  2020-10-08T00:00:00  screen_view                                NaN   \n",
       "\n",
       "   event_params__video_title  event_params__videotitle  geo__city  \\\n",
       "0                        NaN                       NaN  Corvallis   \n",
       "1                        NaN                       NaN  Corvallis   \n",
       "2                        NaN                       NaN  Corvallis   \n",
       "3                        NaN                       NaN  Corvallis   \n",
       "4                        NaN                       NaN  Corvallis   \n",
       "\n",
       "    geo__country                    user_pseudo_id  \n",
       "0  United States  1AE4EF46D71643F386340D1630CC6082  \n",
       "1  United States  1AE4EF46D71643F386340D1630CC6082  \n",
       "2  United States  1AE4EF46D71643F386340D1630CC6082  \n",
       "3  United States  1AE4EF46D71643F386340D1630CC6082  \n",
       "4  United States  1AE4EF46D71643F386340D1630CC6082  "
      ]
     },
     "execution_count": 9,
     "metadata": {},
     "output_type": "execute_result"
    }
   ],
   "source": [
    "df.head()"
   ]
  },
  {
   "cell_type": "code",
   "execution_count": 10,
   "id": "theoretical-guarantee",
   "metadata": {},
   "outputs": [
    {
     "data": {
      "text/plain": [
       "AA38C84A3E1442048F72096A4621C17A    515\n",
       "408BAF780ACD4F53B3F245E87ABF44A8     72\n",
       "1AE4EF46D71643F386340D1630CC6082     59\n",
       "C014B9176D834F9BBABE0ADCB8CE5AD6     53\n",
       "0528B26980524C1F9ABC1E4C774F166F     46\n",
       "E992B0A12520496E907C49B34D5D06AA     37\n",
       "13C48EA918E847E1B244EB71A4C26D1C     34\n",
       "79FF838CEE1A46D8BDEFDF592E0C705C     26\n",
       "A1C4AB74010F44AF810FC0C27DB2CEED     26\n",
       "028CB403405B4A12B4485F19269A82B3     24\n",
       "CF7EADF45A224C1E9DEDF65BE9CDD3BA     24\n",
       "CE056F19B87545C0A5AA24CBF89C0A3B     16\n",
       "3B95E8EE13824C758CEF5922F38C5223     15\n",
       "BD05492D137A4320AAB293DEEB0ACEB1      9\n",
       "C9A8CC50D22D469DB0F2C874C6AD046C      8\n",
       "EC830E447FE74E2CAD9894D0F8AEA9EA      8\n",
       "AA431089D4094D95AAC16ACB266F245F      8\n",
       "CEA6AB178A20458D9BBC81607665D7D7      8\n",
       "5DE009489F844FF18959E60EB836B00B      7\n",
       "72F32A73B229415FBF37B36DFD104A24      4\n",
       "FD7E053248C94B5BB31CC094C1AE0B18      1\n",
       "Name: user_pseudo_id, dtype: int64"
      ]
     },
     "execution_count": 10,
     "metadata": {},
     "output_type": "execute_result"
    }
   ],
   "source": [
    "df.user_pseudo_id.value_counts()"
   ]
  },
  {
   "cell_type": "code",
   "execution_count": 116,
   "id": "mobile-penalty",
   "metadata": {},
   "outputs": [],
   "source": [
    "#df.dropna(inplace=True, subset=['event_params__engagement_time_msec'])"
   ]
  },
  {
   "cell_type": "code",
   "execution_count": 117,
   "id": "italian-gather",
   "metadata": {},
   "outputs": [
    {
     "data": {
      "text/plain": [
       "(1000, 8)"
      ]
     },
     "execution_count": 117,
     "metadata": {},
     "output_type": "execute_result"
    }
   ],
   "source": [
    "df.shape"
   ]
  },
  {
   "cell_type": "code",
   "execution_count": 118,
   "id": "graduate-granny",
   "metadata": {},
   "outputs": [
    {
     "data": {
      "text/html": [
       "<div>\n",
       "<style scoped>\n",
       "    .dataframe tbody tr th:only-of-type {\n",
       "        vertical-align: middle;\n",
       "    }\n",
       "\n",
       "    .dataframe tbody tr th {\n",
       "        vertical-align: top;\n",
       "    }\n",
       "\n",
       "    .dataframe thead th {\n",
       "        text-align: right;\n",
       "    }\n",
       "</style>\n",
       "<table border=\"1\" class=\"dataframe\">\n",
       "  <thead>\n",
       "    <tr style=\"text-align: right;\">\n",
       "      <th></th>\n",
       "      <th>event_date_partition</th>\n",
       "      <th>event_name</th>\n",
       "      <th>event_params__activity_total_time</th>\n",
       "      <th>event_params__video_title</th>\n",
       "      <th>event_params__videotitle</th>\n",
       "      <th>geo__city</th>\n",
       "      <th>geo__country</th>\n",
       "      <th>user_pseudo_id</th>\n",
       "    </tr>\n",
       "  </thead>\n",
       "  <tbody>\n",
       "    <tr>\n",
       "      <th>0</th>\n",
       "      <td>2020-10-08T00:00:00</td>\n",
       "      <td>screen_view</td>\n",
       "      <td>NaN</td>\n",
       "      <td>NaN</td>\n",
       "      <td>NaN</td>\n",
       "      <td>Corvallis</td>\n",
       "      <td>United States</td>\n",
       "      <td>1AE4EF46D71643F386340D1630CC6082</td>\n",
       "    </tr>\n",
       "    <tr>\n",
       "      <th>1</th>\n",
       "      <td>2020-10-08T00:00:00</td>\n",
       "      <td>screen_view</td>\n",
       "      <td>NaN</td>\n",
       "      <td>NaN</td>\n",
       "      <td>NaN</td>\n",
       "      <td>Corvallis</td>\n",
       "      <td>United States</td>\n",
       "      <td>1AE4EF46D71643F386340D1630CC6082</td>\n",
       "    </tr>\n",
       "    <tr>\n",
       "      <th>2</th>\n",
       "      <td>2020-10-08T00:00:00</td>\n",
       "      <td>screen_view</td>\n",
       "      <td>NaN</td>\n",
       "      <td>NaN</td>\n",
       "      <td>NaN</td>\n",
       "      <td>Corvallis</td>\n",
       "      <td>United States</td>\n",
       "      <td>1AE4EF46D71643F386340D1630CC6082</td>\n",
       "    </tr>\n",
       "    <tr>\n",
       "      <th>3</th>\n",
       "      <td>2020-10-08T00:00:00</td>\n",
       "      <td>screen_view</td>\n",
       "      <td>NaN</td>\n",
       "      <td>NaN</td>\n",
       "      <td>NaN</td>\n",
       "      <td>Corvallis</td>\n",
       "      <td>United States</td>\n",
       "      <td>1AE4EF46D71643F386340D1630CC6082</td>\n",
       "    </tr>\n",
       "    <tr>\n",
       "      <th>4</th>\n",
       "      <td>2020-10-08T00:00:00</td>\n",
       "      <td>screen_view</td>\n",
       "      <td>NaN</td>\n",
       "      <td>NaN</td>\n",
       "      <td>NaN</td>\n",
       "      <td>Corvallis</td>\n",
       "      <td>United States</td>\n",
       "      <td>1AE4EF46D71643F386340D1630CC6082</td>\n",
       "    </tr>\n",
       "  </tbody>\n",
       "</table>\n",
       "</div>"
      ],
      "text/plain": [
       "  event_date_partition   event_name  event_params__activity_total_time  \\\n",
       "0  2020-10-08T00:00:00  screen_view                                NaN   \n",
       "1  2020-10-08T00:00:00  screen_view                                NaN   \n",
       "2  2020-10-08T00:00:00  screen_view                                NaN   \n",
       "3  2020-10-08T00:00:00  screen_view                                NaN   \n",
       "4  2020-10-08T00:00:00  screen_view                                NaN   \n",
       "\n",
       "   event_params__video_title  event_params__videotitle  geo__city  \\\n",
       "0                        NaN                       NaN  Corvallis   \n",
       "1                        NaN                       NaN  Corvallis   \n",
       "2                        NaN                       NaN  Corvallis   \n",
       "3                        NaN                       NaN  Corvallis   \n",
       "4                        NaN                       NaN  Corvallis   \n",
       "\n",
       "    geo__country                    user_pseudo_id  \n",
       "0  United States  1AE4EF46D71643F386340D1630CC6082  \n",
       "1  United States  1AE4EF46D71643F386340D1630CC6082  \n",
       "2  United States  1AE4EF46D71643F386340D1630CC6082  \n",
       "3  United States  1AE4EF46D71643F386340D1630CC6082  \n",
       "4  United States  1AE4EF46D71643F386340D1630CC6082  "
      ]
     },
     "execution_count": 118,
     "metadata": {},
     "output_type": "execute_result"
    }
   ],
   "source": [
    "df.head()"
   ]
  },
  {
   "cell_type": "code",
   "execution_count": 119,
   "id": "automatic-finger",
   "metadata": {},
   "outputs": [
    {
     "data": {
      "text/plain": [
       "<AxesSubplot:>"
      ]
     },
     "execution_count": 119,
     "metadata": {},
     "output_type": "execute_result"
    },
    {
     "data": {
      "image/png": "[encoded data removed]",
      "text/plain": [
       "<Figure size 432x288 with 1 Axes>"
      ]
     },
     "metadata": {
      "needs_background": "light"
     },
     "output_type": "display_data"
    }
   ],
   "source": [
    "df.geo__country.hist()"
   ]
  },
  {
   "cell_type": "code",
   "execution_count": 120,
   "id": "consecutive-snapshot",
   "metadata": {},
   "outputs": [
    {
     "data": {
      "text/plain": [
       "Guatemala City             515\n",
       "Bordeaux                    72\n",
       "Corvallis                   59\n",
       "Addis Ababa                 46\n",
       "Sudbury                     37\n",
       "Dar es Salaam               34\n",
       "Kuala Lumpur                32\n",
       "Emalahleni                  26\n",
       "Denver                      26\n",
       "Johannesburg                24\n",
       "Leiden                      24\n",
       "Singapore                   21\n",
       "Lowell                      16\n",
       "Colorado Springs            15\n",
       "Lexington                    9\n",
       "Panama City                  8\n",
       "Ho Chi Minh City             8\n",
       "Meggen                       8\n",
       "Mueang Lampang District      8\n",
       "Hot Springs                  7\n",
       "Nashville                    4\n",
       "Minneapolis                  1\n",
       "Name: geo__city, dtype: int64"
      ]
     },
     "execution_count": 120,
     "metadata": {},
     "output_type": "execute_result"
    }
   ],
   "source": [
    "df.geo__city.value_counts()"
   ]
  },
  {
   "cell_type": "code",
   "execution_count": 121,
   "id": "engaging-agency",
   "metadata": {},
   "outputs": [
    {
     "data": {
      "text/html": [
       "<div>\n",
       "<style scoped>\n",
       "    .dataframe tbody tr th:only-of-type {\n",
       "        vertical-align: middle;\n",
       "    }\n",
       "\n",
       "    .dataframe tbody tr th {\n",
       "        vertical-align: top;\n",
       "    }\n",
       "\n",
       "    .dataframe thead th {\n",
       "        text-align: right;\n",
       "    }\n",
       "</style>\n",
       "<table border=\"1\" class=\"dataframe\">\n",
       "  <thead>\n",
       "    <tr style=\"text-align: right;\">\n",
       "      <th></th>\n",
       "      <th>event_date_partition</th>\n",
       "      <th>event_name</th>\n",
       "      <th>event_params__activity_total_time</th>\n",
       "      <th>event_params__video_title</th>\n",
       "      <th>event_params__videotitle</th>\n",
       "      <th>geo__city</th>\n",
       "      <th>geo__country</th>\n",
       "      <th>user_pseudo_id</th>\n",
       "    </tr>\n",
       "  </thead>\n",
       "  <tbody>\n",
       "    <tr>\n",
       "      <th>0</th>\n",
       "      <td>2020-10-08T00:00:00</td>\n",
       "      <td>screen_view</td>\n",
       "      <td>NaN</td>\n",
       "      <td>NaN</td>\n",
       "      <td>NaN</td>\n",
       "      <td>Corvallis</td>\n",
       "      <td>United States</td>\n",
       "      <td>1AE4EF46D71643F386340D1630CC6082</td>\n",
       "    </tr>\n",
       "    <tr>\n",
       "      <th>1</th>\n",
       "      <td>2020-10-08T00:00:00</td>\n",
       "      <td>screen_view</td>\n",
       "      <td>NaN</td>\n",
       "      <td>NaN</td>\n",
       "      <td>NaN</td>\n",
       "      <td>Corvallis</td>\n",
       "      <td>United States</td>\n",
       "      <td>1AE4EF46D71643F386340D1630CC6082</td>\n",
       "    </tr>\n",
       "    <tr>\n",
       "      <th>2</th>\n",
       "      <td>2020-10-08T00:00:00</td>\n",
       "      <td>screen_view</td>\n",
       "      <td>NaN</td>\n",
       "      <td>NaN</td>\n",
       "      <td>NaN</td>\n",
       "      <td>Corvallis</td>\n",
       "      <td>United States</td>\n",
       "      <td>1AE4EF46D71643F386340D1630CC6082</td>\n",
       "    </tr>\n",
       "    <tr>\n",
       "      <th>3</th>\n",
       "      <td>2020-10-08T00:00:00</td>\n",
       "      <td>screen_view</td>\n",
       "      <td>NaN</td>\n",
       "      <td>NaN</td>\n",
       "      <td>NaN</td>\n",
       "      <td>Corvallis</td>\n",
       "      <td>United States</td>\n",
       "      <td>1AE4EF46D71643F386340D1630CC6082</td>\n",
       "    </tr>\n",
       "    <tr>\n",
       "      <th>4</th>\n",
       "      <td>2020-10-08T00:00:00</td>\n",
       "      <td>screen_view</td>\n",
       "      <td>NaN</td>\n",
       "      <td>NaN</td>\n",
       "      <td>NaN</td>\n",
       "      <td>Corvallis</td>\n",
       "      <td>United States</td>\n",
       "      <td>1AE4EF46D71643F386340D1630CC6082</td>\n",
       "    </tr>\n",
       "  </tbody>\n",
       "</table>\n",
       "</div>"
      ],
      "text/plain": [
       "  event_date_partition   event_name  event_params__activity_total_time  \\\n",
       "0  2020-10-08T00:00:00  screen_view                                NaN   \n",
       "1  2020-10-08T00:00:00  screen_view                                NaN   \n",
       "2  2020-10-08T00:00:00  screen_view                                NaN   \n",
       "3  2020-10-08T00:00:00  screen_view                                NaN   \n",
       "4  2020-10-08T00:00:00  screen_view                                NaN   \n",
       "\n",
       "   event_params__video_title  event_params__videotitle  geo__city  \\\n",
       "0                        NaN                       NaN  Corvallis   \n",
       "1                        NaN                       NaN  Corvallis   \n",
       "2                        NaN                       NaN  Corvallis   \n",
       "3                        NaN                       NaN  Corvallis   \n",
       "4                        NaN                       NaN  Corvallis   \n",
       "\n",
       "    geo__country                    user_pseudo_id  \n",
       "0  United States  1AE4EF46D71643F386340D1630CC6082  \n",
       "1  United States  1AE4EF46D71643F386340D1630CC6082  \n",
       "2  United States  1AE4EF46D71643F386340D1630CC6082  \n",
       "3  United States  1AE4EF46D71643F386340D1630CC6082  \n",
       "4  United States  1AE4EF46D71643F386340D1630CC6082  "
      ]
     },
     "execution_count": 121,
     "metadata": {},
     "output_type": "execute_result"
    }
   ],
   "source": [
    "df.head()"
   ]
  },
  {
   "cell_type": "code",
   "execution_count": 123,
   "id": "qualified-rogers",
   "metadata": {},
   "outputs": [
    {
     "data": {
      "text/plain": [
       "AA38C84A3E1442048F72096A4621C17A    515\n",
       "408BAF780ACD4F53B3F245E87ABF44A8     72\n",
       "1AE4EF46D71643F386340D1630CC6082     59\n",
       "C014B9176D834F9BBABE0ADCB8CE5AD6     53\n",
       "0528B26980524C1F9ABC1E4C774F166F     46\n",
       "E992B0A12520496E907C49B34D5D06AA     37\n",
       "13C48EA918E847E1B244EB71A4C26D1C     34\n",
       "A1C4AB74010F44AF810FC0C27DB2CEED     26\n",
       "79FF838CEE1A46D8BDEFDF592E0C705C     26\n",
       "028CB403405B4A12B4485F19269A82B3     24\n",
       "CF7EADF45A224C1E9DEDF65BE9CDD3BA     24\n",
       "CE056F19B87545C0A5AA24CBF89C0A3B     16\n",
       "3B95E8EE13824C758CEF5922F38C5223     15\n",
       "BD05492D137A4320AAB293DEEB0ACEB1      9\n",
       "AA431089D4094D95AAC16ACB266F245F      8\n",
       "C9A8CC50D22D469DB0F2C874C6AD046C      8\n",
       "CEA6AB178A20458D9BBC81607665D7D7      8\n",
       "EC830E447FE74E2CAD9894D0F8AEA9EA      8\n",
       "5DE009489F844FF18959E60EB836B00B      7\n",
       "72F32A73B229415FBF37B36DFD104A24      4\n",
       "FD7E053248C94B5BB31CC094C1AE0B18      1\n",
       "Name: user_pseudo_id, dtype: int64"
      ]
     },
     "execution_count": 123,
     "metadata": {},
     "output_type": "execute_result"
    }
   ],
   "source": [
    "df.user_pseudo_id.value_counts()"
   ]
  },
  {
   "cell_type": "code",
   "execution_count": 124,
   "id": "increased-tactics",
   "metadata": {},
   "outputs": [],
   "source": [
    "#top user AA38C84A3E1442048F72096A4621C17A. Mr. Guatamala City"
   ]
  },
  {
   "cell_type": "code",
   "execution_count": 13,
   "id": "removed-cuisine",
   "metadata": {},
   "outputs": [],
   "source": [
    "# dropany_df = drop_df.dropna(axis='columns', how='all')\n",
    "# #how='any': 1000X24. how='all': 1000x49"
   ]
  },
  {
   "cell_type": "code",
   "execution_count": 16,
   "id": "restricted-edmonton",
   "metadata": {},
   "outputs": [
    {
     "data": {
      "text/plain": [
       "screen_view        615\n",
       "user_engagement    345\n",
       "session_start       25\n",
       "first_open           5\n",
       "os_update            5\n",
       "app_update           5\n",
       "Name: event_name, dtype: int64"
      ]
     },
     "execution_count": 16,
     "metadata": {},
     "output_type": "execute_result"
    }
   ],
   "source": [
    "df.event_name.value_counts()\n",
    "#what is the def of these categories?"
   ]
  },
  {
   "cell_type": "code",
   "execution_count": 18,
   "id": "tender-assets",
   "metadata": {},
   "outputs": [
    {
     "data": {
      "text/plain": [
       "AA38C84A3E1442048F72096A4621C17A    515\n",
       "408BAF780ACD4F53B3F245E87ABF44A8     72\n",
       "1AE4EF46D71643F386340D1630CC6082     59\n",
       "C014B9176D834F9BBABE0ADCB8CE5AD6     53\n",
       "0528B26980524C1F9ABC1E4C774F166F     46\n",
       "E992B0A12520496E907C49B34D5D06AA     37\n",
       "13C48EA918E847E1B244EB71A4C26D1C     34\n",
       "79FF838CEE1A46D8BDEFDF592E0C705C     26\n",
       "A1C4AB74010F44AF810FC0C27DB2CEED     26\n",
       "028CB403405B4A12B4485F19269A82B3     24\n",
       "CF7EADF45A224C1E9DEDF65BE9CDD3BA     24\n",
       "CE056F19B87545C0A5AA24CBF89C0A3B     16\n",
       "3B95E8EE13824C758CEF5922F38C5223     15\n",
       "BD05492D137A4320AAB293DEEB0ACEB1      9\n",
       "C9A8CC50D22D469DB0F2C874C6AD046C      8\n",
       "EC830E447FE74E2CAD9894D0F8AEA9EA      8\n",
       "AA431089D4094D95AAC16ACB266F245F      8\n",
       "CEA6AB178A20458D9BBC81607665D7D7      8\n",
       "5DE009489F844FF18959E60EB836B00B      7\n",
       "72F32A73B229415FBF37B36DFD104A24      4\n",
       "FD7E053248C94B5BB31CC094C1AE0B18      1\n",
       "Name: user_pseudo_id, dtype: int64"
      ]
     },
     "execution_count": 18,
     "metadata": {},
     "output_type": "execute_result"
    }
   ],
   "source": [
    "df.user_pseudo_id.value_counts()"
   ]
  },
  {
   "cell_type": "markdown",
   "id": "musical-pixel",
   "metadata": {},
   "source": [
    "# user analysis"
   ]
  },
  {
   "cell_type": "code",
   "execution_count": 20,
   "id": "virtual-architecture",
   "metadata": {},
   "outputs": [],
   "source": [
    "user1 = df[df['user_pseudo_id'] == '1AE4EF46D71643F386340D1630CC6082']"
   ]
  },
  {
   "cell_type": "code",
   "execution_count": 21,
   "id": "extended-position",
   "metadata": {},
   "outputs": [],
   "source": [
    "user2 = df[df['user_pseudo_id'] == 'AA38C84A3E1442048F72096A4621C17A']"
   ]
  },
  {
   "cell_type": "code",
   "execution_count": 22,
   "id": "extra-custody",
   "metadata": {},
   "outputs": [
    {
     "data": {
      "text/plain": [
       "209    Guatemala City\n",
       "210    Guatemala City\n",
       "211    Guatemala City\n",
       "212    Guatemala City\n",
       "213    Guatemala City\n",
       "            ...      \n",
       "719    Guatemala City\n",
       "720    Guatemala City\n",
       "721    Guatemala City\n",
       "722    Guatemala City\n",
       "723    Guatemala City\n",
       "Name: geo__city, Length: 515, dtype: object"
      ]
     },
     "execution_count": 22,
     "metadata": {},
     "output_type": "execute_result"
    }
   ],
   "source": [
    "user2.geo__city"
   ]
  },
  {
   "cell_type": "code",
   "execution_count": 23,
   "id": "apparent-pension",
   "metadata": {},
   "outputs": [
    {
     "data": {
      "text/plain": [
       "Index(['event_date_partition', 'event_name',\n",
       "       'event_params__activity_total_time', 'event_params__video_title',\n",
       "       'event_params__videotitle', 'geo__city', 'geo__country',\n",
       "       'user_pseudo_id'],\n",
       "      dtype='object')"
      ]
     },
     "execution_count": 23,
     "metadata": {},
     "output_type": "execute_result"
    }
   ],
   "source": [
    "user2.columns"
   ]
  },
  {
   "cell_type": "code",
   "execution_count": 28,
   "id": "brief-speech",
   "metadata": {},
   "outputs": [],
   "source": [
    "user3 = df[df['user_pseudo_id'] == '408BAF780ACD4F53B3F245E87ABF44A8']"
   ]
  },
  {
   "cell_type": "code",
   "execution_count": 29,
   "id": "literary-porcelain",
   "metadata": {},
   "outputs": [
    {
     "data": {
      "text/plain": [
       "event_date_partition                              2020-10-08T00:00:00\n",
       "event_name                                                screen_view\n",
       "event_params__activity_total_time                                 NaN\n",
       "event_params__video_title                                         NaN\n",
       "event_params__videotitle                                          NaN\n",
       "geo__city                                                    Bordeaux\n",
       "geo__country                                                   France\n",
       "user_pseudo_id                       408BAF780ACD4F53B3F245E87ABF44A8\n",
       "Name: 74, dtype: object"
      ]
     },
     "execution_count": 29,
     "metadata": {},
     "output_type": "execute_result"
    }
   ],
   "source": [
    "user3.iloc[0]"
   ]
  },
  {
   "cell_type": "code",
   "execution_count": 31,
   "id": "wooden-terrain",
   "metadata": {},
   "outputs": [],
   "source": [
    "user4 = df[df['user_pseudo_id'] == 'FD7E053248C94B5BB31CC094C1AE0B18']"
   ]
  },
  {
   "cell_type": "code",
   "execution_count": 32,
   "id": "swiss-gazette",
   "metadata": {},
   "outputs": [
    {
     "data": {
      "text/plain": [
       "event_date_partition                              2020-10-08T00:00:00\n",
       "event_name                                            user_engagement\n",
       "event_params__activity_total_time                                 NaN\n",
       "event_params__video_title                                         NaN\n",
       "event_params__videotitle                                          NaN\n",
       "geo__city                                                 Minneapolis\n",
       "geo__country                                            United States\n",
       "user_pseudo_id                       FD7E053248C94B5BB31CC094C1AE0B18\n",
       "Name: 895, dtype: object"
      ]
     },
     "execution_count": 32,
     "metadata": {},
     "output_type": "execute_result"
    }
   ],
   "source": [
    "user4.iloc[0]"
   ]
  },
  {
   "cell_type": "code",
   "execution_count": 34,
   "id": "blond-element",
   "metadata": {},
   "outputs": [
    {
     "data": {
      "text/plain": [
       "2020-10-08T00:00:00    965\n",
       "2020-10-07T00:00:00     29\n",
       "2020-10-06T00:00:00      6\n",
       "Name: event_date_partition, dtype: int64"
      ]
     },
     "execution_count": 34,
     "metadata": {},
     "output_type": "execute_result"
    }
   ],
   "source": [
    "df.event_date_partition.value_counts()"
   ]
  },
  {
   "cell_type": "code",
   "execution_count": 35,
   "id": "brave-territory",
   "metadata": {},
   "outputs": [],
   "source": [
    "austin_csv = pd.read_csv('/Users/djbetts/Desktop/jf_project/austin_dataset.csv')"
   ]
  },
  {
   "cell_type": "code",
   "execution_count": 36,
   "id": "sought-montana",
   "metadata": {},
   "outputs": [],
   "source": [
    "austin_df = austin_csv.copy()"
   ]
  },
  {
   "cell_type": "code",
   "execution_count": 37,
   "id": "consistent-statistics",
   "metadata": {},
   "outputs": [
    {
     "data": {
      "text/plain": [
       "(1000, 204)"
      ]
     },
     "execution_count": 37,
     "metadata": {},
     "output_type": "execute_result"
    }
   ],
   "source": [
    "austin_df.shape"
   ]
  },
  {
   "cell_type": "code",
   "execution_count": 38,
   "id": "african-knock",
   "metadata": {},
   "outputs": [],
   "source": [
    "austindrop_df = austin_df.dropna(axis='columns', how='all')"
   ]
  },
  {
   "cell_type": "code",
   "execution_count": 39,
   "id": "hybrid-filter",
   "metadata": {},
   "outputs": [
    {
     "data": {
      "text/plain": [
       "(1000, 118)"
      ]
     },
     "execution_count": 39,
     "metadata": {},
     "output_type": "execute_result"
    }
   ],
   "source": [
    "austindrop_df.shape"
   ]
  },
  {
   "cell_type": "code",
   "execution_count": 40,
   "id": "competitive-radical",
   "metadata": {},
   "outputs": [
    {
     "data": {
      "text/plain": [
       "['app_info__firebase_app_id',\n",
       " 'app_info__id',\n",
       " 'app_info__install_source',\n",
       " 'app_info__version',\n",
       " 'device__advertising_id',\n",
       " 'device__category',\n",
       " 'device__is_limited_ad_tracking',\n",
       " 'device__language',\n",
       " 'device__mobile_brand_name',\n",
       " 'device__mobile_marketing_name',\n",
       " 'device__mobile_model_name',\n",
       " 'device__mobile_os_hardware_model',\n",
       " 'device__operating_system',\n",
       " 'device__operating_system_version',\n",
       " 'device__time_zone_offset_seconds',\n",
       " 'device__vendor_id',\n",
       " 'device__web_info__browser',\n",
       " 'device__web_info__browser_version',\n",
       " 'device__web_info__hostname',\n",
       " 'event_bundle_sequence_id',\n",
       " 'event_date',\n",
       " 'event_date_partition',\n",
       " 'event_name',\n",
       " 'event_params__activity_exit_code',\n",
       " 'event_params__activity_id',\n",
       " 'event_params__activity_total_time',\n",
       " 'event_params__activity_type',\n",
       " 'event_params__api_session_id',\n",
       " 'event_params__app_name',\n",
       " 'event_params__app_store_package_name',\n",
       " 'event_params__campaign',\n",
       " 'event_params__client_id_ua',\n",
       " 'event_params__cookieDomain',\n",
       " 'event_params__country',\n",
       " 'event_params__countrycode',\n",
       " 'event_params__ecid',\n",
       " 'event_params__engaged_session_event',\n",
       " 'event_params__engagement_time_msec',\n",
       " 'event_params__entrances',\n",
       " 'event_params__error',\n",
       " 'event_params__event_timestamp',\n",
       " 'event_params__firebase_conversion',\n",
       " 'event_params__firebase_error',\n",
       " 'event_params__firebase_event_origin',\n",
       " 'event_params__firebase_previous_class',\n",
       " 'event_params__firebase_previous_id',\n",
       " 'event_params__firebase_previous_screen',\n",
       " 'event_params__firebase_screen',\n",
       " 'event_params__firebase_screen_class',\n",
       " 'event_params__firebase_screen_id',\n",
       " 'event_params__freeride',\n",
       " 'event_params__ga_session_id',\n",
       " 'event_params__ga_session_number',\n",
       " 'event_params__grmasterpersonid',\n",
       " 'event_params__home_list',\n",
       " 'event_params__isstreaming',\n",
       " 'event_params__jfid',\n",
       " 'event_params__keyguid',\n",
       " 'event_params__keyrelayguid',\n",
       " 'event_params__lang_app_using_default_sys_lang',\n",
       " 'event_params__language',\n",
       " 'event_params__language_app',\n",
       " 'event_params__language_system',\n",
       " 'event_params__languageid',\n",
       " 'event_params__link_domain',\n",
       " 'event_params__link_url',\n",
       " 'event_params__loggedinstatus',\n",
       " 'event_params__marketingcloudid',\n",
       " 'event_params__media_buffer_cnt',\n",
       " 'event_params__media_initial_buffer_time',\n",
       " 'event_params__media_longest_buffer_time',\n",
       " 'event_params__media_scrub_cnt',\n",
       " 'event_params__media_total_buffer_time',\n",
       " 'event_params__mediacomponentid',\n",
       " 'event_params__medialanguageid',\n",
       " 'event_params__medialength',\n",
       " 'event_params__mediaviewtimeinseconds',\n",
       " 'event_params__medium',\n",
       " 'event_params__mobileforegroundsessionid',\n",
       " 'event_params__outbound',\n",
       " 'event_params__page_location',\n",
       " 'event_params__page_referrer',\n",
       " 'event_params__page_title',\n",
       " 'event_params__percent_scrolled',\n",
       " 'event_params__previous_app_version',\n",
       " 'event_params__screen',\n",
       " 'event_params__search_term',\n",
       " 'event_params__session_engaged',\n",
       " 'event_params__side_navigation',\n",
       " 'event_params__sideloaded',\n",
       " 'event_params__source',\n",
       " 'event_params__ssoguid',\n",
       " 'event_params__subtitlelanguageid',\n",
       " 'event_params__term',\n",
       " 'event_params__unique_search_term',\n",
       " 'event_params__video_title',\n",
       " 'event_params__videotitle',\n",
       " 'event_previous_timestamp',\n",
       " 'event_server_timestamp_offset',\n",
       " 'event_timestamp',\n",
       " 'geo__city',\n",
       " 'geo__continent',\n",
       " 'geo__country',\n",
       " 'geo__metro',\n",
       " 'geo__region',\n",
       " 'geo__sub_continent',\n",
       " 'platform',\n",
       " 'stream_id',\n",
       " 'traffic_source__medium',\n",
       " 'traffic_source__name',\n",
       " 'traffic_source__source',\n",
       " 'user_first_touch_timestamp',\n",
       " 'user_ltv__currency',\n",
       " 'user_properties__first_open_time',\n",
       " 'user_properties__ga_session_id',\n",
       " 'user_properties__ga_session_number',\n",
       " 'user_pseudo_id',\n",
       " 'event_timestamp_ts']"
      ]
     },
     "execution_count": 40,
     "metadata": {},
     "output_type": "execute_result"
    }
   ],
   "source": [
    "list(austindrop_df.columns)"
   ]
  },
  {
   "cell_type": "code",
   "execution_count": 41,
   "id": "waiting-orleans",
   "metadata": {},
   "outputs": [
    {
     "data": {
      "text/plain": [
       "0      NaN\n",
       "1      NaN\n",
       "2      NaN\n",
       "3      NaN\n",
       "4      NaN\n",
       "      ... \n",
       "995    NaN\n",
       "996    NaN\n",
       "997    NaN\n",
       "998    NaN\n",
       "999    NaN\n",
       "Name: event_params__event_timestamp, Length: 1000, dtype: object"
      ]
     },
     "execution_count": 41,
     "metadata": {},
     "output_type": "execute_result"
    }
   ],
   "source": [
    "austindrop_df.event_params__event_timestamp"
   ]
  },
  {
   "cell_type": "code",
   "execution_count": 42,
   "id": "french-shade",
   "metadata": {},
   "outputs": [],
   "source": [
    "videoplay = austindrop_df[austindrop_df['event_name'] == 'videoplay']"
   ]
  },
  {
   "cell_type": "code",
   "execution_count": null,
   "id": "secondary-article",
   "metadata": {},
   "outputs": [],
   "source": []
  },
  {
   "cell_type": "code",
   "execution_count": 43,
   "id": "acknowledged-cameroon",
   "metadata": {},
   "outputs": [
    {
     "data": {
      "text/plain": [
       "The Beginning                  4\n",
       "Legion                         2\n",
       "Book of Acts                   2\n",
       "#FallingPlates                 1\n",
       "8 أيام مع يسوع: من هو يسوع؟    1\n",
       "JESUS                          1\n",
       "7. Jesus Our Living Water      1\n",
       "المقدمة                        1\n",
       "Name: event_params__videotitle, dtype: int64"
      ]
     },
     "execution_count": 43,
     "metadata": {},
     "output_type": "execute_result"
    }
   ],
   "source": [
    "videoplay.event_params__videotitle.value_counts()"
   ]
  },
  {
   "cell_type": "code",
   "execution_count": 44,
   "id": "arctic-savannah",
   "metadata": {},
   "outputs": [
    {
     "data": {
      "text/plain": [
       "be1c6bd7b275d81bbeab423055f4ab8d    47\n",
       "09D278E9375D4AEA8BE3416EBF2A90C1    33\n",
       "286805041.1615869113                28\n",
       "89AA3EB5C7A7454581E415483D30CDA1    26\n",
       "3d33e9869d10aa68a6a9fe44362f31db    24\n",
       "                                    ..\n",
       "1023755266.1607269283                1\n",
       "1982319975.1607375383                1\n",
       "1362118737.1608048008                1\n",
       "383813550.1608780039                 1\n",
       "2009448960.1607193949                1\n",
       "Name: user_pseudo_id, Length: 362, dtype: int64"
      ]
     },
     "execution_count": 44,
     "metadata": {},
     "output_type": "execute_result"
    }
   ],
   "source": [
    "austindrop_df.user_pseudo_id.value_counts()"
   ]
  },
  {
   "cell_type": "code",
   "execution_count": 45,
   "id": "thrown-bikini",
   "metadata": {},
   "outputs": [],
   "source": [
    "df = austindrop_df"
   ]
  },
  {
   "cell_type": "code",
   "execution_count": 46,
   "id": "changing-birmingham",
   "metadata": {},
   "outputs": [],
   "source": [
    "user1 = df[df.user_pseudo_id == 'be1c6bd7b275d81bbeab423055f4ab8d']"
   ]
  },
  {
   "cell_type": "code",
   "execution_count": 47,
   "id": "monetary-english",
   "metadata": {},
   "outputs": [],
   "source": [
    "user2 = df[df.user_pseudo_id == '09D278E9375D4AEA8BE3416EBF2A90C1']"
   ]
  },
  {
   "cell_type": "code",
   "execution_count": 48,
   "id": "continued-challenge",
   "metadata": {},
   "outputs": [],
   "source": [
    "user3 = df[df.user_pseudo_id == '286805041.1615869113']"
   ]
  },
  {
   "cell_type": "code",
   "execution_count": 49,
   "id": "sustainable-monster",
   "metadata": {},
   "outputs": [
    {
     "data": {
      "text/plain": [
       "20210316    98\n",
       "20201214    87\n",
       "20210315    86\n",
       "20201218    78\n",
       "20201215    51\n",
       "20201220    45\n",
       "20201207    44\n",
       "20201228    41\n",
       "20201217    39\n",
       "20201216    32\n",
       "20201203    28\n",
       "20201209    25\n",
       "20201212    25\n",
       "20201222    25\n",
       "20201202    24\n",
       "20201206    23\n",
       "20201221    23\n",
       "20201211    22\n",
       "20201213    21\n",
       "20201224    20\n",
       "20201204    18\n",
       "20201208    18\n",
       "20201205    16\n",
       "20201226    16\n",
       "20201223    16\n",
       "20201227    15\n",
       "20201219    12\n",
       "20201201    11\n",
       "20201225    11\n",
       "20201210    10\n",
       "20201229     8\n",
       "20201230     7\n",
       "20201231     5\n",
       "Name: event_date, dtype: int64"
      ]
     },
     "execution_count": 49,
     "metadata": {},
     "output_type": "execute_result"
    }
   ],
   "source": [
    "df.event_date.value_counts()"
   ]
  },
  {
   "cell_type": "code",
   "execution_count": 50,
   "id": "prostate-corps",
   "metadata": {},
   "outputs": [
    {
     "name": "stderr",
     "output_type": "stream",
     "text": [
      "/Users/djbetts/opt/anaconda3/lib/python3.7/site-packages/ipykernel_launcher.py:1: SettingWithCopyWarning: \n",
      "A value is trying to be set on a copy of a slice from a DataFrame.\n",
      "Try using .loc[row_indexer,col_indexer] = value instead\n",
      "\n",
      "See the caveats in the documentation: https://pandas.pydata.org/pandas-docs/stable/user_guide/indexing.html#returning-a-view-versus-a-copy\n",
      "  \"\"\"Entry point for launching an IPython kernel.\n"
     ]
    }
   ],
   "source": [
    "df['event_date_partition'] = df.event_date_partition.apply(pd.to_datetime)"
   ]
  },
  {
   "cell_type": "code",
   "execution_count": 51,
   "id": "shaped-sheffield",
   "metadata": {},
   "outputs": [
    {
     "name": "stderr",
     "output_type": "stream",
     "text": [
      "/Users/djbetts/opt/anaconda3/lib/python3.7/site-packages/ipykernel_launcher.py:1: SettingWithCopyWarning: \n",
      "A value is trying to be set on a copy of a slice from a DataFrame\n",
      "\n",
      "See the caveats in the documentation: https://pandas.pydata.org/pandas-docs/stable/user_guide/indexing.html#returning-a-view-versus-a-copy\n",
      "  \"\"\"Entry point for launching an IPython kernel.\n"
     ]
    }
   ],
   "source": [
    "df.sort_values(by=['event_date_partition'], axis=0, inplace=True)"
   ]
  },
  {
   "cell_type": "code",
   "execution_count": 52,
   "id": "coastal-vietnamese",
   "metadata": {},
   "outputs": [
    {
     "data": {
      "image/png": "[encoded data removed]",
      "text/plain": [
       "<Figure size 720x720 with 1 Axes>"
      ]
     },
     "metadata": {
      "needs_background": "light"
     },
     "output_type": "display_data"
    }
   ],
   "source": [
    "df.event_date_partition.hist(bins=len(df.event_date_partition.unique()),\n",
    "                                      xrot=315, \n",
    "                                      figsize=(10,10), legend=True)\n",
    "plt.suptitle(\"Event count in Austin, TX\");"
   ]
  },
  {
   "cell_type": "code",
   "execution_count": null,
   "id": "impressive-idaho",
   "metadata": {},
   "outputs": [],
   "source": []
  },
  {
   "cell_type": "code",
   "execution_count": 53,
   "id": "different-spirituality",
   "metadata": {},
   "outputs": [],
   "source": [
    "#filter event_date_partition by datetime object. cool trick.\n",
    "\n",
    "filter_xmas_df = df[(df['event_date_partition']>pd.Timestamp(2021,1,1)) & (df['event_date_partition']<pd.Timestamp(2021,3,16))]\n"
   ]
  },
  {
   "cell_type": "code",
   "execution_count": 54,
   "id": "alone-blend",
   "metadata": {},
   "outputs": [
    {
     "data": {
      "text/plain": [
       "user_engagement            18\n",
       "page_view                  15\n",
       "session_start              14\n",
       "screen_view                 9\n",
       "first_visit                 7\n",
       "a_media_progress50          2\n",
       "a_media_progress10          2\n",
       "a_media_progress75          2\n",
       "a_media_progress90          2\n",
       "activity_completes          2\n",
       "videostarts                 2\n",
       "videoplay                   2\n",
       "scroll                      2\n",
       "a_media_progress25          2\n",
       "mobileforegroundsession     1\n",
       "app_remove                  1\n",
       "tab_switch_home             1\n",
       "os_update                   1\n",
       "tap_interest                1\n",
       "Name: event_name, dtype: int64"
      ]
     },
     "execution_count": 54,
     "metadata": {},
     "output_type": "execute_result"
    }
   ],
   "source": [
    "filter_xmas_df.event_name.value_counts()"
   ]
  },
  {
   "cell_type": "markdown",
   "id": "compact-stationery",
   "metadata": {},
   "source": [
    "# data mapped"
   ]
  },
  {
   "cell_type": "code",
   "execution_count": 8,
   "id": "automotive-authentication",
   "metadata": {},
   "outputs": [],
   "source": [
    "from pycountry_convert import country_alpha2_to_continent_code, country_name_to_country_alpha2"
   ]
  },
  {
   "cell_type": "code",
   "execution_count": 9,
   "id": "selected-domain",
   "metadata": {},
   "outputs": [],
   "source": [
    "def get_continent(col):\n",
    "    try:\n",
    "        cn_a2_code =  country_name_to_country_alpha2(col)\n",
    "    except:\n",
    "        cn_a2_code = 'Unknown' \n",
    "    try:\n",
    "        cn_continent = country_alpha2_to_continent_code(cn_a2_code)\n",
    "    except:\n",
    "        cn_continent = 'Unknown' \n",
    "    return (cn_a2_code, cn_continent)"
   ]
  },
  {
   "cell_type": "code",
   "execution_count": 10,
   "id": "atlantic-technology",
   "metadata": {},
   "outputs": [],
   "source": [
    "data = pd.read_csv('/Users/djbetts/Desktop/jf_project/recommender_eda.csv')"
   ]
  },
  {
   "cell_type": "code",
   "execution_count": 11,
   "id": "judicial-pulse",
   "metadata": {},
   "outputs": [],
   "source": [
    "geo_df = data.copy()"
   ]
  },
  {
   "cell_type": "code",
   "execution_count": 12,
   "id": "executive-commonwealth",
   "metadata": {},
   "outputs": [
    {
     "data": {
      "text/plain": [
       "Index(['event_name', 'event_date_partition',\n",
       "       'event_params__activity_total_time', 'event_params__video_title',\n",
       "       'event_params__videotitle', 'geo__country', 'geo__city',\n",
       "       'user_pseudo_id'],\n",
       "      dtype='object')"
      ]
     },
     "execution_count": 12,
     "metadata": {},
     "output_type": "execute_result"
    }
   ],
   "source": [
    "geo_df.columns"
   ]
  },
  {
   "cell_type": "code",
   "execution_count": 13,
   "id": "dimensional-parade",
   "metadata": {},
   "outputs": [],
   "source": [
    "geo_df['geo_codes'] = geo_df.geo__country.apply(get_continent)"
   ]
  },
  {
   "cell_type": "code",
   "execution_count": 14,
   "id": "prostate-twins",
   "metadata": {},
   "outputs": [],
   "source": [
    "geo_df['country_code'] = geo_df['geo_codes'].apply(lambda x: x[0])"
   ]
  },
  {
   "cell_type": "code",
   "execution_count": 15,
   "id": "cheap-southwest",
   "metadata": {},
   "outputs": [],
   "source": [
    "geo_df['continent_code'] = geo_df['geo_codes'].apply(lambda x: x[1])"
   ]
  },
  {
   "cell_type": "code",
   "execution_count": 16,
   "id": "coupled-species",
   "metadata": {},
   "outputs": [
    {
     "data": {
      "text/plain": [
       "13"
      ]
     },
     "execution_count": 16,
     "metadata": {},
     "output_type": "execute_result"
    }
   ],
   "source": [
    "sum(geo_df['country_code'] == 'Unknown')"
   ]
  },
  {
   "cell_type": "code",
   "execution_count": 17,
   "id": "little-horse",
   "metadata": {},
   "outputs": [],
   "source": [
    "test = geo_df.geo_codes.iloc[0]"
   ]
  },
  {
   "cell_type": "code",
   "execution_count": 18,
   "id": "seventh-nickel",
   "metadata": {},
   "outputs": [
    {
     "data": {
      "text/plain": [
       "'US'"
      ]
     },
     "execution_count": 18,
     "metadata": {},
     "output_type": "execute_result"
    }
   ],
   "source": [
    "test[0]"
   ]
  },
  {
   "cell_type": "code",
   "execution_count": 33,
   "id": "metallic-baseline",
   "metadata": {},
   "outputs": [],
   "source": [
    "import geopy"
   ]
  },
  {
   "cell_type": "code",
   "execution_count": 34,
   "id": "combined-thanks",
   "metadata": {},
   "outputs": [],
   "source": [
    "from geopy.geocoders import Nominatim"
   ]
  },
  {
   "cell_type": "code",
   "execution_count": 35,
   "id": "forty-purpose",
   "metadata": {},
   "outputs": [],
   "source": [
    "geopy.geocoders.options.default_user_agent = \"my-application\""
   ]
  },
  {
   "cell_type": "code",
   "execution_count": 36,
   "id": "tested-narrow",
   "metadata": {},
   "outputs": [],
   "source": [
    "geolocator = Nominatim(user_agent=\"country_map\")\n",
    "def geolocate(country):\n",
    "    try:\n",
    "        # Geolocate the center of the country\n",
    "        loc = geolocator.geocode(country)\n",
    "        # And return latitude and longitude\n",
    "        return (loc.latitude, loc.longitude)\n",
    "    except:\n",
    "        # Return missing value\n",
    "        return np.nan"
   ]
  },
  {
   "cell_type": "code",
   "execution_count": null,
   "id": "congressional-hardware",
   "metadata": {},
   "outputs": [],
   "source": [
    "geo_df['geo_cords'] = geo_df['country_code'].apply(geolocate)"
   ]
  },
  {
   "cell_type": "code",
   "execution_count": null,
   "id": "criminal-manchester",
   "metadata": {},
   "outputs": [],
   "source": [
    "geo_df['geo_cords']"
   ]
  },
  {
   "cell_type": "code",
   "execution_count": null,
   "id": "cellular-oakland",
   "metadata": {},
   "outputs": [],
   "source": []
  }
 ],
 "metadata": {
  "kernelspec": {
   "display_name": "Python 3",
   "language": "python",
   "name": "python3"
  },
  "language_info": {
   "codemirror_mode": {
    "name": "ipython",
    "version": 3
   },
   "file_extension": ".py",
   "mimetype": "text/x-python",
   "name": "python",
   "nbconvert_exporter": "python",
   "pygments_lexer": "ipython3",
   "version": "3.7.10"
  }
 },
 "nbformat": 4,
 "nbformat_minor": 5
}
