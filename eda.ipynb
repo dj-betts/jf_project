{
 "cells": [
  {
   "cell_type": "code",
   "execution_count": 1,
   "id": "turkish-intermediate",
   "metadata": {},
   "outputs": [],
   "source": [
    "%load_ext google.cloud.bigquery\n",
    "from google.cloud import bigquery"
   ]
  },
  {
   "cell_type": "code",
   "execution_count": 2,
   "id": "offshore-entrepreneur",
   "metadata": {},
   "outputs": [
    {
     "name": "stderr",
     "output_type": "stream",
     "text": [
      "In /Users/djbetts/opt/anaconda3/lib/python3.7/site-packages/matplotlib/mpl-data/stylelib/_classic_test.mplstyle: \n",
      "The text.latex.preview rcparam was deprecated in Matplotlib 3.3 and will be removed two minor releases later.\n",
      "In /Users/djbetts/opt/anaconda3/lib/python3.7/site-packages/matplotlib/mpl-data/stylelib/_classic_test.mplstyle: \n",
      "The mathtext.fallback_to_cm rcparam was deprecated in Matplotlib 3.3 and will be removed two minor releases later.\n",
      "In /Users/djbetts/opt/anaconda3/lib/python3.7/site-packages/matplotlib/mpl-data/stylelib/_classic_test.mplstyle: Support for setting the 'mathtext.fallback_to_cm' rcParam is deprecated since 3.3 and will be removed two minor releases later; use 'mathtext.fallback : 'cm' instead.\n",
      "In /Users/djbetts/opt/anaconda3/lib/python3.7/site-packages/matplotlib/mpl-data/stylelib/_classic_test.mplstyle: \n",
      "The validate_bool_maybe_none function was deprecated in Matplotlib 3.3 and will be removed two minor releases later.\n",
      "In /Users/djbetts/opt/anaconda3/lib/python3.7/site-packages/matplotlib/mpl-data/stylelib/_classic_test.mplstyle: \n",
      "The savefig.jpeg_quality rcparam was deprecated in Matplotlib 3.3 and will be removed two minor releases later.\n",
      "In /Users/djbetts/opt/anaconda3/lib/python3.7/site-packages/matplotlib/mpl-data/stylelib/_classic_test.mplstyle: \n",
      "The keymap.all_axes rcparam was deprecated in Matplotlib 3.3 and will be removed two minor releases later.\n",
      "In /Users/djbetts/opt/anaconda3/lib/python3.7/site-packages/matplotlib/mpl-data/stylelib/_classic_test.mplstyle: \n",
      "The animation.avconv_path rcparam was deprecated in Matplotlib 3.3 and will be removed two minor releases later.\n",
      "In /Users/djbetts/opt/anaconda3/lib/python3.7/site-packages/matplotlib/mpl-data/stylelib/_classic_test.mplstyle: \n",
      "The animation.avconv_args rcparam was deprecated in Matplotlib 3.3 and will be removed two minor releases later.\n"
     ]
    }
   ],
   "source": [
    "import pandas as pd\n",
    "import matplotlib.pyplot as plt\n",
    "import numpy as np"
   ]
  },
  {
   "cell_type": "code",
   "execution_count": 3,
   "id": "likely-balance",
   "metadata": {},
   "outputs": [],
   "source": [
    "from datetime import datetime "
   ]
  },
  {
   "cell_type": "code",
   "execution_count": 3,
   "id": "initial-provider",
   "metadata": {},
   "outputs": [],
   "source": [
    "#client = bigquery.Client()"
   ]
  },
  {
   "cell_type": "code",
   "execution_count": 4,
   "id": "coupled-leather",
   "metadata": {},
   "outputs": [],
   "source": [
    "data = pd.read_csv('/Users/djbetts/Desktop/jf_project/jf_data.csv',usecols=['event_name', 'event_date_partition', 'event_params__activity_total_time', 'event_params__video_title', 'event_params__videotitle', 'geo__country', 'geo__city', 'user_pseudo_id'], low_memory=False)"
   ]
  },
  {
   "cell_type": "code",
   "execution_count": 5,
   "id": "ancient-executive",
   "metadata": {},
   "outputs": [],
   "source": [
    "df = data.copy()"
   ]
  },
  {
   "cell_type": "code",
   "execution_count": 6,
   "id": "ahead-skirt",
   "metadata": {},
   "outputs": [
    {
     "data": {
      "text/html": [
       "<div>\n",
       "<style scoped>\n",
       "    .dataframe tbody tr th:only-of-type {\n",
       "        vertical-align: middle;\n",
       "    }\n",
       "\n",
       "    .dataframe tbody tr th {\n",
       "        vertical-align: top;\n",
       "    }\n",
       "\n",
       "    .dataframe thead th {\n",
       "        text-align: right;\n",
       "    }\n",
       "</style>\n",
       "<table border=\"1\" class=\"dataframe\">\n",
       "  <thead>\n",
       "    <tr style=\"text-align: right;\">\n",
       "      <th></th>\n",
       "      <th>event_date_partition</th>\n",
       "      <th>event_name</th>\n",
       "      <th>event_params__activity_total_time</th>\n",
       "      <th>event_params__video_title</th>\n",
       "      <th>event_params__videotitle</th>\n",
       "      <th>geo__city</th>\n",
       "      <th>geo__country</th>\n",
       "      <th>user_pseudo_id</th>\n",
       "    </tr>\n",
       "  </thead>\n",
       "  <tbody>\n",
       "    <tr>\n",
       "      <th>0</th>\n",
       "      <td>2020-10-08T00:00:00</td>\n",
       "      <td>screen_view</td>\n",
       "      <td>NaN</td>\n",
       "      <td>NaN</td>\n",
       "      <td>NaN</td>\n",
       "      <td>Corvallis</td>\n",
       "      <td>United States</td>\n",
       "      <td>1AE4EF46D71643F386340D1630CC6082</td>\n",
       "    </tr>\n",
       "    <tr>\n",
       "      <th>1</th>\n",
       "      <td>2020-10-08T00:00:00</td>\n",
       "      <td>screen_view</td>\n",
       "      <td>NaN</td>\n",
       "      <td>NaN</td>\n",
       "      <td>NaN</td>\n",
       "      <td>Corvallis</td>\n",
       "      <td>United States</td>\n",
       "      <td>1AE4EF46D71643F386340D1630CC6082</td>\n",
       "    </tr>\n",
       "    <tr>\n",
       "      <th>2</th>\n",
       "      <td>2020-10-08T00:00:00</td>\n",
       "      <td>screen_view</td>\n",
       "      <td>NaN</td>\n",
       "      <td>NaN</td>\n",
       "      <td>NaN</td>\n",
       "      <td>Corvallis</td>\n",
       "      <td>United States</td>\n",
       "      <td>1AE4EF46D71643F386340D1630CC6082</td>\n",
       "    </tr>\n",
       "    <tr>\n",
       "      <th>3</th>\n",
       "      <td>2020-10-08T00:00:00</td>\n",
       "      <td>screen_view</td>\n",
       "      <td>NaN</td>\n",
       "      <td>NaN</td>\n",
       "      <td>NaN</td>\n",
       "      <td>Corvallis</td>\n",
       "      <td>United States</td>\n",
       "      <td>1AE4EF46D71643F386340D1630CC6082</td>\n",
       "    </tr>\n",
       "    <tr>\n",
       "      <th>4</th>\n",
       "      <td>2020-10-08T00:00:00</td>\n",
       "      <td>screen_view</td>\n",
       "      <td>NaN</td>\n",
       "      <td>NaN</td>\n",
       "      <td>NaN</td>\n",
       "      <td>Corvallis</td>\n",
       "      <td>United States</td>\n",
       "      <td>1AE4EF46D71643F386340D1630CC6082</td>\n",
       "    </tr>\n",
       "  </tbody>\n",
       "</table>\n",
       "</div>"
      ],
      "text/plain": [
       "  event_date_partition   event_name  event_params__activity_total_time  \\\n",
       "0  2020-10-08T00:00:00  screen_view                                NaN   \n",
       "1  2020-10-08T00:00:00  screen_view                                NaN   \n",
       "2  2020-10-08T00:00:00  screen_view                                NaN   \n",
       "3  2020-10-08T00:00:00  screen_view                                NaN   \n",
       "4  2020-10-08T00:00:00  screen_view                                NaN   \n",
       "\n",
       "   event_params__video_title  event_params__videotitle  geo__city  \\\n",
       "0                        NaN                       NaN  Corvallis   \n",
       "1                        NaN                       NaN  Corvallis   \n",
       "2                        NaN                       NaN  Corvallis   \n",
       "3                        NaN                       NaN  Corvallis   \n",
       "4                        NaN                       NaN  Corvallis   \n",
       "\n",
       "    geo__country                    user_pseudo_id  \n",
       "0  United States  1AE4EF46D71643F386340D1630CC6082  \n",
       "1  United States  1AE4EF46D71643F386340D1630CC6082  \n",
       "2  United States  1AE4EF46D71643F386340D1630CC6082  \n",
       "3  United States  1AE4EF46D71643F386340D1630CC6082  \n",
       "4  United States  1AE4EF46D71643F386340D1630CC6082  "
      ]
     },
     "execution_count": 6,
     "metadata": {},
     "output_type": "execute_result"
    }
   ],
   "source": [
    "df.head()"
   ]
  },
  {
   "cell_type": "code",
   "execution_count": 7,
   "id": "theoretical-guarantee",
   "metadata": {},
   "outputs": [
    {
     "data": {
      "text/plain": [
       "AA38C84A3E1442048F72096A4621C17A    515\n",
       "408BAF780ACD4F53B3F245E87ABF44A8     72\n",
       "1AE4EF46D71643F386340D1630CC6082     59\n",
       "C014B9176D834F9BBABE0ADCB8CE5AD6     53\n",
       "0528B26980524C1F9ABC1E4C774F166F     46\n",
       "E992B0A12520496E907C49B34D5D06AA     37\n",
       "13C48EA918E847E1B244EB71A4C26D1C     34\n",
       "79FF838CEE1A46D8BDEFDF592E0C705C     26\n",
       "A1C4AB74010F44AF810FC0C27DB2CEED     26\n",
       "CF7EADF45A224C1E9DEDF65BE9CDD3BA     24\n",
       "028CB403405B4A12B4485F19269A82B3     24\n",
       "CE056F19B87545C0A5AA24CBF89C0A3B     16\n",
       "3B95E8EE13824C758CEF5922F38C5223     15\n",
       "BD05492D137A4320AAB293DEEB0ACEB1      9\n",
       "EC830E447FE74E2CAD9894D0F8AEA9EA      8\n",
       "C9A8CC50D22D469DB0F2C874C6AD046C      8\n",
       "AA431089D4094D95AAC16ACB266F245F      8\n",
       "CEA6AB178A20458D9BBC81607665D7D7      8\n",
       "5DE009489F844FF18959E60EB836B00B      7\n",
       "72F32A73B229415FBF37B36DFD104A24      4\n",
       "FD7E053248C94B5BB31CC094C1AE0B18      1\n",
       "Name: user_pseudo_id, dtype: int64"
      ]
     },
     "execution_count": 7,
     "metadata": {},
     "output_type": "execute_result"
    }
   ],
   "source": [
    "df.user_pseudo_id.value_counts()"
   ]
  },
  {
   "cell_type": "code",
   "execution_count": 8,
   "id": "mobile-penalty",
   "metadata": {},
   "outputs": [],
   "source": [
    "#df.dropna(inplace=True, subset=['event_params__engagement_time_msec'])"
   ]
  },
  {
   "cell_type": "code",
   "execution_count": 9,
   "id": "italian-gather",
   "metadata": {},
   "outputs": [
    {
     "data": {
      "text/plain": [
       "(1000, 8)"
      ]
     },
     "execution_count": 9,
     "metadata": {},
     "output_type": "execute_result"
    }
   ],
   "source": [
    "df.shape"
   ]
  },
  {
   "cell_type": "code",
   "execution_count": 10,
   "id": "graduate-granny",
   "metadata": {},
   "outputs": [
    {
     "data": {
      "text/html": [
       "<div>\n",
       "<style scoped>\n",
       "    .dataframe tbody tr th:only-of-type {\n",
       "        vertical-align: middle;\n",
       "    }\n",
       "\n",
       "    .dataframe tbody tr th {\n",
       "        vertical-align: top;\n",
       "    }\n",
       "\n",
       "    .dataframe thead th {\n",
       "        text-align: right;\n",
       "    }\n",
       "</style>\n",
       "<table border=\"1\" class=\"dataframe\">\n",
       "  <thead>\n",
       "    <tr style=\"text-align: right;\">\n",
       "      <th></th>\n",
       "      <th>event_date_partition</th>\n",
       "      <th>event_name</th>\n",
       "      <th>event_params__activity_total_time</th>\n",
       "      <th>event_params__video_title</th>\n",
       "      <th>event_params__videotitle</th>\n",
       "      <th>geo__city</th>\n",
       "      <th>geo__country</th>\n",
       "      <th>user_pseudo_id</th>\n",
       "    </tr>\n",
       "  </thead>\n",
       "  <tbody>\n",
       "    <tr>\n",
       "      <th>0</th>\n",
       "      <td>2020-10-08T00:00:00</td>\n",
       "      <td>screen_view</td>\n",
       "      <td>NaN</td>\n",
       "      <td>NaN</td>\n",
       "      <td>NaN</td>\n",
       "      <td>Corvallis</td>\n",
       "      <td>United States</td>\n",
       "      <td>1AE4EF46D71643F386340D1630CC6082</td>\n",
       "    </tr>\n",
       "    <tr>\n",
       "      <th>1</th>\n",
       "      <td>2020-10-08T00:00:00</td>\n",
       "      <td>screen_view</td>\n",
       "      <td>NaN</td>\n",
       "      <td>NaN</td>\n",
       "      <td>NaN</td>\n",
       "      <td>Corvallis</td>\n",
       "      <td>United States</td>\n",
       "      <td>1AE4EF46D71643F386340D1630CC6082</td>\n",
       "    </tr>\n",
       "    <tr>\n",
       "      <th>2</th>\n",
       "      <td>2020-10-08T00:00:00</td>\n",
       "      <td>screen_view</td>\n",
       "      <td>NaN</td>\n",
       "      <td>NaN</td>\n",
       "      <td>NaN</td>\n",
       "      <td>Corvallis</td>\n",
       "      <td>United States</td>\n",
       "      <td>1AE4EF46D71643F386340D1630CC6082</td>\n",
       "    </tr>\n",
       "    <tr>\n",
       "      <th>3</th>\n",
       "      <td>2020-10-08T00:00:00</td>\n",
       "      <td>screen_view</td>\n",
       "      <td>NaN</td>\n",
       "      <td>NaN</td>\n",
       "      <td>NaN</td>\n",
       "      <td>Corvallis</td>\n",
       "      <td>United States</td>\n",
       "      <td>1AE4EF46D71643F386340D1630CC6082</td>\n",
       "    </tr>\n",
       "    <tr>\n",
       "      <th>4</th>\n",
       "      <td>2020-10-08T00:00:00</td>\n",
       "      <td>screen_view</td>\n",
       "      <td>NaN</td>\n",
       "      <td>NaN</td>\n",
       "      <td>NaN</td>\n",
       "      <td>Corvallis</td>\n",
       "      <td>United States</td>\n",
       "      <td>1AE4EF46D71643F386340D1630CC6082</td>\n",
       "    </tr>\n",
       "  </tbody>\n",
       "</table>\n",
       "</div>"
      ],
      "text/plain": [
       "  event_date_partition   event_name  event_params__activity_total_time  \\\n",
       "0  2020-10-08T00:00:00  screen_view                                NaN   \n",
       "1  2020-10-08T00:00:00  screen_view                                NaN   \n",
       "2  2020-10-08T00:00:00  screen_view                                NaN   \n",
       "3  2020-10-08T00:00:00  screen_view                                NaN   \n",
       "4  2020-10-08T00:00:00  screen_view                                NaN   \n",
       "\n",
       "   event_params__video_title  event_params__videotitle  geo__city  \\\n",
       "0                        NaN                       NaN  Corvallis   \n",
       "1                        NaN                       NaN  Corvallis   \n",
       "2                        NaN                       NaN  Corvallis   \n",
       "3                        NaN                       NaN  Corvallis   \n",
       "4                        NaN                       NaN  Corvallis   \n",
       "\n",
       "    geo__country                    user_pseudo_id  \n",
       "0  United States  1AE4EF46D71643F386340D1630CC6082  \n",
       "1  United States  1AE4EF46D71643F386340D1630CC6082  \n",
       "2  United States  1AE4EF46D71643F386340D1630CC6082  \n",
       "3  United States  1AE4EF46D71643F386340D1630CC6082  \n",
       "4  United States  1AE4EF46D71643F386340D1630CC6082  "
      ]
     },
     "execution_count": 10,
     "metadata": {},
     "output_type": "execute_result"
    }
   ],
   "source": [
    "df.head()"
   ]
  },
  {
   "cell_type": "code",
   "execution_count": 11,
   "id": "automatic-finger",
   "metadata": {},
   "outputs": [
    {
     "data": {
      "text/plain": [
       "<AxesSubplot:>"
      ]
     },
     "execution_count": 11,
     "metadata": {},
     "output_type": "execute_result"
    },
    {
     "data": {
      "image/png": "[encoded data removed]",
      "text/plain": [
       "<Figure size 432x288 with 1 Axes>"
      ]
     },
     "metadata": {
      "needs_background": "light"
     },
     "output_type": "display_data"
    }
   ],
   "source": [
    "df.geo__country.hist()"
   ]
  },
  {
   "cell_type": "code",
   "execution_count": 12,
   "id": "consecutive-snapshot",
   "metadata": {},
   "outputs": [
    {
     "data": {
      "text/plain": [
       "Guatemala City             515\n",
       "Bordeaux                    72\n",
       "Corvallis                   59\n",
       "Addis Ababa                 46\n",
       "Sudbury                     37\n",
       "Dar es Salaam               34\n",
       "Kuala Lumpur                32\n",
       "Denver                      26\n",
       "Emalahleni                  26\n",
       "Johannesburg                24\n",
       "Leiden                      24\n",
       "Singapore                   21\n",
       "Lowell                      16\n",
       "Colorado Springs            15\n",
       "Lexington                    9\n",
       "Mueang Lampang District      8\n",
       "Panama City                  8\n",
       "Meggen                       8\n",
       "Ho Chi Minh City             8\n",
       "Hot Springs                  7\n",
       "Nashville                    4\n",
       "Minneapolis                  1\n",
       "Name: geo__city, dtype: int64"
      ]
     },
     "execution_count": 12,
     "metadata": {},
     "output_type": "execute_result"
    }
   ],
   "source": [
    "df.geo__city.value_counts()"
   ]
  },
  {
   "cell_type": "code",
   "execution_count": 13,
   "id": "three-criticism",
   "metadata": {},
   "outputs": [],
   "source": [
    "guat_city_df = df[df['geo__city'] == 'Guatemala City']"
   ]
  },
  {
   "cell_type": "code",
   "execution_count": 22,
   "id": "billion-persian",
   "metadata": {},
   "outputs": [
    {
     "data": {
      "text/plain": [
       "screen_view        325\n",
       "user_engagement    188\n",
       "session_start        1\n",
       "first_open           1\n",
       "Name: event_name, dtype: int64"
      ]
     },
     "execution_count": 22,
     "metadata": {},
     "output_type": "execute_result"
    }
   ],
   "source": [
    "guat_city_df.event_name.value_counts()"
   ]
  },
  {
   "cell_type": "code",
   "execution_count": 24,
   "id": "artistic-interim",
   "metadata": {},
   "outputs": [
    {
     "data": {
      "text/plain": [
       "AA38C84A3E1442048F72096A4621C17A    515\n",
       "Name: user_pseudo_id, dtype: int64"
      ]
     },
     "execution_count": 24,
     "metadata": {},
     "output_type": "execute_result"
    }
   ],
   "source": [
    "guat_city_df.user_pseudo_id.value_counts()"
   ]
  },
  {
   "cell_type": "code",
   "execution_count": 17,
   "id": "engaging-agency",
   "metadata": {},
   "outputs": [
    {
     "data": {
      "text/html": [
       "<div>\n",
       "<style scoped>\n",
       "    .dataframe tbody tr th:only-of-type {\n",
       "        vertical-align: middle;\n",
       "    }\n",
       "\n",
       "    .dataframe tbody tr th {\n",
       "        vertical-align: top;\n",
       "    }\n",
       "\n",
       "    .dataframe thead th {\n",
       "        text-align: right;\n",
       "    }\n",
       "</style>\n",
       "<table border=\"1\" class=\"dataframe\">\n",
       "  <thead>\n",
       "    <tr style=\"text-align: right;\">\n",
       "      <th></th>\n",
       "      <th>event_date_partition</th>\n",
       "      <th>event_name</th>\n",
       "      <th>event_params__activity_total_time</th>\n",
       "      <th>event_params__video_title</th>\n",
       "      <th>event_params__videotitle</th>\n",
       "      <th>geo__city</th>\n",
       "      <th>geo__country</th>\n",
       "      <th>user_pseudo_id</th>\n",
       "    </tr>\n",
       "  </thead>\n",
       "  <tbody>\n",
       "    <tr>\n",
       "      <th>0</th>\n",
       "      <td>2020-10-08T00:00:00</td>\n",
       "      <td>screen_view</td>\n",
       "      <td>NaN</td>\n",
       "      <td>NaN</td>\n",
       "      <td>NaN</td>\n",
       "      <td>Corvallis</td>\n",
       "      <td>United States</td>\n",
       "      <td>1AE4EF46D71643F386340D1630CC6082</td>\n",
       "    </tr>\n",
       "    <tr>\n",
       "      <th>1</th>\n",
       "      <td>2020-10-08T00:00:00</td>\n",
       "      <td>screen_view</td>\n",
       "      <td>NaN</td>\n",
       "      <td>NaN</td>\n",
       "      <td>NaN</td>\n",
       "      <td>Corvallis</td>\n",
       "      <td>United States</td>\n",
       "      <td>1AE4EF46D71643F386340D1630CC6082</td>\n",
       "    </tr>\n",
       "    <tr>\n",
       "      <th>2</th>\n",
       "      <td>2020-10-08T00:00:00</td>\n",
       "      <td>screen_view</td>\n",
       "      <td>NaN</td>\n",
       "      <td>NaN</td>\n",
       "      <td>NaN</td>\n",
       "      <td>Corvallis</td>\n",
       "      <td>United States</td>\n",
       "      <td>1AE4EF46D71643F386340D1630CC6082</td>\n",
       "    </tr>\n",
       "    <tr>\n",
       "      <th>3</th>\n",
       "      <td>2020-10-08T00:00:00</td>\n",
       "      <td>screen_view</td>\n",
       "      <td>NaN</td>\n",
       "      <td>NaN</td>\n",
       "      <td>NaN</td>\n",
       "      <td>Corvallis</td>\n",
       "      <td>United States</td>\n",
       "      <td>1AE4EF46D71643F386340D1630CC6082</td>\n",
       "    </tr>\n",
       "    <tr>\n",
       "      <th>4</th>\n",
       "      <td>2020-10-08T00:00:00</td>\n",
       "      <td>screen_view</td>\n",
       "      <td>NaN</td>\n",
       "      <td>NaN</td>\n",
       "      <td>NaN</td>\n",
       "      <td>Corvallis</td>\n",
       "      <td>United States</td>\n",
       "      <td>1AE4EF46D71643F386340D1630CC6082</td>\n",
       "    </tr>\n",
       "  </tbody>\n",
       "</table>\n",
       "</div>"
      ],
      "text/plain": [
       "  event_date_partition   event_name  event_params__activity_total_time  \\\n",
       "0  2020-10-08T00:00:00  screen_view                                NaN   \n",
       "1  2020-10-08T00:00:00  screen_view                                NaN   \n",
       "2  2020-10-08T00:00:00  screen_view                                NaN   \n",
       "3  2020-10-08T00:00:00  screen_view                                NaN   \n",
       "4  2020-10-08T00:00:00  screen_view                                NaN   \n",
       "\n",
       "   event_params__video_title  event_params__videotitle  geo__city  \\\n",
       "0                        NaN                       NaN  Corvallis   \n",
       "1                        NaN                       NaN  Corvallis   \n",
       "2                        NaN                       NaN  Corvallis   \n",
       "3                        NaN                       NaN  Corvallis   \n",
       "4                        NaN                       NaN  Corvallis   \n",
       "\n",
       "    geo__country                    user_pseudo_id  \n",
       "0  United States  1AE4EF46D71643F386340D1630CC6082  \n",
       "1  United States  1AE4EF46D71643F386340D1630CC6082  \n",
       "2  United States  1AE4EF46D71643F386340D1630CC6082  \n",
       "3  United States  1AE4EF46D71643F386340D1630CC6082  \n",
       "4  United States  1AE4EF46D71643F386340D1630CC6082  "
      ]
     },
     "execution_count": 17,
     "metadata": {},
     "output_type": "execute_result"
    }
   ],
   "source": [
    "df.head()"
   ]
  },
  {
   "cell_type": "code",
   "execution_count": 18,
   "id": "qualified-rogers",
   "metadata": {},
   "outputs": [
    {
     "data": {
      "text/plain": [
       "AA38C84A3E1442048F72096A4621C17A    515\n",
       "408BAF780ACD4F53B3F245E87ABF44A8     72\n",
       "1AE4EF46D71643F386340D1630CC6082     59\n",
       "C014B9176D834F9BBABE0ADCB8CE5AD6     53\n",
       "0528B26980524C1F9ABC1E4C774F166F     46\n",
       "E992B0A12520496E907C49B34D5D06AA     37\n",
       "13C48EA918E847E1B244EB71A4C26D1C     34\n",
       "79FF838CEE1A46D8BDEFDF592E0C705C     26\n",
       "A1C4AB74010F44AF810FC0C27DB2CEED     26\n",
       "CF7EADF45A224C1E9DEDF65BE9CDD3BA     24\n",
       "028CB403405B4A12B4485F19269A82B3     24\n",
       "CE056F19B87545C0A5AA24CBF89C0A3B     16\n",
       "3B95E8EE13824C758CEF5922F38C5223     15\n",
       "BD05492D137A4320AAB293DEEB0ACEB1      9\n",
       "CEA6AB178A20458D9BBC81607665D7D7      8\n",
       "AA431089D4094D95AAC16ACB266F245F      8\n",
       "EC830E447FE74E2CAD9894D0F8AEA9EA      8\n",
       "C9A8CC50D22D469DB0F2C874C6AD046C      8\n",
       "5DE009489F844FF18959E60EB836B00B      7\n",
       "72F32A73B229415FBF37B36DFD104A24      4\n",
       "FD7E053248C94B5BB31CC094C1AE0B18      1\n",
       "Name: user_pseudo_id, dtype: int64"
      ]
     },
     "execution_count": 18,
     "metadata": {},
     "output_type": "execute_result"
    }
   ],
   "source": [
    "df.user_pseudo_id.value_counts()"
   ]
  },
  {
   "cell_type": "code",
   "execution_count": 19,
   "id": "increased-tactics",
   "metadata": {},
   "outputs": [],
   "source": [
    "#top user AA38C84A3E1442048F72096A4621C17A. Mr. Guatamala City"
   ]
  },
  {
   "cell_type": "code",
   "execution_count": 20,
   "id": "removed-cuisine",
   "metadata": {},
   "outputs": [],
   "source": [
    "# dropany_df = drop_df.dropna(axis='columns', how='all')\n",
    "# #how='any': 1000X24. how='all': 1000x49"
   ]
  },
  {
   "cell_type": "code",
   "execution_count": 21,
   "id": "restricted-edmonton",
   "metadata": {},
   "outputs": [
    {
     "data": {
      "text/plain": [
       "screen_view        615\n",
       "user_engagement    345\n",
       "session_start       25\n",
       "app_update           5\n",
       "first_open           5\n",
       "os_update            5\n",
       "Name: event_name, dtype: int64"
      ]
     },
     "execution_count": 21,
     "metadata": {},
     "output_type": "execute_result"
    }
   ],
   "source": [
    "df.event_name.value_counts()\n",
    "#what is the def of these categories?"
   ]
  },
  {
   "cell_type": "code",
   "execution_count": 22,
   "id": "tender-assets",
   "metadata": {},
   "outputs": [
    {
     "data": {
      "text/plain": [
       "AA38C84A3E1442048F72096A4621C17A    515\n",
       "408BAF780ACD4F53B3F245E87ABF44A8     72\n",
       "1AE4EF46D71643F386340D1630CC6082     59\n",
       "C014B9176D834F9BBABE0ADCB8CE5AD6     53\n",
       "0528B26980524C1F9ABC1E4C774F166F     46\n",
       "E992B0A12520496E907C49B34D5D06AA     37\n",
       "13C48EA918E847E1B244EB71A4C26D1C     34\n",
       "79FF838CEE1A46D8BDEFDF592E0C705C     26\n",
       "A1C4AB74010F44AF810FC0C27DB2CEED     26\n",
       "CF7EADF45A224C1E9DEDF65BE9CDD3BA     24\n",
       "028CB403405B4A12B4485F19269A82B3     24\n",
       "CE056F19B87545C0A5AA24CBF89C0A3B     16\n",
       "3B95E8EE13824C758CEF5922F38C5223     15\n",
       "BD05492D137A4320AAB293DEEB0ACEB1      9\n",
       "CEA6AB178A20458D9BBC81607665D7D7      8\n",
       "AA431089D4094D95AAC16ACB266F245F      8\n",
       "EC830E447FE74E2CAD9894D0F8AEA9EA      8\n",
       "C9A8CC50D22D469DB0F2C874C6AD046C      8\n",
       "5DE009489F844FF18959E60EB836B00B      7\n",
       "72F32A73B229415FBF37B36DFD104A24      4\n",
       "FD7E053248C94B5BB31CC094C1AE0B18      1\n",
       "Name: user_pseudo_id, dtype: int64"
      ]
     },
     "execution_count": 22,
     "metadata": {},
     "output_type": "execute_result"
    }
   ],
   "source": [
    "df.user_pseudo_id.value_counts()"
   ]
  },
  {
   "cell_type": "markdown",
   "id": "musical-pixel",
   "metadata": {},
   "source": [
    "# user analysis"
   ]
  },
  {
   "cell_type": "code",
   "execution_count": 23,
   "id": "virtual-architecture",
   "metadata": {},
   "outputs": [],
   "source": [
    "user1 = df[df['user_pseudo_id'] == '1AE4EF46D71643F386340D1630CC6082']"
   ]
  },
  {
   "cell_type": "code",
   "execution_count": 24,
   "id": "extended-position",
   "metadata": {},
   "outputs": [],
   "source": [
    "user2 = df[df['user_pseudo_id'] == 'AA38C84A3E1442048F72096A4621C17A']"
   ]
  },
  {
   "cell_type": "code",
   "execution_count": 25,
   "id": "extra-custody",
   "metadata": {},
   "outputs": [
    {
     "data": {
      "text/plain": [
       "209    Guatemala City\n",
       "210    Guatemala City\n",
       "211    Guatemala City\n",
       "212    Guatemala City\n",
       "213    Guatemala City\n",
       "            ...      \n",
       "719    Guatemala City\n",
       "720    Guatemala City\n",
       "721    Guatemala City\n",
       "722    Guatemala City\n",
       "723    Guatemala City\n",
       "Name: geo__city, Length: 515, dtype: object"
      ]
     },
     "execution_count": 25,
     "metadata": {},
     "output_type": "execute_result"
    }
   ],
   "source": [
    "user2.geo__city"
   ]
  },
  {
   "cell_type": "code",
   "execution_count": 26,
   "id": "apparent-pension",
   "metadata": {},
   "outputs": [
    {
     "data": {
      "text/plain": [
       "Index(['event_date_partition', 'event_name',\n",
       "       'event_params__activity_total_time', 'event_params__video_title',\n",
       "       'event_params__videotitle', 'geo__city', 'geo__country',\n",
       "       'user_pseudo_id'],\n",
       "      dtype='object')"
      ]
     },
     "execution_count": 26,
     "metadata": {},
     "output_type": "execute_result"
    }
   ],
   "source": [
    "user2.columns"
   ]
  },
  {
   "cell_type": "code",
   "execution_count": 27,
   "id": "brief-speech",
   "metadata": {},
   "outputs": [],
   "source": [
    "user3 = df[df['user_pseudo_id'] == '408BAF780ACD4F53B3F245E87ABF44A8']"
   ]
  },
  {
   "cell_type": "code",
   "execution_count": 28,
   "id": "literary-porcelain",
   "metadata": {},
   "outputs": [
    {
     "data": {
      "text/plain": [
       "event_date_partition                              2020-10-08T00:00:00\n",
       "event_name                                                screen_view\n",
       "event_params__activity_total_time                                 NaN\n",
       "event_params__video_title                                         NaN\n",
       "event_params__videotitle                                          NaN\n",
       "geo__city                                                    Bordeaux\n",
       "geo__country                                                   France\n",
       "user_pseudo_id                       408BAF780ACD4F53B3F245E87ABF44A8\n",
       "Name: 74, dtype: object"
      ]
     },
     "execution_count": 28,
     "metadata": {},
     "output_type": "execute_result"
    }
   ],
   "source": [
    "user3.iloc[0]"
   ]
  },
  {
   "cell_type": "code",
   "execution_count": 29,
   "id": "wooden-terrain",
   "metadata": {},
   "outputs": [],
   "source": [
    "user4 = df[df['user_pseudo_id'] == 'FD7E053248C94B5BB31CC094C1AE0B18']"
   ]
  },
  {
   "cell_type": "code",
   "execution_count": 30,
   "id": "swiss-gazette",
   "metadata": {},
   "outputs": [
    {
     "data": {
      "text/plain": [
       "event_date_partition                              2020-10-08T00:00:00\n",
       "event_name                                            user_engagement\n",
       "event_params__activity_total_time                                 NaN\n",
       "event_params__video_title                                         NaN\n",
       "event_params__videotitle                                          NaN\n",
       "geo__city                                                 Minneapolis\n",
       "geo__country                                            United States\n",
       "user_pseudo_id                       FD7E053248C94B5BB31CC094C1AE0B18\n",
       "Name: 895, dtype: object"
      ]
     },
     "execution_count": 30,
     "metadata": {},
     "output_type": "execute_result"
    }
   ],
   "source": [
    "user4.iloc[0]"
   ]
  },
  {
   "cell_type": "code",
   "execution_count": 31,
   "id": "blond-element",
   "metadata": {},
   "outputs": [
    {
     "data": {
      "text/plain": [
       "2020-10-08T00:00:00    965\n",
       "2020-10-07T00:00:00     29\n",
       "2020-10-06T00:00:00      6\n",
       "Name: event_date_partition, dtype: int64"
      ]
     },
     "execution_count": 31,
     "metadata": {},
     "output_type": "execute_result"
    }
   ],
   "source": [
    "df.event_date_partition.value_counts()"
   ]
  },
  {
   "cell_type": "markdown",
   "id": "intellectual-estimate",
   "metadata": {},
   "source": [
    "# city of austin analysis"
   ]
  },
  {
   "cell_type": "code",
   "execution_count": 50,
   "id": "brave-territory",
   "metadata": {},
   "outputs": [],
   "source": [
    "austin_csv = pd.read_csv('/Users/djbetts/Desktop/jf_project/austin_dataset.csv')"
   ]
  },
  {
   "cell_type": "code",
   "execution_count": 51,
   "id": "sought-montana",
   "metadata": {},
   "outputs": [],
   "source": [
    "austin_df = austin_csv.copy()"
   ]
  },
  {
   "cell_type": "code",
   "execution_count": 52,
   "id": "consistent-statistics",
   "metadata": {},
   "outputs": [
    {
     "data": {
      "text/plain": [
       "(1000, 204)"
      ]
     },
     "execution_count": 52,
     "metadata": {},
     "output_type": "execute_result"
    }
   ],
   "source": [
    "austin_df.shape"
   ]
  },
  {
   "cell_type": "code",
   "execution_count": 53,
   "id": "african-knock",
   "metadata": {},
   "outputs": [],
   "source": [
    "austindrop_df = austin_df.dropna(axis='columns', how='all')"
   ]
  },
  {
   "cell_type": "code",
   "execution_count": 54,
   "id": "hybrid-filter",
   "metadata": {},
   "outputs": [
    {
     "data": {
      "text/plain": [
       "(1000, 118)"
      ]
     },
     "execution_count": 54,
     "metadata": {},
     "output_type": "execute_result"
    }
   ],
   "source": [
    "austindrop_df.shape"
   ]
  },
  {
   "cell_type": "code",
   "execution_count": 55,
   "id": "competitive-radical",
   "metadata": {},
   "outputs": [
    {
     "data": {
      "text/plain": [
       "['app_info__firebase_app_id',\n",
       " 'app_info__id',\n",
       " 'app_info__install_source',\n",
       " 'app_info__version',\n",
       " 'device__advertising_id',\n",
       " 'device__category',\n",
       " 'device__is_limited_ad_tracking',\n",
       " 'device__language',\n",
       " 'device__mobile_brand_name',\n",
       " 'device__mobile_marketing_name',\n",
       " 'device__mobile_model_name',\n",
       " 'device__mobile_os_hardware_model',\n",
       " 'device__operating_system',\n",
       " 'device__operating_system_version',\n",
       " 'device__time_zone_offset_seconds',\n",
       " 'device__vendor_id',\n",
       " 'device__web_info__browser',\n",
       " 'device__web_info__browser_version',\n",
       " 'device__web_info__hostname',\n",
       " 'event_bundle_sequence_id',\n",
       " 'event_date',\n",
       " 'event_date_partition',\n",
       " 'event_name',\n",
       " 'event_params__activity_exit_code',\n",
       " 'event_params__activity_id',\n",
       " 'event_params__activity_total_time',\n",
       " 'event_params__activity_type',\n",
       " 'event_params__api_session_id',\n",
       " 'event_params__app_name',\n",
       " 'event_params__app_store_package_name',\n",
       " 'event_params__campaign',\n",
       " 'event_params__client_id_ua',\n",
       " 'event_params__cookieDomain',\n",
       " 'event_params__country',\n",
       " 'event_params__countrycode',\n",
       " 'event_params__ecid',\n",
       " 'event_params__engaged_session_event',\n",
       " 'event_params__engagement_time_msec',\n",
       " 'event_params__entrances',\n",
       " 'event_params__error',\n",
       " 'event_params__event_timestamp',\n",
       " 'event_params__firebase_conversion',\n",
       " 'event_params__firebase_error',\n",
       " 'event_params__firebase_event_origin',\n",
       " 'event_params__firebase_previous_class',\n",
       " 'event_params__firebase_previous_id',\n",
       " 'event_params__firebase_previous_screen',\n",
       " 'event_params__firebase_screen',\n",
       " 'event_params__firebase_screen_class',\n",
       " 'event_params__firebase_screen_id',\n",
       " 'event_params__freeride',\n",
       " 'event_params__ga_session_id',\n",
       " 'event_params__ga_session_number',\n",
       " 'event_params__grmasterpersonid',\n",
       " 'event_params__home_list',\n",
       " 'event_params__isstreaming',\n",
       " 'event_params__jfid',\n",
       " 'event_params__keyguid',\n",
       " 'event_params__keyrelayguid',\n",
       " 'event_params__lang_app_using_default_sys_lang',\n",
       " 'event_params__language',\n",
       " 'event_params__language_app',\n",
       " 'event_params__language_system',\n",
       " 'event_params__languageid',\n",
       " 'event_params__link_domain',\n",
       " 'event_params__link_url',\n",
       " 'event_params__loggedinstatus',\n",
       " 'event_params__marketingcloudid',\n",
       " 'event_params__media_buffer_cnt',\n",
       " 'event_params__media_initial_buffer_time',\n",
       " 'event_params__media_longest_buffer_time',\n",
       " 'event_params__media_scrub_cnt',\n",
       " 'event_params__media_total_buffer_time',\n",
       " 'event_params__mediacomponentid',\n",
       " 'event_params__medialanguageid',\n",
       " 'event_params__medialength',\n",
       " 'event_params__mediaviewtimeinseconds',\n",
       " 'event_params__medium',\n",
       " 'event_params__mobileforegroundsessionid',\n",
       " 'event_params__outbound',\n",
       " 'event_params__page_location',\n",
       " 'event_params__page_referrer',\n",
       " 'event_params__page_title',\n",
       " 'event_params__percent_scrolled',\n",
       " 'event_params__previous_app_version',\n",
       " 'event_params__screen',\n",
       " 'event_params__search_term',\n",
       " 'event_params__session_engaged',\n",
       " 'event_params__side_navigation',\n",
       " 'event_params__sideloaded',\n",
       " 'event_params__source',\n",
       " 'event_params__ssoguid',\n",
       " 'event_params__subtitlelanguageid',\n",
       " 'event_params__term',\n",
       " 'event_params__unique_search_term',\n",
       " 'event_params__video_title',\n",
       " 'event_params__videotitle',\n",
       " 'event_previous_timestamp',\n",
       " 'event_server_timestamp_offset',\n",
       " 'event_timestamp',\n",
       " 'geo__city',\n",
       " 'geo__continent',\n",
       " 'geo__country',\n",
       " 'geo__metro',\n",
       " 'geo__region',\n",
       " 'geo__sub_continent',\n",
       " 'platform',\n",
       " 'stream_id',\n",
       " 'traffic_source__medium',\n",
       " 'traffic_source__name',\n",
       " 'traffic_source__source',\n",
       " 'user_first_touch_timestamp',\n",
       " 'user_ltv__currency',\n",
       " 'user_properties__first_open_time',\n",
       " 'user_properties__ga_session_id',\n",
       " 'user_properties__ga_session_number',\n",
       " 'user_pseudo_id',\n",
       " 'event_timestamp_ts']"
      ]
     },
     "execution_count": 55,
     "metadata": {},
     "output_type": "execute_result"
    }
   ],
   "source": [
    "list(austindrop_df.columns)"
   ]
  },
  {
   "cell_type": "code",
   "execution_count": 56,
   "id": "waiting-orleans",
   "metadata": {},
   "outputs": [
    {
     "data": {
      "text/plain": [
       "0      NaN\n",
       "1      NaN\n",
       "2      NaN\n",
       "3      NaN\n",
       "4      NaN\n",
       "      ... \n",
       "995    NaN\n",
       "996    NaN\n",
       "997    NaN\n",
       "998    NaN\n",
       "999    NaN\n",
       "Name: event_params__event_timestamp, Length: 1000, dtype: object"
      ]
     },
     "execution_count": 56,
     "metadata": {},
     "output_type": "execute_result"
    }
   ],
   "source": [
    "austindrop_df.event_params__event_timestamp"
   ]
  },
  {
   "cell_type": "code",
   "execution_count": 57,
   "id": "french-shade",
   "metadata": {},
   "outputs": [],
   "source": [
    "videoplay = austindrop_df[austindrop_df['event_name'] == 'videoplay']"
   ]
  },
  {
   "cell_type": "code",
   "execution_count": 58,
   "id": "acknowledged-cameroon",
   "metadata": {},
   "outputs": [
    {
     "data": {
      "text/plain": [
       "The Beginning                  4\n",
       "Legion                         2\n",
       "Book of Acts                   2\n",
       "المقدمة                        1\n",
       "JESUS                          1\n",
       "#FallingPlates                 1\n",
       "7. Jesus Our Living Water      1\n",
       "8 أيام مع يسوع: من هو يسوع؟    1\n",
       "Name: event_params__videotitle, dtype: int64"
      ]
     },
     "execution_count": 58,
     "metadata": {},
     "output_type": "execute_result"
    }
   ],
   "source": [
    "videoplay.event_params__videotitle.value_counts()"
   ]
  },
  {
   "cell_type": "code",
   "execution_count": 59,
   "id": "arctic-savannah",
   "metadata": {},
   "outputs": [
    {
     "data": {
      "text/plain": [
       "be1c6bd7b275d81bbeab423055f4ab8d    47\n",
       "09D278E9375D4AEA8BE3416EBF2A90C1    33\n",
       "286805041.1615869113                28\n",
       "89AA3EB5C7A7454581E415483D30CDA1    26\n",
       "3d33e9869d10aa68a6a9fe44362f31db    24\n",
       "                                    ..\n",
       "114218335.1607435843                 1\n",
       "1962503349.1607289550                1\n",
       "1339027143.1607054220                1\n",
       "1548006143.1607808509                1\n",
       "45369475.1608152848                  1\n",
       "Name: user_pseudo_id, Length: 362, dtype: int64"
      ]
     },
     "execution_count": 59,
     "metadata": {},
     "output_type": "execute_result"
    }
   ],
   "source": [
    "austindrop_df.user_pseudo_id.value_counts()"
   ]
  },
  {
   "cell_type": "code",
   "execution_count": 60,
   "id": "thrown-bikini",
   "metadata": {},
   "outputs": [],
   "source": [
    "df = austindrop_df"
   ]
  },
  {
   "cell_type": "code",
   "execution_count": 61,
   "id": "changing-birmingham",
   "metadata": {},
   "outputs": [],
   "source": [
    "user1 = df[df.user_pseudo_id == 'be1c6bd7b275d81bbeab423055f4ab8d']"
   ]
  },
  {
   "cell_type": "code",
   "execution_count": 62,
   "id": "monetary-english",
   "metadata": {},
   "outputs": [],
   "source": [
    "user2 = df[df.user_pseudo_id == '09D278E9375D4AEA8BE3416EBF2A90C1']"
   ]
  },
  {
   "cell_type": "code",
   "execution_count": 63,
   "id": "continued-challenge",
   "metadata": {},
   "outputs": [],
   "source": [
    "user3 = df[df.user_pseudo_id == '286805041.1615869113']"
   ]
  },
  {
   "cell_type": "code",
   "execution_count": 64,
   "id": "sustainable-monster",
   "metadata": {},
   "outputs": [
    {
     "data": {
      "text/plain": [
       "20210316    98\n",
       "20201214    87\n",
       "20210315    86\n",
       "20201218    78\n",
       "20201215    51\n",
       "20201220    45\n",
       "20201207    44\n",
       "20201228    41\n",
       "20201217    39\n",
       "20201216    32\n",
       "20201203    28\n",
       "20201209    25\n",
       "20201212    25\n",
       "20201222    25\n",
       "20201202    24\n",
       "20201206    23\n",
       "20201221    23\n",
       "20201211    22\n",
       "20201213    21\n",
       "20201224    20\n",
       "20201204    18\n",
       "20201208    18\n",
       "20201205    16\n",
       "20201226    16\n",
       "20201223    16\n",
       "20201227    15\n",
       "20201219    12\n",
       "20201201    11\n",
       "20201225    11\n",
       "20201210    10\n",
       "20201229     8\n",
       "20201230     7\n",
       "20201231     5\n",
       "Name: event_date, dtype: int64"
      ]
     },
     "execution_count": 64,
     "metadata": {},
     "output_type": "execute_result"
    }
   ],
   "source": [
    "df.event_date.value_counts()"
   ]
  },
  {
   "cell_type": "code",
   "execution_count": 65,
   "id": "prostate-corps",
   "metadata": {},
   "outputs": [
    {
     "name": "stderr",
     "output_type": "stream",
     "text": [
      "/Users/djbetts/opt/anaconda3/lib/python3.7/site-packages/ipykernel_launcher.py:1: SettingWithCopyWarning:\n",
      "\n",
      "\n",
      "A value is trying to be set on a copy of a slice from a DataFrame.\n",
      "Try using .loc[row_indexer,col_indexer] = value instead\n",
      "\n",
      "See the caveats in the documentation: https://pandas.pydata.org/pandas-docs/stable/user_guide/indexing.html#returning-a-view-versus-a-copy\n",
      "\n"
     ]
    }
   ],
   "source": [
    "df['event_date_partition'] = df.event_date_partition.apply(pd.to_datetime)"
   ]
  },
  {
   "cell_type": "code",
   "execution_count": 66,
   "id": "shaped-sheffield",
   "metadata": {},
   "outputs": [
    {
     "name": "stderr",
     "output_type": "stream",
     "text": [
      "/Users/djbetts/opt/anaconda3/lib/python3.7/site-packages/ipykernel_launcher.py:1: SettingWithCopyWarning:\n",
      "\n",
      "\n",
      "A value is trying to be set on a copy of a slice from a DataFrame\n",
      "\n",
      "See the caveats in the documentation: https://pandas.pydata.org/pandas-docs/stable/user_guide/indexing.html#returning-a-view-versus-a-copy\n",
      "\n"
     ]
    }
   ],
   "source": [
    "df.sort_values(by=['event_date_partition'], axis=0, inplace=True)"
   ]
  },
  {
   "cell_type": "code",
   "execution_count": 67,
   "id": "coastal-vietnamese",
   "metadata": {},
   "outputs": [
    {
     "data": {
      "image/png": "[encoded data removed]",
      "text/plain": [
       "<Figure size 720x720 with 1 Axes>"
      ]
     },
     "metadata": {
      "needs_background": "light"
     },
     "output_type": "display_data"
    }
   ],
   "source": [
    "df.event_date_partition.hist(bins=len(df.event_date_partition.unique()),\n",
    "                                      xrot=315, \n",
    "                                      figsize=(10,10), legend=True)\n",
    "plt.suptitle(\"Event count in Austin, TX\");"
   ]
  },
  {
   "cell_type": "code",
   "execution_count": null,
   "id": "impressive-idaho",
   "metadata": {},
   "outputs": [],
   "source": []
  },
  {
   "cell_type": "code",
   "execution_count": 68,
   "id": "different-spirituality",
   "metadata": {},
   "outputs": [],
   "source": [
    "#filter event_date_partition by datetime object. cool trick.\n",
    "\n",
    "filter_xmas_df = df[(df['event_date_partition']>pd.Timestamp(2021,1,1)) & (df['event_date_partition']<pd.Timestamp(2021,3,16))]\n"
   ]
  },
  {
   "cell_type": "code",
   "execution_count": 69,
   "id": "alone-blend",
   "metadata": {},
   "outputs": [
    {
     "data": {
      "text/plain": [
       "user_engagement            18\n",
       "page_view                  15\n",
       "session_start              14\n",
       "screen_view                 9\n",
       "first_visit                 7\n",
       "scroll                      2\n",
       "activity_completes          2\n",
       "a_media_progress90          2\n",
       "videostarts                 2\n",
       "a_media_progress50          2\n",
       "a_media_progress25          2\n",
       "videoplay                   2\n",
       "a_media_progress75          2\n",
       "a_media_progress10          2\n",
       "mobileforegroundsession     1\n",
       "tab_switch_home             1\n",
       "tap_interest                1\n",
       "app_remove                  1\n",
       "os_update                   1\n",
       "Name: event_name, dtype: int64"
      ]
     },
     "execution_count": 69,
     "metadata": {},
     "output_type": "execute_result"
    }
   ],
   "source": [
    "filter_xmas_df.event_name.value_counts()"
   ]
  },
  {
   "cell_type": "markdown",
   "id": "compact-stationery",
   "metadata": {},
   "source": [
    "# data mapped"
   ]
  },
  {
   "cell_type": "code",
   "execution_count": 26,
   "id": "automotive-authentication",
   "metadata": {},
   "outputs": [],
   "source": [
    "from pycountry_convert import country_alpha2_to_continent_code, country_name_to_country_alpha2"
   ]
  },
  {
   "cell_type": "code",
   "execution_count": 27,
   "id": "selected-domain",
   "metadata": {},
   "outputs": [],
   "source": [
    "def get_continent(col):\n",
    "    try:\n",
    "        cn_a2_code =  country_name_to_country_alpha2(col)\n",
    "    except:\n",
    "        cn_a2_code = 'Unknown' \n",
    "    try:\n",
    "        cn_continent = country_alpha2_to_continent_code(cn_a2_code)\n",
    "    except:\n",
    "        cn_continent = 'Unknown' \n",
    "    return (cn_a2_code, cn_continent)"
   ]
  },
  {
   "cell_type": "code",
   "execution_count": 29,
   "id": "atlantic-technology",
   "metadata": {},
   "outputs": [],
   "source": [
    "data = pd.read_csv('/Users/djbetts/Desktop/jf_project/recommender_eda.csv')"
   ]
  },
  {
   "cell_type": "code",
   "execution_count": 30,
   "id": "judicial-pulse",
   "metadata": {},
   "outputs": [],
   "source": [
    "geo_df = data.copy()"
   ]
  },
  {
   "cell_type": "code",
   "execution_count": 31,
   "id": "executive-commonwealth",
   "metadata": {},
   "outputs": [
    {
     "data": {
      "text/plain": [
       "Index(['event_name', 'event_date_partition',\n",
       "       'event_params__activity_total_time', 'event_params__video_title',\n",
       "       'event_params__videotitle', 'geo__country', 'geo__city',\n",
       "       'user_pseudo_id'],\n",
       "      dtype='object')"
      ]
     },
     "execution_count": 31,
     "metadata": {},
     "output_type": "execute_result"
    }
   ],
   "source": [
    "geo_df.columns"
   ]
  },
  {
   "cell_type": "code",
   "execution_count": 32,
   "id": "dimensional-parade",
   "metadata": {},
   "outputs": [],
   "source": [
    "geo_df['geo_codes'] = geo_df.geo__country.apply(get_continent)"
   ]
  },
  {
   "cell_type": "code",
   "execution_count": 33,
   "id": "prostate-twins",
   "metadata": {},
   "outputs": [],
   "source": [
    "geo_df['country_code'] = geo_df['geo_codes'].apply(lambda x: x[0])"
   ]
  },
  {
   "cell_type": "code",
   "execution_count": 34,
   "id": "cheap-southwest",
   "metadata": {},
   "outputs": [],
   "source": [
    "geo_df['continent_code'] = geo_df['geo_codes'].apply(lambda x: x[1])"
   ]
  },
  {
   "cell_type": "code",
   "execution_count": 35,
   "id": "coupled-species",
   "metadata": {},
   "outputs": [
    {
     "data": {
      "text/plain": [
       "13"
      ]
     },
     "execution_count": 35,
     "metadata": {},
     "output_type": "execute_result"
    }
   ],
   "source": [
    "sum(geo_df['country_code'] == 'Unknown')"
   ]
  },
  {
   "cell_type": "code",
   "execution_count": 36,
   "id": "little-horse",
   "metadata": {},
   "outputs": [],
   "source": [
    "test = geo_df.geo_codes.iloc[0]"
   ]
  },
  {
   "cell_type": "code",
   "execution_count": 37,
   "id": "seventh-nickel",
   "metadata": {},
   "outputs": [
    {
     "data": {
      "text/plain": [
       "'US'"
      ]
     },
     "execution_count": 37,
     "metadata": {},
     "output_type": "execute_result"
    }
   ],
   "source": [
    "test[0]"
   ]
  },
  {
   "cell_type": "code",
   "execution_count": 38,
   "id": "metallic-baseline",
   "metadata": {},
   "outputs": [],
   "source": [
    "import geopy"
   ]
  },
  {
   "cell_type": "code",
   "execution_count": 39,
   "id": "combined-thanks",
   "metadata": {},
   "outputs": [],
   "source": [
    "from geopy.geocoders import Nominatim\n",
    "from geopy.extra.rate_limiter import RateLimiter"
   ]
  },
  {
   "cell_type": "code",
   "execution_count": 40,
   "id": "forty-purpose",
   "metadata": {},
   "outputs": [],
   "source": [
    "geopy.geocoders.options.default_user_agent = \"my-application\""
   ]
  },
  {
   "cell_type": "code",
   "execution_count": 41,
   "id": "tested-narrow",
   "metadata": {},
   "outputs": [],
   "source": [
    "geolocator = Nominatim(user_agent=\"myGeocoder\")\n",
    "def geolocate(country):\n",
    "    try:\n",
    "        # Geolocate the center of the country\n",
    "        loc = geolocator.geocode(country)\n",
    "        # And return latitude and longitude\n",
    "        return (loc.latitude, loc.longitude)\n",
    "    except:\n",
    "        # Return missing value\n",
    "        return (np.nan, np.nan)"
   ]
  },
  {
   "cell_type": "code",
   "execution_count": null,
   "id": "congressional-hardware",
   "metadata": {},
   "outputs": [],
   "source": [
    "# %%time\n",
    "# print(datetime.now)\n",
    "# geo_df['geo_cords'] = geo_df['country_code'].apply(geolocate)"
   ]
  },
  {
   "cell_type": "code",
   "execution_count": null,
   "id": "criminal-manchester",
   "metadata": {},
   "outputs": [],
   "source": [
    "#geo_df['latitude'] = geo_df['geo_cords'].apply(lambda x: x[0])"
   ]
  },
  {
   "cell_type": "code",
   "execution_count": 127,
   "id": "ahead-bridal",
   "metadata": {},
   "outputs": [],
   "source": [
    "#geo_df['longitude'] = geo_df['geo_cords'].apply(lambda x: x[1])"
   ]
  },
  {
   "cell_type": "code",
   "execution_count": 129,
   "id": "cellular-oakland",
   "metadata": {},
   "outputs": [],
   "source": [
    "#geo_df.to_csv('with_coord.csv')"
   ]
  },
  {
   "cell_type": "code",
   "execution_count": 6,
   "id": "stretch-flexibility",
   "metadata": {},
   "outputs": [],
   "source": [
    "data = pd.read_csv('with_coord.csv', index_col='Unnamed: 0')"
   ]
  },
  {
   "cell_type": "code",
   "execution_count": 7,
   "id": "varying-redhead",
   "metadata": {},
   "outputs": [],
   "source": [
    "df = data.copy()"
   ]
  },
  {
   "cell_type": "code",
   "execution_count": 8,
   "id": "broken-strain",
   "metadata": {},
   "outputs": [
    {
     "data": {
      "text/html": [
       "<div>\n",
       "<style scoped>\n",
       "    .dataframe tbody tr th:only-of-type {\n",
       "        vertical-align: middle;\n",
       "    }\n",
       "\n",
       "    .dataframe tbody tr th {\n",
       "        vertical-align: top;\n",
       "    }\n",
       "\n",
       "    .dataframe thead th {\n",
       "        text-align: right;\n",
       "    }\n",
       "</style>\n",
       "<table border=\"1\" class=\"dataframe\">\n",
       "  <thead>\n",
       "    <tr style=\"text-align: right;\">\n",
       "      <th></th>\n",
       "      <th>event_name</th>\n",
       "      <th>event_date_partition</th>\n",
       "      <th>event_params__activity_total_time</th>\n",
       "      <th>event_params__video_title</th>\n",
       "      <th>event_params__videotitle</th>\n",
       "      <th>geo__country</th>\n",
       "      <th>geo__city</th>\n",
       "      <th>user_pseudo_id</th>\n",
       "      <th>geo_codes</th>\n",
       "      <th>country_code</th>\n",
       "      <th>continent_code</th>\n",
       "      <th>geo_cords</th>\n",
       "      <th>latitude</th>\n",
       "      <th>longitude</th>\n",
       "    </tr>\n",
       "  </thead>\n",
       "  <tbody>\n",
       "    <tr>\n",
       "      <th>0</th>\n",
       "      <td>videoplay</td>\n",
       "      <td>2021-03-14T00:00:00</td>\n",
       "      <td>NaN</td>\n",
       "      <td>NaN</td>\n",
       "      <td>Sinful Woman Forgiven</td>\n",
       "      <td>United States</td>\n",
       "      <td>Orlando</td>\n",
       "      <td>2994fe07550c47cfaaeefbf3bde8533e</td>\n",
       "      <td>('US', 'NA')</td>\n",
       "      <td>US</td>\n",
       "      <td>NaN</td>\n",
       "      <td>(39.7837304, -100.4458825)</td>\n",
       "      <td>39.783730</td>\n",
       "      <td>-100.445882</td>\n",
       "    </tr>\n",
       "    <tr>\n",
       "      <th>1</th>\n",
       "      <td>videoplay</td>\n",
       "      <td>2021-03-14T00:00:00</td>\n",
       "      <td>NaN</td>\n",
       "      <td>JESUS</td>\n",
       "      <td>NaN</td>\n",
       "      <td>United States</td>\n",
       "      <td>Roseville</td>\n",
       "      <td>54EF9DB10E8542CD8504DAB112847B7F</td>\n",
       "      <td>('US', 'NA')</td>\n",
       "      <td>US</td>\n",
       "      <td>NaN</td>\n",
       "      <td>(39.7837304, -100.4458825)</td>\n",
       "      <td>39.783730</td>\n",
       "      <td>-100.445882</td>\n",
       "    </tr>\n",
       "    <tr>\n",
       "      <th>2</th>\n",
       "      <td>videoplay</td>\n",
       "      <td>2021-03-14T00:00:00</td>\n",
       "      <td>NaN</td>\n",
       "      <td>Jesus is Crucified</td>\n",
       "      <td>NaN</td>\n",
       "      <td>United States</td>\n",
       "      <td>Williams Bay</td>\n",
       "      <td>1904427109.1610834082</td>\n",
       "      <td>('US', 'NA')</td>\n",
       "      <td>US</td>\n",
       "      <td>NaN</td>\n",
       "      <td>(39.7837304, -100.4458825)</td>\n",
       "      <td>39.783730</td>\n",
       "      <td>-100.445882</td>\n",
       "    </tr>\n",
       "    <tr>\n",
       "      <th>3</th>\n",
       "      <td>videoplay</td>\n",
       "      <td>2021-03-14T00:00:00</td>\n",
       "      <td>NaN</td>\n",
       "      <td>Jesus Calms the Storm</td>\n",
       "      <td>NaN</td>\n",
       "      <td>South Africa</td>\n",
       "      <td>Cape Town</td>\n",
       "      <td>1194736409.1615780650</td>\n",
       "      <td>('ZA', 'AF')</td>\n",
       "      <td>ZA</td>\n",
       "      <td>AF</td>\n",
       "      <td>(-28.579397200000002, 24.086794125366062)</td>\n",
       "      <td>-28.579397</td>\n",
       "      <td>24.086794</td>\n",
       "    </tr>\n",
       "    <tr>\n",
       "      <th>4</th>\n",
       "      <td>videoplay</td>\n",
       "      <td>2021-03-14T00:00:00</td>\n",
       "      <td>NaN</td>\n",
       "      <td>Friends and Enemies</td>\n",
       "      <td>NaN</td>\n",
       "      <td>United States</td>\n",
       "      <td>San Bernardino</td>\n",
       "      <td>9E9D301A1ACD442D9DCB423EE9424C7A</td>\n",
       "      <td>('US', 'NA')</td>\n",
       "      <td>US</td>\n",
       "      <td>NaN</td>\n",
       "      <td>(39.7837304, -100.4458825)</td>\n",
       "      <td>39.783730</td>\n",
       "      <td>-100.445882</td>\n",
       "    </tr>\n",
       "  </tbody>\n",
       "</table>\n",
       "</div>"
      ],
      "text/plain": [
       "  event_name event_date_partition  event_params__activity_total_time  \\\n",
       "0  videoplay  2021-03-14T00:00:00                                NaN   \n",
       "1  videoplay  2021-03-14T00:00:00                                NaN   \n",
       "2  videoplay  2021-03-14T00:00:00                                NaN   \n",
       "3  videoplay  2021-03-14T00:00:00                                NaN   \n",
       "4  videoplay  2021-03-14T00:00:00                                NaN   \n",
       "\n",
       "  event_params__video_title event_params__videotitle   geo__country  \\\n",
       "0                       NaN    Sinful Woman Forgiven  United States   \n",
       "1                     JESUS                      NaN  United States   \n",
       "2        Jesus is Crucified                      NaN  United States   \n",
       "3     Jesus Calms the Storm                      NaN   South Africa   \n",
       "4       Friends and Enemies                      NaN  United States   \n",
       "\n",
       "        geo__city                    user_pseudo_id     geo_codes  \\\n",
       "0         Orlando  2994fe07550c47cfaaeefbf3bde8533e  ('US', 'NA')   \n",
       "1       Roseville  54EF9DB10E8542CD8504DAB112847B7F  ('US', 'NA')   \n",
       "2    Williams Bay             1904427109.1610834082  ('US', 'NA')   \n",
       "3       Cape Town             1194736409.1615780650  ('ZA', 'AF')   \n",
       "4  San Bernardino  9E9D301A1ACD442D9DCB423EE9424C7A  ('US', 'NA')   \n",
       "\n",
       "  country_code continent_code                                  geo_cords  \\\n",
       "0           US            NaN                 (39.7837304, -100.4458825)   \n",
       "1           US            NaN                 (39.7837304, -100.4458825)   \n",
       "2           US            NaN                 (39.7837304, -100.4458825)   \n",
       "3           ZA             AF  (-28.579397200000002, 24.086794125366062)   \n",
       "4           US            NaN                 (39.7837304, -100.4458825)   \n",
       "\n",
       "    latitude   longitude  \n",
       "0  39.783730 -100.445882  \n",
       "1  39.783730 -100.445882  \n",
       "2  39.783730 -100.445882  \n",
       "3 -28.579397   24.086794  \n",
       "4  39.783730 -100.445882  "
      ]
     },
     "execution_count": 8,
     "metadata": {},
     "output_type": "execute_result"
    }
   ],
   "source": [
    "df.head()"
   ]
  },
  {
   "cell_type": "code",
   "execution_count": 9,
   "id": "complicated-coordinator",
   "metadata": {},
   "outputs": [
    {
     "data": {
      "text/plain": [
       "11"
      ]
     },
     "execution_count": 9,
     "metadata": {},
     "output_type": "execute_result"
    }
   ],
   "source": [
    "sum(df.event_params__video_title.isna())"
   ]
  },
  {
   "cell_type": "code",
   "execution_count": 10,
   "id": "appointed-fleece",
   "metadata": {},
   "outputs": [
    {
     "data": {
      "text/plain": [
       "989"
      ]
     },
     "execution_count": 10,
     "metadata": {},
     "output_type": "execute_result"
    }
   ],
   "source": [
    "sum(df.event_params__videotitle.isna())"
   ]
  },
  {
   "cell_type": "code",
   "execution_count": 11,
   "id": "light-pleasure",
   "metadata": {},
   "outputs": [],
   "source": [
    "df['video_title'] = df['event_params__videotitle'].fillna(df['event_params__video_title'])\n",
    "\n",
    "\n",
    "\n"
   ]
  },
  {
   "cell_type": "code",
   "execution_count": 12,
   "id": "rocky-counter",
   "metadata": {},
   "outputs": [
    {
     "data": {
      "text/plain": [
       "JESUS                              559\n",
       "Life of Jesus (Gospel of John)      25\n",
       "Baptism of Jesus by John            25\n",
       "Childhood of Jesus                  20\n",
       "The Story of Jesus for Children     17\n",
       "                                  ... \n",
       "Living the Christian Life            1\n",
       "Jesus Feeds 5,000                    1\n",
       "Day 2: Miraculous Birth              1\n",
       "Teaching About Prayer and Faith      1\n",
       "Day 22: Lord&#39;s Prayer            1\n",
       "Name: video_title, Length: 152, dtype: int64"
      ]
     },
     "execution_count": 12,
     "metadata": {},
     "output_type": "execute_result"
    }
   ],
   "source": [
    "df['video_title'].value_counts()"
   ]
  },
  {
   "cell_type": "code",
   "execution_count": 27,
   "id": "imported-alignment",
   "metadata": {},
   "outputs": [
    {
     "data": {
      "text/plain": [
       "(715, 15)"
      ]
     },
     "execution_count": 27,
     "metadata": {},
     "output_type": "execute_result"
    }
   ],
   "source": [
    "#learn more about df.map\n",
    "\n",
    "df_one = df[df['video_title'].map(df['video_title'].value_counts()) > 1]\n",
    "df_two = df[df['video_title'].map(df['video_title'].value_counts()) > 2]\n",
    "df_ten = df[df['video_title'].map(df['video_title'].value_counts()) > 10]\n",
    "df_ten.shape"
   ]
  },
  {
   "cell_type": "code",
   "execution_count": 28,
   "id": "distributed-netscape",
   "metadata": {},
   "outputs": [
    {
     "data": {
      "text/plain": [
       "JESUS                              559\n",
       "Baptism of Jesus by John            25\n",
       "Life of Jesus (Gospel of John)      25\n",
       "Childhood of Jesus                  20\n",
       "The Beginning                       17\n",
       "The Story of Jesus for Children     17\n",
       "#FallingPlates                      14\n",
       "The Lord&#39;s Prayer               14\n",
       "Birth of Jesus                      12\n",
       "Jesus Calms the Storm               12\n",
       "Name: video_title, dtype: int64"
      ]
     },
     "execution_count": 28,
     "metadata": {},
     "output_type": "execute_result"
    }
   ],
   "source": [
    "df_ten['video_title'].value_counts()"
   ]
  },
  {
   "cell_type": "code",
   "execution_count": 49,
   "id": "informed-strengthening",
   "metadata": {},
   "outputs": [
    {
     "data": {
      "image/png": "[encoded data removed]",
      "text/plain": [
       "<Figure size 1440x1440 with 1 Axes>"
      ]
     },
     "metadata": {
      "needs_background": "light"
     },
     "output_type": "display_data"
    }
   ],
   "source": [
    "df_ten['video_title'].hist(figsize=(20,20), \n",
    "                           bins=len(df_ten['video_title'].value_counts()),\n",
    "                           xrot=45,\n",
    "                           xlabelsize=20);"
   ]
  },
  {
   "cell_type": "code",
   "execution_count": 50,
   "id": "fixed-safety",
   "metadata": {},
   "outputs": [
    {
     "data": {
      "image/png": "[encoded data removed]",
      "text/plain": [
       "<Figure size 1440x1440 with 1 Axes>"
      ]
     },
     "metadata": {
      "needs_background": "light"
     },
     "output_type": "display_data"
    }
   ],
   "source": [
    "df.event_date_partition.hist(figsize=(20,20), \n",
    "                             bins=len(df.event_date_partition.value_counts()),\n",
    "                            xrot=325,\n",
    "                           xlabelsize=20,\n",
    "                            ylabelsize=20);"
   ]
  },
  {
   "cell_type": "code",
   "execution_count": 16,
   "id": "unauthorized-adaptation",
   "metadata": {},
   "outputs": [],
   "source": [
    "import plotly \n",
    "import plotly.offline as py\n",
    "import plotly.graph_objs as go\n",
    "import plotly_express as px"
   ]
  },
  {
   "cell_type": "code",
   "execution_count": 75,
   "id": "likely-baseline",
   "metadata": {},
   "outputs": [
    {
     "data": {
      "text/html": [
       "<div>\n",
       "<style scoped>\n",
       "    .dataframe tbody tr th:only-of-type {\n",
       "        vertical-align: middle;\n",
       "    }\n",
       "\n",
       "    .dataframe tbody tr th {\n",
       "        vertical-align: top;\n",
       "    }\n",
       "\n",
       "    .dataframe thead th {\n",
       "        text-align: right;\n",
       "    }\n",
       "</style>\n",
       "<table border=\"1\" class=\"dataframe\">\n",
       "  <thead>\n",
       "    <tr style=\"text-align: right;\">\n",
       "      <th></th>\n",
       "      <th>geo__country</th>\n",
       "    </tr>\n",
       "  </thead>\n",
       "  <tbody>\n",
       "    <tr>\n",
       "      <th>United States</th>\n",
       "      <td>165</td>\n",
       "    </tr>\n",
       "    <tr>\n",
       "      <th>India</th>\n",
       "      <td>163</td>\n",
       "    </tr>\n",
       "    <tr>\n",
       "      <th>Egypt</th>\n",
       "      <td>41</td>\n",
       "    </tr>\n",
       "    <tr>\n",
       "      <th>Nigeria</th>\n",
       "      <td>36</td>\n",
       "    </tr>\n",
       "    <tr>\n",
       "      <th>Bangladesh</th>\n",
       "      <td>36</td>\n",
       "    </tr>\n",
       "    <tr>\n",
       "      <th>...</th>\n",
       "      <td>...</td>\n",
       "    </tr>\n",
       "    <tr>\n",
       "      <th>Kuwait</th>\n",
       "      <td>1</td>\n",
       "    </tr>\n",
       "    <tr>\n",
       "      <th>Venezuela</th>\n",
       "      <td>1</td>\n",
       "    </tr>\n",
       "    <tr>\n",
       "      <th>Botswana</th>\n",
       "      <td>1</td>\n",
       "    </tr>\n",
       "    <tr>\n",
       "      <th>Czechia</th>\n",
       "      <td>1</td>\n",
       "    </tr>\n",
       "    <tr>\n",
       "      <th>Niger</th>\n",
       "      <td>1</td>\n",
       "    </tr>\n",
       "  </tbody>\n",
       "</table>\n",
       "<p>112 rows × 1 columns</p>\n",
       "</div>"
      ],
      "text/plain": [
       "               geo__country\n",
       "United States           165\n",
       "India                   163\n",
       "Egypt                    41\n",
       "Nigeria                  36\n",
       "Bangladesh               36\n",
       "...                     ...\n",
       "Kuwait                    1\n",
       "Venezuela                 1\n",
       "Botswana                  1\n",
       "Czechia                   1\n",
       "Niger                     1\n",
       "\n",
       "[112 rows x 1 columns]"
      ]
     },
     "execution_count": 75,
     "metadata": {},
     "output_type": "execute_result"
    }
   ],
   "source": [
    "df.geo__country.value_counts().to_frame()"
   ]
  },
  {
   "cell_type": "code",
   "execution_count": 74,
   "id": "funded-superintendent",
   "metadata": {},
   "outputs": [
    {
     "data": {
      "text/plain": [
       "United States    165\n",
       "India            163\n",
       "Egypt             41\n",
       "Nigeria           36\n",
       "Bangladesh        36\n",
       "                ... \n",
       "Kuwait             1\n",
       "Venezuela          1\n",
       "Botswana           1\n",
       "Czechia            1\n",
       "Niger              1\n",
       "Name: geo__country, Length: 112, dtype: int64"
      ]
     },
     "execution_count": 74,
     "metadata": {},
     "output_type": "execute_result"
    }
   ],
   "source": [
    "df.geo__country.value_counts()"
   ]
  },
  {
   "cell_type": "code",
   "execution_count": 73,
   "id": "involved-narrative",
   "metadata": {},
   "outputs": [
    {
     "data": {
      "text/plain": [
       "0     NaN\n",
       "1     NaN\n",
       "2     NaN\n",
       "3     NaN\n",
       "4     NaN\n",
       "       ..\n",
       "995   NaN\n",
       "996   NaN\n",
       "997   NaN\n",
       "998   NaN\n",
       "999   NaN\n",
       "Name: count_of_country, Length: 1000, dtype: float64"
      ]
     },
     "execution_count": 73,
     "metadata": {},
     "output_type": "execute_result"
    }
   ],
   "source": [
    "df['count_of_country']"
   ]
  },
  {
   "cell_type": "code",
   "execution_count": 55,
   "id": "mighty-luxury",
   "metadata": {},
   "outputs": [
    {
     "data": {
      "application/vnd.plotly.v1+json": {
       "config": {
        "plotlyServerURL": "https://plot.ly"
       },
       "data": [
        {
         "hoverlabel": {
          "namelength": 0
         },
         "hovertemplate": "latitude=%{lat}<br>longitude=%{lon}",
         "lat": [
          39.7837304,
          39.7837304,
          39.7837304,
          -28.5793972,
          39.7837304,
          12.7503486,
          14.5844444,
          9.2231105,
          null,
          -2.4833826,
          8.7800265,
          9.2231105,
          39.7837304,
          33.994952999999995,
          39.7837304,
          36.638392,
          39.7837304,
          39.7837304,
          -10.3333333,
          1.357107,
          26.2540493,
          26.4215275,
          null,
          39.7837304,
          39.7837304,
          -0.8999695,
          39.7837304,
          -24.7761086,
          9.2231105,
          39.7837304,
          -2.4833826,
          39.7837304,
          20.2540382,
          -10.3333333,
          12.7503486,
          null,
          26.2540493,
          7.857371,
          36.5748441,
          -2.4833826,
          30.3308401,
          -10.3333333,
          33.994952999999995,
          39.7837304,
          null,
          39.7837304,
          -10.3333333,
          28.0000272,
          -10.3333333,
          39.7837304,
          -10.3333333,
          null,
          -2.4833826,
          14.5844444,
          null,
          33.0955793,
          -10.3333333,
          39.7837304,
          25.029422,
          -2.4833826,
          -28.5793972,
          null,
          null,
          25.029422,
          39.7837304,
          -2.4833826,
          28.0000272,
          39.7837304,
          26.2540493,
          -10.3333333,
          39.7837304,
          39.7837304,
          8.7800265,
          51.0834196,
          -28.5793972,
          39.7837304,
          -10.3333333,
          null,
          34.6401861,
          39.7837304,
          14.46517725,
          36.5748441,
          14.5844444,
          39.7837304,
          4.6125522,
          39.7837304,
          33.0955793,
          null,
          39.7837304,
          39.7837304,
          null,
          39.7837304,
          25.029422,
          -28.5793972,
          14.5844444,
          null,
          33.994952999999995,
          39.7837304,
          39.7837304,
          36.5748441,
          39.7837304,
          25.029422,
          28.0000272,
          25.029422,
          33.0955793,
          28.0000272,
          9.6000359,
          14.5844444,
          26.2540493,
          22.5000485,
          null,
          39.7837304,
          39.7837304,
          25.029422,
          -2.4833826,
          9.6000359,
          null,
          28.0000272,
          49.4871968,
          9.6000359,
          -10.3333333,
          28.0000272,
          1.357107,
          52.5001698,
          35.000074,
          2.8894434,
          -13.7693895,
          47.69641095,
          -24.7761086,
          39.7837304,
          48.38003005,
          null,
          39.7837304,
          41.6171214,
          39.7837304,
          39.7837304,
          26.2540493,
          39.7837304,
          null,
          14.5844444,
          47.69641095,
          51.0834196,
          39.7837304,
          13.2904027,
          -0.1667169,
          null,
          -6.5247123,
          null,
          -2.4833826,
          9.6000359,
          33.0955793,
          39.7837304,
          24.4768783,
          39.7837304,
          52.865196,
          -0.1667169,
          39.7837304,
          null,
          26.2540493,
          61.0666922,
          22.5000485,
          1.357107,
          null,
          -13.7693895,
          30.3308401,
          39.7837304,
          49.4871968,
          41.6809707,
          42.6384261,
          1.3769751,
          22.5000485,
          -24.7761086,
          null,
          39.7837304,
          54.7023545,
          39.7837304,
          24.4768783,
          39.7837304,
          61.0666922,
          39.7837304,
          28.1083929,
          null,
          52.5001698,
          -13.2687204,
          -2.4833826,
          null,
          54.7023545,
          61.0666922,
          9.6000359,
          30.3308401,
          8.559559,
          9.6000359,
          null,
          -1.3397668,
          39.7837304,
          52.5001698,
          16.3471243,
          36.5748441,
          1.357107,
          32.6475314,
          -28.5793972,
          30.3308401,
          32.6475314,
          32.6475314,
          26.2540493,
          null,
          30.3308401,
          33.0955793,
          46.813331250000005,
          39.7837304,
          null,
          9.6000359,
          39.7837304,
          61.0666922,
          1.357107,
          null,
          39.7837304,
          39.7837304,
          38.9597594,
          14.5844444,
          7.5554942,
          32.6475314,
          2.8894434,
          22.350627,
          null,
          51.0834196,
          null,
          39.7837304,
          null,
          null,
          7.857371,
          54.7023545,
          -0.1667169,
          null,
          null,
          9.6000359,
          -1.3397668,
          32.6475314,
          9.6000359,
          null,
          null,
          2.8894434,
          52.5001698,
          52.215933,
          38.9597594,
          32.6475314,
          41.6171214,
          24.4768783,
          26.2540493,
          null,
          null,
          null,
          null,
          22.350627,
          39.7837304,
          -2.4833826,
          24.4768783,
          1.357107,
          null,
          52.5001698,
          null,
          39.7837304,
          -0.1667169,
          null,
          26.2540493,
          36.5748441,
          39.7837304,
          25.029422,
          null,
          39.7837304,
          12.7503486,
          31.1667049,
          -2.4833826,
          32.6475314,
          2.8894434,
          26.2540493,
          null,
          null,
          41.6809707,
          12.7503486,
          9.6000359,
          25.029422,
          15.6134137,
          15.2572432,
          null,
          null,
          28.0000272,
          24.4768783,
          39.3260685,
          null,
          39.7837304,
          null,
          9.6000359,
          null,
          7.5554942,
          null,
          26.2540493,
          52.5001698,
          null,
          39.5162234,
          null,
          null,
          52.5001698,
          20.2540382,
          39.7837304,
          54.7023545,
          36.5748441,
          39.7837304,
          -14.5189121,
          9.6000359,
          9.6000359,
          14.5844444,
          24.4768783,
          39.7837304,
          39.5162234,
          28.0000272,
          -14.5189121,
          -2.4833826,
          null,
          9.6000359,
          34.6401861,
          null,
          52.5001698,
          54.7023545,
          23.9739374,
          36.5748441,
          30.3308401,
          30.3308401,
          14.5844444,
          49.4871968,
          24.4768783,
          22.5000485,
          33.0955793,
          49.4871968,
          49.8167003,
          49.4871968,
          39.7837304,
          39.7837304,
          24.4768783,
          63.2467777,
          39.7837304,
          -17.0568696,
          7.3245,
          39.7837304,
          22.5000485,
          39.7837304,
          39.7837304,
          26.2540493,
          null,
          39.7837304,
          null,
          -0.1667169,
          36.638392,
          40.7696272,
          -24.7761086,
          26.2540493,
          22.350627,
          8.0018709,
          null,
          54.7023545,
          35.6584501,
          13.2904027,
          39.7837304,
          26.2540493,
          39.7837304,
          24.4768783,
          26.2540493,
          33.8750629,
          -0.1667169,
          24.4768783,
          39.7837304,
          48.5908946,
          39.7837304,
          26.2540493,
          49.4871968,
          24.4768783,
          39.7837304,
          1.3769751,
          61.0666922,
          null,
          39.7837304,
          -34.9964963,
          39.7837304,
          39.7837304,
          38.9597594,
          -14.5189121,
          51.0834196,
          null,
          30.3308401,
          52.5001698,
          54.7023545,
          null,
          -2.4833826,
          54.7023545,
          null,
          32.3293809,
          -28.5793972,
          null,
          39.7837304,
          39.7837304,
          55.3500003,
          30.3308401,
          41.6809707,
          null,
          30.3308401,
          39.7837304,
          1.357107,
          39.7837304,
          49.4871968,
          26.2540493,
          32.3293809,
          null,
          null,
          13.8000382,
          46.603354,
          39.7837304,
          null,
          61.0666922,
          60.5000209,
          61.0666922,
          null,
          26.2540493,
          26.2540493,
          49.4871968,
          33.0955793,
          null,
          52.5001698,
          -28.5793972,
          24.4768783,
          39.7837304,
          39.7837304,
          null,
          null,
          32.6475314,
          null,
          null,
          22.350627,
          22.350627,
          null,
          null,
          24.4768783,
          7.857371,
          39.7837304,
          39.7837304,
          12.7503486,
          39.7837304,
          7.857371,
          39.7837304,
          39.7837304,
          54.7023545,
          12.7503486,
          61.0666922,
          9.6000359,
          61.0666922,
          51.0834196,
          39.7837304,
          32.6475314,
          9.6000359,
          9.6000359,
          26.2540493,
          33.7680065,
          -2.4833826,
          null,
          26.2540493,
          41.6171214,
          null,
          59.6749712,
          54.7023545,
          39.7837304,
          54.7023545,
          1.357107,
          1.3769751,
          14.5844444,
          1.3769751,
          32.6475314,
          25.029422,
          30.3308401,
          null,
          28.1083929,
          41.6809707,
          null,
          38.9597594,
          33.0955793,
          13.2904027,
          26.2540493,
          34.6401861,
          32.6475314,
          26.2540493,
          26.2540493,
          26.2540493,
          12.1360374,
          39.7837304,
          36.5748441,
          39.7837304,
          -0.1667169,
          24.4768783,
          null,
          39.4332242,
          39.7837304,
          49.4871968,
          null,
          32.6475314,
          28.0000272,
          26.2540493,
          34.6401861,
          49.4871968,
          12.1360374,
          null,
          -13.7693895,
          null,
          null,
          null,
          null,
          39.7837304,
          9.6000359,
          41.6809707,
          34.6401861,
          16.3471243,
          30.3308401,
          26.2540493,
          14.5844444,
          -14.5189121,
          49.4871968,
          1.3769751,
          -19.302233,
          61.0666922,
          13.2904027,
          22.5000485,
          33.0955793,
          30.3308401,
          40.7778004,
          null,
          24.4768783,
          39.7837304,
          30.3308401,
          null,
          -0.1667169,
          -0.1667169,
          32.6475314,
          41.8989553,
          9.6000359,
          39.7837304,
          -24.7761086,
          12.7503486,
          1.3769751,
          null,
          39.7837304,
          39.7837304,
          39.7837304,
          39.7837304,
          36.638392,
          -13.2687204,
          7.857371,
          54.7023545,
          39.7837304,
          12.7503486,
          61.0666922,
          12.7503486,
          60.5000209,
          49.4871968,
          32.6475314,
          24.4768783,
          39.7837304,
          null,
          25.029422,
          null,
          9.6000359,
          26.4215275,
          33.0955793,
          30.3308401,
          32.6475314,
          49.4871968,
          39.7837304,
          52.5001698,
          39.7837304,
          null,
          39.7837304,
          26.4215275,
          30.3308401,
          28.1083929,
          -17.0568696,
          30.3308401,
          39.7837304,
          40.7778004,
          16.3471243,
          24.4768783,
          null,
          39.7837304,
          48.6726975,
          24.4768783,
          26.2540493,
          null,
          49.4871968,
          39.7837304,
          24.4768783,
          33.8750629,
          null,
          30.3308401,
          null,
          null,
          54.7023545,
          39.7837304,
          39.7837304,
          39.7837304,
          54.7023545,
          39.7837304,
          null,
          39.7837304,
          24.4768783,
          26.2540493,
          50.0874654,
          -10.3333333,
          39.7837304,
          29.2733964,
          null,
          -28.5793972,
          23.9739374,
          -28.5793972,
          39.7837304,
          39.7837304,
          null,
          -10.3333333,
          null,
          1.3769751,
          39.7837304,
          12.7503486,
          26.2540493,
          33.7680065,
          14.46517725,
          39.7837304,
          null,
          55.670249,
          39.7837304,
          9.6000359,
          null,
          39.7837304,
          2.8894434,
          -14.5189121,
          null,
          null,
          39.7837304,
          52.5001698,
          48.6726975,
          -6.5247123,
          -14.5189121,
          39.7837304,
          9.6000359,
          39.7837304,
          46.813331250000005,
          26.2540493,
          49.4871968,
          -0.1667169,
          39.7837304,
          39.7837304,
          null,
          54.7023545,
          39.7837304,
          24.4768783,
          61.0666922,
          39.7837304,
          39.7837304,
          49.4871968,
          46.813331250000005,
          39.7837304,
          -14.5189121,
          null,
          24.4768783,
          26.2540493,
          55.670249,
          54.5859836,
          22.350627,
          33.0955793,
          30.3308401,
          39.7837304,
          null,
          39.7837304,
          null,
          null,
          39.7837304,
          49.4871968,
          null,
          -24.7761086,
          -6.8699697,
          null,
          12.7503486,
          51.0834196,
          12.7503486,
          41.8989553,
          24.4768783,
          null,
          39.5162234,
          54.7023545,
          49.4871968,
          -20.2759451,
          52.215933,
          39.7837304,
          7.857371,
          32.6475314,
          32.3293809,
          null,
          24.4768783,
          null,
          1.3769751,
          49.4871968,
          16.3700359,
          -24.7761086,
          null,
          9.6000359,
          49.4871968,
          54.7023545,
          -28.5793972,
          26.2540493,
          null,
          36.5748441,
          null,
          26.2540493,
          30.3308401,
          null,
          30.3308401,
          26.2540493,
          14.5844444,
          51.0834196,
          -1.3397668,
          12.7503486,
          39.7837304,
          1.3769751,
          null,
          39.7837304,
          39.7837304,
          23.9739374,
          39.7837304,
          null,
          14.5844444,
          33.8750629,
          13.2904027,
          52.5001698,
          null,
          39.7837304,
          39.7837304,
          null,
          -28.5793972,
          null,
          null,
          52.5001698,
          1.3769751,
          30.3308401,
          null,
          7.857371,
          null,
          12.7503486,
          39.7837304,
          13.8000382,
          null,
          null,
          30.3308401,
          24.4768783,
          24.4768783,
          33.994952999999995,
          30.3308401,
          28.1083929,
          14.5844444,
          26.2540493,
          41.8989553,
          null,
          22.5000485,
          9.6000359,
          39.7837304,
          null,
          -28.5793972,
          40.7696272,
          9.6000359,
          null,
          -19.01688,
          46.813331250000005,
          null,
          61.0666922,
          39.7837304,
          28.0000272,
          41.8989553,
          null,
          41.32373,
          59.6749712,
          null,
          49.4871968,
          7.857371,
          39.5162234,
          31.1667049,
          null,
          36.5748441,
          -10.3333333,
          28.0000272,
          null,
          39.7837304,
          -28.5793972,
          61.0666922,
          24.4768783,
          23.9739374,
          28.1083929,
          30.3308401,
          26.2540493,
          30.3308401,
          49.4871968,
          52.5001698,
          30.3308401,
          14.5844444,
          8.559559,
          41.7370229,
          32.6475314,
          9.6000359,
          32.3293809,
          14.5844444,
          24.4768783,
          39.7837304,
          46.603354,
          54.7023545,
          9.6000359,
          9.6000359,
          32.3293809,
          null,
          25.029422,
          null,
          24.4768783,
          null,
          28.0000272,
          39.7837304,
          null,
          null,
          52.5001698,
          49.4871968,
          null,
          null,
          9.6000359,
          39.7837304,
          39.7837304,
          12.7503486,
          14.5844444,
          50.9014721,
          null,
          39.7837304,
          -19.01688,
          34.6401861,
          28.1083929,
          33.0955793,
          30.3308401,
          7.857371,
          -14.5189121,
          39.7837304,
          19.1399952,
          33.994952999999995,
          39.7837304,
          -0.1667169,
          40.7778004,
          24.4768783,
          41.32373,
          12.7503486,
          39.7837304,
          49.4871968,
          32.6475314,
          null,
          36.638392,
          56.8406494,
          53.4250605,
          24.4768783,
          39.7837304,
          36.5748441,
          null,
          14.5844444,
          39.7837304,
          54.7023545,
          null,
          null,
          24.4768783,
          39.7837304,
          39.7837304,
          22.350627,
          12.7503486,
          61.0666922,
          12.7503486,
          50.6402809,
          -28.5793972,
          26.2540493,
          38.9597594,
          26.2540493,
          51.0834196,
          39.7837304,
          39.7837304,
          39.7837304,
          22.350627,
          8.7800265,
          54.7023545,
          39.7837304,
          61.0666922,
          61.0666922,
          39.7837304,
          null,
          24.4768783,
          null,
          null,
          61.0666922,
          22.5000485,
          39.7837304,
          39.7837304,
          null,
          25.029422,
          null,
          8.559559,
          -2.4833826,
          32.6475314,
          32.6475314,
          32.3293809,
          null,
          -6.5247123,
          46.603354,
          null,
          39.7837304,
          12.7503486,
          39.3260685,
          39.7837304,
          9.6000359,
          7.857371,
          54.7023545,
          1.3769751,
          9.6000359,
          9.6000359,
          9.6000359,
          1.3769751,
          61.0666922,
          49.4871968,
          39.5162234,
          61.0666922,
          61.0666922,
          null,
          null,
          12.7503486,
          24.4768783,
          30.3308401,
          26.2540493,
          40.3936294,
          61.0666922,
          50.9014721,
          null,
          32.6475314,
          -13.7693895,
          32.3293809,
          1.357107,
          -28.5793972,
          9.6000359,
          null,
          -18.1239696,
          26.2540493,
          1.3769751,
          49.4871968,
          41.8989553,
          null,
          32.6475314,
          39.7837304,
          -28.5793972,
          2.8894434,
          -28.5793972,
          22.5000485,
          null,
          -2.4833826,
          -24.7761086,
          2.8894434,
          -14.5189121,
          25.029422,
          null,
          61.0666922,
          39.7837304,
          null,
          24.4768783,
          30.3308401,
          null,
          54.7023545,
          39.7837304,
          39.7837304,
          61.0666922,
          39.7837304,
          39.7837304,
          null,
          null,
          24.4768783,
          30.3308401,
          59.6749712,
          61.0666922,
          61.0666922,
          61.0666922,
          9.6000359,
          32.6475314,
          null,
          null,
          -2.4833826,
          9.6000359,
          null,
          41.8989553,
          41.8989553,
          36.5748441,
          16.3700359,
          39.7837304,
          4.6125522
         ],
         "legendgroup": "",
         "lon": [
          -100.4458825,
          -100.4458825,
          -100.4458825,
          24.086794125366065,
          -100.4458825,
          122.7312101,
          29.4917691,
          2.31006719638123,
          null,
          117.8902853,
          1.0199765,
          2.31006719638123,
          -100.4458825,
          9.367097748325554,
          -100.4458825,
          127.6961188,
          -100.4458825,
          -100.4458825,
          -53.2,
          103.8194992,
          29.2675469,
          17.30331995251014,
          null,
          -100.4458825,
          -100.4458825,
          11.6899699,
          -100.4458825,
          134.755,
          2.31006719638123,
          -100.4458825,
          117.8902853,
          -100.4458825,
          -9.2399263,
          -53.2,
          122.7312101,
          null,
          29.2675469,
          -1.0840975468820433,
          139.2394179,
          117.8902853,
          71.247499,
          -53.2,
          9.367097748325554,
          -100.4458825,
          null,
          -100.4458825,
          -53.2,
          2.9999825,
          -53.2,
          -100.4458825,
          -53.2,
          null,
          117.8902853,
          29.4917691,
          null,
          44.1749775,
          -53.2,
          -100.4458825,
          -77.36195598496681,
          117.8902853,
          24.086794125366065,
          null,
          null,
          -77.36195598496681,
          -100.4458825,
          117.8902853,
          2.9999825,
          -100.4458825,
          29.2675469,
          -53.2,
          -100.4458825,
          -100.4458825,
          1.0199765,
          10.4234469,
          24.086794125366065,
          -100.4458825,
          -53.2,
          null,
          39.0494106,
          -100.4458825,
          -14.765340959100412,
          139.2394179,
          29.4917691,
          -100.4458825,
          13.1535811,
          -100.4458825,
          44.1749775,
          null,
          -100.4458825,
          -100.4458825,
          null,
          -100.4458825,
          -77.36195598496681,
          24.086794125366065,
          29.4917691,
          null,
          9.367097748325554,
          -100.4458825,
          -100.4458825,
          139.2394179,
          -100.4458825,
          -77.36195598496681,
          2.9999825,
          -77.36195598496681,
          44.1749775,
          2.9999825,
          7.9999721,
          29.4917691,
          29.2675469,
          -100.0000375,
          null,
          -100.4458825,
          -100.4458825,
          -77.36195598496681,
          117.8902853,
          7.9999721,
          null,
          2.9999825,
          31.2718321,
          7.9999721,
          -53.2,
          2.9999825,
          103.8194992,
          5.7480821,
          104.999927,
          -73.783892,
          -172.1200508,
          14.754807384371396,
          134.755,
          -100.4458825,
          16.715760431090658,
          null,
          -100.4458825,
          21.7168387,
          -100.4458825,
          -100.4458825,
          29.2675469,
          -100.4458825,
          null,
          29.4917691,
          14.754807384371396,
          10.4234469,
          -100.4458825,
          108.4265113,
          37.48603689110992,
          null,
          35.7878438,
          null,
          117.8902853,
          7.9999721,
          44.1749775,
          -100.4458825,
          90.2932426,
          -100.4458825,
          -7.9794599,
          37.48603689110992,
          -100.4458825,
          null,
          29.2675469,
          -107.991707,
          -100.0000375,
          103.8194992,
          null,
          -172.1200508,
          71.247499,
          -100.4458825,
          31.2718321,
          44.0287382,
          12.674297,
          32.72391099113675,
          -100.0000375,
          134.755,
          null,
          -100.4458825,
          -3.2765753,
          -100.4458825,
          90.2932426,
          -100.4458825,
          -107.991707,
          -100.4458825,
          84.0917139,
          null,
          5.7480821,
          33.9301963,
          117.8902853,
          null,
          -3.2765753,
          -107.991707,
          7.9999721,
          71.247499,
          -81.1308434,
          7.9999721,
          null,
          -79.3666965,
          -100.4458825,
          5.7480821,
          47.8915271,
          139.2394179,
          103.8194992,
          54.5643516,
          24.086794125366065,
          71.247499,
          54.5643516,
          54.5643516,
          29.2675469,
          null,
          71.247499,
          44.1749775,
          8.444947437939408,
          -100.4458825,
          null,
          7.9999721,
          -100.4458825,
          -107.991707,
          103.8194992,
          null,
          -100.4458825,
          -100.4458825,
          34.9249653,
          29.4917691,
          80.7137847,
          54.5643516,
          -73.783892,
          114.1849161,
          null,
          10.4234469,
          null,
          -100.4458825,
          null,
          null,
          -1.0840975468820433,
          -3.2765753,
          37.48603689110992,
          null,
          null,
          7.9999721,
          -79.3666965,
          54.5643516,
          7.9999721,
          null,
          null,
          -73.783892,
          5.7480821,
          19.134422,
          34.9249653,
          54.5643516,
          21.7168387,
          90.2932426,
          29.2675469,
          null,
          null,
          null,
          null,
          114.1849161,
          -100.4458825,
          117.8902853,
          90.2932426,
          103.8194992,
          null,
          5.7480821,
          null,
          -100.4458825,
          37.48603689110992,
          null,
          29.2675469,
          139.2394179,
          -100.4458825,
          -77.36195598496681,
          null,
          -100.4458825,
          122.7312101,
          36.941628,
          117.8902853,
          54.5643516,
          -73.783892,
          29.2675469,
          null,
          null,
          44.0287382,
          122.7312101,
          7.9999721,
          -77.36195598496681,
          19.0156172,
          -86.0755145,
          null,
          null,
          2.9999825,
          90.2932426,
          -4.8379791,
          null,
          -100.4458825,
          null,
          7.9999721,
          null,
          80.7137847,
          null,
          29.2675469,
          5.7480821,
          null,
          -76.9382069,
          null,
          null,
          5.7480821,
          -9.2399263,
          -100.4458825,
          -3.2765753,
          139.2394179,
          -100.4458825,
          27.5589884,
          7.9999721,
          7.9999721,
          29.4917691,
          90.2932426,
          -100.4458825,
          -76.9382069,
          2.9999825,
          27.5589884,
          117.8902853,
          null,
          7.9999721,
          39.0494106,
          null,
          5.7480821,
          -3.2765753,
          120.9820179,
          139.2394179,
          71.247499,
          71.247499,
          29.4917691,
          31.2718321,
          90.2932426,
          -100.0000375,
          44.1749775,
          31.2718321,
          15.4749544,
          31.2718321,
          -100.4458825,
          -100.4458825,
          90.2932426,
          25.9209164,
          -100.4458825,
          -64.9912286,
          134.496454875,
          -100.4458825,
          -100.0000375,
          -100.4458825,
          -100.4458825,
          29.2675469,
          null,
          -100.4458825,
          null,
          37.48603689110992,
          127.6961188,
          44.6736646,
          134.755,
          29.2675469,
          114.1849161,
          -66.1109318,
          null,
          -3.2765753,
          139.7028426,
          108.4265113,
          -100.4458825,
          29.2675469,
          -100.4458825,
          90.2932426,
          29.2675469,
          35.843409,
          37.48603689110992,
          90.2932426,
          -100.4458825,
          9.0399498,
          -100.4458825,
          29.2675469,
          31.2718321,
          90.2932426,
          -100.4458825,
          32.72391099113675,
          -107.991707,
          null,
          -100.4458825,
          -64.9672817,
          -100.4458825,
          -100.4458825,
          34.9249653,
          27.5589884,
          10.4234469,
          null,
          71.247499,
          5.7480821,
          -3.2765753,
          null,
          117.8902853,
          -3.2765753,
          null,
          -83.1137366,
          24.086794125366065,
          null,
          -100.4458825,
          -100.4458825,
          23.7499997,
          71.247499,
          44.0287382,
          null,
          71.247499,
          -100.4458825,
          103.8194992,
          -100.4458825,
          31.2718321,
          29.2675469,
          -83.1137366,
          null,
          null,
          -88.9140683,
          1.8883335,
          -100.4458825,
          null,
          -107.991707,
          9.0999715,
          -107.991707,
          null,
          29.2675469,
          29.2675469,
          31.2718321,
          44.1749775,
          null,
          5.7480821,
          24.086794125366065,
          90.2932426,
          -100.4458825,
          -100.4458825,
          null,
          null,
          54.5643516,
          null,
          null,
          114.1849161,
          114.1849161,
          null,
          null,
          90.2932426,
          -1.0840975468820433,
          -100.4458825,
          -100.4458825,
          122.7312101,
          -100.4458825,
          -1.0840975468820433,
          -100.4458825,
          -100.4458825,
          -3.2765753,
          122.7312101,
          -107.991707,
          7.9999721,
          -107.991707,
          10.4234469,
          -100.4458825,
          54.5643516,
          7.9999721,
          7.9999721,
          29.2675469,
          66.2385139,
          117.8902853,
          null,
          29.2675469,
          21.7168387,
          null,
          14.5208584,
          -3.2765753,
          -100.4458825,
          -3.2765753,
          103.8194992,
          32.72391099113675,
          29.4917691,
          32.72391099113675,
          54.5643516,
          -77.36195598496681,
          71.247499,
          null,
          84.0917139,
          44.0287382,
          null,
          34.9249653,
          44.1749775,
          108.4265113,
          29.2675469,
          39.0494106,
          54.5643516,
          29.2675469,
          29.2675469,
          29.2675469,
          -61.6904045,
          -100.4458825,
          139.2394179,
          -100.4458825,
          37.48603689110992,
          90.2932426,
          null,
          -8.567392135367742,
          -100.4458825,
          31.2718321,
          null,
          54.5643516,
          2.9999825,
          29.2675469,
          39.0494106,
          31.2718321,
          -61.6904045,
          null,
          -172.1200508,
          null,
          null,
          null,
          null,
          -100.4458825,
          7.9999721,
          44.0287382,
          39.0494106,
          47.8915271,
          71.247499,
          29.2675469,
          29.4917691,
          27.5589884,
          31.2718321,
          32.72391099113675,
          34.9144977,
          -107.991707,
          108.4265113,
          -100.0000375,
          44.1749775,
          71.247499,
          8.921996955790174,
          null,
          90.2932426,
          -100.4458825,
          71.247499,
          null,
          37.48603689110992,
          37.48603689110992,
          54.5643516,
          12.4730842,
          7.9999721,
          -100.4458825,
          134.755,
          122.7312101,
          32.72391099113675,
          null,
          -100.4458825,
          -100.4458825,
          -100.4458825,
          -100.4458825,
          127.6961188,
          33.9301963,
          -1.0840975468820433,
          -3.2765753,
          -100.4458825,
          122.7312101,
          -107.991707,
          122.7312101,
          9.0999715,
          31.2718321,
          54.5643516,
          90.2932426,
          -100.4458825,
          null,
          -77.36195598496681,
          null,
          7.9999721,
          17.30331995251014,
          44.1749775,
          71.247499,
          54.5643516,
          31.2718321,
          -100.4458825,
          5.7480821,
          -100.4458825,
          null,
          -100.4458825,
          17.30331995251014,
          71.247499,
          84.0917139,
          -64.9912286,
          71.247499,
          -100.4458825,
          8.921996955790174,
          47.8915271,
          90.2932426,
          null,
          -100.4458825,
          19.63679421037233,
          90.2932426,
          29.2675469,
          null,
          31.2718321,
          -100.4458825,
          90.2932426,
          35.843409,
          null,
          71.247499,
          null,
          null,
          -3.2765753,
          -100.4458825,
          -100.4458825,
          -100.4458825,
          -3.2765753,
          -100.4458825,
          null,
          -100.4458825,
          90.2932426,
          29.2675469,
          14.4212535,
          -53.2,
          -100.4458825,
          47.4979476,
          null,
          24.086794125366065,
          120.9820179,
          24.086794125366065,
          -100.4458825,
          -100.4458825,
          null,
          -53.2,
          null,
          32.72391099113675,
          -100.4458825,
          122.7312101,
          29.2675469,
          66.2385139,
          -14.765340959100412,
          -100.4458825,
          null,
          10.3333283,
          -100.4458825,
          7.9999721,
          null,
          -100.4458825,
          -73.783892,
          27.5589884,
          null,
          null,
          -100.4458825,
          5.7480821,
          19.63679421037233,
          35.7878438,
          27.5589884,
          -100.4458825,
          7.9999721,
          -100.4458825,
          8.444947437939408,
          29.2675469,
          31.2718321,
          37.48603689110992,
          -100.4458825,
          -100.4458825,
          null,
          -3.2765753,
          -100.4458825,
          90.2932426,
          -107.991707,
          -100.4458825,
          -100.4458825,
          31.2718321,
          8.444947437939408,
          -100.4458825,
          27.5589884,
          null,
          90.2932426,
          29.2675469,
          10.3333283,
          -6.9591554,
          114.1849161,
          44.1749775,
          71.247499,
          -100.4458825,
          null,
          -100.4458825,
          null,
          null,
          -100.4458825,
          31.2718321,
          null,
          134.755,
          -75.0458515,
          null,
          122.7312101,
          10.4234469,
          122.7312101,
          12.4730842,
          90.2932426,
          null,
          -76.9382069,
          -3.2765753,
          31.2718321,
          57.5703566,
          19.134422,
          -100.4458825,
          -1.0840975468820433,
          54.5643516,
          -83.1137366,
          null,
          90.2932426,
          null,
          32.72391099113675,
          31.2718321,
          -2.2900239,
          134.755,
          null,
          7.9999721,
          31.2718321,
          -3.2765753,
          24.086794125366065,
          29.2675469,
          null,
          139.2394179,
          null,
          29.2675469,
          71.247499,
          null,
          71.247499,
          29.2675469,
          29.4917691,
          10.4234469,
          -79.3666965,
          122.7312101,
          -100.4458825,
          32.72391099113675,
          null,
          -100.4458825,
          -100.4458825,
          120.9820179,
          -100.4458825,
          null,
          29.4917691,
          35.843409,
          108.4265113,
          5.7480821,
          null,
          -100.4458825,
          -100.4458825,
          null,
          24.086794125366065,
          null,
          null,
          5.7480821,
          32.72391099113675,
          71.247499,
          null,
          -1.0840975468820433,
          null,
          122.7312101,
          -100.4458825,
          -88.9140683,
          null,
          null,
          71.247499,
          90.2932426,
          90.2932426,
          9.367097748325554,
          71.247499,
          84.0917139,
          29.4917691,
          29.2675469,
          12.4730842,
          null,
          -100.0000375,
          7.9999721,
          -100.4458825,
          null,
          24.086794125366065,
          44.6736646,
          7.9999721,
          null,
          29.35365015971339,
          8.444947437939408,
          null,
          -107.991707,
          -100.4458825,
          2.9999825,
          12.4730842,
          null,
          63.9528098,
          14.5208584,
          null,
          31.2718321,
          -1.0840975468820433,
          -76.9382069,
          36.941628,
          null,
          139.2394179,
          -53.2,
          2.9999825,
          null,
          -100.4458825,
          24.086794125366065,
          -107.991707,
          90.2932426,
          120.9820179,
          84.0917139,
          71.247499,
          29.2675469,
          71.247499,
          31.2718321,
          5.7480821,
          71.247499,
          29.4917691,
          -81.1308434,
          -99.5873816,
          54.5643516,
          7.9999721,
          -83.1137366,
          29.4917691,
          90.2932426,
          -100.4458825,
          1.8883335,
          -3.2765753,
          7.9999721,
          7.9999721,
          -83.1137366,
          null,
          -77.36195598496681,
          null,
          90.2932426,
          null,
          2.9999825,
          -100.4458825,
          null,
          null,
          5.7480821,
          31.2718321,
          null,
          null,
          7.9999721,
          -100.4458825,
          -100.4458825,
          122.7312101,
          29.4917691,
          11.0377839,
          null,
          -100.4458825,
          29.35365015971339,
          39.0494106,
          84.0917139,
          44.1749775,
          71.247499,
          -1.0840975468820433,
          27.5589884,
          -100.4458825,
          -72.3570972,
          9.367097748325554,
          -100.4458825,
          37.48603689110992,
          8.921996955790174,
          90.2932426,
          63.9528098,
          122.7312101,
          -100.4458825,
          31.2718321,
          54.5643516,
          null,
          127.6961188,
          24.7537645,
          27.6971358,
          90.2932426,
          -100.4458825,
          139.2394179,
          null,
          29.4917691,
          -100.4458825,
          -3.2765753,
          null,
          null,
          90.2932426,
          -100.4458825,
          -100.4458825,
          114.1849161,
          122.7312101,
          -107.991707,
          122.7312101,
          4.6667145,
          24.086794125366065,
          29.2675469,
          34.9249653,
          29.2675469,
          10.4234469,
          -100.4458825,
          -100.4458825,
          -100.4458825,
          114.1849161,
          1.0199765,
          -3.2765753,
          -100.4458825,
          -107.991707,
          -107.991707,
          -100.4458825,
          null,
          90.2932426,
          null,
          null,
          -107.991707,
          -100.0000375,
          -100.4458825,
          -100.4458825,
          null,
          -77.36195598496681,
          null,
          -81.1308434,
          117.8902853,
          54.5643516,
          54.5643516,
          -83.1137366,
          null,
          35.7878438,
          1.8883335,
          null,
          -100.4458825,
          122.7312101,
          -4.8379791,
          -100.4458825,
          7.9999721,
          -1.0840975468820433,
          -3.2765753,
          32.72391099113675,
          7.9999721,
          7.9999721,
          7.9999721,
          32.72391099113675,
          -107.991707,
          31.2718321,
          -76.9382069,
          -107.991707,
          -107.991707,
          null,
          null,
          122.7312101,
          90.2932426,
          71.247499,
          29.2675469,
          47.7872508,
          -107.991707,
          11.0377839,
          null,
          54.5643516,
          -172.1200508,
          -83.1137366,
          103.8194992,
          24.086794125366065,
          7.9999721,
          null,
          179.0122737,
          29.2675469,
          32.72391099113675,
          31.2718321,
          12.4730842,
          null,
          54.5643516,
          -100.4458825,
          24.086794125366065,
          -73.783892,
          24.086794125366065,
          -100.0000375,
          null,
          117.8902853,
          134.755,
          -73.783892,
          27.5589884,
          -77.36195598496681,
          null,
          -107.991707,
          -100.4458825,
          null,
          90.2932426,
          71.247499,
          null,
          -3.2765753,
          -100.4458825,
          -100.4458825,
          -107.991707,
          -100.4458825,
          -100.4458825,
          null,
          null,
          90.2932426,
          71.247499,
          14.5208584,
          -107.991707,
          -107.991707,
          -107.991707,
          7.9999721,
          54.5643516,
          null,
          null,
          117.8902853,
          7.9999721,
          null,
          12.4730842,
          12.4730842,
          139.2394179,
          -2.2900239,
          -100.4458825,
          13.1535811
         ],
         "marker": {
          "color": "#636efa"
         },
         "mode": "markers",
         "name": "",
         "showlegend": false,
         "subplot": "mapbox",
         "type": "scattermapbox"
        }
       ],
       "layout": {
        "height": 800,
        "legend": {
         "tracegroupgap": 0
        },
        "mapbox": {
         "accesstoken": "pk.eyJ1Ijoic2hha2Fzb20iLCJhIjoiY2plMWg1NGFpMXZ5NjJxbjhlM2ttN3AwbiJ9.RtGYHmreKiyBfHuElgYq_w",
         "center": {
          "lat": 27.229831526115806,
          "lon": -0.37424973194971173
         },
         "domain": {
          "x": [
           0,
           0.98
          ],
          "y": [
           0,
           1
          ]
         },
         "zoom": 3
        },
        "margin": {
         "t": 60
        },
        "template": {
         "data": {
          "bar": [
           {
            "error_x": {
             "color": "#2a3f5f"
            },
            "error_y": {
             "color": "#2a3f5f"
            },
            "marker": {
             "line": {
              "color": "#E5ECF6",
              "width": 0.5
             }
            },
            "type": "bar"
           }
          ],
          "barpolar": [
           {
            "marker": {
             "line": {
              "color": "#E5ECF6",
              "width": 0.5
             }
            },
            "type": "barpolar"
           }
          ],
          "carpet": [
           {
            "aaxis": {
             "endlinecolor": "#2a3f5f",
             "gridcolor": "white",
             "linecolor": "white",
             "minorgridcolor": "white",
             "startlinecolor": "#2a3f5f"
            },
            "baxis": {
             "endlinecolor": "#2a3f5f",
             "gridcolor": "white",
             "linecolor": "white",
             "minorgridcolor": "white",
             "startlinecolor": "#2a3f5f"
            },
            "type": "carpet"
           }
          ],
          "choropleth": [
           {
            "colorbar": {
             "outlinewidth": 0,
             "ticks": ""
            },
            "type": "choropleth"
           }
          ],
          "contour": [
           {
            "colorbar": {
             "outlinewidth": 0,
             "ticks": ""
            },
            "colorscale": [
             [
              0,
              "#0d0887"
             ],
             [
              0.1111111111111111,
              "#46039f"
             ],
             [
              0.2222222222222222,
              "#7201a8"
             ],
             [
              0.3333333333333333,
              "#9c179e"
             ],
             [
              0.4444444444444444,
              "#bd3786"
             ],
             [
              0.5555555555555556,
              "#d8576b"
             ],
             [
              0.6666666666666666,
              "#ed7953"
             ],
             [
              0.7777777777777778,
              "#fb9f3a"
             ],
             [
              0.8888888888888888,
              "#fdca26"
             ],
             [
              1,
              "#f0f921"
             ]
            ],
            "type": "contour"
           }
          ],
          "contourcarpet": [
           {
            "colorbar": {
             "outlinewidth": 0,
             "ticks": ""
            },
            "type": "contourcarpet"
           }
          ],
          "heatmap": [
           {
            "colorbar": {
             "outlinewidth": 0,
             "ticks": ""
            },
            "colorscale": [
             [
              0,
              "#0d0887"
             ],
             [
              0.1111111111111111,
              "#46039f"
             ],
             [
              0.2222222222222222,
              "#7201a8"
             ],
             [
              0.3333333333333333,
              "#9c179e"
             ],
             [
              0.4444444444444444,
              "#bd3786"
             ],
             [
              0.5555555555555556,
              "#d8576b"
             ],
             [
              0.6666666666666666,
              "#ed7953"
             ],
             [
              0.7777777777777778,
              "#fb9f3a"
             ],
             [
              0.8888888888888888,
              "#fdca26"
             ],
             [
              1,
              "#f0f921"
             ]
            ],
            "type": "heatmap"
           }
          ],
          "heatmapgl": [
           {
            "colorbar": {
             "outlinewidth": 0,
             "ticks": ""
            },
            "colorscale": [
             [
              0,
              "#0d0887"
             ],
             [
              0.1111111111111111,
              "#46039f"
             ],
             [
              0.2222222222222222,
              "#7201a8"
             ],
             [
              0.3333333333333333,
              "#9c179e"
             ],
             [
              0.4444444444444444,
              "#bd3786"
             ],
             [
              0.5555555555555556,
              "#d8576b"
             ],
             [
              0.6666666666666666,
              "#ed7953"
             ],
             [
              0.7777777777777778,
              "#fb9f3a"
             ],
             [
              0.8888888888888888,
              "#fdca26"
             ],
             [
              1,
              "#f0f921"
             ]
            ],
            "type": "heatmapgl"
           }
          ],
          "histogram": [
           {
            "marker": {
             "colorbar": {
              "outlinewidth": 0,
              "ticks": ""
             }
            },
            "type": "histogram"
           }
          ],
          "histogram2d": [
           {
            "colorbar": {
             "outlinewidth": 0,
             "ticks": ""
            },
            "colorscale": [
             [
              0,
              "#0d0887"
             ],
             [
              0.1111111111111111,
              "#46039f"
             ],
             [
              0.2222222222222222,
              "#7201a8"
             ],
             [
              0.3333333333333333,
              "#9c179e"
             ],
             [
              0.4444444444444444,
              "#bd3786"
             ],
             [
              0.5555555555555556,
              "#d8576b"
             ],
             [
              0.6666666666666666,
              "#ed7953"
             ],
             [
              0.7777777777777778,
              "#fb9f3a"
             ],
             [
              0.8888888888888888,
              "#fdca26"
             ],
             [
              1,
              "#f0f921"
             ]
            ],
            "type": "histogram2d"
           }
          ],
          "histogram2dcontour": [
           {
            "colorbar": {
             "outlinewidth": 0,
             "ticks": ""
            },
            "colorscale": [
             [
              0,
              "#0d0887"
             ],
             [
              0.1111111111111111,
              "#46039f"
             ],
             [
              0.2222222222222222,
              "#7201a8"
             ],
             [
              0.3333333333333333,
              "#9c179e"
             ],
             [
              0.4444444444444444,
              "#bd3786"
             ],
             [
              0.5555555555555556,
              "#d8576b"
             ],
             [
              0.6666666666666666,
              "#ed7953"
             ],
             [
              0.7777777777777778,
              "#fb9f3a"
             ],
             [
              0.8888888888888888,
              "#fdca26"
             ],
             [
              1,
              "#f0f921"
             ]
            ],
            "type": "histogram2dcontour"
           }
          ],
          "mesh3d": [
           {
            "colorbar": {
             "outlinewidth": 0,
             "ticks": ""
            },
            "type": "mesh3d"
           }
          ],
          "parcoords": [
           {
            "line": {
             "colorbar": {
              "outlinewidth": 0,
              "ticks": ""
             }
            },
            "type": "parcoords"
           }
          ],
          "scatter": [
           {
            "marker": {
             "colorbar": {
              "outlinewidth": 0,
              "ticks": ""
             }
            },
            "type": "scatter"
           }
          ],
          "scatter3d": [
           {
            "line": {
             "colorbar": {
              "outlinewidth": 0,
              "ticks": ""
             }
            },
            "marker": {
             "colorbar": {
              "outlinewidth": 0,
              "ticks": ""
             }
            },
            "type": "scatter3d"
           }
          ],
          "scattercarpet": [
           {
            "marker": {
             "colorbar": {
              "outlinewidth": 0,
              "ticks": ""
             }
            },
            "type": "scattercarpet"
           }
          ],
          "scattergeo": [
           {
            "marker": {
             "colorbar": {
              "outlinewidth": 0,
              "ticks": ""
             }
            },
            "type": "scattergeo"
           }
          ],
          "scattergl": [
           {
            "marker": {
             "colorbar": {
              "outlinewidth": 0,
              "ticks": ""
             }
            },
            "type": "scattergl"
           }
          ],
          "scattermapbox": [
           {
            "marker": {
             "colorbar": {
              "outlinewidth": 0,
              "ticks": ""
             }
            },
            "type": "scattermapbox"
           }
          ],
          "scatterpolar": [
           {
            "marker": {
             "colorbar": {
              "outlinewidth": 0,
              "ticks": ""
             }
            },
            "type": "scatterpolar"
           }
          ],
          "scatterpolargl": [
           {
            "marker": {
             "colorbar": {
              "outlinewidth": 0,
              "ticks": ""
             }
            },
            "type": "scatterpolargl"
           }
          ],
          "scatterternary": [
           {
            "marker": {
             "colorbar": {
              "outlinewidth": 0,
              "ticks": ""
             }
            },
            "type": "scatterternary"
           }
          ],
          "surface": [
           {
            "colorbar": {
             "outlinewidth": 0,
             "ticks": ""
            },
            "colorscale": [
             [
              0,
              "#0d0887"
             ],
             [
              0.1111111111111111,
              "#46039f"
             ],
             [
              0.2222222222222222,
              "#7201a8"
             ],
             [
              0.3333333333333333,
              "#9c179e"
             ],
             [
              0.4444444444444444,
              "#bd3786"
             ],
             [
              0.5555555555555556,
              "#d8576b"
             ],
             [
              0.6666666666666666,
              "#ed7953"
             ],
             [
              0.7777777777777778,
              "#fb9f3a"
             ],
             [
              0.8888888888888888,
              "#fdca26"
             ],
             [
              1,
              "#f0f921"
             ]
            ],
            "type": "surface"
           }
          ],
          "table": [
           {
            "cells": {
             "fill": {
              "color": "#EBF0F8"
             },
             "line": {
              "color": "white"
             }
            },
            "header": {
             "fill": {
              "color": "#C8D4E3"
             },
             "line": {
              "color": "white"
             }
            },
            "type": "table"
           }
          ]
         },
         "layout": {
          "annotationdefaults": {
           "arrowcolor": "#2a3f5f",
           "arrowhead": 0,
           "arrowwidth": 1
          },
          "colorscale": {
           "diverging": [
            [
             0,
             "#8e0152"
            ],
            [
             0.1,
             "#c51b7d"
            ],
            [
             0.2,
             "#de77ae"
            ],
            [
             0.3,
             "#f1b6da"
            ],
            [
             0.4,
             "#fde0ef"
            ],
            [
             0.5,
             "#f7f7f7"
            ],
            [
             0.6,
             "#e6f5d0"
            ],
            [
             0.7,
             "#b8e186"
            ],
            [
             0.8,
             "#7fbc41"
            ],
            [
             0.9,
             "#4d9221"
            ],
            [
             1,
             "#276419"
            ]
           ],
           "sequential": [
            [
             0,
             "#0d0887"
            ],
            [
             0.1111111111111111,
             "#46039f"
            ],
            [
             0.2222222222222222,
             "#7201a8"
            ],
            [
             0.3333333333333333,
             "#9c179e"
            ],
            [
             0.4444444444444444,
             "#bd3786"
            ],
            [
             0.5555555555555556,
             "#d8576b"
            ],
            [
             0.6666666666666666,
             "#ed7953"
            ],
            [
             0.7777777777777778,
             "#fb9f3a"
            ],
            [
             0.8888888888888888,
             "#fdca26"
            ],
            [
             1,
             "#f0f921"
            ]
           ],
           "sequentialminus": [
            [
             0,
             "#0d0887"
            ],
            [
             0.1111111111111111,
             "#46039f"
            ],
            [
             0.2222222222222222,
             "#7201a8"
            ],
            [
             0.3333333333333333,
             "#9c179e"
            ],
            [
             0.4444444444444444,
             "#bd3786"
            ],
            [
             0.5555555555555556,
             "#d8576b"
            ],
            [
             0.6666666666666666,
             "#ed7953"
            ],
            [
             0.7777777777777778,
             "#fb9f3a"
            ],
            [
             0.8888888888888888,
             "#fdca26"
            ],
            [
             1,
             "#f0f921"
            ]
           ]
          },
          "colorway": [
           "#636efa",
           "#EF553B",
           "#00cc96",
           "#ab63fa",
           "#FFA15A",
           "#19d3f3",
           "#FF6692",
           "#B6E880",
           "#FF97FF",
           "#FECB52"
          ],
          "font": {
           "color": "#2a3f5f"
          },
          "geo": {
           "bgcolor": "white",
           "lakecolor": "white",
           "landcolor": "#E5ECF6",
           "showlakes": true,
           "showland": true,
           "subunitcolor": "white"
          },
          "hoverlabel": {
           "align": "left"
          },
          "hovermode": "closest",
          "mapbox": {
           "style": "light"
          },
          "paper_bgcolor": "white",
          "plot_bgcolor": "#E5ECF6",
          "polar": {
           "angularaxis": {
            "gridcolor": "white",
            "linecolor": "white",
            "ticks": ""
           },
           "bgcolor": "#E5ECF6",
           "radialaxis": {
            "gridcolor": "white",
            "linecolor": "white",
            "ticks": ""
           }
          },
          "scene": {
           "xaxis": {
            "backgroundcolor": "#E5ECF6",
            "gridcolor": "white",
            "gridwidth": 2,
            "linecolor": "white",
            "showbackground": true,
            "ticks": "",
            "zerolinecolor": "white"
           },
           "yaxis": {
            "backgroundcolor": "#E5ECF6",
            "gridcolor": "white",
            "gridwidth": 2,
            "linecolor": "white",
            "showbackground": true,
            "ticks": "",
            "zerolinecolor": "white"
           },
           "zaxis": {
            "backgroundcolor": "#E5ECF6",
            "gridcolor": "white",
            "gridwidth": 2,
            "linecolor": "white",
            "showbackground": true,
            "ticks": "",
            "zerolinecolor": "white"
           }
          },
          "shapedefaults": {
           "line": {
            "color": "#2a3f5f"
           }
          },
          "ternary": {
           "aaxis": {
            "gridcolor": "white",
            "linecolor": "white",
            "ticks": ""
           },
           "baxis": {
            "gridcolor": "white",
            "linecolor": "white",
            "ticks": ""
           },
           "bgcolor": "#E5ECF6",
           "caxis": {
            "gridcolor": "white",
            "linecolor": "white",
            "ticks": ""
           }
          },
          "title": {
           "x": 0.05
          },
          "xaxis": {
           "automargin": true,
           "gridcolor": "white",
           "linecolor": "white",
           "ticks": "",
           "zerolinecolor": "white",
           "zerolinewidth": 2
          },
          "yaxis": {
           "automargin": true,
           "gridcolor": "white",
           "linecolor": "white",
           "ticks": "",
           "zerolinecolor": "white",
           "zerolinewidth": 2
          }
         }
        },
        "width": 1200
       }
      },
      "text/html": [
       "<div>\n",
       "        \n",
       "        \n",
       "            <div id=\"1a7955e5-533a-4a10-b00d-6d9f31a44399\" class=\"plotly-graph-div\" style=\"height:800px; width:1200px;\"></div>\n",
       "            <script type=\"text/javascript\">\n",
       "                require([\"plotly\"], function(Plotly) {\n",
       "                    window.PLOTLYENV=window.PLOTLYENV || {};\n",
       "                    \n",
       "                if (document.getElementById(\"1a7955e5-533a-4a10-b00d-6d9f31a44399\")) {\n",
       "                    Plotly.newPlot(\n",
       "                        '1a7955e5-533a-4a10-b00d-6d9f31a44399',\n",
       "                        [{\"hoverlabel\": {\"namelength\": 0}, \"hovertemplate\": \"latitude=%{lat}<br>longitude=%{lon}\", \"lat\": [39.7837304, 39.7837304, 39.7837304, -28.5793972, 39.7837304, 12.7503486, 14.5844444, 9.2231105, null, -2.4833826, 8.7800265, 9.2231105, 39.7837304, 33.994952999999995, 39.7837304, 36.638392, 39.7837304, 39.7837304, -10.3333333, 1.357107, 26.2540493, 26.4215275, null, 39.7837304, 39.7837304, -0.8999695, 39.7837304, -24.7761086, 9.2231105, 39.7837304, -2.4833826, 39.7837304, 20.2540382, -10.3333333, 12.7503486, null, 26.2540493, 7.857371, 36.5748441, -2.4833826, 30.3308401, -10.3333333, 33.994952999999995, 39.7837304, null, 39.7837304, -10.3333333, 28.0000272, -10.3333333, 39.7837304, -10.3333333, null, -2.4833826, 14.5844444, null, 33.0955793, -10.3333333, 39.7837304, 25.029422, -2.4833826, -28.5793972, null, null, 25.029422, 39.7837304, -2.4833826, 28.0000272, 39.7837304, 26.2540493, -10.3333333, 39.7837304, 39.7837304, 8.7800265, 51.0834196, -28.5793972, 39.7837304, -10.3333333, null, 34.6401861, 39.7837304, 14.46517725, 36.5748441, 14.5844444, 39.7837304, 4.6125522, 39.7837304, 33.0955793, null, 39.7837304, 39.7837304, null, 39.7837304, 25.029422, -28.5793972, 14.5844444, null, 33.994952999999995, 39.7837304, 39.7837304, 36.5748441, 39.7837304, 25.029422, 28.0000272, 25.029422, 33.0955793, 28.0000272, 9.6000359, 14.5844444, 26.2540493, 22.5000485, null, 39.7837304, 39.7837304, 25.029422, -2.4833826, 9.6000359, null, 28.0000272, 49.4871968, 9.6000359, -10.3333333, 28.0000272, 1.357107, 52.5001698, 35.000074, 2.8894434, -13.7693895, 47.69641095, -24.7761086, 39.7837304, 48.38003005, null, 39.7837304, 41.6171214, 39.7837304, 39.7837304, 26.2540493, 39.7837304, null, 14.5844444, 47.69641095, 51.0834196, 39.7837304, 13.2904027, -0.1667169, null, -6.5247123, null, -2.4833826, 9.6000359, 33.0955793, 39.7837304, 24.4768783, 39.7837304, 52.865196, -0.1667169, 39.7837304, null, 26.2540493, 61.0666922, 22.5000485, 1.357107, null, -13.7693895, 30.3308401, 39.7837304, 49.4871968, 41.6809707, 42.6384261, 1.3769751, 22.5000485, -24.7761086, null, 39.7837304, 54.7023545, 39.7837304, 24.4768783, 39.7837304, 61.0666922, 39.7837304, 28.1083929, null, 52.5001698, -13.2687204, -2.4833826, null, 54.7023545, 61.0666922, 9.6000359, 30.3308401, 8.559559, 9.6000359, null, -1.3397668, 39.7837304, 52.5001698, 16.3471243, 36.5748441, 1.357107, 32.6475314, -28.5793972, 30.3308401, 32.6475314, 32.6475314, 26.2540493, null, 30.3308401, 33.0955793, 46.813331250000005, 39.7837304, null, 9.6000359, 39.7837304, 61.0666922, 1.357107, null, 39.7837304, 39.7837304, 38.9597594, 14.5844444, 7.5554942, 32.6475314, 2.8894434, 22.350627, null, 51.0834196, null, 39.7837304, null, null, 7.857371, 54.7023545, -0.1667169, null, null, 9.6000359, -1.3397668, 32.6475314, 9.6000359, null, null, 2.8894434, 52.5001698, 52.215933, 38.9597594, 32.6475314, 41.6171214, 24.4768783, 26.2540493, null, null, null, null, 22.350627, 39.7837304, -2.4833826, 24.4768783, 1.357107, null, 52.5001698, null, 39.7837304, -0.1667169, null, 26.2540493, 36.5748441, 39.7837304, 25.029422, null, 39.7837304, 12.7503486, 31.1667049, -2.4833826, 32.6475314, 2.8894434, 26.2540493, null, null, 41.6809707, 12.7503486, 9.6000359, 25.029422, 15.6134137, 15.2572432, null, null, 28.0000272, 24.4768783, 39.3260685, null, 39.7837304, null, 9.6000359, null, 7.5554942, null, 26.2540493, 52.5001698, null, 39.5162234, null, null, 52.5001698, 20.2540382, 39.7837304, 54.7023545, 36.5748441, 39.7837304, -14.5189121, 9.6000359, 9.6000359, 14.5844444, 24.4768783, 39.7837304, 39.5162234, 28.0000272, -14.5189121, -2.4833826, null, 9.6000359, 34.6401861, null, 52.5001698, 54.7023545, 23.9739374, 36.5748441, 30.3308401, 30.3308401, 14.5844444, 49.4871968, 24.4768783, 22.5000485, 33.0955793, 49.4871968, 49.8167003, 49.4871968, 39.7837304, 39.7837304, 24.4768783, 63.2467777, 39.7837304, -17.0568696, 7.3245, 39.7837304, 22.5000485, 39.7837304, 39.7837304, 26.2540493, null, 39.7837304, null, -0.1667169, 36.638392, 40.7696272, -24.7761086, 26.2540493, 22.350627, 8.0018709, null, 54.7023545, 35.6584501, 13.2904027, 39.7837304, 26.2540493, 39.7837304, 24.4768783, 26.2540493, 33.8750629, -0.1667169, 24.4768783, 39.7837304, 48.5908946, 39.7837304, 26.2540493, 49.4871968, 24.4768783, 39.7837304, 1.3769751, 61.0666922, null, 39.7837304, -34.9964963, 39.7837304, 39.7837304, 38.9597594, -14.5189121, 51.0834196, null, 30.3308401, 52.5001698, 54.7023545, null, -2.4833826, 54.7023545, null, 32.3293809, -28.5793972, null, 39.7837304, 39.7837304, 55.3500003, 30.3308401, 41.6809707, null, 30.3308401, 39.7837304, 1.357107, 39.7837304, 49.4871968, 26.2540493, 32.3293809, null, null, 13.8000382, 46.603354, 39.7837304, null, 61.0666922, 60.5000209, 61.0666922, null, 26.2540493, 26.2540493, 49.4871968, 33.0955793, null, 52.5001698, -28.5793972, 24.4768783, 39.7837304, 39.7837304, null, null, 32.6475314, null, null, 22.350627, 22.350627, null, null, 24.4768783, 7.857371, 39.7837304, 39.7837304, 12.7503486, 39.7837304, 7.857371, 39.7837304, 39.7837304, 54.7023545, 12.7503486, 61.0666922, 9.6000359, 61.0666922, 51.0834196, 39.7837304, 32.6475314, 9.6000359, 9.6000359, 26.2540493, 33.7680065, -2.4833826, null, 26.2540493, 41.6171214, null, 59.6749712, 54.7023545, 39.7837304, 54.7023545, 1.357107, 1.3769751, 14.5844444, 1.3769751, 32.6475314, 25.029422, 30.3308401, null, 28.1083929, 41.6809707, null, 38.9597594, 33.0955793, 13.2904027, 26.2540493, 34.6401861, 32.6475314, 26.2540493, 26.2540493, 26.2540493, 12.1360374, 39.7837304, 36.5748441, 39.7837304, -0.1667169, 24.4768783, null, 39.4332242, 39.7837304, 49.4871968, null, 32.6475314, 28.0000272, 26.2540493, 34.6401861, 49.4871968, 12.1360374, null, -13.7693895, null, null, null, null, 39.7837304, 9.6000359, 41.6809707, 34.6401861, 16.3471243, 30.3308401, 26.2540493, 14.5844444, -14.5189121, 49.4871968, 1.3769751, -19.302233, 61.0666922, 13.2904027, 22.5000485, 33.0955793, 30.3308401, 40.7778004, null, 24.4768783, 39.7837304, 30.3308401, null, -0.1667169, -0.1667169, 32.6475314, 41.8989553, 9.6000359, 39.7837304, -24.7761086, 12.7503486, 1.3769751, null, 39.7837304, 39.7837304, 39.7837304, 39.7837304, 36.638392, -13.2687204, 7.857371, 54.7023545, 39.7837304, 12.7503486, 61.0666922, 12.7503486, 60.5000209, 49.4871968, 32.6475314, 24.4768783, 39.7837304, null, 25.029422, null, 9.6000359, 26.4215275, 33.0955793, 30.3308401, 32.6475314, 49.4871968, 39.7837304, 52.5001698, 39.7837304, null, 39.7837304, 26.4215275, 30.3308401, 28.1083929, -17.0568696, 30.3308401, 39.7837304, 40.7778004, 16.3471243, 24.4768783, null, 39.7837304, 48.6726975, 24.4768783, 26.2540493, null, 49.4871968, 39.7837304, 24.4768783, 33.8750629, null, 30.3308401, null, null, 54.7023545, 39.7837304, 39.7837304, 39.7837304, 54.7023545, 39.7837304, null, 39.7837304, 24.4768783, 26.2540493, 50.0874654, -10.3333333, 39.7837304, 29.2733964, null, -28.5793972, 23.9739374, -28.5793972, 39.7837304, 39.7837304, null, -10.3333333, null, 1.3769751, 39.7837304, 12.7503486, 26.2540493, 33.7680065, 14.46517725, 39.7837304, null, 55.670249, 39.7837304, 9.6000359, null, 39.7837304, 2.8894434, -14.5189121, null, null, 39.7837304, 52.5001698, 48.6726975, -6.5247123, -14.5189121, 39.7837304, 9.6000359, 39.7837304, 46.813331250000005, 26.2540493, 49.4871968, -0.1667169, 39.7837304, 39.7837304, null, 54.7023545, 39.7837304, 24.4768783, 61.0666922, 39.7837304, 39.7837304, 49.4871968, 46.813331250000005, 39.7837304, -14.5189121, null, 24.4768783, 26.2540493, 55.670249, 54.5859836, 22.350627, 33.0955793, 30.3308401, 39.7837304, null, 39.7837304, null, null, 39.7837304, 49.4871968, null, -24.7761086, -6.8699697, null, 12.7503486, 51.0834196, 12.7503486, 41.8989553, 24.4768783, null, 39.5162234, 54.7023545, 49.4871968, -20.2759451, 52.215933, 39.7837304, 7.857371, 32.6475314, 32.3293809, null, 24.4768783, null, 1.3769751, 49.4871968, 16.3700359, -24.7761086, null, 9.6000359, 49.4871968, 54.7023545, -28.5793972, 26.2540493, null, 36.5748441, null, 26.2540493, 30.3308401, null, 30.3308401, 26.2540493, 14.5844444, 51.0834196, -1.3397668, 12.7503486, 39.7837304, 1.3769751, null, 39.7837304, 39.7837304, 23.9739374, 39.7837304, null, 14.5844444, 33.8750629, 13.2904027, 52.5001698, null, 39.7837304, 39.7837304, null, -28.5793972, null, null, 52.5001698, 1.3769751, 30.3308401, null, 7.857371, null, 12.7503486, 39.7837304, 13.8000382, null, null, 30.3308401, 24.4768783, 24.4768783, 33.994952999999995, 30.3308401, 28.1083929, 14.5844444, 26.2540493, 41.8989553, null, 22.5000485, 9.6000359, 39.7837304, null, -28.5793972, 40.7696272, 9.6000359, null, -19.01688, 46.813331250000005, null, 61.0666922, 39.7837304, 28.0000272, 41.8989553, null, 41.32373, 59.6749712, null, 49.4871968, 7.857371, 39.5162234, 31.1667049, null, 36.5748441, -10.3333333, 28.0000272, null, 39.7837304, -28.5793972, 61.0666922, 24.4768783, 23.9739374, 28.1083929, 30.3308401, 26.2540493, 30.3308401, 49.4871968, 52.5001698, 30.3308401, 14.5844444, 8.559559, 41.7370229, 32.6475314, 9.6000359, 32.3293809, 14.5844444, 24.4768783, 39.7837304, 46.603354, 54.7023545, 9.6000359, 9.6000359, 32.3293809, null, 25.029422, null, 24.4768783, null, 28.0000272, 39.7837304, null, null, 52.5001698, 49.4871968, null, null, 9.6000359, 39.7837304, 39.7837304, 12.7503486, 14.5844444, 50.9014721, null, 39.7837304, -19.01688, 34.6401861, 28.1083929, 33.0955793, 30.3308401, 7.857371, -14.5189121, 39.7837304, 19.1399952, 33.994952999999995, 39.7837304, -0.1667169, 40.7778004, 24.4768783, 41.32373, 12.7503486, 39.7837304, 49.4871968, 32.6475314, null, 36.638392, 56.8406494, 53.4250605, 24.4768783, 39.7837304, 36.5748441, null, 14.5844444, 39.7837304, 54.7023545, null, null, 24.4768783, 39.7837304, 39.7837304, 22.350627, 12.7503486, 61.0666922, 12.7503486, 50.6402809, -28.5793972, 26.2540493, 38.9597594, 26.2540493, 51.0834196, 39.7837304, 39.7837304, 39.7837304, 22.350627, 8.7800265, 54.7023545, 39.7837304, 61.0666922, 61.0666922, 39.7837304, null, 24.4768783, null, null, 61.0666922, 22.5000485, 39.7837304, 39.7837304, null, 25.029422, null, 8.559559, -2.4833826, 32.6475314, 32.6475314, 32.3293809, null, -6.5247123, 46.603354, null, 39.7837304, 12.7503486, 39.3260685, 39.7837304, 9.6000359, 7.857371, 54.7023545, 1.3769751, 9.6000359, 9.6000359, 9.6000359, 1.3769751, 61.0666922, 49.4871968, 39.5162234, 61.0666922, 61.0666922, null, null, 12.7503486, 24.4768783, 30.3308401, 26.2540493, 40.3936294, 61.0666922, 50.9014721, null, 32.6475314, -13.7693895, 32.3293809, 1.357107, -28.5793972, 9.6000359, null, -18.1239696, 26.2540493, 1.3769751, 49.4871968, 41.8989553, null, 32.6475314, 39.7837304, -28.5793972, 2.8894434, -28.5793972, 22.5000485, null, -2.4833826, -24.7761086, 2.8894434, -14.5189121, 25.029422, null, 61.0666922, 39.7837304, null, 24.4768783, 30.3308401, null, 54.7023545, 39.7837304, 39.7837304, 61.0666922, 39.7837304, 39.7837304, null, null, 24.4768783, 30.3308401, 59.6749712, 61.0666922, 61.0666922, 61.0666922, 9.6000359, 32.6475314, null, null, -2.4833826, 9.6000359, null, 41.8989553, 41.8989553, 36.5748441, 16.3700359, 39.7837304, 4.6125522], \"legendgroup\": \"\", \"lon\": [-100.4458825, -100.4458825, -100.4458825, 24.086794125366065, -100.4458825, 122.7312101, 29.4917691, 2.31006719638123, null, 117.8902853, 1.0199765, 2.31006719638123, -100.4458825, 9.367097748325554, -100.4458825, 127.6961188, -100.4458825, -100.4458825, -53.2, 103.8194992, 29.2675469, 17.30331995251014, null, -100.4458825, -100.4458825, 11.6899699, -100.4458825, 134.755, 2.31006719638123, -100.4458825, 117.8902853, -100.4458825, -9.2399263, -53.2, 122.7312101, null, 29.2675469, -1.0840975468820433, 139.2394179, 117.8902853, 71.247499, -53.2, 9.367097748325554, -100.4458825, null, -100.4458825, -53.2, 2.9999825, -53.2, -100.4458825, -53.2, null, 117.8902853, 29.4917691, null, 44.1749775, -53.2, -100.4458825, -77.36195598496681, 117.8902853, 24.086794125366065, null, null, -77.36195598496681, -100.4458825, 117.8902853, 2.9999825, -100.4458825, 29.2675469, -53.2, -100.4458825, -100.4458825, 1.0199765, 10.4234469, 24.086794125366065, -100.4458825, -53.2, null, 39.0494106, -100.4458825, -14.765340959100412, 139.2394179, 29.4917691, -100.4458825, 13.1535811, -100.4458825, 44.1749775, null, -100.4458825, -100.4458825, null, -100.4458825, -77.36195598496681, 24.086794125366065, 29.4917691, null, 9.367097748325554, -100.4458825, -100.4458825, 139.2394179, -100.4458825, -77.36195598496681, 2.9999825, -77.36195598496681, 44.1749775, 2.9999825, 7.9999721, 29.4917691, 29.2675469, -100.0000375, null, -100.4458825, -100.4458825, -77.36195598496681, 117.8902853, 7.9999721, null, 2.9999825, 31.2718321, 7.9999721, -53.2, 2.9999825, 103.8194992, 5.7480821, 104.999927, -73.783892, -172.1200508, 14.754807384371396, 134.755, -100.4458825, 16.715760431090658, null, -100.4458825, 21.7168387, -100.4458825, -100.4458825, 29.2675469, -100.4458825, null, 29.4917691, 14.754807384371396, 10.4234469, -100.4458825, 108.4265113, 37.48603689110992, null, 35.7878438, null, 117.8902853, 7.9999721, 44.1749775, -100.4458825, 90.2932426, -100.4458825, -7.9794599, 37.48603689110992, -100.4458825, null, 29.2675469, -107.991707, -100.0000375, 103.8194992, null, -172.1200508, 71.247499, -100.4458825, 31.2718321, 44.0287382, 12.674297, 32.72391099113675, -100.0000375, 134.755, null, -100.4458825, -3.2765753, -100.4458825, 90.2932426, -100.4458825, -107.991707, -100.4458825, 84.0917139, null, 5.7480821, 33.9301963, 117.8902853, null, -3.2765753, -107.991707, 7.9999721, 71.247499, -81.1308434, 7.9999721, null, -79.3666965, -100.4458825, 5.7480821, 47.8915271, 139.2394179, 103.8194992, 54.5643516, 24.086794125366065, 71.247499, 54.5643516, 54.5643516, 29.2675469, null, 71.247499, 44.1749775, 8.444947437939408, -100.4458825, null, 7.9999721, -100.4458825, -107.991707, 103.8194992, null, -100.4458825, -100.4458825, 34.9249653, 29.4917691, 80.7137847, 54.5643516, -73.783892, 114.1849161, null, 10.4234469, null, -100.4458825, null, null, -1.0840975468820433, -3.2765753, 37.48603689110992, null, null, 7.9999721, -79.3666965, 54.5643516, 7.9999721, null, null, -73.783892, 5.7480821, 19.134422, 34.9249653, 54.5643516, 21.7168387, 90.2932426, 29.2675469, null, null, null, null, 114.1849161, -100.4458825, 117.8902853, 90.2932426, 103.8194992, null, 5.7480821, null, -100.4458825, 37.48603689110992, null, 29.2675469, 139.2394179, -100.4458825, -77.36195598496681, null, -100.4458825, 122.7312101, 36.941628, 117.8902853, 54.5643516, -73.783892, 29.2675469, null, null, 44.0287382, 122.7312101, 7.9999721, -77.36195598496681, 19.0156172, -86.0755145, null, null, 2.9999825, 90.2932426, -4.8379791, null, -100.4458825, null, 7.9999721, null, 80.7137847, null, 29.2675469, 5.7480821, null, -76.9382069, null, null, 5.7480821, -9.2399263, -100.4458825, -3.2765753, 139.2394179, -100.4458825, 27.5589884, 7.9999721, 7.9999721, 29.4917691, 90.2932426, -100.4458825, -76.9382069, 2.9999825, 27.5589884, 117.8902853, null, 7.9999721, 39.0494106, null, 5.7480821, -3.2765753, 120.9820179, 139.2394179, 71.247499, 71.247499, 29.4917691, 31.2718321, 90.2932426, -100.0000375, 44.1749775, 31.2718321, 15.4749544, 31.2718321, -100.4458825, -100.4458825, 90.2932426, 25.9209164, -100.4458825, -64.9912286, 134.496454875, -100.4458825, -100.0000375, -100.4458825, -100.4458825, 29.2675469, null, -100.4458825, null, 37.48603689110992, 127.6961188, 44.6736646, 134.755, 29.2675469, 114.1849161, -66.1109318, null, -3.2765753, 139.7028426, 108.4265113, -100.4458825, 29.2675469, -100.4458825, 90.2932426, 29.2675469, 35.843409, 37.48603689110992, 90.2932426, -100.4458825, 9.0399498, -100.4458825, 29.2675469, 31.2718321, 90.2932426, -100.4458825, 32.72391099113675, -107.991707, null, -100.4458825, -64.9672817, -100.4458825, -100.4458825, 34.9249653, 27.5589884, 10.4234469, null, 71.247499, 5.7480821, -3.2765753, null, 117.8902853, -3.2765753, null, -83.1137366, 24.086794125366065, null, -100.4458825, -100.4458825, 23.7499997, 71.247499, 44.0287382, null, 71.247499, -100.4458825, 103.8194992, -100.4458825, 31.2718321, 29.2675469, -83.1137366, null, null, -88.9140683, 1.8883335, -100.4458825, null, -107.991707, 9.0999715, -107.991707, null, 29.2675469, 29.2675469, 31.2718321, 44.1749775, null, 5.7480821, 24.086794125366065, 90.2932426, -100.4458825, -100.4458825, null, null, 54.5643516, null, null, 114.1849161, 114.1849161, null, null, 90.2932426, -1.0840975468820433, -100.4458825, -100.4458825, 122.7312101, -100.4458825, -1.0840975468820433, -100.4458825, -100.4458825, -3.2765753, 122.7312101, -107.991707, 7.9999721, -107.991707, 10.4234469, -100.4458825, 54.5643516, 7.9999721, 7.9999721, 29.2675469, 66.2385139, 117.8902853, null, 29.2675469, 21.7168387, null, 14.5208584, -3.2765753, -100.4458825, -3.2765753, 103.8194992, 32.72391099113675, 29.4917691, 32.72391099113675, 54.5643516, -77.36195598496681, 71.247499, null, 84.0917139, 44.0287382, null, 34.9249653, 44.1749775, 108.4265113, 29.2675469, 39.0494106, 54.5643516, 29.2675469, 29.2675469, 29.2675469, -61.6904045, -100.4458825, 139.2394179, -100.4458825, 37.48603689110992, 90.2932426, null, -8.567392135367742, -100.4458825, 31.2718321, null, 54.5643516, 2.9999825, 29.2675469, 39.0494106, 31.2718321, -61.6904045, null, -172.1200508, null, null, null, null, -100.4458825, 7.9999721, 44.0287382, 39.0494106, 47.8915271, 71.247499, 29.2675469, 29.4917691, 27.5589884, 31.2718321, 32.72391099113675, 34.9144977, -107.991707, 108.4265113, -100.0000375, 44.1749775, 71.247499, 8.921996955790174, null, 90.2932426, -100.4458825, 71.247499, null, 37.48603689110992, 37.48603689110992, 54.5643516, 12.4730842, 7.9999721, -100.4458825, 134.755, 122.7312101, 32.72391099113675, null, -100.4458825, -100.4458825, -100.4458825, -100.4458825, 127.6961188, 33.9301963, -1.0840975468820433, -3.2765753, -100.4458825, 122.7312101, -107.991707, 122.7312101, 9.0999715, 31.2718321, 54.5643516, 90.2932426, -100.4458825, null, -77.36195598496681, null, 7.9999721, 17.30331995251014, 44.1749775, 71.247499, 54.5643516, 31.2718321, -100.4458825, 5.7480821, -100.4458825, null, -100.4458825, 17.30331995251014, 71.247499, 84.0917139, -64.9912286, 71.247499, -100.4458825, 8.921996955790174, 47.8915271, 90.2932426, null, -100.4458825, 19.63679421037233, 90.2932426, 29.2675469, null, 31.2718321, -100.4458825, 90.2932426, 35.843409, null, 71.247499, null, null, -3.2765753, -100.4458825, -100.4458825, -100.4458825, -3.2765753, -100.4458825, null, -100.4458825, 90.2932426, 29.2675469, 14.4212535, -53.2, -100.4458825, 47.4979476, null, 24.086794125366065, 120.9820179, 24.086794125366065, -100.4458825, -100.4458825, null, -53.2, null, 32.72391099113675, -100.4458825, 122.7312101, 29.2675469, 66.2385139, -14.765340959100412, -100.4458825, null, 10.3333283, -100.4458825, 7.9999721, null, -100.4458825, -73.783892, 27.5589884, null, null, -100.4458825, 5.7480821, 19.63679421037233, 35.7878438, 27.5589884, -100.4458825, 7.9999721, -100.4458825, 8.444947437939408, 29.2675469, 31.2718321, 37.48603689110992, -100.4458825, -100.4458825, null, -3.2765753, -100.4458825, 90.2932426, -107.991707, -100.4458825, -100.4458825, 31.2718321, 8.444947437939408, -100.4458825, 27.5589884, null, 90.2932426, 29.2675469, 10.3333283, -6.9591554, 114.1849161, 44.1749775, 71.247499, -100.4458825, null, -100.4458825, null, null, -100.4458825, 31.2718321, null, 134.755, -75.0458515, null, 122.7312101, 10.4234469, 122.7312101, 12.4730842, 90.2932426, null, -76.9382069, -3.2765753, 31.2718321, 57.5703566, 19.134422, -100.4458825, -1.0840975468820433, 54.5643516, -83.1137366, null, 90.2932426, null, 32.72391099113675, 31.2718321, -2.2900239, 134.755, null, 7.9999721, 31.2718321, -3.2765753, 24.086794125366065, 29.2675469, null, 139.2394179, null, 29.2675469, 71.247499, null, 71.247499, 29.2675469, 29.4917691, 10.4234469, -79.3666965, 122.7312101, -100.4458825, 32.72391099113675, null, -100.4458825, -100.4458825, 120.9820179, -100.4458825, null, 29.4917691, 35.843409, 108.4265113, 5.7480821, null, -100.4458825, -100.4458825, null, 24.086794125366065, null, null, 5.7480821, 32.72391099113675, 71.247499, null, -1.0840975468820433, null, 122.7312101, -100.4458825, -88.9140683, null, null, 71.247499, 90.2932426, 90.2932426, 9.367097748325554, 71.247499, 84.0917139, 29.4917691, 29.2675469, 12.4730842, null, -100.0000375, 7.9999721, -100.4458825, null, 24.086794125366065, 44.6736646, 7.9999721, null, 29.35365015971339, 8.444947437939408, null, -107.991707, -100.4458825, 2.9999825, 12.4730842, null, 63.9528098, 14.5208584, null, 31.2718321, -1.0840975468820433, -76.9382069, 36.941628, null, 139.2394179, -53.2, 2.9999825, null, -100.4458825, 24.086794125366065, -107.991707, 90.2932426, 120.9820179, 84.0917139, 71.247499, 29.2675469, 71.247499, 31.2718321, 5.7480821, 71.247499, 29.4917691, -81.1308434, -99.5873816, 54.5643516, 7.9999721, -83.1137366, 29.4917691, 90.2932426, -100.4458825, 1.8883335, -3.2765753, 7.9999721, 7.9999721, -83.1137366, null, -77.36195598496681, null, 90.2932426, null, 2.9999825, -100.4458825, null, null, 5.7480821, 31.2718321, null, null, 7.9999721, -100.4458825, -100.4458825, 122.7312101, 29.4917691, 11.0377839, null, -100.4458825, 29.35365015971339, 39.0494106, 84.0917139, 44.1749775, 71.247499, -1.0840975468820433, 27.5589884, -100.4458825, -72.3570972, 9.367097748325554, -100.4458825, 37.48603689110992, 8.921996955790174, 90.2932426, 63.9528098, 122.7312101, -100.4458825, 31.2718321, 54.5643516, null, 127.6961188, 24.7537645, 27.6971358, 90.2932426, -100.4458825, 139.2394179, null, 29.4917691, -100.4458825, -3.2765753, null, null, 90.2932426, -100.4458825, -100.4458825, 114.1849161, 122.7312101, -107.991707, 122.7312101, 4.6667145, 24.086794125366065, 29.2675469, 34.9249653, 29.2675469, 10.4234469, -100.4458825, -100.4458825, -100.4458825, 114.1849161, 1.0199765, -3.2765753, -100.4458825, -107.991707, -107.991707, -100.4458825, null, 90.2932426, null, null, -107.991707, -100.0000375, -100.4458825, -100.4458825, null, -77.36195598496681, null, -81.1308434, 117.8902853, 54.5643516, 54.5643516, -83.1137366, null, 35.7878438, 1.8883335, null, -100.4458825, 122.7312101, -4.8379791, -100.4458825, 7.9999721, -1.0840975468820433, -3.2765753, 32.72391099113675, 7.9999721, 7.9999721, 7.9999721, 32.72391099113675, -107.991707, 31.2718321, -76.9382069, -107.991707, -107.991707, null, null, 122.7312101, 90.2932426, 71.247499, 29.2675469, 47.7872508, -107.991707, 11.0377839, null, 54.5643516, -172.1200508, -83.1137366, 103.8194992, 24.086794125366065, 7.9999721, null, 179.0122737, 29.2675469, 32.72391099113675, 31.2718321, 12.4730842, null, 54.5643516, -100.4458825, 24.086794125366065, -73.783892, 24.086794125366065, -100.0000375, null, 117.8902853, 134.755, -73.783892, 27.5589884, -77.36195598496681, null, -107.991707, -100.4458825, null, 90.2932426, 71.247499, null, -3.2765753, -100.4458825, -100.4458825, -107.991707, -100.4458825, -100.4458825, null, null, 90.2932426, 71.247499, 14.5208584, -107.991707, -107.991707, -107.991707, 7.9999721, 54.5643516, null, null, 117.8902853, 7.9999721, null, 12.4730842, 12.4730842, 139.2394179, -2.2900239, -100.4458825, 13.1535811], \"marker\": {\"color\": \"#636efa\"}, \"mode\": \"markers\", \"name\": \"\", \"showlegend\": false, \"subplot\": \"mapbox\", \"type\": \"scattermapbox\"}],\n",
       "                        {\"height\": 800, \"legend\": {\"tracegroupgap\": 0}, \"mapbox\": {\"accesstoken\": \"pk.eyJ1Ijoic2hha2Fzb20iLCJhIjoiY2plMWg1NGFpMXZ5NjJxbjhlM2ttN3AwbiJ9.RtGYHmreKiyBfHuElgYq_w\", \"center\": {\"lat\": 27.229831526115806, \"lon\": -0.37424973194971173}, \"domain\": {\"x\": [0.0, 0.98], \"y\": [0.0, 1.0]}, \"zoom\": 3}, \"margin\": {\"t\": 60}, \"template\": {\"data\": {\"bar\": [{\"error_x\": {\"color\": \"#2a3f5f\"}, \"error_y\": {\"color\": \"#2a3f5f\"}, \"marker\": {\"line\": {\"color\": \"#E5ECF6\", \"width\": 0.5}}, \"type\": \"bar\"}], \"barpolar\": [{\"marker\": {\"line\": {\"color\": \"#E5ECF6\", \"width\": 0.5}}, \"type\": \"barpolar\"}], \"carpet\": [{\"aaxis\": {\"endlinecolor\": \"#2a3f5f\", \"gridcolor\": \"white\", \"linecolor\": \"white\", \"minorgridcolor\": \"white\", \"startlinecolor\": \"#2a3f5f\"}, \"baxis\": {\"endlinecolor\": \"#2a3f5f\", \"gridcolor\": \"white\", \"linecolor\": \"white\", \"minorgridcolor\": \"white\", \"startlinecolor\": \"#2a3f5f\"}, \"type\": \"carpet\"}], \"choropleth\": [{\"colorbar\": {\"outlinewidth\": 0, \"ticks\": \"\"}, \"type\": \"choropleth\"}], \"contour\": [{\"colorbar\": {\"outlinewidth\": 0, \"ticks\": \"\"}, \"colorscale\": [[0.0, \"#0d0887\"], [0.1111111111111111, \"#46039f\"], [0.2222222222222222, \"#7201a8\"], [0.3333333333333333, \"#9c179e\"], [0.4444444444444444, \"#bd3786\"], [0.5555555555555556, \"#d8576b\"], [0.6666666666666666, \"#ed7953\"], [0.7777777777777778, \"#fb9f3a\"], [0.8888888888888888, \"#fdca26\"], [1.0, \"#f0f921\"]], \"type\": \"contour\"}], \"contourcarpet\": [{\"colorbar\": {\"outlinewidth\": 0, \"ticks\": \"\"}, \"type\": \"contourcarpet\"}], \"heatmap\": [{\"colorbar\": {\"outlinewidth\": 0, \"ticks\": \"\"}, \"colorscale\": [[0.0, \"#0d0887\"], [0.1111111111111111, \"#46039f\"], [0.2222222222222222, \"#7201a8\"], [0.3333333333333333, \"#9c179e\"], [0.4444444444444444, \"#bd3786\"], [0.5555555555555556, \"#d8576b\"], [0.6666666666666666, \"#ed7953\"], [0.7777777777777778, \"#fb9f3a\"], [0.8888888888888888, \"#fdca26\"], [1.0, \"#f0f921\"]], \"type\": \"heatmap\"}], \"heatmapgl\": [{\"colorbar\": {\"outlinewidth\": 0, \"ticks\": \"\"}, \"colorscale\": [[0.0, \"#0d0887\"], [0.1111111111111111, \"#46039f\"], [0.2222222222222222, \"#7201a8\"], [0.3333333333333333, \"#9c179e\"], [0.4444444444444444, \"#bd3786\"], [0.5555555555555556, \"#d8576b\"], [0.6666666666666666, \"#ed7953\"], [0.7777777777777778, \"#fb9f3a\"], [0.8888888888888888, \"#fdca26\"], [1.0, \"#f0f921\"]], \"type\": \"heatmapgl\"}], \"histogram\": [{\"marker\": {\"colorbar\": {\"outlinewidth\": 0, \"ticks\": \"\"}}, \"type\": \"histogram\"}], \"histogram2d\": [{\"colorbar\": {\"outlinewidth\": 0, \"ticks\": \"\"}, \"colorscale\": [[0.0, \"#0d0887\"], [0.1111111111111111, \"#46039f\"], [0.2222222222222222, \"#7201a8\"], [0.3333333333333333, \"#9c179e\"], [0.4444444444444444, \"#bd3786\"], [0.5555555555555556, \"#d8576b\"], [0.6666666666666666, \"#ed7953\"], [0.7777777777777778, \"#fb9f3a\"], [0.8888888888888888, \"#fdca26\"], [1.0, \"#f0f921\"]], \"type\": \"histogram2d\"}], \"histogram2dcontour\": [{\"colorbar\": {\"outlinewidth\": 0, \"ticks\": \"\"}, \"colorscale\": [[0.0, \"#0d0887\"], [0.1111111111111111, \"#46039f\"], [0.2222222222222222, \"#7201a8\"], [0.3333333333333333, \"#9c179e\"], [0.4444444444444444, \"#bd3786\"], [0.5555555555555556, \"#d8576b\"], [0.6666666666666666, \"#ed7953\"], [0.7777777777777778, \"#fb9f3a\"], [0.8888888888888888, \"#fdca26\"], [1.0, \"#f0f921\"]], \"type\": \"histogram2dcontour\"}], \"mesh3d\": [{\"colorbar\": {\"outlinewidth\": 0, \"ticks\": \"\"}, \"type\": \"mesh3d\"}], \"parcoords\": [{\"line\": {\"colorbar\": {\"outlinewidth\": 0, \"ticks\": \"\"}}, \"type\": \"parcoords\"}], \"scatter\": [{\"marker\": {\"colorbar\": {\"outlinewidth\": 0, \"ticks\": \"\"}}, \"type\": \"scatter\"}], \"scatter3d\": [{\"line\": {\"colorbar\": {\"outlinewidth\": 0, \"ticks\": \"\"}}, \"marker\": {\"colorbar\": {\"outlinewidth\": 0, \"ticks\": \"\"}}, \"type\": \"scatter3d\"}], \"scattercarpet\": [{\"marker\": {\"colorbar\": {\"outlinewidth\": 0, \"ticks\": \"\"}}, \"type\": \"scattercarpet\"}], \"scattergeo\": [{\"marker\": {\"colorbar\": {\"outlinewidth\": 0, \"ticks\": \"\"}}, \"type\": \"scattergeo\"}], \"scattergl\": [{\"marker\": {\"colorbar\": {\"outlinewidth\": 0, \"ticks\": \"\"}}, \"type\": \"scattergl\"}], \"scattermapbox\": [{\"marker\": {\"colorbar\": {\"outlinewidth\": 0, \"ticks\": \"\"}}, \"type\": \"scattermapbox\"}], \"scatterpolar\": [{\"marker\": {\"colorbar\": {\"outlinewidth\": 0, \"ticks\": \"\"}}, \"type\": \"scatterpolar\"}], \"scatterpolargl\": [{\"marker\": {\"colorbar\": {\"outlinewidth\": 0, \"ticks\": \"\"}}, \"type\": \"scatterpolargl\"}], \"scatterternary\": [{\"marker\": {\"colorbar\": {\"outlinewidth\": 0, \"ticks\": \"\"}}, \"type\": \"scatterternary\"}], \"surface\": [{\"colorbar\": {\"outlinewidth\": 0, \"ticks\": \"\"}, \"colorscale\": [[0.0, \"#0d0887\"], [0.1111111111111111, \"#46039f\"], [0.2222222222222222, \"#7201a8\"], [0.3333333333333333, \"#9c179e\"], [0.4444444444444444, \"#bd3786\"], [0.5555555555555556, \"#d8576b\"], [0.6666666666666666, \"#ed7953\"], [0.7777777777777778, \"#fb9f3a\"], [0.8888888888888888, \"#fdca26\"], [1.0, \"#f0f921\"]], \"type\": \"surface\"}], \"table\": [{\"cells\": {\"fill\": {\"color\": \"#EBF0F8\"}, \"line\": {\"color\": \"white\"}}, \"header\": {\"fill\": {\"color\": \"#C8D4E3\"}, \"line\": {\"color\": \"white\"}}, \"type\": \"table\"}]}, \"layout\": {\"annotationdefaults\": {\"arrowcolor\": \"#2a3f5f\", \"arrowhead\": 0, \"arrowwidth\": 1}, \"colorscale\": {\"diverging\": [[0, \"#8e0152\"], [0.1, \"#c51b7d\"], [0.2, \"#de77ae\"], [0.3, \"#f1b6da\"], [0.4, \"#fde0ef\"], [0.5, \"#f7f7f7\"], [0.6, \"#e6f5d0\"], [0.7, \"#b8e186\"], [0.8, \"#7fbc41\"], [0.9, \"#4d9221\"], [1, \"#276419\"]], \"sequential\": [[0.0, \"#0d0887\"], [0.1111111111111111, \"#46039f\"], [0.2222222222222222, \"#7201a8\"], [0.3333333333333333, \"#9c179e\"], [0.4444444444444444, \"#bd3786\"], [0.5555555555555556, \"#d8576b\"], [0.6666666666666666, \"#ed7953\"], [0.7777777777777778, \"#fb9f3a\"], [0.8888888888888888, \"#fdca26\"], [1.0, \"#f0f921\"]], \"sequentialminus\": [[0.0, \"#0d0887\"], [0.1111111111111111, \"#46039f\"], [0.2222222222222222, \"#7201a8\"], [0.3333333333333333, \"#9c179e\"], [0.4444444444444444, \"#bd3786\"], [0.5555555555555556, \"#d8576b\"], [0.6666666666666666, \"#ed7953\"], [0.7777777777777778, \"#fb9f3a\"], [0.8888888888888888, \"#fdca26\"], [1.0, \"#f0f921\"]]}, \"colorway\": [\"#636efa\", \"#EF553B\", \"#00cc96\", \"#ab63fa\", \"#FFA15A\", \"#19d3f3\", \"#FF6692\", \"#B6E880\", \"#FF97FF\", \"#FECB52\"], \"font\": {\"color\": \"#2a3f5f\"}, \"geo\": {\"bgcolor\": \"white\", \"lakecolor\": \"white\", \"landcolor\": \"#E5ECF6\", \"showlakes\": true, \"showland\": true, \"subunitcolor\": \"white\"}, \"hoverlabel\": {\"align\": \"left\"}, \"hovermode\": \"closest\", \"mapbox\": {\"style\": \"light\"}, \"paper_bgcolor\": \"white\", \"plot_bgcolor\": \"#E5ECF6\", \"polar\": {\"angularaxis\": {\"gridcolor\": \"white\", \"linecolor\": \"white\", \"ticks\": \"\"}, \"bgcolor\": \"#E5ECF6\", \"radialaxis\": {\"gridcolor\": \"white\", \"linecolor\": \"white\", \"ticks\": \"\"}}, \"scene\": {\"xaxis\": {\"backgroundcolor\": \"#E5ECF6\", \"gridcolor\": \"white\", \"gridwidth\": 2, \"linecolor\": \"white\", \"showbackground\": true, \"ticks\": \"\", \"zerolinecolor\": \"white\"}, \"yaxis\": {\"backgroundcolor\": \"#E5ECF6\", \"gridcolor\": \"white\", \"gridwidth\": 2, \"linecolor\": \"white\", \"showbackground\": true, \"ticks\": \"\", \"zerolinecolor\": \"white\"}, \"zaxis\": {\"backgroundcolor\": \"#E5ECF6\", \"gridcolor\": \"white\", \"gridwidth\": 2, \"linecolor\": \"white\", \"showbackground\": true, \"ticks\": \"\", \"zerolinecolor\": \"white\"}}, \"shapedefaults\": {\"line\": {\"color\": \"#2a3f5f\"}}, \"ternary\": {\"aaxis\": {\"gridcolor\": \"white\", \"linecolor\": \"white\", \"ticks\": \"\"}, \"baxis\": {\"gridcolor\": \"white\", \"linecolor\": \"white\", \"ticks\": \"\"}, \"bgcolor\": \"#E5ECF6\", \"caxis\": {\"gridcolor\": \"white\", \"linecolor\": \"white\", \"ticks\": \"\"}}, \"title\": {\"x\": 0.05}, \"xaxis\": {\"automargin\": true, \"gridcolor\": \"white\", \"linecolor\": \"white\", \"ticks\": \"\", \"zerolinecolor\": \"white\", \"zerolinewidth\": 2}, \"yaxis\": {\"automargin\": true, \"gridcolor\": \"white\", \"linecolor\": \"white\", \"ticks\": \"\", \"zerolinecolor\": \"white\", \"zerolinewidth\": 2}}}, \"width\": 1200},\n",
       "                        {\"responsive\": true}\n",
       "                    ).then(function(){\n",
       "                            \n",
       "var gd = document.getElementById('1a7955e5-533a-4a10-b00d-6d9f31a44399');\n",
       "var x = new MutationObserver(function (mutations, observer) {{\n",
       "        var display = window.getComputedStyle(gd).display;\n",
       "        if (!display || display === 'none') {{\n",
       "            console.log([gd, 'removed!']);\n",
       "            Plotly.purge(gd);\n",
       "            observer.disconnect();\n",
       "        }}\n",
       "}});\n",
       "\n",
       "// Listen for the removal of the full notebook cells\n",
       "var notebookContainer = gd.closest('#notebook-container');\n",
       "if (notebookContainer) {{\n",
       "    x.observe(notebookContainer, {childList: true});\n",
       "}}\n",
       "\n",
       "// Listen for the clearing of the current output cell\n",
       "var outputEl = gd.closest('.output');\n",
       "if (outputEl) {{\n",
       "    x.observe(outputEl, {childList: true});\n",
       "}}\n",
       "\n",
       "                        })\n",
       "                };\n",
       "                });\n",
       "            </script>\n",
       "        </div>"
      ]
     },
     "metadata": {},
     "output_type": "display_data"
    }
   ],
   "source": [
    "px.set_mapbox_access_token(\"pk.eyJ1Ijoic2hha2Fzb20iLCJhIjoiY2plMWg1NGFpMXZ5NjJxbjhlM2ttN3AwbiJ9.RtGYHmreKiyBfHuElgYq_w\")\n",
    "\n",
    "#configure_plotly_browser_state()\n",
    "px.scatter_mapbox(df, lat=\"latitude\", \n",
    "                  lon=\"longitude\", \n",
    "                  size= geo_cords),\n",
    "                  size_max=30, \n",
    "                  zoom=3, \n",
    "                  width=1200, \n",
    "                  height=800)\n"
   ]
  },
  {
   "cell_type": "code",
   "execution_count": 41,
   "id": "rotary-evolution",
   "metadata": {},
   "outputs": [],
   "source": [
    "from sklearn.cluster import KMeans\n",
    "from sklearn.metrics import silhouette_score"
   ]
  },
  {
   "cell_type": "code",
   "execution_count": 143,
   "id": "stretch-active",
   "metadata": {},
   "outputs": [],
   "source": [
    "coords = df[['latitude', 'longitude']]"
   ]
  },
  {
   "cell_type": "code",
   "execution_count": 149,
   "id": "harmful-vessel",
   "metadata": {},
   "outputs": [
    {
     "data": {
      "text/plain": [
       "numpy.float64"
      ]
     },
     "execution_count": 149,
     "metadata": {},
     "output_type": "execute_result"
    }
   ],
   "source": []
  },
  {
   "cell_type": "code",
   "execution_count": 144,
   "id": "compressed-pursuit",
   "metadata": {},
   "outputs": [
    {
     "ename": "ValueError",
     "evalue": "Input contains NaN, infinity or a value too large for dtype('float64').",
     "output_type": "error",
     "traceback": [
      "\u001b[0;31m---------------------------------------------------------------------------\u001b[0m",
      "\u001b[0;31mValueError\u001b[0m                                Traceback (most recent call last)",
      "\u001b[0;32m<ipython-input-144-8f303ebb61c4>\u001b[0m in \u001b[0;36m<module>\u001b[0;34m\u001b[0m\n\u001b[1;32m      3\u001b[0m \u001b[0;32mfor\u001b[0m \u001b[0mk\u001b[0m \u001b[0;32min\u001b[0m \u001b[0mK\u001b[0m\u001b[0;34m:\u001b[0m\u001b[0;34m\u001b[0m\u001b[0;34m\u001b[0m\u001b[0m\n\u001b[1;32m      4\u001b[0m     \u001b[0mkmeansModel\u001b[0m \u001b[0;34m=\u001b[0m \u001b[0mKMeans\u001b[0m\u001b[0;34m(\u001b[0m\u001b[0mn_clusters\u001b[0m\u001b[0;34m=\u001b[0m\u001b[0mk\u001b[0m\u001b[0;34m)\u001b[0m\u001b[0;34m\u001b[0m\u001b[0;34m\u001b[0m\u001b[0m\n\u001b[0;32m----> 5\u001b[0;31m     \u001b[0mkmeansModel\u001b[0m \u001b[0;34m=\u001b[0m \u001b[0mkmeansModel\u001b[0m\u001b[0;34m.\u001b[0m\u001b[0mfit\u001b[0m\u001b[0;34m(\u001b[0m\u001b[0mcoords\u001b[0m\u001b[0;34m)\u001b[0m\u001b[0;34m\u001b[0m\u001b[0;34m\u001b[0m\u001b[0m\n\u001b[0m\u001b[1;32m      6\u001b[0m     \u001b[0mdistortions\u001b[0m\u001b[0;34m.\u001b[0m\u001b[0mappend\u001b[0m\u001b[0;34m(\u001b[0m\u001b[0mkmeansModel\u001b[0m\u001b[0;34m.\u001b[0m\u001b[0minertia_\u001b[0m\u001b[0;34m)\u001b[0m\u001b[0;34m\u001b[0m\u001b[0;34m\u001b[0m\u001b[0m\n",
      "\u001b[0;32m~/opt/anaconda3/lib/python3.7/site-packages/sklearn/cluster/_kmeans.py\u001b[0m in \u001b[0;36mfit\u001b[0;34m(self, X, y, sample_weight)\u001b[0m\n\u001b[1;32m    980\u001b[0m                                 \u001b[0mdtype\u001b[0m\u001b[0;34m=\u001b[0m\u001b[0;34m[\u001b[0m\u001b[0mnp\u001b[0m\u001b[0;34m.\u001b[0m\u001b[0mfloat64\u001b[0m\u001b[0;34m,\u001b[0m \u001b[0mnp\u001b[0m\u001b[0;34m.\u001b[0m\u001b[0mfloat32\u001b[0m\u001b[0;34m]\u001b[0m\u001b[0;34m,\u001b[0m\u001b[0;34m\u001b[0m\u001b[0;34m\u001b[0m\u001b[0m\n\u001b[1;32m    981\u001b[0m                                 \u001b[0morder\u001b[0m\u001b[0;34m=\u001b[0m\u001b[0;34m'C'\u001b[0m\u001b[0;34m,\u001b[0m \u001b[0mcopy\u001b[0m\u001b[0;34m=\u001b[0m\u001b[0mself\u001b[0m\u001b[0;34m.\u001b[0m\u001b[0mcopy_x\u001b[0m\u001b[0;34m,\u001b[0m\u001b[0;34m\u001b[0m\u001b[0;34m\u001b[0m\u001b[0m\n\u001b[0;32m--> 982\u001b[0;31m                                 accept_large_sparse=False)\n\u001b[0m\u001b[1;32m    983\u001b[0m \u001b[0;34m\u001b[0m\u001b[0m\n\u001b[1;32m    984\u001b[0m         \u001b[0mself\u001b[0m\u001b[0;34m.\u001b[0m\u001b[0m_check_params\u001b[0m\u001b[0;34m(\u001b[0m\u001b[0mX\u001b[0m\u001b[0;34m)\u001b[0m\u001b[0;34m\u001b[0m\u001b[0;34m\u001b[0m\u001b[0m\n",
      "\u001b[0;32m~/opt/anaconda3/lib/python3.7/site-packages/sklearn/base.py\u001b[0m in \u001b[0;36m_validate_data\u001b[0;34m(self, X, y, reset, validate_separately, **check_params)\u001b[0m\n\u001b[1;32m    419\u001b[0m             \u001b[0mout\u001b[0m \u001b[0;34m=\u001b[0m \u001b[0mX\u001b[0m\u001b[0;34m\u001b[0m\u001b[0;34m\u001b[0m\u001b[0m\n\u001b[1;32m    420\u001b[0m         \u001b[0;32melif\u001b[0m \u001b[0misinstance\u001b[0m\u001b[0;34m(\u001b[0m\u001b[0my\u001b[0m\u001b[0;34m,\u001b[0m \u001b[0mstr\u001b[0m\u001b[0;34m)\u001b[0m \u001b[0;32mand\u001b[0m \u001b[0my\u001b[0m \u001b[0;34m==\u001b[0m \u001b[0;34m'no_validation'\u001b[0m\u001b[0;34m:\u001b[0m\u001b[0;34m\u001b[0m\u001b[0;34m\u001b[0m\u001b[0m\n\u001b[0;32m--> 421\u001b[0;31m             \u001b[0mX\u001b[0m \u001b[0;34m=\u001b[0m \u001b[0mcheck_array\u001b[0m\u001b[0;34m(\u001b[0m\u001b[0mX\u001b[0m\u001b[0;34m,\u001b[0m \u001b[0;34m**\u001b[0m\u001b[0mcheck_params\u001b[0m\u001b[0;34m)\u001b[0m\u001b[0;34m\u001b[0m\u001b[0;34m\u001b[0m\u001b[0m\n\u001b[0m\u001b[1;32m    422\u001b[0m             \u001b[0mout\u001b[0m \u001b[0;34m=\u001b[0m \u001b[0mX\u001b[0m\u001b[0;34m\u001b[0m\u001b[0;34m\u001b[0m\u001b[0m\n\u001b[1;32m    423\u001b[0m         \u001b[0;32melse\u001b[0m\u001b[0;34m:\u001b[0m\u001b[0;34m\u001b[0m\u001b[0;34m\u001b[0m\u001b[0m\n",
      "\u001b[0;32m~/opt/anaconda3/lib/python3.7/site-packages/sklearn/utils/validation.py\u001b[0m in \u001b[0;36minner_f\u001b[0;34m(*args, **kwargs)\u001b[0m\n\u001b[1;32m     61\u001b[0m             \u001b[0mextra_args\u001b[0m \u001b[0;34m=\u001b[0m \u001b[0mlen\u001b[0m\u001b[0;34m(\u001b[0m\u001b[0margs\u001b[0m\u001b[0;34m)\u001b[0m \u001b[0;34m-\u001b[0m \u001b[0mlen\u001b[0m\u001b[0;34m(\u001b[0m\u001b[0mall_args\u001b[0m\u001b[0;34m)\u001b[0m\u001b[0;34m\u001b[0m\u001b[0;34m\u001b[0m\u001b[0m\n\u001b[1;32m     62\u001b[0m             \u001b[0;32mif\u001b[0m \u001b[0mextra_args\u001b[0m \u001b[0;34m<=\u001b[0m \u001b[0;36m0\u001b[0m\u001b[0;34m:\u001b[0m\u001b[0;34m\u001b[0m\u001b[0;34m\u001b[0m\u001b[0m\n\u001b[0;32m---> 63\u001b[0;31m                 \u001b[0;32mreturn\u001b[0m \u001b[0mf\u001b[0m\u001b[0;34m(\u001b[0m\u001b[0;34m*\u001b[0m\u001b[0margs\u001b[0m\u001b[0;34m,\u001b[0m \u001b[0;34m**\u001b[0m\u001b[0mkwargs\u001b[0m\u001b[0;34m)\u001b[0m\u001b[0;34m\u001b[0m\u001b[0;34m\u001b[0m\u001b[0m\n\u001b[0m\u001b[1;32m     64\u001b[0m \u001b[0;34m\u001b[0m\u001b[0m\n\u001b[1;32m     65\u001b[0m             \u001b[0;31m# extra_args > 0\u001b[0m\u001b[0;34m\u001b[0m\u001b[0;34m\u001b[0m\u001b[0;34m\u001b[0m\u001b[0m\n",
      "\u001b[0;32m~/opt/anaconda3/lib/python3.7/site-packages/sklearn/utils/validation.py\u001b[0m in \u001b[0;36mcheck_array\u001b[0;34m(array, accept_sparse, accept_large_sparse, dtype, order, copy, force_all_finite, ensure_2d, allow_nd, ensure_min_samples, ensure_min_features, estimator)\u001b[0m\n\u001b[1;32m    662\u001b[0m         \u001b[0;32mif\u001b[0m \u001b[0mforce_all_finite\u001b[0m\u001b[0;34m:\u001b[0m\u001b[0;34m\u001b[0m\u001b[0;34m\u001b[0m\u001b[0m\n\u001b[1;32m    663\u001b[0m             _assert_all_finite(array,\n\u001b[0;32m--> 664\u001b[0;31m                                allow_nan=force_all_finite == 'allow-nan')\n\u001b[0m\u001b[1;32m    665\u001b[0m \u001b[0;34m\u001b[0m\u001b[0m\n\u001b[1;32m    666\u001b[0m     \u001b[0;32mif\u001b[0m \u001b[0mensure_min_samples\u001b[0m \u001b[0;34m>\u001b[0m \u001b[0;36m0\u001b[0m\u001b[0;34m:\u001b[0m\u001b[0;34m\u001b[0m\u001b[0;34m\u001b[0m\u001b[0m\n",
      "\u001b[0;32m~/opt/anaconda3/lib/python3.7/site-packages/sklearn/utils/validation.py\u001b[0m in \u001b[0;36m_assert_all_finite\u001b[0;34m(X, allow_nan, msg_dtype)\u001b[0m\n\u001b[1;32m    104\u001b[0m                     \u001b[0mmsg_err\u001b[0m\u001b[0;34m.\u001b[0m\u001b[0mformat\u001b[0m\u001b[0;34m\u001b[0m\u001b[0;34m\u001b[0m\u001b[0m\n\u001b[1;32m    105\u001b[0m                     (type_err,\n\u001b[0;32m--> 106\u001b[0;31m                      msg_dtype if msg_dtype is not None else X.dtype)\n\u001b[0m\u001b[1;32m    107\u001b[0m             )\n\u001b[1;32m    108\u001b[0m     \u001b[0;31m# for object dtype data, we only check for NaNs (GH-13254)\u001b[0m\u001b[0;34m\u001b[0m\u001b[0;34m\u001b[0m\u001b[0;34m\u001b[0m\u001b[0m\n",
      "\u001b[0;31mValueError\u001b[0m: Input contains NaN, infinity or a value too large for dtype('float64')."
     ]
    }
   ],
   "source": [
    "distortions = []\n",
    "K = range(1,25)\n",
    "for k in K:\n",
    "    kmeansModel = KMeans(n_clusters=k)\n",
    "    kmeansModel = kmeansModel.fit(coords)\n",
    "    distortions.append(kmeansModel.inertia_)"
   ]
  },
  {
   "cell_type": "code",
   "execution_count": null,
   "id": "unusual-brand",
   "metadata": {},
   "outputs": [],
   "source": []
  },
  {
   "cell_type": "code",
   "execution_count": null,
   "id": "dominican-certification",
   "metadata": {},
   "outputs": [],
   "source": []
  },
  {
   "cell_type": "code",
   "execution_count": null,
   "id": "engaged-hypothetical",
   "metadata": {},
   "outputs": [],
   "source": []
  }
 ],
 "metadata": {
  "kernelspec": {
   "display_name": "Python 3",
   "language": "python",
   "name": "python3"
  },
  "language_info": {
   "codemirror_mode": {
    "name": "ipython",
    "version": 3
   },
   "file_extension": ".py",
   "mimetype": "text/x-python",
   "name": "python",
   "nbconvert_exporter": "python",
   "pygments_lexer": "ipython3",
   "version": "3.7.10"
  }
 },
 "nbformat": 4,
 "nbformat_minor": 5
}
