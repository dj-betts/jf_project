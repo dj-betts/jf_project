{
 "cells": [
  {
   "cell_type": "code",
   "execution_count": 6,
   "id": "turkish-intermediate",
   "metadata": {},
   "outputs": [
    {
     "name": "stdout",
     "output_type": "stream",
     "text": [
      "The google.cloud.bigquery extension is already loaded. To reload it, use:\n",
      "  %reload_ext google.cloud.bigquery\n"
     ]
    }
   ],
   "source": [
    "%load_ext google.cloud.bigquery\n",
    "from google.cloud import bigquery"
   ]
  },
  {
   "cell_type": "code",
   "execution_count": 7,
   "id": "offshore-entrepreneur",
   "metadata": {},
   "outputs": [],
   "source": [
    "import pandas as pd"
   ]
  },
  {
   "cell_type": "code",
   "execution_count": 47,
   "id": "flush-choir",
   "metadata": {},
   "outputs": [],
   "source": [
    "from datetime import datetime "
   ]
  },
  {
   "cell_type": "code",
   "execution_count": 8,
   "id": "first-maximum",
   "metadata": {},
   "outputs": [],
   "source": [
    "#client = bigquery.Client()"
   ]
  },
  {
   "cell_type": "code",
   "execution_count": 10,
   "id": "coupled-leather",
   "metadata": {},
   "outputs": [],
   "source": [
    "data = pd.read_csv('/Users/djbetts/Desktop/jf_project/jf_data.csv',low_memory=False)"
   ]
  },
  {
   "cell_type": "code",
   "execution_count": 11,
   "id": "ancient-executive",
   "metadata": {},
   "outputs": [],
   "source": [
    "df = data.copy()"
   ]
  },
  {
   "cell_type": "code",
   "execution_count": 12,
   "id": "theoretical-guarantee",
   "metadata": {},
   "outputs": [
    {
     "data": {
      "text/plain": [
       "(1000, 204)"
      ]
     },
     "execution_count": 12,
     "metadata": {},
     "output_type": "execute_result"
    }
   ],
   "source": [
    "df.shape"
   ]
  },
  {
   "cell_type": "code",
   "execution_count": 13,
   "id": "mobile-penalty",
   "metadata": {},
   "outputs": [],
   "source": [
    "#df.dropna(inplace=True, subset=['event_params__engagement_time_msec'])"
   ]
  },
  {
   "cell_type": "code",
   "execution_count": 14,
   "id": "italian-gather",
   "metadata": {},
   "outputs": [
    {
     "data": {
      "text/plain": [
       "(1000, 204)"
      ]
     },
     "execution_count": 14,
     "metadata": {},
     "output_type": "execute_result"
    }
   ],
   "source": [
    "df.shape"
   ]
  },
  {
   "cell_type": "code",
   "execution_count": 18,
   "id": "facial-fitness",
   "metadata": {},
   "outputs": [
    {
     "data": {
      "text/plain": [
       "Index(['app_info__firebase_app_id', 'app_info__id', 'app_info__install_source',\n",
       "       'app_info__install_store', 'app_info__version',\n",
       "       'device__advertising_id', 'device__browser', 'device__browser_version',\n",
       "       'device__category', 'device__is_limited_ad_tracking',\n",
       "       ...\n",
       "       'user_ltv__revenue', 'user_properties__first_open_time',\n",
       "       'user_properties__ga_session_id', 'user_properties__ga_session_number',\n",
       "       'user_properties__user_id', 'user_pseudo_id', 'web_info__browser',\n",
       "       'web_info__browser_version', 'web_info__hostname',\n",
       "       'event_timestamp_ts'],\n",
       "      dtype='object', length=204)"
      ]
     },
     "execution_count": 18,
     "metadata": {},
     "output_type": "execute_result"
    }
   ],
   "source": [
    "df.columns"
   ]
  },
  {
   "cell_type": "code",
   "execution_count": 19,
   "id": "graduate-granny",
   "metadata": {},
   "outputs": [
    {
     "data": {
      "text/plain": [
       "0"
      ]
     },
     "execution_count": 19,
     "metadata": {},
     "output_type": "execute_result"
    }
   ],
   "source": [
    "sum(df.geo__country.isna())"
   ]
  },
  {
   "cell_type": "code",
   "execution_count": 20,
   "id": "coral-grace",
   "metadata": {},
   "outputs": [],
   "source": [
    "df.event_params__engagement_time_msec.dropna(inplace=True)"
   ]
  },
  {
   "cell_type": "code",
   "execution_count": 21,
   "id": "turned-words",
   "metadata": {},
   "outputs": [
    {
     "data": {
      "text/plain": [
       "count    3.450000e+02\n",
       "mean     3.047980e+04\n",
       "std      1.267761e+05\n",
       "min      1.000000e+00\n",
       "25%      2.981000e+03\n",
       "50%      7.181000e+03\n",
       "75%      1.922500e+04\n",
       "max      1.979133e+06\n",
       "Name: event_params__engagement_time_msec, dtype: float64"
      ]
     },
     "execution_count": 21,
     "metadata": {},
     "output_type": "execute_result"
    }
   ],
   "source": [
    "df.event_params__engagement_time_msec.describe()"
   ]
  },
  {
   "cell_type": "code",
   "execution_count": 23,
   "id": "automatic-finger",
   "metadata": {},
   "outputs": [
    {
     "data": {
      "text/plain": [
       "<AxesSubplot:>"
      ]
     },
     "execution_count": 23,
     "metadata": {},
     "output_type": "execute_result"
    },
    {
     "data": {
      "image/png": "[encoded data removed]",
      "text/plain": [
       "<Figure size 432x288 with 1 Axes>"
      ]
     },
     "metadata": {
      "needs_background": "light"
     },
     "output_type": "display_data"
    }
   ],
   "source": [
    "df.geo__country.hist()"
   ]
  },
  {
   "cell_type": "code",
   "execution_count": 36,
   "id": "consecutive-snapshot",
   "metadata": {},
   "outputs": [
    {
     "data": {
      "text/plain": [
       "Wedgefield        112\n",
       "Winter Springs     43\n",
       "St. Cloud          35\n",
       "DeLand             30\n",
       "Irvine              8\n",
       "McKinney            7\n",
       "Surprise            5\n",
       "Portland            3\n",
       "Willmar             3\n",
       "Addis Ababa         1\n",
       "Name: geo__city, dtype: int64"
      ]
     },
     "execution_count": 36,
     "metadata": {},
     "output_type": "execute_result"
    }
   ],
   "source": [
    "df.geo__city.value_counts()"
   ]
  },
  {
   "cell_type": "code",
   "execution_count": 34,
   "id": "engaging-agency",
   "metadata": {},
   "outputs": [
    {
     "data": {
      "text/html": [
       "<div>\n",
       "<style scoped>\n",
       "    .dataframe tbody tr th:only-of-type {\n",
       "        vertical-align: middle;\n",
       "    }\n",
       "\n",
       "    .dataframe tbody tr th {\n",
       "        vertical-align: top;\n",
       "    }\n",
       "\n",
       "    .dataframe thead th {\n",
       "        text-align: right;\n",
       "    }\n",
       "</style>\n",
       "<table border=\"1\" class=\"dataframe\">\n",
       "  <thead>\n",
       "    <tr style=\"text-align: right;\">\n",
       "      <th></th>\n",
       "      <th>app_info__firebase_app_id</th>\n",
       "      <th>app_info__id</th>\n",
       "      <th>app_info__install_source</th>\n",
       "      <th>app_info__install_store</th>\n",
       "      <th>app_info__version</th>\n",
       "      <th>device__advertising_id</th>\n",
       "      <th>device__browser</th>\n",
       "      <th>device__browser_version</th>\n",
       "      <th>device__category</th>\n",
       "      <th>device__is_limited_ad_tracking</th>\n",
       "      <th>...</th>\n",
       "      <th>user_ltv__revenue</th>\n",
       "      <th>user_properties__first_open_time</th>\n",
       "      <th>user_properties__ga_session_id</th>\n",
       "      <th>user_properties__ga_session_number</th>\n",
       "      <th>user_properties__user_id</th>\n",
       "      <th>user_pseudo_id</th>\n",
       "      <th>web_info__browser</th>\n",
       "      <th>web_info__browser_version</th>\n",
       "      <th>web_info__hostname</th>\n",
       "      <th>event_timestamp_ts</th>\n",
       "    </tr>\n",
       "  </thead>\n",
       "  <tbody>\n",
       "    <tr>\n",
       "      <th>0</th>\n",
       "      <td>1:300760709243:android:cd741b6357409475098ade</td>\n",
       "      <td>com.jesusfilmmedia.android.jesusfilm</td>\n",
       "      <td>com.google.android.packageinstaller</td>\n",
       "      <td>NaN</td>\n",
       "      <td>3.19.6-alpha20</td>\n",
       "      <td>493c92da-6c25-4b91-8c0c-4cfcdf6bab57</td>\n",
       "      <td>NaN</td>\n",
       "      <td>NaN</td>\n",
       "      <td>mobile</td>\n",
       "      <td>No</td>\n",
       "      <td>...</td>\n",
       "      <td>NaN</td>\n",
       "      <td>1.615828e+12</td>\n",
       "      <td>1.615827e+09</td>\n",
       "      <td>1.0</td>\n",
       "      <td>jfid_a_android_e3abd734-64eb-4053-913b-42bc688...</td>\n",
       "      <td>9985f14109ced368828af64902d69474</td>\n",
       "      <td>NaN</td>\n",
       "      <td>NaN</td>\n",
       "      <td>NaN</td>\n",
       "      <td>2021-03-15 14:07:51.518010 UTC</td>\n",
       "    </tr>\n",
       "    <tr>\n",
       "      <th>1</th>\n",
       "      <td>1:300760709243:android:cd741b6357409475098ade</td>\n",
       "      <td>com.jesusfilmmedia.android.jesusfilm</td>\n",
       "      <td>manual_install</td>\n",
       "      <td>NaN</td>\n",
       "      <td>3.19.6-alpha20</td>\n",
       "      <td>4c0598a7-0288-4595-9a7b-249fceb30145</td>\n",
       "      <td>NaN</td>\n",
       "      <td>NaN</td>\n",
       "      <td>mobile</td>\n",
       "      <td>No</td>\n",
       "      <td>...</td>\n",
       "      <td>NaN</td>\n",
       "      <td>1.615212e+12</td>\n",
       "      <td>1.615832e+09</td>\n",
       "      <td>3.0</td>\n",
       "      <td>jfid_a_android_3d3134ba-e0f0-438b-b097-5e61899...</td>\n",
       "      <td>fd09840a36cdcc02d76957fdeeee71f2</td>\n",
       "      <td>NaN</td>\n",
       "      <td>NaN</td>\n",
       "      <td>NaN</td>\n",
       "      <td>2021-03-15 13:13:45.178 UTC</td>\n",
       "    </tr>\n",
       "    <tr>\n",
       "      <th>2</th>\n",
       "      <td>1:300760709243:android:cd741b6357409475098ade</td>\n",
       "      <td>com.jesusfilmmedia.android.jesusfilm</td>\n",
       "      <td>com.google.android.packageinstaller</td>\n",
       "      <td>NaN</td>\n",
       "      <td>3.19.6-alpha20</td>\n",
       "      <td>493c92da-6c25-4b91-8c0c-4cfcdf6bab57</td>\n",
       "      <td>NaN</td>\n",
       "      <td>NaN</td>\n",
       "      <td>mobile</td>\n",
       "      <td>No</td>\n",
       "      <td>...</td>\n",
       "      <td>NaN</td>\n",
       "      <td>1.615828e+12</td>\n",
       "      <td>1.615827e+09</td>\n",
       "      <td>1.0</td>\n",
       "      <td>jfid_a_android_e3abd734-64eb-4053-913b-42bc688...</td>\n",
       "      <td>9985f14109ced368828af64902d69474</td>\n",
       "      <td>NaN</td>\n",
       "      <td>NaN</td>\n",
       "      <td>NaN</td>\n",
       "      <td>2021-03-15 11:56:33.600006 UTC</td>\n",
       "    </tr>\n",
       "    <tr>\n",
       "      <th>3</th>\n",
       "      <td>1:300760709243:android:cd741b6357409475098ade</td>\n",
       "      <td>com.jesusfilmmedia.android.jesusfilm</td>\n",
       "      <td>com.google.android.packageinstaller</td>\n",
       "      <td>NaN</td>\n",
       "      <td>3.19.6-alpha20</td>\n",
       "      <td>493c92da-6c25-4b91-8c0c-4cfcdf6bab57</td>\n",
       "      <td>NaN</td>\n",
       "      <td>NaN</td>\n",
       "      <td>mobile</td>\n",
       "      <td>No</td>\n",
       "      <td>...</td>\n",
       "      <td>NaN</td>\n",
       "      <td>1.615828e+12</td>\n",
       "      <td>1.615827e+09</td>\n",
       "      <td>1.0</td>\n",
       "      <td>jfid_a_android_e3abd734-64eb-4053-913b-42bc688...</td>\n",
       "      <td>9985f14109ced368828af64902d69474</td>\n",
       "      <td>NaN</td>\n",
       "      <td>NaN</td>\n",
       "      <td>NaN</td>\n",
       "      <td>2021-03-15 13:51:45.747011 UTC</td>\n",
       "    </tr>\n",
       "    <tr>\n",
       "      <th>4</th>\n",
       "      <td>1:300760709243:android:cd741b6357409475098ade</td>\n",
       "      <td>com.jesusfilmmedia.android.jesusfilm</td>\n",
       "      <td>com.google.android.packageinstaller</td>\n",
       "      <td>NaN</td>\n",
       "      <td>3.19.6-alpha20</td>\n",
       "      <td>493c92da-6c25-4b91-8c0c-4cfcdf6bab57</td>\n",
       "      <td>NaN</td>\n",
       "      <td>NaN</td>\n",
       "      <td>mobile</td>\n",
       "      <td>No</td>\n",
       "      <td>...</td>\n",
       "      <td>NaN</td>\n",
       "      <td>1.615828e+12</td>\n",
       "      <td>1.615827e+09</td>\n",
       "      <td>1.0</td>\n",
       "      <td>jfid_a_android_e3abd734-64eb-4053-913b-42bc688...</td>\n",
       "      <td>9985f14109ced368828af64902d69474</td>\n",
       "      <td>NaN</td>\n",
       "      <td>NaN</td>\n",
       "      <td>NaN</td>\n",
       "      <td>2021-03-15 12:04:20.277006 UTC</td>\n",
       "    </tr>\n",
       "  </tbody>\n",
       "</table>\n",
       "<p>5 rows × 204 columns</p>\n",
       "</div>"
      ],
      "text/plain": [
       "                       app_info__firebase_app_id  \\\n",
       "0  1:300760709243:android:cd741b6357409475098ade   \n",
       "1  1:300760709243:android:cd741b6357409475098ade   \n",
       "2  1:300760709243:android:cd741b6357409475098ade   \n",
       "3  1:300760709243:android:cd741b6357409475098ade   \n",
       "4  1:300760709243:android:cd741b6357409475098ade   \n",
       "\n",
       "                           app_info__id             app_info__install_source  \\\n",
       "0  com.jesusfilmmedia.android.jesusfilm  com.google.android.packageinstaller   \n",
       "1  com.jesusfilmmedia.android.jesusfilm                       manual_install   \n",
       "2  com.jesusfilmmedia.android.jesusfilm  com.google.android.packageinstaller   \n",
       "3  com.jesusfilmmedia.android.jesusfilm  com.google.android.packageinstaller   \n",
       "4  com.jesusfilmmedia.android.jesusfilm  com.google.android.packageinstaller   \n",
       "\n",
       "   app_info__install_store app_info__version  \\\n",
       "0                      NaN    3.19.6-alpha20   \n",
       "1                      NaN    3.19.6-alpha20   \n",
       "2                      NaN    3.19.6-alpha20   \n",
       "3                      NaN    3.19.6-alpha20   \n",
       "4                      NaN    3.19.6-alpha20   \n",
       "\n",
       "                 device__advertising_id  device__browser  \\\n",
       "0  493c92da-6c25-4b91-8c0c-4cfcdf6bab57              NaN   \n",
       "1  4c0598a7-0288-4595-9a7b-249fceb30145              NaN   \n",
       "2  493c92da-6c25-4b91-8c0c-4cfcdf6bab57              NaN   \n",
       "3  493c92da-6c25-4b91-8c0c-4cfcdf6bab57              NaN   \n",
       "4  493c92da-6c25-4b91-8c0c-4cfcdf6bab57              NaN   \n",
       "\n",
       "   device__browser_version device__category device__is_limited_ad_tracking  \\\n",
       "0                      NaN           mobile                             No   \n",
       "1                      NaN           mobile                             No   \n",
       "2                      NaN           mobile                             No   \n",
       "3                      NaN           mobile                             No   \n",
       "4                      NaN           mobile                             No   \n",
       "\n",
       "   ... user_ltv__revenue user_properties__first_open_time  \\\n",
       "0  ...               NaN                     1.615828e+12   \n",
       "1  ...               NaN                     1.615212e+12   \n",
       "2  ...               NaN                     1.615828e+12   \n",
       "3  ...               NaN                     1.615828e+12   \n",
       "4  ...               NaN                     1.615828e+12   \n",
       "\n",
       "  user_properties__ga_session_id user_properties__ga_session_number  \\\n",
       "0                   1.615827e+09                                1.0   \n",
       "1                   1.615832e+09                                3.0   \n",
       "2                   1.615827e+09                                1.0   \n",
       "3                   1.615827e+09                                1.0   \n",
       "4                   1.615827e+09                                1.0   \n",
       "\n",
       "                            user_properties__user_id  \\\n",
       "0  jfid_a_android_e3abd734-64eb-4053-913b-42bc688...   \n",
       "1  jfid_a_android_3d3134ba-e0f0-438b-b097-5e61899...   \n",
       "2  jfid_a_android_e3abd734-64eb-4053-913b-42bc688...   \n",
       "3  jfid_a_android_e3abd734-64eb-4053-913b-42bc688...   \n",
       "4  jfid_a_android_e3abd734-64eb-4053-913b-42bc688...   \n",
       "\n",
       "                     user_pseudo_id web_info__browser  \\\n",
       "0  9985f14109ced368828af64902d69474               NaN   \n",
       "1  fd09840a36cdcc02d76957fdeeee71f2               NaN   \n",
       "2  9985f14109ced368828af64902d69474               NaN   \n",
       "3  9985f14109ced368828af64902d69474               NaN   \n",
       "4  9985f14109ced368828af64902d69474               NaN   \n",
       "\n",
       "   web_info__browser_version  web_info__hostname  \\\n",
       "0                        NaN                 NaN   \n",
       "1                        NaN                 NaN   \n",
       "2                        NaN                 NaN   \n",
       "3                        NaN                 NaN   \n",
       "4                        NaN                 NaN   \n",
       "\n",
       "               event_timestamp_ts  \n",
       "0  2021-03-15 14:07:51.518010 UTC  \n",
       "1     2021-03-15 13:13:45.178 UTC  \n",
       "2  2021-03-15 11:56:33.600006 UTC  \n",
       "3  2021-03-15 13:51:45.747011 UTC  \n",
       "4  2021-03-15 12:04:20.277006 UTC  \n",
       "\n",
       "[5 rows x 204 columns]"
      ]
     },
     "execution_count": 34,
     "metadata": {},
     "output_type": "execute_result"
    }
   ],
   "source": [
    "df.head()"
   ]
  },
  {
   "cell_type": "markdown",
   "id": "intensive-incentive",
   "metadata": {},
   "source": [
    "# ID"
   ]
  },
  {
   "cell_type": "code",
   "execution_count": 16,
   "id": "gross-fortune",
   "metadata": {},
   "outputs": [
    {
     "data": {
      "text/plain": [
       "('event_timestamp_ts', 'user_pseudo_id', 'user_id', 'platform')"
      ]
     },
     "execution_count": 16,
     "metadata": {},
     "output_type": "execute_result"
    }
   ],
   "source": [
    "'event_timestamp_ts', 'user_pseudo_id', 'user_id', 'platform'"
   ]
  },
  {
   "cell_type": "code",
   "execution_count": 40,
   "id": "abroad-cologne",
   "metadata": {},
   "outputs": [
    {
     "data": {
      "text/plain": [
       "AA38C84A3E1442048F72096A4621C17A    515\n",
       "408BAF780ACD4F53B3F245E87ABF44A8     72\n",
       "1AE4EF46D71643F386340D1630CC6082     59\n",
       "C014B9176D834F9BBABE0ADCB8CE5AD6     53\n",
       "0528B26980524C1F9ABC1E4C774F166F     46\n",
       "E992B0A12520496E907C49B34D5D06AA     37\n",
       "13C48EA918E847E1B244EB71A4C26D1C     34\n",
       "A1C4AB74010F44AF810FC0C27DB2CEED     26\n",
       "79FF838CEE1A46D8BDEFDF592E0C705C     26\n",
       "CF7EADF45A224C1E9DEDF65BE9CDD3BA     24\n",
       "028CB403405B4A12B4485F19269A82B3     24\n",
       "CE056F19B87545C0A5AA24CBF89C0A3B     16\n",
       "3B95E8EE13824C758CEF5922F38C5223     15\n",
       "BD05492D137A4320AAB293DEEB0ACEB1      9\n",
       "EC830E447FE74E2CAD9894D0F8AEA9EA      8\n",
       "C9A8CC50D22D469DB0F2C874C6AD046C      8\n",
       "CEA6AB178A20458D9BBC81607665D7D7      8\n",
       "AA431089D4094D95AAC16ACB266F245F      8\n",
       "5DE009489F844FF18959E60EB836B00B      7\n",
       "72F32A73B229415FBF37B36DFD104A24      4\n",
       "FD7E053248C94B5BB31CC094C1AE0B18      1\n",
       "Name: user_pseudo_id, dtype: int64"
      ]
     },
     "execution_count": 40,
     "metadata": {},
     "output_type": "execute_result"
    }
   ],
   "source": [
    "df.user_pseudo_id.value_counts()"
   ]
  },
  {
   "cell_type": "markdown",
   "id": "mobile-indian",
   "metadata": {},
   "source": [
    "#check out user_pseudo_id == 'AA38C84A3E1442048F72096A4621C17A'"
   ]
  },
  {
   "cell_type": "code",
   "execution_count": 45,
   "id": "suffering-phrase",
   "metadata": {},
   "outputs": [],
   "source": [
    "test_to_datetime = df.event_timestamp.iloc[0]"
   ]
  },
  {
   "cell_type": "code",
   "execution_count": 49,
   "id": "ambient-bouquet",
   "metadata": {},
   "outputs": [
    {
     "data": {
      "text/plain": [
       "1602191900406045"
      ]
     },
     "execution_count": 49,
     "metadata": {},
     "output_type": "execute_result"
    }
   ],
   "source": [
    "test_to_datetime"
   ]
  },
  {
   "cell_type": "code",
   "execution_count": 54,
   "id": "radio-freeze",
   "metadata": {},
   "outputs": [],
   "source": [
    "to_date = pd.to_datetime(test_to_datetime, unit='us')"
   ]
  },
  {
   "cell_type": "code",
   "execution_count": 55,
   "id": "caring-needle",
   "metadata": {},
   "outputs": [
    {
     "data": {
      "text/plain": [
       "Timestamp('2020-10-08 21:18:20.406045')"
      ]
     },
     "execution_count": 55,
     "metadata": {},
     "output_type": "execute_result"
    }
   ],
   "source": [
    "to_date"
   ]
  },
  {
   "cell_type": "markdown",
   "id": "enormous-adapter",
   "metadata": {},
   "source": [
    "# funciton to clear na values"
   ]
  },
  {
   "cell_type": "code",
   "execution_count": 56,
   "id": "transparent-annual",
   "metadata": {},
   "outputs": [],
   "source": [
    "drop_df = df.copy()"
   ]
  },
  {
   "cell_type": "code",
   "execution_count": 57,
   "id": "neutral-albuquerque",
   "metadata": {},
   "outputs": [
    {
     "data": {
      "text/plain": [
       "(1000, 204)"
      ]
     },
     "execution_count": 57,
     "metadata": {},
     "output_type": "execute_result"
    }
   ],
   "source": [
    "drop_df.shape"
   ]
  },
  {
   "cell_type": "code",
   "execution_count": 81,
   "id": "afraid-berry",
   "metadata": {},
   "outputs": [],
   "source": [
    "dropany_df = drop_df.dropna(axis='columns', how='all')\n",
    "#how='any': 1000X24. how='all': 1000x49"
   ]
  },
  {
   "cell_type": "code",
   "execution_count": 82,
   "id": "sharp-speed",
   "metadata": {},
   "outputs": [
    {
     "data": {
      "text/plain": [
       "(1000, 49)"
      ]
     },
     "execution_count": 82,
     "metadata": {},
     "output_type": "execute_result"
    }
   ],
   "source": [
    "dropany_df.shape"
   ]
  },
  {
   "cell_type": "code",
   "execution_count": 83,
   "id": "interested-flexibility",
   "metadata": {},
   "outputs": [
    {
     "data": {
      "text/plain": [
       "Index(['app_info__firebase_app_id', 'app_info__id', 'app_info__install_source',\n",
       "       'app_info__version', 'device__category',\n",
       "       'device__is_limited_ad_tracking', 'device__language',\n",
       "       'device__mobile_brand_name', 'device__mobile_model_name',\n",
       "       'device__mobile_os_hardware_model', 'device__operating_system',\n",
       "       'device__operating_system_version', 'device__time_zone_offset_seconds',\n",
       "       'device__vendor_id', 'event_bundle_sequence_id', 'event_date',\n",
       "       'event_date_partition', 'event_name',\n",
       "       'event_params__engagement_time_msec',\n",
       "       'event_params__firebase_conversion',\n",
       "       'event_params__firebase_event_origin',\n",
       "       'event_params__firebase_previous_class',\n",
       "       'event_params__firebase_previous_id',\n",
       "       'event_params__firebase_previous_screen',\n",
       "       'event_params__firebase_screen', 'event_params__firebase_screen_class',\n",
       "       'event_params__firebase_screen_id', 'event_params__ga_session_id',\n",
       "       'event_params__ga_session_number', 'event_params__previous_app_version',\n",
       "       'event_previous_timestamp', 'event_server_timestamp_offset',\n",
       "       'event_timestamp', 'geo__city', 'geo__continent', 'geo__country',\n",
       "       'geo__metro', 'geo__region', 'geo__sub_continent', 'platform',\n",
       "       'stream_id', 'traffic_source__medium', 'traffic_source__name',\n",
       "       'traffic_source__source', 'user_first_touch_timestamp',\n",
       "       'user_properties__first_open_time', 'user_properties__ga_session_id',\n",
       "       'user_properties__ga_session_number', 'user_pseudo_id'],\n",
       "      dtype='object')"
      ]
     },
     "execution_count": 83,
     "metadata": {},
     "output_type": "execute_result"
    }
   ],
   "source": [
    "dropany_df.columns"
   ]
  },
  {
   "cell_type": "code",
   "execution_count": 85,
   "id": "effective-start",
   "metadata": {},
   "outputs": [
    {
     "data": {
      "text/plain": [
       "screen_view        615\n",
       "user_engagement    345\n",
       "session_start       25\n",
       "first_open           5\n",
       "os_update            5\n",
       "app_update           5\n",
       "Name: event_name, dtype: int64"
      ]
     },
     "execution_count": 85,
     "metadata": {},
     "output_type": "execute_result"
    }
   ],
   "source": [
    "dropany_df.event_name.value_counts()\n",
    "#what is the def of these categories?"
   ]
  },
  {
   "cell_type": "code",
   "execution_count": 93,
   "id": "provincial-chuck",
   "metadata": {},
   "outputs": [
    {
     "data": {
      "text/plain": [
       "AA38C84A3E1442048F72096A4621C17A    515\n",
       "408BAF780ACD4F53B3F245E87ABF44A8     72\n",
       "1AE4EF46D71643F386340D1630CC6082     59\n",
       "C014B9176D834F9BBABE0ADCB8CE5AD6     53\n",
       "0528B26980524C1F9ABC1E4C774F166F     46\n",
       "E992B0A12520496E907C49B34D5D06AA     37\n",
       "13C48EA918E847E1B244EB71A4C26D1C     34\n",
       "A1C4AB74010F44AF810FC0C27DB2CEED     26\n",
       "79FF838CEE1A46D8BDEFDF592E0C705C     26\n",
       "CF7EADF45A224C1E9DEDF65BE9CDD3BA     24\n",
       "028CB403405B4A12B4485F19269A82B3     24\n",
       "CE056F19B87545C0A5AA24CBF89C0A3B     16\n",
       "3B95E8EE13824C758CEF5922F38C5223     15\n",
       "BD05492D137A4320AAB293DEEB0ACEB1      9\n",
       "EC830E447FE74E2CAD9894D0F8AEA9EA      8\n",
       "C9A8CC50D22D469DB0F2C874C6AD046C      8\n",
       "CEA6AB178A20458D9BBC81607665D7D7      8\n",
       "AA431089D4094D95AAC16ACB266F245F      8\n",
       "5DE009489F844FF18959E60EB836B00B      7\n",
       "72F32A73B229415FBF37B36DFD104A24      4\n",
       "FD7E053248C94B5BB31CC094C1AE0B18      1\n",
       "Name: user_pseudo_id, dtype: int64"
      ]
     },
     "execution_count": 93,
     "metadata": {},
     "output_type": "execute_result"
    }
   ],
   "source": [
    "dropany_df.user_pseudo_id.value_counts()"
   ]
  },
  {
   "cell_type": "markdown",
   "id": "immune-boost",
   "metadata": {},
   "source": [
    "# user analysis"
   ]
  },
  {
   "cell_type": "code",
   "execution_count": 91,
   "id": "tamil-population",
   "metadata": {},
   "outputs": [],
   "source": [
    "user1 = dropany_df[dropany_df['user_pseudo_id'] == '1AE4EF46D71643F386340D1630CC6082']"
   ]
  },
  {
   "cell_type": "code",
   "execution_count": 95,
   "id": "turned-medium",
   "metadata": {},
   "outputs": [],
   "source": [
    "user2 = dropany_df[dropany_df['user_pseudo_id'] == 'AA38C84A3E1442048F72096A4621C17A']"
   ]
  },
  {
   "cell_type": "code",
   "execution_count": 120,
   "id": "freelance-ukraine",
   "metadata": {
    "scrolled": true
   },
   "outputs": [
    {
     "name": "stderr",
     "output_type": "stream",
     "text": [
      "/Users/djbetts/opt/anaconda3/lib/python3.7/site-packages/pandas/core/generic.py:5494: SettingWithCopyWarning: \n",
      "A value is trying to be set on a copy of a slice from a DataFrame.\n",
      "Try using .loc[row_indexer,col_indexer] = value instead\n",
      "\n",
      "See the caveats in the documentation: https://pandas.pydata.org/pandas-docs/stable/user_guide/indexing.html#returning-a-view-versus-a-copy\n",
      "  self[name] = value\n"
     ]
    }
   ],
   "source": [
    "user2.event_timestamp = user2.event_timestamp.apply(pd.to_datetime)"
   ]
  },
  {
   "cell_type": "code",
   "execution_count": 135,
   "id": "experimental-environment",
   "metadata": {},
   "outputs": [
    {
     "data": {
      "text/plain": [
       "209    Guatemala City\n",
       "210    Guatemala City\n",
       "211    Guatemala City\n",
       "212    Guatemala City\n",
       "213    Guatemala City\n",
       "            ...      \n",
       "719    Guatemala City\n",
       "720    Guatemala City\n",
       "721    Guatemala City\n",
       "722    Guatemala City\n",
       "723    Guatemala City\n",
       "Name: geo__city, Length: 515, dtype: object"
      ]
     },
     "execution_count": 135,
     "metadata": {},
     "output_type": "execute_result"
    }
   ],
   "source": [
    "user2.geo__city"
   ]
  },
  {
   "cell_type": "code",
   "execution_count": 145,
   "id": "surprised-tobago",
   "metadata": {},
   "outputs": [
    {
     "data": {
      "text/plain": [
       "Index(['app_info__firebase_app_id', 'app_info__id', 'app_info__install_source',\n",
       "       'app_info__version', 'device__category',\n",
       "       'device__is_limited_ad_tracking', 'device__language',\n",
       "       'device__mobile_brand_name', 'device__mobile_model_name',\n",
       "       'device__mobile_os_hardware_model', 'device__operating_system',\n",
       "       'device__operating_system_version', 'device__time_zone_offset_seconds',\n",
       "       'device__vendor_id', 'event_bundle_sequence_id', 'event_date',\n",
       "       'event_date_partition', 'event_name',\n",
       "       'event_params__engagement_time_msec',\n",
       "       'event_params__firebase_conversion',\n",
       "       'event_params__firebase_event_origin',\n",
       "       'event_params__firebase_previous_class',\n",
       "       'event_params__firebase_previous_id',\n",
       "       'event_params__firebase_previous_screen',\n",
       "       'event_params__firebase_screen', 'event_params__firebase_screen_class',\n",
       "       'event_params__firebase_screen_id', 'event_params__ga_session_id',\n",
       "       'event_params__ga_session_number', 'event_params__previous_app_version',\n",
       "       'event_previous_timestamp', 'event_server_timestamp_offset',\n",
       "       'event_timestamp', 'geo__city', 'geo__continent', 'geo__country',\n",
       "       'geo__metro', 'geo__region', 'geo__sub_continent', 'platform',\n",
       "       'stream_id', 'traffic_source__medium', 'traffic_source__name',\n",
       "       'traffic_source__source', 'user_first_touch_timestamp',\n",
       "       'user_properties__first_open_time', 'user_properties__ga_session_id',\n",
       "       'user_properties__ga_session_number', 'user_pseudo_id'],\n",
       "      dtype='object')"
      ]
     },
     "execution_count": 145,
     "metadata": {},
     "output_type": "execute_result"
    }
   ],
   "source": [
    "user2.columns"
   ]
  },
  {
   "cell_type": "code",
   "execution_count": 168,
   "id": "coordinated-transition",
   "metadata": {},
   "outputs": [
    {
     "data": {
      "text/plain": [
       "1047823159    59\n",
       "Name: stream_id, dtype: int64"
      ]
     },
     "execution_count": 168,
     "metadata": {},
     "output_type": "execute_result"
    }
   ],
   "source": [
    "user1.stream_id.value_counts()"
   ]
  },
  {
   "cell_type": "code",
   "execution_count": 169,
   "id": "smoking-spending",
   "metadata": {},
   "outputs": [
    {
     "data": {
      "text/plain": [
       "1047823159    515\n",
       "Name: stream_id, dtype: int64"
      ]
     },
     "execution_count": 169,
     "metadata": {},
     "output_type": "execute_result"
    }
   ],
   "source": [
    "user2.stream_id.value_counts()"
   ]
  },
  {
   "cell_type": "code",
   "execution_count": 170,
   "id": "stretch-claim",
   "metadata": {},
   "outputs": [],
   "source": [
    "user3 = dropany_df[dropany_df['user_pseudo_id'] == '408BAF780ACD4F53B3F245E87ABF44A8']"
   ]
  },
  {
   "cell_type": "code",
   "execution_count": 183,
   "id": "healthy-heart",
   "metadata": {},
   "outputs": [
    {
     "data": {
      "text/plain": [
       "app_info__firebase_app_id                  1:669642571883:ios:6fdb444e28614bfb\n",
       "app_info__id                                  com.InspirationalFilms.JesusFilm\n",
       "app_info__install_source                                                iTunes\n",
       "app_info__version                                                      3.18.07\n",
       "device__category                                                        mobile\n",
       "device__is_limited_ad_tracking                                             Yes\n",
       "device__language                                                         fr-fr\n",
       "device__mobile_brand_name                                                Apple\n",
       "device__mobile_model_name                                            iPhone 6s\n",
       "device__mobile_os_hardware_model                                     iPhone8,1\n",
       "device__operating_system                                                   IOS\n",
       "device__operating_system_version                                        14.0.1\n",
       "device__time_zone_offset_seconds                                          7200\n",
       "device__vendor_id                         6F9344C1-A9D1-4724-8B62-5349466BDD49\n",
       "event_bundle_sequence_id                                                     3\n",
       "event_date                                                            20201008\n",
       "event_date_partition                                       2020-10-08T00:00:00\n",
       "event_name                                                         screen_view\n",
       "event_params__engagement_time_msec                                         NaN\n",
       "event_params__firebase_conversion                                          NaN\n",
       "event_params__firebase_event_origin                                       auto\n",
       "event_params__firebase_previous_class             OnboardingPageViewController\n",
       "event_params__firebase_previous_id                      -3812300459444385280.0\n",
       "event_params__firebase_previous_screen                     Onboarding Screen 2\n",
       "event_params__firebase_screen                              Onboarding Screen 4\n",
       "event_params__firebase_screen_class        OnboardingPageContentViewController\n",
       "event_params__firebase_screen_id                        -3812300459444385280.0\n",
       "event_params__ga_session_id                                       1602158236.0\n",
       "event_params__ga_session_number                                            1.0\n",
       "event_params__previous_app_version                                         NaN\n",
       "event_previous_timestamp                                    1602158263196006.0\n",
       "event_server_timestamp_offset                                           312193\n",
       "event_timestamp                                               1602158263206006\n",
       "geo__city                                                             Bordeaux\n",
       "geo__continent                                                          Europe\n",
       "geo__country                                                            France\n",
       "geo__metro                                                           (not set)\n",
       "geo__region                                                 Nouvelle-Aquitaine\n",
       "geo__sub_continent                                              Western Europe\n",
       "platform                                                                   IOS\n",
       "stream_id                                                           1047823159\n",
       "traffic_source__medium                                                  (none)\n",
       "traffic_source__name                                                  (direct)\n",
       "traffic_source__source                                                (direct)\n",
       "user_first_touch_timestamp                                    1602158236168000\n",
       "user_properties__first_open_time                                 1602158400000\n",
       "user_properties__ga_session_id                                    1602158236.0\n",
       "user_properties__ga_session_number                                         1.0\n",
       "user_pseudo_id                                408BAF780ACD4F53B3F245E87ABF44A8\n",
       "Name: 74, dtype: object"
      ]
     },
     "execution_count": 183,
     "metadata": {},
     "output_type": "execute_result"
    }
   ],
   "source": [
    "user3.iloc[0]"
   ]
  },
  {
   "cell_type": "code",
   "execution_count": 184,
   "id": "otherwise-above",
   "metadata": {},
   "outputs": [
    {
     "data": {
      "text/plain": [
       "74     3\n",
       "75     4\n",
       "76     3\n",
       "77     3\n",
       "78     3\n",
       "      ..\n",
       "141    3\n",
       "142    3\n",
       "143    4\n",
       "144    4\n",
       "145    3\n",
       "Name: event_bundle_sequence_id, Length: 72, dtype: int64"
      ]
     },
     "execution_count": 184,
     "metadata": {},
     "output_type": "execute_result"
    }
   ],
   "source": [
    "user3.event_bundle_sequence_id"
   ]
  },
  {
   "cell_type": "code",
   "execution_count": 185,
   "id": "powerful-colon",
   "metadata": {},
   "outputs": [],
   "source": [
    "user4 = dropany_df[dropany_df['user_pseudo_id'] == 'FD7E053248C94B5BB31CC094C1AE0B18']"
   ]
  },
  {
   "cell_type": "code",
   "execution_count": 187,
   "id": "maritime-collapse",
   "metadata": {},
   "outputs": [
    {
     "data": {
      "text/plain": [
       "app_info__firebase_app_id                  1:669642571883:ios:6fdb444e28614bfb\n",
       "app_info__id                                  com.InspirationalFilms.JesusFilm\n",
       "app_info__install_source                                                iTunes\n",
       "app_info__version                                                      3.17.07\n",
       "device__category                                                        mobile\n",
       "device__is_limited_ad_tracking                                              No\n",
       "device__language                                                         en-us\n",
       "device__mobile_brand_name                                                Apple\n",
       "device__mobile_model_name                                            iPhone 6s\n",
       "device__mobile_os_hardware_model                                     iPhone8,1\n",
       "device__operating_system                                                   IOS\n",
       "device__operating_system_version                                          13.7\n",
       "device__time_zone_offset_seconds                                        -18000\n",
       "device__vendor_id                         53AE6739-3012-4FE9-B532-0326A699B1CF\n",
       "event_bundle_sequence_id                                                    15\n",
       "event_date                                                            20201008\n",
       "event_date_partition                                       2020-10-08T00:00:00\n",
       "event_name                                                     user_engagement\n",
       "event_params__engagement_time_msec                                         9.0\n",
       "event_params__firebase_conversion                                          NaN\n",
       "event_params__firebase_event_origin                                       auto\n",
       "event_params__firebase_previous_class                                      NaN\n",
       "event_params__firebase_previous_id                                         NaN\n",
       "event_params__firebase_previous_screen                                     NaN\n",
       "event_params__firebase_screen                                              NaN\n",
       "event_params__firebase_screen_class                                        NaN\n",
       "event_params__firebase_screen_id                                           NaN\n",
       "event_params__ga_session_id                                                NaN\n",
       "event_params__ga_session_number                                            NaN\n",
       "event_params__previous_app_version                                         NaN\n",
       "event_previous_timestamp                                    1589256012064000.0\n",
       "event_server_timestamp_offset                                           179837\n",
       "event_timestamp                                               1602199578421000\n",
       "geo__city                                                          Minneapolis\n",
       "geo__continent                                                        Americas\n",
       "geo__country                                                     United States\n",
       "geo__metro                                                           (not set)\n",
       "geo__region                                                          Minnesota\n",
       "geo__sub_continent                                            Northern America\n",
       "platform                                                                   IOS\n",
       "stream_id                                                           1047823159\n",
       "traffic_source__medium                                                  (none)\n",
       "traffic_source__name                                                  (direct)\n",
       "traffic_source__source                                                (direct)\n",
       "user_first_touch_timestamp                                    1572660688296000\n",
       "user_properties__first_open_time                                 1572663600000\n",
       "user_properties__ga_session_id                                             NaN\n",
       "user_properties__ga_session_number                                         NaN\n",
       "user_pseudo_id                                FD7E053248C94B5BB31CC094C1AE0B18\n",
       "Name: 895, dtype: object"
      ]
     },
     "execution_count": 187,
     "metadata": {},
     "output_type": "execute_result"
    }
   ],
   "source": [
    "user4.iloc[0]"
   ]
  },
  {
   "cell_type": "code",
   "execution_count": 190,
   "id": "small-fraud",
   "metadata": {},
   "outputs": [
    {
     "data": {
      "text/plain": [
       "2020-10-08T00:00:00    965\n",
       "2020-10-07T00:00:00     29\n",
       "2020-10-06T00:00:00      6\n",
       "Name: event_date_partition, dtype: int64"
      ]
     },
     "execution_count": 190,
     "metadata": {},
     "output_type": "execute_result"
    }
   ],
   "source": [
    "dropany_df.event_date_partition.value_counts()"
   ]
  },
  {
   "cell_type": "code",
   "execution_count": 191,
   "id": "accredited-legislation",
   "metadata": {},
   "outputs": [],
   "source": [
    "austin_csv = pd.read_csv('/Users/djbetts/Desktop/jf_project/austin_dataset.csv')"
   ]
  },
  {
   "cell_type": "code",
   "execution_count": 192,
   "id": "surface-authority",
   "metadata": {},
   "outputs": [],
   "source": [
    "austin_df = austin_csv.copy()"
   ]
  },
  {
   "cell_type": "code",
   "execution_count": 193,
   "id": "beginning-intro",
   "metadata": {},
   "outputs": [
    {
     "data": {
      "text/plain": [
       "(1000, 204)"
      ]
     },
     "execution_count": 193,
     "metadata": {},
     "output_type": "execute_result"
    }
   ],
   "source": [
    "austin_df.shape"
   ]
  },
  {
   "cell_type": "code",
   "execution_count": 206,
   "id": "registered-showcase",
   "metadata": {},
   "outputs": [],
   "source": [
    "austindrop_df = austin_df.dropna(axis='columns', how='any')"
   ]
  },
  {
   "cell_type": "code",
   "execution_count": 207,
   "id": "broken-carol",
   "metadata": {},
   "outputs": [
    {
     "data": {
      "text/plain": [
       "(1000, 21)"
      ]
     },
     "execution_count": 207,
     "metadata": {},
     "output_type": "execute_result"
    }
   ],
   "source": [
    "austindrop_df.shape"
   ]
  },
  {
   "cell_type": "code",
   "execution_count": 209,
   "id": "tight-belarus",
   "metadata": {},
   "outputs": [
    {
     "data": {
      "text/plain": [
       "Index(['device__category', 'device__is_limited_ad_tracking',\n",
       "       'device__language', 'device__operating_system',\n",
       "       'event_bundle_sequence_id', 'event_date', 'event_date_partition',\n",
       "       'event_name', 'event_timestamp', 'geo__city', 'geo__continent',\n",
       "       'geo__country', 'geo__metro', 'geo__region', 'geo__sub_continent',\n",
       "       'platform', 'stream_id', 'traffic_source__medium',\n",
       "       'traffic_source__source', 'user_first_touch_timestamp',\n",
       "       'user_pseudo_id'],\n",
       "      dtype='object')"
      ]
     },
     "execution_count": 209,
     "metadata": {},
     "output_type": "execute_result"
    }
   ],
   "source": [
    "austindrop_df.columns"
   ]
  },
  {
   "cell_type": "code",
   "execution_count": 212,
   "id": "accredited-princeton",
   "metadata": {},
   "outputs": [
    {
     "data": {
      "text/plain": [
       "be1c6bd7b275d81bbeab423055f4ab8d    47\n",
       "09D278E9375D4AEA8BE3416EBF2A90C1    33\n",
       "286805041.1615869113                28\n",
       "89AA3EB5C7A7454581E415483D30CDA1    26\n",
       "3d33e9869d10aa68a6a9fe44362f31db    24\n",
       "                                    ..\n",
       "293983643.1608921892                 1\n",
       "1593797128.1609250225                1\n",
       "125729882.1609217922                 1\n",
       "460024582.1608132144                 1\n",
       "1260974197.1608013094                1\n",
       "Name: user_pseudo_id, Length: 362, dtype: int64"
      ]
     },
     "execution_count": 212,
     "metadata": {},
     "output_type": "execute_result"
    }
   ],
   "source": [
    "austindrop_df.user_pseudo_id.value_counts()"
   ]
  },
  {
   "cell_type": "code",
   "execution_count": 218,
   "id": "qualified-brown",
   "metadata": {},
   "outputs": [],
   "source": [
    "df = austindrop_df"
   ]
  },
  {
   "cell_type": "code",
   "execution_count": 219,
   "id": "continental-concentration",
   "metadata": {},
   "outputs": [],
   "source": [
    "user1 = df[df.user_pseudo_id == 'be1c6bd7b275d81bbeab423055f4ab8d']"
   ]
  },
  {
   "cell_type": "code",
   "execution_count": 221,
   "id": "wrapped-hospital",
   "metadata": {},
   "outputs": [],
   "source": [
    "user2 = df[df.user_pseudo_id == '09D278E9375D4AEA8BE3416EBF2A90C1']"
   ]
  },
  {
   "cell_type": "code",
   "execution_count": 223,
   "id": "brazilian-nigeria",
   "metadata": {},
   "outputs": [],
   "source": [
    "user3 = df[df.user_pseudo_id == '286805041.1615869113']"
   ]
  },
  {
   "cell_type": "code",
   "execution_count": 224,
   "id": "pressing-integrity",
   "metadata": {},
   "outputs": [
    {
     "data": {
      "text/html": [
       "<div>\n",
       "<style scoped>\n",
       "    .dataframe tbody tr th:only-of-type {\n",
       "        vertical-align: middle;\n",
       "    }\n",
       "\n",
       "    .dataframe tbody tr th {\n",
       "        vertical-align: top;\n",
       "    }\n",
       "\n",
       "    .dataframe thead th {\n",
       "        text-align: right;\n",
       "    }\n",
       "</style>\n",
       "<table border=\"1\" class=\"dataframe\">\n",
       "  <thead>\n",
       "    <tr style=\"text-align: right;\">\n",
       "      <th></th>\n",
       "      <th>device__category</th>\n",
       "      <th>device__is_limited_ad_tracking</th>\n",
       "      <th>device__language</th>\n",
       "      <th>device__operating_system</th>\n",
       "      <th>event_bundle_sequence_id</th>\n",
       "      <th>event_date</th>\n",
       "      <th>event_date_partition</th>\n",
       "      <th>event_name</th>\n",
       "      <th>event_timestamp</th>\n",
       "      <th>geo__city</th>\n",
       "      <th>...</th>\n",
       "      <th>geo__country</th>\n",
       "      <th>geo__metro</th>\n",
       "      <th>geo__region</th>\n",
       "      <th>geo__sub_continent</th>\n",
       "      <th>platform</th>\n",
       "      <th>stream_id</th>\n",
       "      <th>traffic_source__medium</th>\n",
       "      <th>traffic_source__source</th>\n",
       "      <th>user_first_touch_timestamp</th>\n",
       "      <th>user_pseudo_id</th>\n",
       "    </tr>\n",
       "  </thead>\n",
       "  <tbody>\n",
       "    <tr>\n",
       "      <th>14</th>\n",
       "      <td>mobile</td>\n",
       "      <td>No</td>\n",
       "      <td>en-us</td>\n",
       "      <td>Android</td>\n",
       "      <td>-271676277</td>\n",
       "      <td>20210316</td>\n",
       "      <td>2021-03-16T00:00:00</td>\n",
       "      <td>page_view</td>\n",
       "      <td>1615869504294027</td>\n",
       "      <td>Austin</td>\n",
       "      <td>...</td>\n",
       "      <td>United States</td>\n",
       "      <td>(not set)</td>\n",
       "      <td>Texas</td>\n",
       "      <td>Northern America</td>\n",
       "      <td>WEB</td>\n",
       "      <td>2042493254</td>\n",
       "      <td>(none)</td>\n",
       "      <td>(direct)</td>\n",
       "      <td>1615869113566321</td>\n",
       "      <td>286805041.1615869113</td>\n",
       "    </tr>\n",
       "    <tr>\n",
       "      <th>15</th>\n",
       "      <td>mobile</td>\n",
       "      <td>No</td>\n",
       "      <td>en-us</td>\n",
       "      <td>Android</td>\n",
       "      <td>-249564009</td>\n",
       "      <td>20210316</td>\n",
       "      <td>2021-03-16T00:00:00</td>\n",
       "      <td>videoplay</td>\n",
       "      <td>1615869526406295</td>\n",
       "      <td>Austin</td>\n",
       "      <td>...</td>\n",
       "      <td>United States</td>\n",
       "      <td>(not set)</td>\n",
       "      <td>Texas</td>\n",
       "      <td>Northern America</td>\n",
       "      <td>WEB</td>\n",
       "      <td>2042493254</td>\n",
       "      <td>(none)</td>\n",
       "      <td>(direct)</td>\n",
       "      <td>1615869113566321</td>\n",
       "      <td>286805041.1615869113</td>\n",
       "    </tr>\n",
       "    <tr>\n",
       "      <th>16</th>\n",
       "      <td>mobile</td>\n",
       "      <td>No</td>\n",
       "      <td>en-us</td>\n",
       "      <td>Android</td>\n",
       "      <td>-126205318</td>\n",
       "      <td>20210316</td>\n",
       "      <td>2021-03-16T00:00:00</td>\n",
       "      <td>user_engagement</td>\n",
       "      <td>1615869649764986</td>\n",
       "      <td>Austin</td>\n",
       "      <td>...</td>\n",
       "      <td>United States</td>\n",
       "      <td>(not set)</td>\n",
       "      <td>Texas</td>\n",
       "      <td>Northern America</td>\n",
       "      <td>WEB</td>\n",
       "      <td>2042493254</td>\n",
       "      <td>(none)</td>\n",
       "      <td>(direct)</td>\n",
       "      <td>1615869113566321</td>\n",
       "      <td>286805041.1615869113</td>\n",
       "    </tr>\n",
       "    <tr>\n",
       "      <th>17</th>\n",
       "      <td>mobile</td>\n",
       "      <td>No</td>\n",
       "      <td>en-us</td>\n",
       "      <td>Android</td>\n",
       "      <td>-445242689</td>\n",
       "      <td>20210316</td>\n",
       "      <td>2021-03-16T00:00:00</td>\n",
       "      <td>page_view</td>\n",
       "      <td>1615869330727615</td>\n",
       "      <td>Austin</td>\n",
       "      <td>...</td>\n",
       "      <td>United States</td>\n",
       "      <td>(not set)</td>\n",
       "      <td>Texas</td>\n",
       "      <td>Northern America</td>\n",
       "      <td>WEB</td>\n",
       "      <td>2042493254</td>\n",
       "      <td>(none)</td>\n",
       "      <td>(direct)</td>\n",
       "      <td>1615869113566321</td>\n",
       "      <td>286805041.1615869113</td>\n",
       "    </tr>\n",
       "    <tr>\n",
       "      <th>20</th>\n",
       "      <td>mobile</td>\n",
       "      <td>No</td>\n",
       "      <td>en-us</td>\n",
       "      <td>Android</td>\n",
       "      <td>-403147499</td>\n",
       "      <td>20210316</td>\n",
       "      <td>2021-03-16T00:00:00</td>\n",
       "      <td>page_view</td>\n",
       "      <td>1615869372822805</td>\n",
       "      <td>Austin</td>\n",
       "      <td>...</td>\n",
       "      <td>United States</td>\n",
       "      <td>(not set)</td>\n",
       "      <td>Texas</td>\n",
       "      <td>Northern America</td>\n",
       "      <td>WEB</td>\n",
       "      <td>2042493254</td>\n",
       "      <td>(none)</td>\n",
       "      <td>(direct)</td>\n",
       "      <td>1615869113566321</td>\n",
       "      <td>286805041.1615869113</td>\n",
       "    </tr>\n",
       "    <tr>\n",
       "      <th>21</th>\n",
       "      <td>mobile</td>\n",
       "      <td>No</td>\n",
       "      <td>en-us</td>\n",
       "      <td>Android</td>\n",
       "      <td>-356342383</td>\n",
       "      <td>20210316</td>\n",
       "      <td>2021-03-16T00:00:00</td>\n",
       "      <td>videostarts</td>\n",
       "      <td>1615869419627921</td>\n",
       "      <td>Austin</td>\n",
       "      <td>...</td>\n",
       "      <td>United States</td>\n",
       "      <td>(not set)</td>\n",
       "      <td>Texas</td>\n",
       "      <td>Northern America</td>\n",
       "      <td>WEB</td>\n",
       "      <td>2042493254</td>\n",
       "      <td>(none)</td>\n",
       "      <td>(direct)</td>\n",
       "      <td>1615869113566321</td>\n",
       "      <td>286805041.1615869113</td>\n",
       "    </tr>\n",
       "    <tr>\n",
       "      <th>25</th>\n",
       "      <td>mobile</td>\n",
       "      <td>No</td>\n",
       "      <td>en-us</td>\n",
       "      <td>Android</td>\n",
       "      <td>-662403983</td>\n",
       "      <td>20210316</td>\n",
       "      <td>2021-03-16T00:00:00</td>\n",
       "      <td>page_view</td>\n",
       "      <td>1615869113566321</td>\n",
       "      <td>Austin</td>\n",
       "      <td>...</td>\n",
       "      <td>United States</td>\n",
       "      <td>(not set)</td>\n",
       "      <td>Texas</td>\n",
       "      <td>Northern America</td>\n",
       "      <td>WEB</td>\n",
       "      <td>2042493254</td>\n",
       "      <td>(none)</td>\n",
       "      <td>(direct)</td>\n",
       "      <td>1615869113566321</td>\n",
       "      <td>286805041.1615869113</td>\n",
       "    </tr>\n",
       "    <tr>\n",
       "      <th>29</th>\n",
       "      <td>mobile</td>\n",
       "      <td>No</td>\n",
       "      <td>en-us</td>\n",
       "      <td>Android</td>\n",
       "      <td>-408709640</td>\n",
       "      <td>20210316</td>\n",
       "      <td>2021-03-16T00:00:00</td>\n",
       "      <td>user_engagement</td>\n",
       "      <td>1615869367260664</td>\n",
       "      <td>Austin</td>\n",
       "      <td>...</td>\n",
       "      <td>United States</td>\n",
       "      <td>(not set)</td>\n",
       "      <td>Texas</td>\n",
       "      <td>Northern America</td>\n",
       "      <td>WEB</td>\n",
       "      <td>2042493254</td>\n",
       "      <td>(none)</td>\n",
       "      <td>(direct)</td>\n",
       "      <td>1615869113566321</td>\n",
       "      <td>286805041.1615869113</td>\n",
       "    </tr>\n",
       "    <tr>\n",
       "      <th>38</th>\n",
       "      <td>mobile</td>\n",
       "      <td>No</td>\n",
       "      <td>en-us</td>\n",
       "      <td>Android</td>\n",
       "      <td>-662403983</td>\n",
       "      <td>20210316</td>\n",
       "      <td>2021-03-16T00:00:00</td>\n",
       "      <td>session_start</td>\n",
       "      <td>1615869113566321</td>\n",
       "      <td>Austin</td>\n",
       "      <td>...</td>\n",
       "      <td>United States</td>\n",
       "      <td>(not set)</td>\n",
       "      <td>Texas</td>\n",
       "      <td>Northern America</td>\n",
       "      <td>WEB</td>\n",
       "      <td>2042493254</td>\n",
       "      <td>(none)</td>\n",
       "      <td>(direct)</td>\n",
       "      <td>1615869113566321</td>\n",
       "      <td>286805041.1615869113</td>\n",
       "    </tr>\n",
       "    <tr>\n",
       "      <th>42</th>\n",
       "      <td>mobile</td>\n",
       "      <td>No</td>\n",
       "      <td>en-us</td>\n",
       "      <td>Android</td>\n",
       "      <td>-128949578</td>\n",
       "      <td>20210316</td>\n",
       "      <td>2021-03-16T00:00:00</td>\n",
       "      <td>page_view</td>\n",
       "      <td>1615869647020726</td>\n",
       "      <td>Austin</td>\n",
       "      <td>...</td>\n",
       "      <td>United States</td>\n",
       "      <td>(not set)</td>\n",
       "      <td>Texas</td>\n",
       "      <td>Northern America</td>\n",
       "      <td>WEB</td>\n",
       "      <td>2042493254</td>\n",
       "      <td>(none)</td>\n",
       "      <td>(direct)</td>\n",
       "      <td>1615869113566321</td>\n",
       "      <td>286805041.1615869113</td>\n",
       "    </tr>\n",
       "    <tr>\n",
       "      <th>43</th>\n",
       "      <td>mobile</td>\n",
       "      <td>No</td>\n",
       "      <td>en-us</td>\n",
       "      <td>Android</td>\n",
       "      <td>-638379778</td>\n",
       "      <td>20210316</td>\n",
       "      <td>2021-03-16T00:00:00</td>\n",
       "      <td>page_view</td>\n",
       "      <td>1615869137590526</td>\n",
       "      <td>Austin</td>\n",
       "      <td>...</td>\n",
       "      <td>United States</td>\n",
       "      <td>(not set)</td>\n",
       "      <td>Texas</td>\n",
       "      <td>Northern America</td>\n",
       "      <td>WEB</td>\n",
       "      <td>2042493254</td>\n",
       "      <td>(none)</td>\n",
       "      <td>(direct)</td>\n",
       "      <td>1615869113566321</td>\n",
       "      <td>286805041.1615869113</td>\n",
       "    </tr>\n",
       "    <tr>\n",
       "      <th>48</th>\n",
       "      <td>mobile</td>\n",
       "      <td>No</td>\n",
       "      <td>en-us</td>\n",
       "      <td>Android</td>\n",
       "      <td>-120637591</td>\n",
       "      <td>20210316</td>\n",
       "      <td>2021-03-16T00:00:00</td>\n",
       "      <td>page_view</td>\n",
       "      <td>1615869655332713</td>\n",
       "      <td>Austin</td>\n",
       "      <td>...</td>\n",
       "      <td>United States</td>\n",
       "      <td>(not set)</td>\n",
       "      <td>Texas</td>\n",
       "      <td>Northern America</td>\n",
       "      <td>WEB</td>\n",
       "      <td>2042493254</td>\n",
       "      <td>(none)</td>\n",
       "      <td>(direct)</td>\n",
       "      <td>1615869113566321</td>\n",
       "      <td>286805041.1615869113</td>\n",
       "    </tr>\n",
       "    <tr>\n",
       "      <th>53</th>\n",
       "      <td>mobile</td>\n",
       "      <td>No</td>\n",
       "      <td>en-us</td>\n",
       "      <td>Android</td>\n",
       "      <td>-134679118</td>\n",
       "      <td>20210316</td>\n",
       "      <td>2021-03-16T00:00:00</td>\n",
       "      <td>activity_completes</td>\n",
       "      <td>1615869641291186</td>\n",
       "      <td>Austin</td>\n",
       "      <td>...</td>\n",
       "      <td>United States</td>\n",
       "      <td>(not set)</td>\n",
       "      <td>Texas</td>\n",
       "      <td>Northern America</td>\n",
       "      <td>WEB</td>\n",
       "      <td>2042493254</td>\n",
       "      <td>(none)</td>\n",
       "      <td>(direct)</td>\n",
       "      <td>1615869113566321</td>\n",
       "      <td>286805041.1615869113</td>\n",
       "    </tr>\n",
       "    <tr>\n",
       "      <th>54</th>\n",
       "      <td>mobile</td>\n",
       "      <td>No</td>\n",
       "      <td>en-us</td>\n",
       "      <td>Android</td>\n",
       "      <td>-111715693</td>\n",
       "      <td>20210316</td>\n",
       "      <td>2021-03-16T00:00:00</td>\n",
       "      <td>page_view</td>\n",
       "      <td>1615869664254611</td>\n",
       "      <td>Austin</td>\n",
       "      <td>...</td>\n",
       "      <td>United States</td>\n",
       "      <td>(not set)</td>\n",
       "      <td>Texas</td>\n",
       "      <td>Northern America</td>\n",
       "      <td>WEB</td>\n",
       "      <td>2042493254</td>\n",
       "      <td>(none)</td>\n",
       "      <td>(direct)</td>\n",
       "      <td>1615869113566321</td>\n",
       "      <td>286805041.1615869113</td>\n",
       "    </tr>\n",
       "    <tr>\n",
       "      <th>56</th>\n",
       "      <td>mobile</td>\n",
       "      <td>No</td>\n",
       "      <td>en-us</td>\n",
       "      <td>Android</td>\n",
       "      <td>-451402160</td>\n",
       "      <td>20210316</td>\n",
       "      <td>2021-03-16T00:00:00</td>\n",
       "      <td>user_engagement</td>\n",
       "      <td>1615869324568144</td>\n",
       "      <td>Austin</td>\n",
       "      <td>...</td>\n",
       "      <td>United States</td>\n",
       "      <td>(not set)</td>\n",
       "      <td>Texas</td>\n",
       "      <td>Northern America</td>\n",
       "      <td>WEB</td>\n",
       "      <td>2042493254</td>\n",
       "      <td>(none)</td>\n",
       "      <td>(direct)</td>\n",
       "      <td>1615869113566321</td>\n",
       "      <td>286805041.1615869113</td>\n",
       "    </tr>\n",
       "    <tr>\n",
       "      <th>58</th>\n",
       "      <td>mobile</td>\n",
       "      <td>No</td>\n",
       "      <td>en-us</td>\n",
       "      <td>Android</td>\n",
       "      <td>-249564009</td>\n",
       "      <td>20210316</td>\n",
       "      <td>2021-03-16T00:00:00</td>\n",
       "      <td>videostarts</td>\n",
       "      <td>1615869526406295</td>\n",
       "      <td>Austin</td>\n",
       "      <td>...</td>\n",
       "      <td>United States</td>\n",
       "      <td>(not set)</td>\n",
       "      <td>Texas</td>\n",
       "      <td>Northern America</td>\n",
       "      <td>WEB</td>\n",
       "      <td>2042493254</td>\n",
       "      <td>(none)</td>\n",
       "      <td>(direct)</td>\n",
       "      <td>1615869113566321</td>\n",
       "      <td>286805041.1615869113</td>\n",
       "    </tr>\n",
       "    <tr>\n",
       "      <th>61</th>\n",
       "      <td>mobile</td>\n",
       "      <td>No</td>\n",
       "      <td>en-us</td>\n",
       "      <td>Android</td>\n",
       "      <td>-361831013</td>\n",
       "      <td>20210316</td>\n",
       "      <td>2021-03-16T00:00:00</td>\n",
       "      <td>page_view</td>\n",
       "      <td>1615869414139291</td>\n",
       "      <td>Austin</td>\n",
       "      <td>...</td>\n",
       "      <td>United States</td>\n",
       "      <td>(not set)</td>\n",
       "      <td>Texas</td>\n",
       "      <td>Northern America</td>\n",
       "      <td>WEB</td>\n",
       "      <td>2042493254</td>\n",
       "      <td>(none)</td>\n",
       "      <td>(direct)</td>\n",
       "      <td>1615869113566321</td>\n",
       "      <td>286805041.1615869113</td>\n",
       "    </tr>\n",
       "    <tr>\n",
       "      <th>62</th>\n",
       "      <td>mobile</td>\n",
       "      <td>No</td>\n",
       "      <td>en-us</td>\n",
       "      <td>Android</td>\n",
       "      <td>-303984531</td>\n",
       "      <td>20210316</td>\n",
       "      <td>2021-03-16T00:00:00</td>\n",
       "      <td>activity_completes</td>\n",
       "      <td>1615869471985773</td>\n",
       "      <td>Austin</td>\n",
       "      <td>...</td>\n",
       "      <td>United States</td>\n",
       "      <td>(not set)</td>\n",
       "      <td>Texas</td>\n",
       "      <td>Northern America</td>\n",
       "      <td>WEB</td>\n",
       "      <td>2042493254</td>\n",
       "      <td>(none)</td>\n",
       "      <td>(direct)</td>\n",
       "      <td>1615869113566321</td>\n",
       "      <td>286805041.1615869113</td>\n",
       "    </tr>\n",
       "    <tr>\n",
       "      <th>66</th>\n",
       "      <td>mobile</td>\n",
       "      <td>No</td>\n",
       "      <td>en-us</td>\n",
       "      <td>Android</td>\n",
       "      <td>-500252821</td>\n",
       "      <td>20210316</td>\n",
       "      <td>2021-03-16T00:00:00</td>\n",
       "      <td>scroll</td>\n",
       "      <td>1615869275717483</td>\n",
       "      <td>Austin</td>\n",
       "      <td>...</td>\n",
       "      <td>United States</td>\n",
       "      <td>(not set)</td>\n",
       "      <td>Texas</td>\n",
       "      <td>Northern America</td>\n",
       "      <td>WEB</td>\n",
       "      <td>2042493254</td>\n",
       "      <td>(none)</td>\n",
       "      <td>(direct)</td>\n",
       "      <td>1615869113566321</td>\n",
       "      <td>286805041.1615869113</td>\n",
       "    </tr>\n",
       "    <tr>\n",
       "      <th>67</th>\n",
       "      <td>mobile</td>\n",
       "      <td>No</td>\n",
       "      <td>en-us</td>\n",
       "      <td>Android</td>\n",
       "      <td>-457028857</td>\n",
       "      <td>20210316</td>\n",
       "      <td>2021-03-16T00:00:00</td>\n",
       "      <td>user_engagement</td>\n",
       "      <td>1615869318941447</td>\n",
       "      <td>Austin</td>\n",
       "      <td>...</td>\n",
       "      <td>United States</td>\n",
       "      <td>(not set)</td>\n",
       "      <td>Texas</td>\n",
       "      <td>Northern America</td>\n",
       "      <td>WEB</td>\n",
       "      <td>2042493254</td>\n",
       "      <td>(none)</td>\n",
       "      <td>(direct)</td>\n",
       "      <td>1615869113566321</td>\n",
       "      <td>286805041.1615869113</td>\n",
       "    </tr>\n",
       "    <tr>\n",
       "      <th>68</th>\n",
       "      <td>mobile</td>\n",
       "      <td>No</td>\n",
       "      <td>en-us</td>\n",
       "      <td>Android</td>\n",
       "      <td>-292950261</td>\n",
       "      <td>20210316</td>\n",
       "      <td>2021-03-16T00:00:00</td>\n",
       "      <td>user_engagement</td>\n",
       "      <td>1615869483020043</td>\n",
       "      <td>Austin</td>\n",
       "      <td>...</td>\n",
       "      <td>United States</td>\n",
       "      <td>(not set)</td>\n",
       "      <td>Texas</td>\n",
       "      <td>Northern America</td>\n",
       "      <td>WEB</td>\n",
       "      <td>2042493254</td>\n",
       "      <td>(none)</td>\n",
       "      <td>(direct)</td>\n",
       "      <td>1615869113566321</td>\n",
       "      <td>286805041.1615869113</td>\n",
       "    </tr>\n",
       "    <tr>\n",
       "      <th>74</th>\n",
       "      <td>mobile</td>\n",
       "      <td>No</td>\n",
       "      <td>en-us</td>\n",
       "      <td>Android</td>\n",
       "      <td>-644838000</td>\n",
       "      <td>20210316</td>\n",
       "      <td>2021-03-16T00:00:00</td>\n",
       "      <td>user_engagement</td>\n",
       "      <td>1615869131132304</td>\n",
       "      <td>Austin</td>\n",
       "      <td>...</td>\n",
       "      <td>United States</td>\n",
       "      <td>(not set)</td>\n",
       "      <td>Texas</td>\n",
       "      <td>Northern America</td>\n",
       "      <td>WEB</td>\n",
       "      <td>2042493254</td>\n",
       "      <td>(none)</td>\n",
       "      <td>(direct)</td>\n",
       "      <td>1615869113566321</td>\n",
       "      <td>286805041.1615869113</td>\n",
       "    </tr>\n",
       "    <tr>\n",
       "      <th>82</th>\n",
       "      <td>mobile</td>\n",
       "      <td>No</td>\n",
       "      <td>en-us</td>\n",
       "      <td>Android</td>\n",
       "      <td>-662403983</td>\n",
       "      <td>20210316</td>\n",
       "      <td>2021-03-16T00:00:00</td>\n",
       "      <td>first_visit</td>\n",
       "      <td>1615869113566321</td>\n",
       "      <td>Austin</td>\n",
       "      <td>...</td>\n",
       "      <td>United States</td>\n",
       "      <td>(not set)</td>\n",
       "      <td>Texas</td>\n",
       "      <td>Northern America</td>\n",
       "      <td>WEB</td>\n",
       "      <td>2042493254</td>\n",
       "      <td>(none)</td>\n",
       "      <td>(direct)</td>\n",
       "      <td>1615869113566321</td>\n",
       "      <td>286805041.1615869113</td>\n",
       "    </tr>\n",
       "    <tr>\n",
       "      <th>83</th>\n",
       "      <td>mobile</td>\n",
       "      <td>No</td>\n",
       "      <td>en-us</td>\n",
       "      <td>Android</td>\n",
       "      <td>-297290735</td>\n",
       "      <td>20210316</td>\n",
       "      <td>2021-03-16T00:00:00</td>\n",
       "      <td>page_view</td>\n",
       "      <td>1615869478679569</td>\n",
       "      <td>Austin</td>\n",
       "      <td>...</td>\n",
       "      <td>United States</td>\n",
       "      <td>(not set)</td>\n",
       "      <td>Texas</td>\n",
       "      <td>Northern America</td>\n",
       "      <td>WEB</td>\n",
       "      <td>2042493254</td>\n",
       "      <td>(none)</td>\n",
       "      <td>(direct)</td>\n",
       "      <td>1615869113566321</td>\n",
       "      <td>286805041.1615869113</td>\n",
       "    </tr>\n",
       "    <tr>\n",
       "      <th>86</th>\n",
       "      <td>mobile</td>\n",
       "      <td>No</td>\n",
       "      <td>en-us</td>\n",
       "      <td>Android</td>\n",
       "      <td>-361831013</td>\n",
       "      <td>20210316</td>\n",
       "      <td>2021-03-16T00:00:00</td>\n",
       "      <td>videoplay</td>\n",
       "      <td>1615869414139291</td>\n",
       "      <td>Austin</td>\n",
       "      <td>...</td>\n",
       "      <td>United States</td>\n",
       "      <td>(not set)</td>\n",
       "      <td>Texas</td>\n",
       "      <td>Northern America</td>\n",
       "      <td>WEB</td>\n",
       "      <td>2042493254</td>\n",
       "      <td>(none)</td>\n",
       "      <td>(direct)</td>\n",
       "      <td>1615869113566321</td>\n",
       "      <td>286805041.1615869113</td>\n",
       "    </tr>\n",
       "    <tr>\n",
       "      <th>89</th>\n",
       "      <td>mobile</td>\n",
       "      <td>No</td>\n",
       "      <td>en-us</td>\n",
       "      <td>Android</td>\n",
       "      <td>-117889054</td>\n",
       "      <td>20210316</td>\n",
       "      <td>2021-03-16T00:00:00</td>\n",
       "      <td>user_engagement</td>\n",
       "      <td>1615869658081250</td>\n",
       "      <td>Austin</td>\n",
       "      <td>...</td>\n",
       "      <td>United States</td>\n",
       "      <td>(not set)</td>\n",
       "      <td>Texas</td>\n",
       "      <td>Northern America</td>\n",
       "      <td>WEB</td>\n",
       "      <td>2042493254</td>\n",
       "      <td>(none)</td>\n",
       "      <td>(direct)</td>\n",
       "      <td>1615869113566321</td>\n",
       "      <td>286805041.1615869113</td>\n",
       "    </tr>\n",
       "    <tr>\n",
       "      <th>93</th>\n",
       "      <td>mobile</td>\n",
       "      <td>No</td>\n",
       "      <td>en-us</td>\n",
       "      <td>Android</td>\n",
       "      <td>-368762708</td>\n",
       "      <td>20210316</td>\n",
       "      <td>2021-03-16T00:00:00</td>\n",
       "      <td>user_engagement</td>\n",
       "      <td>1615869407207596</td>\n",
       "      <td>Austin</td>\n",
       "      <td>...</td>\n",
       "      <td>United States</td>\n",
       "      <td>(not set)</td>\n",
       "      <td>Texas</td>\n",
       "      <td>Northern America</td>\n",
       "      <td>WEB</td>\n",
       "      <td>2042493254</td>\n",
       "      <td>(none)</td>\n",
       "      <td>(direct)</td>\n",
       "      <td>1615869113566321</td>\n",
       "      <td>286805041.1615869113</td>\n",
       "    </tr>\n",
       "    <tr>\n",
       "      <th>95</th>\n",
       "      <td>mobile</td>\n",
       "      <td>No</td>\n",
       "      <td>en-us</td>\n",
       "      <td>Android</td>\n",
       "      <td>-451402160</td>\n",
       "      <td>20210316</td>\n",
       "      <td>2021-03-16T00:00:00</td>\n",
       "      <td>page_view</td>\n",
       "      <td>1615869324568144</td>\n",
       "      <td>Austin</td>\n",
       "      <td>...</td>\n",
       "      <td>United States</td>\n",
       "      <td>(not set)</td>\n",
       "      <td>Texas</td>\n",
       "      <td>Northern America</td>\n",
       "      <td>WEB</td>\n",
       "      <td>2042493254</td>\n",
       "      <td>(none)</td>\n",
       "      <td>(direct)</td>\n",
       "      <td>1615869113566321</td>\n",
       "      <td>286805041.1615869113</td>\n",
       "    </tr>\n",
       "  </tbody>\n",
       "</table>\n",
       "<p>28 rows × 21 columns</p>\n",
       "</div>"
      ],
      "text/plain": [
       "   device__category device__is_limited_ad_tracking device__language  \\\n",
       "14           mobile                             No            en-us   \n",
       "15           mobile                             No            en-us   \n",
       "16           mobile                             No            en-us   \n",
       "17           mobile                             No            en-us   \n",
       "20           mobile                             No            en-us   \n",
       "21           mobile                             No            en-us   \n",
       "25           mobile                             No            en-us   \n",
       "29           mobile                             No            en-us   \n",
       "38           mobile                             No            en-us   \n",
       "42           mobile                             No            en-us   \n",
       "43           mobile                             No            en-us   \n",
       "48           mobile                             No            en-us   \n",
       "53           mobile                             No            en-us   \n",
       "54           mobile                             No            en-us   \n",
       "56           mobile                             No            en-us   \n",
       "58           mobile                             No            en-us   \n",
       "61           mobile                             No            en-us   \n",
       "62           mobile                             No            en-us   \n",
       "66           mobile                             No            en-us   \n",
       "67           mobile                             No            en-us   \n",
       "68           mobile                             No            en-us   \n",
       "74           mobile                             No            en-us   \n",
       "82           mobile                             No            en-us   \n",
       "83           mobile                             No            en-us   \n",
       "86           mobile                             No            en-us   \n",
       "89           mobile                             No            en-us   \n",
       "93           mobile                             No            en-us   \n",
       "95           mobile                             No            en-us   \n",
       "\n",
       "   device__operating_system  event_bundle_sequence_id  event_date  \\\n",
       "14                  Android                -271676277    20210316   \n",
       "15                  Android                -249564009    20210316   \n",
       "16                  Android                -126205318    20210316   \n",
       "17                  Android                -445242689    20210316   \n",
       "20                  Android                -403147499    20210316   \n",
       "21                  Android                -356342383    20210316   \n",
       "25                  Android                -662403983    20210316   \n",
       "29                  Android                -408709640    20210316   \n",
       "38                  Android                -662403983    20210316   \n",
       "42                  Android                -128949578    20210316   \n",
       "43                  Android                -638379778    20210316   \n",
       "48                  Android                -120637591    20210316   \n",
       "53                  Android                -134679118    20210316   \n",
       "54                  Android                -111715693    20210316   \n",
       "56                  Android                -451402160    20210316   \n",
       "58                  Android                -249564009    20210316   \n",
       "61                  Android                -361831013    20210316   \n",
       "62                  Android                -303984531    20210316   \n",
       "66                  Android                -500252821    20210316   \n",
       "67                  Android                -457028857    20210316   \n",
       "68                  Android                -292950261    20210316   \n",
       "74                  Android                -644838000    20210316   \n",
       "82                  Android                -662403983    20210316   \n",
       "83                  Android                -297290735    20210316   \n",
       "86                  Android                -361831013    20210316   \n",
       "89                  Android                -117889054    20210316   \n",
       "93                  Android                -368762708    20210316   \n",
       "95                  Android                -451402160    20210316   \n",
       "\n",
       "   event_date_partition          event_name   event_timestamp geo__city  ...  \\\n",
       "14  2021-03-16T00:00:00           page_view  1615869504294027    Austin  ...   \n",
       "15  2021-03-16T00:00:00           videoplay  1615869526406295    Austin  ...   \n",
       "16  2021-03-16T00:00:00     user_engagement  1615869649764986    Austin  ...   \n",
       "17  2021-03-16T00:00:00           page_view  1615869330727615    Austin  ...   \n",
       "20  2021-03-16T00:00:00           page_view  1615869372822805    Austin  ...   \n",
       "21  2021-03-16T00:00:00         videostarts  1615869419627921    Austin  ...   \n",
       "25  2021-03-16T00:00:00           page_view  1615869113566321    Austin  ...   \n",
       "29  2021-03-16T00:00:00     user_engagement  1615869367260664    Austin  ...   \n",
       "38  2021-03-16T00:00:00       session_start  1615869113566321    Austin  ...   \n",
       "42  2021-03-16T00:00:00           page_view  1615869647020726    Austin  ...   \n",
       "43  2021-03-16T00:00:00           page_view  1615869137590526    Austin  ...   \n",
       "48  2021-03-16T00:00:00           page_view  1615869655332713    Austin  ...   \n",
       "53  2021-03-16T00:00:00  activity_completes  1615869641291186    Austin  ...   \n",
       "54  2021-03-16T00:00:00           page_view  1615869664254611    Austin  ...   \n",
       "56  2021-03-16T00:00:00     user_engagement  1615869324568144    Austin  ...   \n",
       "58  2021-03-16T00:00:00         videostarts  1615869526406295    Austin  ...   \n",
       "61  2021-03-16T00:00:00           page_view  1615869414139291    Austin  ...   \n",
       "62  2021-03-16T00:00:00  activity_completes  1615869471985773    Austin  ...   \n",
       "66  2021-03-16T00:00:00              scroll  1615869275717483    Austin  ...   \n",
       "67  2021-03-16T00:00:00     user_engagement  1615869318941447    Austin  ...   \n",
       "68  2021-03-16T00:00:00     user_engagement  1615869483020043    Austin  ...   \n",
       "74  2021-03-16T00:00:00     user_engagement  1615869131132304    Austin  ...   \n",
       "82  2021-03-16T00:00:00         first_visit  1615869113566321    Austin  ...   \n",
       "83  2021-03-16T00:00:00           page_view  1615869478679569    Austin  ...   \n",
       "86  2021-03-16T00:00:00           videoplay  1615869414139291    Austin  ...   \n",
       "89  2021-03-16T00:00:00     user_engagement  1615869658081250    Austin  ...   \n",
       "93  2021-03-16T00:00:00     user_engagement  1615869407207596    Austin  ...   \n",
       "95  2021-03-16T00:00:00           page_view  1615869324568144    Austin  ...   \n",
       "\n",
       "     geo__country geo__metro geo__region geo__sub_continent platform  \\\n",
       "14  United States  (not set)       Texas   Northern America      WEB   \n",
       "15  United States  (not set)       Texas   Northern America      WEB   \n",
       "16  United States  (not set)       Texas   Northern America      WEB   \n",
       "17  United States  (not set)       Texas   Northern America      WEB   \n",
       "20  United States  (not set)       Texas   Northern America      WEB   \n",
       "21  United States  (not set)       Texas   Northern America      WEB   \n",
       "25  United States  (not set)       Texas   Northern America      WEB   \n",
       "29  United States  (not set)       Texas   Northern America      WEB   \n",
       "38  United States  (not set)       Texas   Northern America      WEB   \n",
       "42  United States  (not set)       Texas   Northern America      WEB   \n",
       "43  United States  (not set)       Texas   Northern America      WEB   \n",
       "48  United States  (not set)       Texas   Northern America      WEB   \n",
       "53  United States  (not set)       Texas   Northern America      WEB   \n",
       "54  United States  (not set)       Texas   Northern America      WEB   \n",
       "56  United States  (not set)       Texas   Northern America      WEB   \n",
       "58  United States  (not set)       Texas   Northern America      WEB   \n",
       "61  United States  (not set)       Texas   Northern America      WEB   \n",
       "62  United States  (not set)       Texas   Northern America      WEB   \n",
       "66  United States  (not set)       Texas   Northern America      WEB   \n",
       "67  United States  (not set)       Texas   Northern America      WEB   \n",
       "68  United States  (not set)       Texas   Northern America      WEB   \n",
       "74  United States  (not set)       Texas   Northern America      WEB   \n",
       "82  United States  (not set)       Texas   Northern America      WEB   \n",
       "83  United States  (not set)       Texas   Northern America      WEB   \n",
       "86  United States  (not set)       Texas   Northern America      WEB   \n",
       "89  United States  (not set)       Texas   Northern America      WEB   \n",
       "93  United States  (not set)       Texas   Northern America      WEB   \n",
       "95  United States  (not set)       Texas   Northern America      WEB   \n",
       "\n",
       "     stream_id  traffic_source__medium traffic_source__source  \\\n",
       "14  2042493254                  (none)               (direct)   \n",
       "15  2042493254                  (none)               (direct)   \n",
       "16  2042493254                  (none)               (direct)   \n",
       "17  2042493254                  (none)               (direct)   \n",
       "20  2042493254                  (none)               (direct)   \n",
       "21  2042493254                  (none)               (direct)   \n",
       "25  2042493254                  (none)               (direct)   \n",
       "29  2042493254                  (none)               (direct)   \n",
       "38  2042493254                  (none)               (direct)   \n",
       "42  2042493254                  (none)               (direct)   \n",
       "43  2042493254                  (none)               (direct)   \n",
       "48  2042493254                  (none)               (direct)   \n",
       "53  2042493254                  (none)               (direct)   \n",
       "54  2042493254                  (none)               (direct)   \n",
       "56  2042493254                  (none)               (direct)   \n",
       "58  2042493254                  (none)               (direct)   \n",
       "61  2042493254                  (none)               (direct)   \n",
       "62  2042493254                  (none)               (direct)   \n",
       "66  2042493254                  (none)               (direct)   \n",
       "67  2042493254                  (none)               (direct)   \n",
       "68  2042493254                  (none)               (direct)   \n",
       "74  2042493254                  (none)               (direct)   \n",
       "82  2042493254                  (none)               (direct)   \n",
       "83  2042493254                  (none)               (direct)   \n",
       "86  2042493254                  (none)               (direct)   \n",
       "89  2042493254                  (none)               (direct)   \n",
       "93  2042493254                  (none)               (direct)   \n",
       "95  2042493254                  (none)               (direct)   \n",
       "\n",
       "   user_first_touch_timestamp        user_pseudo_id  \n",
       "14           1615869113566321  286805041.1615869113  \n",
       "15           1615869113566321  286805041.1615869113  \n",
       "16           1615869113566321  286805041.1615869113  \n",
       "17           1615869113566321  286805041.1615869113  \n",
       "20           1615869113566321  286805041.1615869113  \n",
       "21           1615869113566321  286805041.1615869113  \n",
       "25           1615869113566321  286805041.1615869113  \n",
       "29           1615869113566321  286805041.1615869113  \n",
       "38           1615869113566321  286805041.1615869113  \n",
       "42           1615869113566321  286805041.1615869113  \n",
       "43           1615869113566321  286805041.1615869113  \n",
       "48           1615869113566321  286805041.1615869113  \n",
       "53           1615869113566321  286805041.1615869113  \n",
       "54           1615869113566321  286805041.1615869113  \n",
       "56           1615869113566321  286805041.1615869113  \n",
       "58           1615869113566321  286805041.1615869113  \n",
       "61           1615869113566321  286805041.1615869113  \n",
       "62           1615869113566321  286805041.1615869113  \n",
       "66           1615869113566321  286805041.1615869113  \n",
       "67           1615869113566321  286805041.1615869113  \n",
       "68           1615869113566321  286805041.1615869113  \n",
       "74           1615869113566321  286805041.1615869113  \n",
       "82           1615869113566321  286805041.1615869113  \n",
       "83           1615869113566321  286805041.1615869113  \n",
       "86           1615869113566321  286805041.1615869113  \n",
       "89           1615869113566321  286805041.1615869113  \n",
       "93           1615869113566321  286805041.1615869113  \n",
       "95           1615869113566321  286805041.1615869113  \n",
       "\n",
       "[28 rows x 21 columns]"
      ]
     },
     "execution_count": 224,
     "metadata": {},
     "output_type": "execute_result"
    }
   ],
   "source": [
    "user3"
   ]
  },
  {
   "cell_type": "code",
   "execution_count": null,
   "id": "tough-center",
   "metadata": {},
   "outputs": [],
   "source": []
  }
 ],
 "metadata": {
  "kernelspec": {
   "display_name": "Python 3",
   "language": "python",
   "name": "python3"
  },
  "language_info": {
   "codemirror_mode": {
    "name": "ipython",
    "version": 3
   },
   "file_extension": ".py",
   "mimetype": "text/x-python",
   "name": "python",
   "nbconvert_exporter": "python",
   "pygments_lexer": "ipython3",
   "version": "3.7.10"
  }
 },
 "nbformat": 4,
 "nbformat_minor": 5
}
