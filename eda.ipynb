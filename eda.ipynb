{
 "cells": [
  {
   "cell_type": "code",
   "execution_count": 19,
   "id": "turkish-intermediate",
   "metadata": {},
   "outputs": [
    {
     "name": "stdout",
     "output_type": "stream",
     "text": [
      "The google.cloud.bigquery extension is already loaded. To reload it, use:\n",
      "  %reload_ext google.cloud.bigquery\n"
     ]
    }
   ],
   "source": [
    "%load_ext google.cloud.bigquery"
   ]
  },
  {
   "cell_type": "code",
   "execution_count": 20,
   "id": "offshore-entrepreneur",
   "metadata": {},
   "outputs": [],
   "source": [
    "import pandas as pd"
   ]
  },
  {
   "cell_type": "code",
   "execution_count": 21,
   "id": "coupled-leather",
   "metadata": {},
   "outputs": [],
   "source": [
    "data = pd.read_csv('/Users/djbetts/Desktop/bigquery_test/jf_data.csv',low_memory=False)"
   ]
  },
  {
   "cell_type": "code",
   "execution_count": 22,
   "id": "ancient-executive",
   "metadata": {},
   "outputs": [],
   "source": [
    "df = data.copy()"
   ]
  },
  {
   "cell_type": "code",
   "execution_count": 53,
   "id": "mobile-penalty",
   "metadata": {},
   "outputs": [],
   "source": [
    "df.dropna(inplace=True, subset=['event_params__engagement_time_msec'])"
   ]
  },
  {
   "cell_type": "code",
   "execution_count": 54,
   "id": "italian-gather",
   "metadata": {},
   "outputs": [
    {
     "data": {
      "text/plain": [
       "(1916, 7)"
      ]
     },
     "execution_count": 54,
     "metadata": {},
     "output_type": "execute_result"
    }
   ],
   "source": [
    "df.shape"
   ]
  },
  {
   "cell_type": "code",
   "execution_count": 55,
   "id": "facial-fitness",
   "metadata": {},
   "outputs": [
    {
     "data": {
      "text/plain": [
       "Index(['device__category', 'event_date', 'event_params__engagement_time_msec',\n",
       "       'event_timestamp', 'geo__city', 'geo__continent', 'geo__country'],\n",
       "      dtype='object')"
      ]
     },
     "execution_count": 55,
     "metadata": {},
     "output_type": "execute_result"
    }
   ],
   "source": [
    "df.columns"
   ]
  },
  {
   "cell_type": "code",
   "execution_count": 56,
   "id": "graduate-granny",
   "metadata": {},
   "outputs": [
    {
     "data": {
      "text/plain": [
       "8"
      ]
     },
     "execution_count": 56,
     "metadata": {},
     "output_type": "execute_result"
    }
   ],
   "source": [
    "sum(df.geo__country.isna())"
   ]
  },
  {
   "cell_type": "code",
   "execution_count": 57,
   "id": "coral-grace",
   "metadata": {},
   "outputs": [],
   "source": [
    "df.event_params__engagement_time_msec.dropna(inplace=True)"
   ]
  },
  {
   "cell_type": "code",
   "execution_count": 58,
   "id": "turned-words",
   "metadata": {},
   "outputs": [
    {
     "data": {
      "text/plain": [
       "count    1.916000e+03\n",
       "mean     5.514788e+04\n",
       "std      1.876895e+05\n",
       "min      1.000000e+00\n",
       "25%      4.060750e+03\n",
       "50%      1.147050e+04\n",
       "75%      3.136325e+04\n",
       "max      3.600001e+06\n",
       "Name: event_params__engagement_time_msec, dtype: float64"
      ]
     },
     "execution_count": 58,
     "metadata": {},
     "output_type": "execute_result"
    }
   ],
   "source": [
    "df.event_params__engagement_time_msec.describe()"
   ]
  },
  {
   "cell_type": "code",
   "execution_count": 77,
   "id": "automatic-finger",
   "metadata": {},
   "outputs": [
    {
     "data": {
      "text/plain": [
       "<AxesSubplot:>"
      ]
     },
     "execution_count": 77,
     "metadata": {},
     "output_type": "execute_result"
    },
    {
     "data": {
      "image/png": "[encoded data removed]",
      "text/plain": [
       "<Figure size 432x288 with 1 Axes>"
      ]
     },
     "metadata": {
      "needs_background": "light"
     },
     "output_type": "display_data"
    }
   ],
   "source": [
    "df.geo__continent.hist()"
   ]
  },
  {
   "cell_type": "code",
   "execution_count": null,
   "id": "engaging-agency",
   "metadata": {},
   "outputs": [],
   "source": []
  },
  {
   "cell_type": "code",
   "execution_count": null,
   "id": "narrative-batch",
   "metadata": {},
   "outputs": [],
   "source": []
  },
  {
   "cell_type": "code",
   "execution_count": null,
   "id": "gross-fortune",
   "metadata": {},
   "outputs": [],
   "source": []
  }
 ],
 "metadata": {
  "kernelspec": {
   "display_name": "Python 3",
   "language": "python",
   "name": "python3"
  },
  "language_info": {
   "codemirror_mode": {
    "name": "ipython",
    "version": 3
   },
   "file_extension": ".py",
   "mimetype": "text/x-python",
   "name": "python",
   "nbconvert_exporter": "python",
   "pygments_lexer": "ipython3",
   "version": "3.7.10"
  }
 },
 "nbformat": 4,
 "nbformat_minor": 5
}
