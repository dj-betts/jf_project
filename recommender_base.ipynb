{
 "cells": [
  {
   "cell_type": "code",
   "execution_count": 1,
   "id": "incomplete-separate",
   "metadata": {},
   "outputs": [],
   "source": [
    "import pandas as pd\n",
    "import numpy as np"
   ]
  },
  {
   "cell_type": "code",
   "execution_count": 2,
   "id": "prescribed-generic",
   "metadata": {},
   "outputs": [
    {
     "name": "stderr",
     "output_type": "stream",
     "text": [
      "In /Users/djbetts/opt/anaconda3/lib/python3.7/site-packages/matplotlib/mpl-data/stylelib/_classic_test.mplstyle: \n",
      "The text.latex.preview rcparam was deprecated in Matplotlib 3.3 and will be removed two minor releases later.\n",
      "In /Users/djbetts/opt/anaconda3/lib/python3.7/site-packages/matplotlib/mpl-data/stylelib/_classic_test.mplstyle: \n",
      "The mathtext.fallback_to_cm rcparam was deprecated in Matplotlib 3.3 and will be removed two minor releases later.\n",
      "In /Users/djbetts/opt/anaconda3/lib/python3.7/site-packages/matplotlib/mpl-data/stylelib/_classic_test.mplstyle: Support for setting the 'mathtext.fallback_to_cm' rcParam is deprecated since 3.3 and will be removed two minor releases later; use 'mathtext.fallback : 'cm' instead.\n",
      "In /Users/djbetts/opt/anaconda3/lib/python3.7/site-packages/matplotlib/mpl-data/stylelib/_classic_test.mplstyle: \n",
      "The validate_bool_maybe_none function was deprecated in Matplotlib 3.3 and will be removed two minor releases later.\n",
      "In /Users/djbetts/opt/anaconda3/lib/python3.7/site-packages/matplotlib/mpl-data/stylelib/_classic_test.mplstyle: \n",
      "The savefig.jpeg_quality rcparam was deprecated in Matplotlib 3.3 and will be removed two minor releases later.\n",
      "In /Users/djbetts/opt/anaconda3/lib/python3.7/site-packages/matplotlib/mpl-data/stylelib/_classic_test.mplstyle: \n",
      "The keymap.all_axes rcparam was deprecated in Matplotlib 3.3 and will be removed two minor releases later.\n",
      "In /Users/djbetts/opt/anaconda3/lib/python3.7/site-packages/matplotlib/mpl-data/stylelib/_classic_test.mplstyle: \n",
      "The animation.avconv_path rcparam was deprecated in Matplotlib 3.3 and will be removed two minor releases later.\n",
      "In /Users/djbetts/opt/anaconda3/lib/python3.7/site-packages/matplotlib/mpl-data/stylelib/_classic_test.mplstyle: \n",
      "The animation.avconv_args rcparam was deprecated in Matplotlib 3.3 and will be removed two minor releases later.\n"
     ]
    }
   ],
   "source": [
    "import matplotlib.pyplot as plt"
   ]
  },
  {
   "cell_type": "code",
   "execution_count": 3,
   "id": "emerging-estonia",
   "metadata": {},
   "outputs": [],
   "source": [
    "from datetime import datetime"
   ]
  },
  {
   "cell_type": "code",
   "execution_count": 4,
   "id": "6037bd59",
   "metadata": {},
   "outputs": [],
   "source": [
    "#Current SQL query\n",
    "\"\"\"\n",
    "SELECT \n",
    "geo__country, \n",
    "geo__city,\n",
    "event_params__video_title,\n",
    "event_params__videotitle,\n",
    "event_name,\n",
    "COUNT(event_name) AS times_completed,\n",
    "FROM `jfp-data-warehouse.production_firebase.firebase_event` \n",
    "WHERE geo__country in ('Russia', 'China', 'Turkey', 'Thailand', 'Iran', 'Vietnam', 'Egypt', 'Japan', 'Bangladesh', 'Pakistan', 'Indonesia', 'India') AND \n",
    "event_params__video_title IS NOT NULL AND\n",
    "event_name IN ('videostarts',  'videoplay',  'a_media_progress10',  'a_media_progress25',  'a_media_progress50',  'a_media_progress75',  'a_media_progress90') AND \n",
    "DATE(event_date_partition) \n",
    "BETWEEN  \"2021-01-01\" AND \"2021-03-31\" \n",
    "GROUP BY \n",
    "geo__country, \n",
    "geo__city,\n",
    "event_params__videotitle, \n",
    "event_params__video_title,\n",
    "event_name\n",
    "ORDER BY \n",
    "geo__country,\n",
    "event_params__video_title,\n",
    "times_completed DESC \n",
    "LIMIT 15000\n",
    "\"\"\";"
   ]
  },
  {
   "cell_type": "code",
   "execution_count": 5,
   "id": "satellite-spouse",
   "metadata": {},
   "outputs": [],
   "source": [
    "data = pd.read_csv('/Users/djbetts/Desktop/jf_project/data/recommender_base.csv')"
   ]
  },
  {
   "cell_type": "code",
   "execution_count": 6,
   "id": "preliminary-tract",
   "metadata": {},
   "outputs": [],
   "source": [
    "df = data.copy()\n",
    "df.drop(['geo__city', 'times_completed'], axis=1, inplace=True)"
   ]
  },
  {
   "cell_type": "code",
   "execution_count": 7,
   "id": "sensitive-sharing",
   "metadata": {},
   "outputs": [
    {
     "data": {
      "text/plain": [
       "Index(['geo__country', 'event_params__video_title', 'event_params__videotitle',\n",
       "       'event_name'],\n",
       "      dtype='object')"
      ]
     },
     "execution_count": 7,
     "metadata": {},
     "output_type": "execute_result"
    }
   ],
   "source": [
    "df.columns"
   ]
  },
  {
   "cell_type": "code",
   "execution_count": 8,
   "id": "comparable-domestic",
   "metadata": {},
   "outputs": [],
   "source": [
    "df['video_title'] = df['event_params__videotitle'].fillna(df['event_params__video_title'])"
   ]
  },
  {
   "cell_type": "code",
   "execution_count": 9,
   "id": "complete-mambo",
   "metadata": {},
   "outputs": [],
   "source": [
    "df.drop(['event_params__videotitle','event_params__video_title'], axis=1, inplace=True)"
   ]
  },
  {
   "cell_type": "code",
   "execution_count": 10,
   "id": "alpine-joshua",
   "metadata": {},
   "outputs": [
    {
     "data": {
      "text/plain": [
       "India         8644\n",
       "Egypt         2467\n",
       "Bangladesh    1953\n",
       "China         1936\n",
       "Name: geo__country, dtype: int64"
      ]
     },
     "execution_count": 10,
     "metadata": {},
     "output_type": "execute_result"
    }
   ],
   "source": [
    "(df.geo__country.value_counts())"
   ]
  },
  {
   "cell_type": "code",
   "execution_count": 11,
   "id": "pursuant-shoot",
   "metadata": {},
   "outputs": [
    {
     "data": {
      "text/plain": [
       "videoplay             2741\n",
       "videostarts           2670\n",
       "a_media_progress10    2230\n",
       "a_media_progress25    2093\n",
       "a_media_progress50    1908\n",
       "a_media_progress75    1731\n",
       "a_media_progress90    1627\n",
       "Name: event_name, dtype: int64"
      ]
     },
     "execution_count": 11,
     "metadata": {},
     "output_type": "execute_result"
    }
   ],
   "source": [
    "df.event_name.value_counts()"
   ]
  },
  {
   "cell_type": "code",
   "execution_count": 12,
   "id": "armed-pound",
   "metadata": {},
   "outputs": [
    {
     "data": {
      "text/plain": [
       "JESUS                       2988\n",
       "Childhood of Jesus           893\n",
       "Baptism of Jesus by John     876\n",
       "Birth of Jesus               856\n",
       "Abraham                      345\n",
       "                            ... \n",
       "使徒行傳                           1\n",
       "Jesus Gathers Disciples        1\n",
       "#फालिंगप्लेट्स                 1\n",
       "The Wilson Kipsang Story       1\n",
       "與耶穌的七日：恩典                      1\n",
       "Name: video_title, Length: 406, dtype: int64"
      ]
     },
     "execution_count": 12,
     "metadata": {},
     "output_type": "execute_result"
    }
   ],
   "source": [
    "df.video_title.value_counts()"
   ]
  },
  {
   "cell_type": "code",
   "execution_count": 13,
   "id": "broken-chemistry",
   "metadata": {},
   "outputs": [],
   "source": [
    "df_90 = df[df['event_name'] == 'a_media_progress90']"
   ]
  },
  {
   "cell_type": "code",
   "execution_count": 14,
   "id": "unusual-recommendation",
   "metadata": {},
   "outputs": [
    {
     "data": {
      "text/plain": [
       "array(['#FallingPlates', '1. Jesus, Our Loving Pursuer',\n",
       "       '7. Jesus Our Living Water', 'Angels at the Tomb', 'B Me',\n",
       "       'Baptism of Jesus by John', 'Beatitudes', 'Birth of Jesus',\n",
       "       'Blessed are those Who Hear and Obey', 'Breathe',\n",
       "       'Burial of Jesus', 'Can the Bible Be Trusted?',\n",
       "       'Childhood of Jesus', 'Creation', 'Crucified Convicts',\n",
       "       'Death of Jesus', 'Delight', 'Disciples Chosen', 'Doll Face',\n",
       "       'God&#39;s Rescue Plan', 'Great Commission and Ascension',\n",
       "       'Healing of the Demoniac', 'Invisible', 'JESUS',\n",
       "       'Jairus&#39;s Daughter Brought Back to Life',\n",
       "       'Jesus Calms the Storm', 'Jesus Carries His Cross',\n",
       "       'Jesus Feeds 5,000', 'Jesus Predicts His Death and Resurrection',\n",
       "       'Jesus Proclaims Fulfillment of the Scriptures',\n",
       "       'Jesus Spends Time with Sinners', 'Jesus is Betrayed and Arrested',\n",
       "       'Jesus is Brought to Herod', 'Jesus is Crucified',\n",
       "       'Jesus is Mocked and Questioned', 'Jesus is Sentenced',\n",
       "       'Jesus&#39;s Triumphal Entry', 'John the Baptist in Prison',\n",
       "       'Knowing God Personally', 'LUMO - Matthew 1:1-2:23',\n",
       "       'LUMO - Matthew 3:1-4:25', 'LUMO - Matthew 5:1-48',\n",
       "       'La Liberté De L’Interieur - Freedom Within',\n",
       "       'Life of Jesus (Gospel of John)', 'Magdalena', 'Marea',\n",
       "       'Mary Magdalene Freed from Demons',\n",
       "       'Mary Magdalene goes to Rivka&#39;s house',\n",
       "       \"Mary Magdalene goes to Rivka's house\", 'Miraculous Catch of Fish',\n",
       "       'My Last Day', 'Paper Hats', 'Parable of the Good Samaritan',\n",
       "       'Parable of the Lamp', 'Parable of the Pharisee and Tax Collector',\n",
       "       'Parable of the Sower and the Seed',\n",
       "       'Peter Declares Jesus to be the Christ', 'Prayer, Talking to God',\n",
       "       'Resurrected Jesus Appears', 'Sermon on the Mount',\n",
       "       'Sign on the Cross', 'Soldiers Gamble for Jesus&#39;s Clothes',\n",
       "       'Temptation and Fall of Mankind', 'The Beginning',\n",
       "       'The Devil Tempts Jesus', 'The Holy Spirit Comes at Pentecost',\n",
       "       'The Kingdom of God as a Mustard Seed', 'The Story Short Film',\n",
       "       'The Thief Promised Paradise', 'The Tomb Is Empty',\n",
       "       'The Transfiguration', 'The Woman at the Well',\n",
       "       'The Woman with the Issue of Blood', 'Title and Introduction',\n",
       "       'Who is Jesus...Really?', 'Why Did Jesus Have to Die?',\n",
       "       'Woe to Those Who Cause Others to Sin', 'Women Disciples',\n",
       "       '#掉落的盘子', '40天与耶稣同在', 'Ctrl Z', 'Episode 1', 'Episode 10',\n",
       "       'Episode 11', 'Episode 12', 'Episode 13', 'Episode 14',\n",
       "       'Episode 1: Introduction to the I AM Series', 'Episode 2',\n",
       "       'Episode 2: I AM the Bread of Life - Part One', 'Episode 3',\n",
       "       'Episode 4', 'Episode 5', 'Episode 6', 'Episode 7', 'Episode 8',\n",
       "       'Episode 9', \"God's Rescue Plan\", 'Introduction of Luke',\n",
       "       'Jairus女儿起死回生', 'LUMO - The Gospel of Matthew 2:13-23',\n",
       "       'La Búsqueda-搜索', 'Legion', 'Living Word Beatitudes',\n",
       "       'Testimony of John the Baptist', 'The Lauryn Williams Story',\n",
       "       'The Story of Jesus for Children', 'Tümlükden Nura',\n",
       "       'Wedding in Cana', 'What does it mean to be an Olympian?',\n",
       "       '”La Liberté De L’Interieur “-心灵的自由', '七位执事的挑选', '为孩子的耶稣的故事',\n",
       "       '五旬节里圣灵降临', '亚拿尼亚和撒非拉', '介绍', '以尼雅和多加', '以弗所的骚动', '使徒治好许多人',\n",
       "       '保罗与西拉于监狱中', '保罗乃罗马公民', '保罗于亚基帕王面前', '保罗于以弗所', '保罗于公义会前',\n",
       "       '保罗于彼西底的安提阿之事工 ', '保罗于罗马看守下传道', '保罗于腓力斯前受审', '保罗于腓斯都前受审',\n",
       "       '保罗于马尔他上岸', '保罗向群众发言', '保罗和巴拿巴于以哥念传讲', '保罗和巴拿巴的分歧', '保罗抵达耶路撒冷',\n",
       "       '保罗挥别以弗所长老', '保罗的马其顿人异象', '保罗终于抵达罗马', '保罗航向罗马', '保罗被捕',\n",
       "       '保罗被送往该撒利亚', '信徒共享财物', '信徒的交往', '信徒的团契', '信徒祈祷', '兄弟',\n",
       "       '关于祷告和信心的教导', '前往耶路撒冷', '十字架上的标志', '司提反向公义会的辩词', '司提反被捕',\n",
       "       '吕底亚于腓立比归信基督', '哥尼流看见天使', '哥林多的不和', '在基督里成长', '塞浦路斯的事工', '复活的耶稣显现',\n",
       "       '娃娃脸', '安提阿的教会', '巴拿巴与保罗被差遣', '希律的死', '帖撒罗尼迦的骚动', '彼得于哥尼流家',\n",
       "       '彼得医治跛脚乞丐', '彼得向围观者发言', '彼得奇迹般的狱中逃离', '彼得的异象', '彼得约翰于公义会面前',\n",
       "       '彼得解释他的行动', '我的最后一天', '我的最后一天-预告片', '打鱼的神迹', '扫罗于大马色及耶路撒冷', '扫罗归信',\n",
       "       '提摩太加入保罗和西拉', '改变相貌', '教会遭受逼迫与分散', '暴风', '杀害保罗的阴谋', '死亡之路',\n",
       "       '治疗巴底买', '犹推古于特罗亚死里复活', '白基拉、亚居拉和亚波罗', '石攻司提反', '经过马其顿和希腊',\n",
       "       '给外邦信徒的会议议决信件', '耶稣', '耶稣-我们强大的拯救者', '耶稣-我们的生命之水', '耶稣之死', '耶稣升天',\n",
       "       '耶稣受约翰的洗礼', '耶稣和撒该', '耶稣喂饱5000人', '耶稣治愈恶灵缠身的男孩', '耶稣的童年', '耶稣的诞生',\n",
       "       '耶稣被埋葬', '耶穌', '耶路撒冷会议', '腓利与衣索匹亚人', '腓利于撒玛利亚', '船难', '莫大拉',\n",
       "       '行邪术的西门', '触动', '认识耶稣的邀请信', '路加福音简介', '身份错认于路司得', '返回叙利亚的安提阿',\n",
       "       '选出马提亚替代犹大', '雅典的偶像', '非斯都咨询亚基帕王', '高贵的比里亚人',\n",
       "       '2. Jesus, Our Gracious Forgiver',\n",
       "       'Annas Questions Jesus&#39;s Authority', 'Claim to be the Son',\n",
       "       'Episode 2: I Am the Resurrection', 'Flow',\n",
       "       'Healing of Bartimaeus', 'Healing on the Sabbath',\n",
       "       'Herod&#39;s Death', 'Jangled', 'Jesus Drives Out Money Changers',\n",
       "       'Jesus Heals Boy from Evil Spirit',\n",
       "       'Jesus Sentenced to be Crucified', 'Jesus Weeps Over Jerusalem',\n",
       "       'Jesus and Zaccheus', 'Parable of the Vineyard and Tenants',\n",
       "       'Paul Finally Reaches Rome', 'Paul Preaches in Rome Under Guard',\n",
       "       'Paul Sails for Rome', 'Paul Transferred to Caesarea',\n",
       "       'Paul and Silas in Prison', 'Peter Disowns Jesus', 'Portions',\n",
       "       'Sinful Woman Forgiven', 'StoryClubs: Miraculous Catch of Fish',\n",
       "       'Teaching About Prayer and Faith', 'The Crucifixion of Jesus',\n",
       "       'The Last Supper', 'The Lord&#39;s Prayer', 'The Shipwreck',\n",
       "       'The Storm', 'Triumphal Entry and Results', 'Widow&#39;s Offering',\n",
       "       'آخر يوم في حياتي', '3. Jesus, Our Power for Living',\n",
       "       '4. Jesus, Our Powerful Deliverer',\n",
       "       '5. Jesus, Our Compassionate Provider',\n",
       "       '6. Jesus, Our Complete Restorer', 'A Paralytic Healed', 'Abraham',\n",
       "       'Adulterous Woman', 'Aeneas and Dorcas', 'Ananias and Sapphira',\n",
       "       'Announcement to Mary', 'Assurance Of Salvation',\n",
       "       'Betrayal and Denial Foretold', 'Births', 'Blind Man Healed',\n",
       "       'Book of Acts', 'Cabernet', 'Chosen Witness',\n",
       "       'Cleaning the Temple', 'Coffee Shop',\n",
       "       'Confronting Hypocritical Leaders', 'Cornelius Sees an Angel',\n",
       "       'Darkness and Jesus&#39; Death', 'Day 1: Cry for Mercy',\n",
       "       'Day 1: Fish for People', 'Day 2: Family Crisis',\n",
       "       'Day 3: Storms of Life', 'Day 5: Jesus&#39; Mission',\n",
       "       'Day 6: Jesus Died for Me', 'Day 7: Jesus Rose from the Dead',\n",
       "       'Dealing with Doubt', 'Disagreement Between Paul and Barnabas',\n",
       "       'Divided Opinions', 'Division in Corinth', 'Do you love me?',\n",
       "       'Doubting Thomas', 'Download Videos', 'Dying Roads',\n",
       "       'Episode 3: Deeply Moved',\n",
       "       'Eutychus Raised From the Dead at Troas',\n",
       "       'Explanation of Miraculous Birth', 'Falling Away', 'Feeding 5,000',\n",
       "       'Fellowship Of Believers', 'Festus Consults King Agrippa',\n",
       "       'Finding Peace', 'Fracture', 'Getting Started Is Easy',\n",
       "       'God&#39;s Word Becomes Flesh', 'Good', 'Great Confrontation',\n",
       "       'Grief will Turn to Joy!', 'Handiwork',\n",
       "       'How to Know Jesus Personally', 'Idols in Athens', 'In Time',\n",
       "       'In the Family', 'Invitation to Know Jesus Personally', 'Isaiah'],\n",
       "      dtype=object)"
      ]
     },
     "execution_count": 14,
     "metadata": {},
     "output_type": "execute_result"
    }
   ],
   "source": [
    "df_90.video_title.unique()"
   ]
  },
  {
   "cell_type": "code",
   "execution_count": 15,
   "id": "korean-nirvana",
   "metadata": {},
   "outputs": [
    {
     "data": {
      "text/plain": [
       "India         937\n",
       "Egypt         287\n",
       "Bangladesh    207\n",
       "China         196\n",
       "Name: geo__country, dtype: int64"
      ]
     },
     "execution_count": 15,
     "metadata": {},
     "output_type": "execute_result"
    }
   ],
   "source": [
    "df_90.geo__country.value_counts()"
   ]
  },
  {
   "cell_type": "code",
   "execution_count": 16,
   "id": "considerable-expense",
   "metadata": {},
   "outputs": [],
   "source": [
    "country_groupby = df.groupby('geo__country')"
   ]
  },
  {
   "cell_type": "code",
   "execution_count": 17,
   "id": "157bd73b",
   "metadata": {},
   "outputs": [
    {
     "data": {
      "text/plain": [
       "geo__country\n",
       "Bangladesh    [#FallingPlates, 1. Jesus, Our Loving Pursuer,...\n",
       "China         [#FallingPlates, #掉落的盘子, 40天与耶稣同在, 7天与耶稣同在：恩典,...\n",
       "Egypt         [#FallingPlates, 1- في العائلة, 2- عمل يدوي, 2...\n",
       "India         [#FallingPlates, #फालिंगप्लेट्स , 1. Jesus, Ou...\n",
       "Name: video_title, dtype: object"
      ]
     },
     "execution_count": 17,
     "metadata": {},
     "output_type": "execute_result"
    }
   ],
   "source": [
    "country_groupby['video_title'].unique()"
   ]
  },
  {
   "cell_type": "code",
   "execution_count": 18,
   "id": "0e197be5",
   "metadata": {},
   "outputs": [],
   "source": [
    "india = country_groupby.get_group('India')"
   ]
  },
  {
   "cell_type": "code",
   "execution_count": 19,
   "id": "348a07e1",
   "metadata": {},
   "outputs": [],
   "source": [
    "falling_plates_india = india[india['video_title'] == '#FallingPlates']"
   ]
  },
  {
   "cell_type": "code",
   "execution_count": 20,
   "id": "818d7c54",
   "metadata": {},
   "outputs": [],
   "source": [
    "event_score = falling_plates_india.event_name.value_counts()"
   ]
  },
  {
   "cell_type": "code",
   "execution_count": 21,
   "id": "f31ed887",
   "metadata": {},
   "outputs": [
    {
     "data": {
      "text/plain": [
       "Index(['videostarts', 'videoplay', 'a_media_progress10', 'a_media_progress25',\n",
       "       'a_media_progress50', 'a_media_progress90', 'a_media_progress75'],\n",
       "      dtype='object')"
      ]
     },
     "execution_count": 21,
     "metadata": {},
     "output_type": "execute_result"
    }
   ],
   "source": [
    "event_score.index"
   ]
  },
  {
   "cell_type": "code",
   "execution_count": 22,
   "id": "4c11185f",
   "metadata": {},
   "outputs": [],
   "source": [
    "keys = df.video_title.unique()\n",
    "reviews = dict.fromkeys(keys, 0)"
   ]
  },
  {
   "cell_type": "code",
   "execution_count": 23,
   "id": "467f5ae0",
   "metadata": {},
   "outputs": [
    {
     "name": "stdout",
     "output_type": "stream",
     "text": [
      "geo__country\n",
      "event_name\n",
      "video_title\n"
     ]
    }
   ],
   "source": [
    "for row in df.columns:\n",
    "    print(row)"
   ]
  },
  {
   "cell_type": "code",
   "execution_count": null,
   "id": "c6c12cc1",
   "metadata": {},
   "outputs": [],
   "source": []
  },
  {
   "cell_type": "code",
   "execution_count": null,
   "id": "5e0a9355",
   "metadata": {},
   "outputs": [],
   "source": []
  },
  {
   "cell_type": "code",
   "execution_count": null,
   "id": "fbbd023c",
   "metadata": {},
   "outputs": [],
   "source": []
  },
  {
   "cell_type": "code",
   "execution_count": 24,
   "id": "f195e257",
   "metadata": {},
   "outputs": [],
   "source": [
    "#tried to make a function by iterating through a groupby. couldn't figure it out.\n",
    "\n",
    "# def rating_calculator(group):\n",
    "#     rating = 0\n",
    "#     reviews = dict.fromkeys(set(group.video_title), 0)\n",
    "#     for event_name in group.event_name:\n",
    "#         if event_name == 'videostarts' or event_name == 'videoplay':\n",
    "#             reviews[group.video_title] += 1\n",
    "#         elif event_name == 'a_media_progress10':\n",
    "#             reviews[group.video_title] += (1 * .1)\n",
    "#         elif event_name == 'a_media_progress25':\n",
    "#             reviews[group.video_title] += (1 * .25)\n",
    "#         elif event_name == 'a_media_progress50':\n",
    "#             reviews[group.video_title] += (1 * .5)\n",
    "#         elif event_name == 'a_media_progress75':\n",
    "#             reviews[group.video_title] += (1 * .75)\n",
    "#         elif event_name == 'a_media_progress90':\n",
    "#             reviews[group.video_title] += (1 * .9)\n",
    "#     print(f'total: {rating}\\nnormalized: {rating/len(events)}')\n",
    "#     return (reviews)\n",
    "# #     return\n",
    "# # print(rating)\n",
    "# # print(rating/len(event_score))"
   ]
  },
  {
   "cell_type": "code",
   "execution_count": 25,
   "id": "8f6e5670",
   "metadata": {},
   "outputs": [],
   "source": [
    "#rating_calculator(event_score)"
   ]
  },
  {
   "cell_type": "code",
   "execution_count": 26,
   "id": "987314e4",
   "metadata": {},
   "outputs": [],
   "source": [
    "def review_builder(country_groupby):\n",
    "    review_dic = dict.fromkeys(country_groupby.groups.keys(), None)\n",
    "    print(review_dic)\n",
    "    for country, group in country_groupby:\n",
    "        review_dic[country] = rating_calculator(group)\n",
    "    return review_dic"
   ]
  },
  {
   "cell_type": "code",
   "execution_count": 27,
   "id": "e415397d",
   "metadata": {},
   "outputs": [
    {
     "data": {
      "text/plain": [
       "95.9"
      ]
     },
     "execution_count": 27,
     "metadata": {},
     "output_type": "execute_result"
    }
   ],
   "source": [
    "(29 + 28 + (22*.1) + (21*.25) + (20*.5) + (13*.9) + (13*.75))"
   ]
  },
  {
   "cell_type": "code",
   "execution_count": 28,
   "id": "66cdfeff",
   "metadata": {},
   "outputs": [],
   "source": [
    "def view_to_rating(event_name):\n",
    "    d ={\n",
    "        'videostarts':1,\n",
    "        'videoplay':1, \n",
    "        'a_media_progress10':(1*.1),\n",
    "        'a_media_progress25':(1*.25),\n",
    "        'a_media_progress50':(1*.5), \n",
    "        'a_media_progress75':(1*.75), \n",
    "        'a_media_progress90':(1*.9)\n",
    "    }\n",
    "    \n",
    "    return(d[event_name])"
   ]
  },
  {
   "cell_type": "code",
   "execution_count": 29,
   "id": "61a86b4e",
   "metadata": {},
   "outputs": [
    {
     "data": {
      "text/plain": [
       "0.9"
      ]
     },
     "execution_count": 29,
     "metadata": {},
     "output_type": "execute_result"
    }
   ],
   "source": [
    "view_to_rating('a_media_progress90')"
   ]
  },
  {
   "cell_type": "code",
   "execution_count": 30,
   "id": "4cf5452b",
   "metadata": {},
   "outputs": [],
   "source": [
    "df['score'] = df.event_name.apply(view_to_rating)"
   ]
  },
  {
   "cell_type": "code",
   "execution_count": 77,
   "id": "9b2ce4fe",
   "metadata": {},
   "outputs": [],
   "source": [
    "groupby = df.groupby(['geo__country','video_title'])"
   ]
  },
  {
   "cell_type": "code",
   "execution_count": 78,
   "id": "79ffc368",
   "metadata": {},
   "outputs": [],
   "source": [
    "review_scores = groupby.sum()"
   ]
  },
  {
   "cell_type": "code",
   "execution_count": 92,
   "id": "919fcc19",
   "metadata": {},
   "outputs": [
    {
     "data": {
      "text/plain": [
       "612"
      ]
     },
     "execution_count": 92,
     "metadata": {},
     "output_type": "execute_result"
    }
   ],
   "source": [
    "len(review_scores.values)"
   ]
  },
  {
   "cell_type": "code",
   "execution_count": 80,
   "id": "303ee19b",
   "metadata": {},
   "outputs": [
    {
     "data": {
      "text/plain": [
       "612"
      ]
     },
     "execution_count": 80,
     "metadata": {},
     "output_type": "execute_result"
    }
   ],
   "source": [
    "len(review_scores.index)"
   ]
  },
  {
   "cell_type": "code",
   "execution_count": 73,
   "id": "a1f15e7a",
   "metadata": {},
   "outputs": [],
   "source": [
    "from scipy import sparse"
   ]
  },
  {
   "cell_type": "code",
   "execution_count": 74,
   "id": "c0941578",
   "metadata": {},
   "outputs": [
    {
     "data": {
      "text/plain": [
       "array([[0, 0, 3],\n",
       "       [0, 9, 5],\n",
       "       [0, 0, 0]])"
      ]
     },
     "execution_count": 74,
     "metadata": {},
     "output_type": "execute_result"
    }
   ],
   "source": [
    "data = [3, 9, 5]\n",
    "rows = [0, 1, 1]\n",
    "cols = [2, 1, 2]\n",
    "\n",
    "sparse_matrix = sparse.csr_matrix((data, (rows, cols)), \n",
    "                                  shape=(len(rows), len(cols)))\n",
    "sparse_matrix.toarray()"
   ]
  },
  {
   "cell_type": "code",
   "execution_count": 81,
   "id": "e69110dc",
   "metadata": {},
   "outputs": [
    {
     "data": {
      "text/plain": [
       "<612x1 sparse matrix of type '<class 'numpy.float64'>'\n",
       "\twith 612 stored elements in Compressed Sparse Row format>"
      ]
     },
     "execution_count": 81,
     "metadata": {},
     "output_type": "execute_result"
    }
   ],
   "source": [
    "sparse.csr_matrix(review_scores.values)"
   ]
  },
  {
   "cell_type": "code",
   "execution_count": 95,
   "id": "854a0b39",
   "metadata": {},
   "outputs": [],
   "source": [
    "my_lil_sparse_matrix = df.pivot_table(columns='video_title', index='geo__country', aggfunc='sum', fill_value=0)\n",
    "#df_final.fillna(0, inplace = True)"
   ]
  },
  {
   "cell_type": "code",
   "execution_count": 96,
   "id": "e1ff9103",
   "metadata": {},
   "outputs": [
    {
     "data": {
      "text/html": [
       "<div>\n",
       "<style scoped>\n",
       "    .dataframe tbody tr th:only-of-type {\n",
       "        vertical-align: middle;\n",
       "    }\n",
       "\n",
       "    .dataframe tbody tr th {\n",
       "        vertical-align: top;\n",
       "    }\n",
       "\n",
       "    .dataframe thead tr th {\n",
       "        text-align: left;\n",
       "    }\n",
       "\n",
       "    .dataframe thead tr:last-of-type th {\n",
       "        text-align: right;\n",
       "    }\n",
       "</style>\n",
       "<table border=\"1\" class=\"dataframe\">\n",
       "  <thead>\n",
       "    <tr>\n",
       "      <th></th>\n",
       "      <th colspan=\"21\" halign=\"left\">score</th>\n",
       "    </tr>\n",
       "    <tr>\n",
       "      <th>video_title</th>\n",
       "      <th>#FallingPlates</th>\n",
       "      <th>#फालिंगप्लेट्स</th>\n",
       "      <th>#掉落的盘子</th>\n",
       "      <th>1- في العائلة</th>\n",
       "      <th>1. Jesus, Our Loving Pursuer</th>\n",
       "      <th>1.가족 중에</th>\n",
       "      <th>1.우리의 사랑의 추구자이신 예수님</th>\n",
       "      <th>2- عمل يدوي</th>\n",
       "      <th>2. Jesus, Our Gracious Forgiver</th>\n",
       "      <th>3. Jesus, Our Power for Living</th>\n",
       "      <th>...</th>\n",
       "      <th>路加福音简介</th>\n",
       "      <th>身份错认于路司得</th>\n",
       "      <th>返回叙利亚的安提阿</th>\n",
       "      <th>选出马提亚替代犹大</th>\n",
       "      <th>那些使人犯罪的人有祸了</th>\n",
       "      <th>钉在十字架上的囚犯</th>\n",
       "      <th>雅典的偶像</th>\n",
       "      <th>非斯都咨询亚基帕王</th>\n",
       "      <th>高贵的比里亚人</th>\n",
       "      <th>魔鬼引诱耶稣</th>\n",
       "    </tr>\n",
       "    <tr>\n",
       "      <th>geo__country</th>\n",
       "      <th></th>\n",
       "      <th></th>\n",
       "      <th></th>\n",
       "      <th></th>\n",
       "      <th></th>\n",
       "      <th></th>\n",
       "      <th></th>\n",
       "      <th></th>\n",
       "      <th></th>\n",
       "      <th></th>\n",
       "      <th></th>\n",
       "      <th></th>\n",
       "      <th></th>\n",
       "      <th></th>\n",
       "      <th></th>\n",
       "      <th></th>\n",
       "      <th></th>\n",
       "      <th></th>\n",
       "      <th></th>\n",
       "      <th></th>\n",
       "      <th></th>\n",
       "    </tr>\n",
       "  </thead>\n",
       "  <tbody>\n",
       "    <tr>\n",
       "      <th>Bangladesh</th>\n",
       "      <td>11.35</td>\n",
       "      <td>0</td>\n",
       "      <td>0.0</td>\n",
       "      <td>0.0</td>\n",
       "      <td>4.5</td>\n",
       "      <td>0</td>\n",
       "      <td>0</td>\n",
       "      <td>0.0</td>\n",
       "      <td>3.6</td>\n",
       "      <td>0.0</td>\n",
       "      <td>...</td>\n",
       "      <td>0.00</td>\n",
       "      <td>0.0</td>\n",
       "      <td>0.0</td>\n",
       "      <td>0.0</td>\n",
       "      <td>0.0</td>\n",
       "      <td>0.00</td>\n",
       "      <td>0.0</td>\n",
       "      <td>0.0</td>\n",
       "      <td>0.0</td>\n",
       "      <td>0.00</td>\n",
       "    </tr>\n",
       "    <tr>\n",
       "      <th>China</th>\n",
       "      <td>9.00</td>\n",
       "      <td>0</td>\n",
       "      <td>13.5</td>\n",
       "      <td>0.0</td>\n",
       "      <td>0.0</td>\n",
       "      <td>0</td>\n",
       "      <td>0</td>\n",
       "      <td>0.0</td>\n",
       "      <td>0.0</td>\n",
       "      <td>0.0</td>\n",
       "      <td>...</td>\n",
       "      <td>6.85</td>\n",
       "      <td>4.5</td>\n",
       "      <td>4.5</td>\n",
       "      <td>4.5</td>\n",
       "      <td>3.6</td>\n",
       "      <td>6.45</td>\n",
       "      <td>4.5</td>\n",
       "      <td>5.5</td>\n",
       "      <td>4.5</td>\n",
       "      <td>2.85</td>\n",
       "    </tr>\n",
       "    <tr>\n",
       "      <th>Egypt</th>\n",
       "      <td>15.35</td>\n",
       "      <td>0</td>\n",
       "      <td>0.0</td>\n",
       "      <td>2.1</td>\n",
       "      <td>0.0</td>\n",
       "      <td>0</td>\n",
       "      <td>0</td>\n",
       "      <td>2.1</td>\n",
       "      <td>4.4</td>\n",
       "      <td>0.0</td>\n",
       "      <td>...</td>\n",
       "      <td>0.00</td>\n",
       "      <td>0.0</td>\n",
       "      <td>0.0</td>\n",
       "      <td>0.0</td>\n",
       "      <td>0.0</td>\n",
       "      <td>0.00</td>\n",
       "      <td>0.0</td>\n",
       "      <td>0.0</td>\n",
       "      <td>0.0</td>\n",
       "      <td>0.00</td>\n",
       "    </tr>\n",
       "    <tr>\n",
       "      <th>India</th>\n",
       "      <td>95.90</td>\n",
       "      <td>1</td>\n",
       "      <td>0.0</td>\n",
       "      <td>0.0</td>\n",
       "      <td>30.0</td>\n",
       "      <td>2</td>\n",
       "      <td>1</td>\n",
       "      <td>0.0</td>\n",
       "      <td>12.6</td>\n",
       "      <td>4.5</td>\n",
       "      <td>...</td>\n",
       "      <td>0.00</td>\n",
       "      <td>0.0</td>\n",
       "      <td>0.0</td>\n",
       "      <td>0.0</td>\n",
       "      <td>0.0</td>\n",
       "      <td>0.00</td>\n",
       "      <td>0.0</td>\n",
       "      <td>0.0</td>\n",
       "      <td>0.0</td>\n",
       "      <td>0.00</td>\n",
       "    </tr>\n",
       "  </tbody>\n",
       "</table>\n",
       "<p>4 rows × 406 columns</p>\n",
       "</div>"
      ],
      "text/plain": [
       "                      score                                       \\\n",
       "video_title  #FallingPlates #फालिंगप्लेट्स  #掉落的盘子 1- في العائلة   \n",
       "geo__country                                                       \n",
       "Bangladesh            11.35               0    0.0           0.0   \n",
       "China                  9.00               0   13.5           0.0   \n",
       "Egypt                 15.35               0    0.0           2.1   \n",
       "India                 95.90               1    0.0           0.0   \n",
       "\n",
       "                                                                       \\\n",
       "video_title  1. Jesus, Our Loving Pursuer 1.가족 중에 1.우리의 사랑의 추구자이신 예수님   \n",
       "geo__country                                                            \n",
       "Bangladesh                            4.5       0                   0   \n",
       "China                                 0.0       0                   0   \n",
       "Egypt                                 0.0       0                   0   \n",
       "India                                30.0       2                   1   \n",
       "\n",
       "                                                          \\\n",
       "video_title  2- عمل يدوي 2. Jesus, Our Gracious Forgiver   \n",
       "geo__country                                               \n",
       "Bangladesh           0.0                             3.6   \n",
       "China                0.0                             0.0   \n",
       "Egypt                2.1                             4.4   \n",
       "India                0.0                            12.6   \n",
       "\n",
       "                                             ...                            \\\n",
       "video_title  3. Jesus, Our Power for Living  ... 路加福音简介 身份错认于路司得 返回叙利亚的安提阿   \n",
       "geo__country                                 ...                             \n",
       "Bangladesh                              0.0  ...   0.00      0.0       0.0   \n",
       "China                                   0.0  ...   6.85      4.5       4.5   \n",
       "Egypt                                   0.0  ...   0.00      0.0       0.0   \n",
       "India                                   4.5  ...   0.00      0.0       0.0   \n",
       "\n",
       "                                                                             \n",
       "video_title  选出马提亚替代犹大 那些使人犯罪的人有祸了 钉在十字架上的囚犯 雅典的偶像 非斯都咨询亚基帕王 高贵的比里亚人 魔鬼引诱耶稣  \n",
       "geo__country                                                                 \n",
       "Bangladesh         0.0         0.0      0.00   0.0       0.0     0.0   0.00  \n",
       "China              4.5         3.6      6.45   4.5       5.5     4.5   2.85  \n",
       "Egypt              0.0         0.0      0.00   0.0       0.0     0.0   0.00  \n",
       "India              0.0         0.0      0.00   0.0       0.0     0.0   0.00  \n",
       "\n",
       "[4 rows x 406 columns]"
      ]
     },
     "execution_count": 96,
     "metadata": {},
     "output_type": "execute_result"
    }
   ],
   "source": [
    "my_lil_sparse_matrix"
   ]
  },
  {
   "cell_type": "code",
   "execution_count": null,
   "id": "38d588bc",
   "metadata": {},
   "outputs": [],
   "source": []
  },
  {
   "cell_type": "code",
   "execution_count": null,
   "id": "584cc19f",
   "metadata": {},
   "outputs": [],
   "source": []
  },
  {
   "cell_type": "code",
   "execution_count": 38,
   "id": "13e0e0f6",
   "metadata": {},
   "outputs": [
    {
     "data": {
      "text/plain": [
       "geo__country\n",
       "Bangladesh    1953\n",
       "China         1936\n",
       "Egypt         2467\n",
       "India         8644\n",
       "dtype: int64"
      ]
     },
     "execution_count": 38,
     "metadata": {},
     "output_type": "execute_result"
    }
   ],
   "source": [
    "country_groupby.size()"
   ]
  },
  {
   "cell_type": "code",
   "execution_count": 39,
   "id": "9b8acc7d",
   "metadata": {},
   "outputs": [
    {
     "data": {
      "text/html": [
       "<div>\n",
       "<style scoped>\n",
       "    .dataframe tbody tr th:only-of-type {\n",
       "        vertical-align: middle;\n",
       "    }\n",
       "\n",
       "    .dataframe tbody tr th {\n",
       "        vertical-align: top;\n",
       "    }\n",
       "\n",
       "    .dataframe thead tr th {\n",
       "        text-align: left;\n",
       "    }\n",
       "\n",
       "    .dataframe thead tr:last-of-type th {\n",
       "        text-align: right;\n",
       "    }\n",
       "</style>\n",
       "<table border=\"1\" class=\"dataframe\">\n",
       "  <thead>\n",
       "    <tr>\n",
       "      <th></th>\n",
       "      <th colspan=\"8\" halign=\"left\">score</th>\n",
       "    </tr>\n",
       "    <tr>\n",
       "      <th></th>\n",
       "      <th>count</th>\n",
       "      <th>mean</th>\n",
       "      <th>std</th>\n",
       "      <th>min</th>\n",
       "      <th>25%</th>\n",
       "      <th>50%</th>\n",
       "      <th>75%</th>\n",
       "      <th>max</th>\n",
       "    </tr>\n",
       "    <tr>\n",
       "      <th>geo__country</th>\n",
       "      <th></th>\n",
       "      <th></th>\n",
       "      <th></th>\n",
       "      <th></th>\n",
       "      <th></th>\n",
       "      <th></th>\n",
       "      <th></th>\n",
       "      <th></th>\n",
       "    </tr>\n",
       "  </thead>\n",
       "  <tbody>\n",
       "    <tr>\n",
       "      <th>Bangladesh</th>\n",
       "      <td>1953.0</td>\n",
       "      <td>0.645008</td>\n",
       "      <td>0.352061</td>\n",
       "      <td>0.1</td>\n",
       "      <td>0.25</td>\n",
       "      <td>0.75</td>\n",
       "      <td>1.0</td>\n",
       "      <td>1.0</td>\n",
       "    </tr>\n",
       "    <tr>\n",
       "      <th>China</th>\n",
       "      <td>1936.0</td>\n",
       "      <td>0.666942</td>\n",
       "      <td>0.347348</td>\n",
       "      <td>0.1</td>\n",
       "      <td>0.25</td>\n",
       "      <td>0.75</td>\n",
       "      <td>1.0</td>\n",
       "      <td>1.0</td>\n",
       "    </tr>\n",
       "    <tr>\n",
       "      <th>Egypt</th>\n",
       "      <td>2467.0</td>\n",
       "      <td>0.652047</td>\n",
       "      <td>0.350626</td>\n",
       "      <td>0.1</td>\n",
       "      <td>0.25</td>\n",
       "      <td>0.75</td>\n",
       "      <td>1.0</td>\n",
       "      <td>1.0</td>\n",
       "    </tr>\n",
       "    <tr>\n",
       "      <th>India</th>\n",
       "      <td>8644.0</td>\n",
       "      <td>0.661071</td>\n",
       "      <td>0.349209</td>\n",
       "      <td>0.1</td>\n",
       "      <td>0.25</td>\n",
       "      <td>0.75</td>\n",
       "      <td>1.0</td>\n",
       "      <td>1.0</td>\n",
       "    </tr>\n",
       "  </tbody>\n",
       "</table>\n",
       "</div>"
      ],
      "text/plain": [
       "               score                                               \n",
       "               count      mean       std  min   25%   50%  75%  max\n",
       "geo__country                                                       \n",
       "Bangladesh    1953.0  0.645008  0.352061  0.1  0.25  0.75  1.0  1.0\n",
       "China         1936.0  0.666942  0.347348  0.1  0.25  0.75  1.0  1.0\n",
       "Egypt         2467.0  0.652047  0.350626  0.1  0.25  0.75  1.0  1.0\n",
       "India         8644.0  0.661071  0.349209  0.1  0.25  0.75  1.0  1.0"
      ]
     },
     "execution_count": 39,
     "metadata": {},
     "output_type": "execute_result"
    }
   ],
   "source": [
    "country_groupby.describe()"
   ]
  },
  {
   "cell_type": "code",
   "execution_count": 40,
   "id": "01962324",
   "metadata": {},
   "outputs": [],
   "source": [
    "index = df.geo__country.unique()"
   ]
  },
  {
   "cell_type": "code",
   "execution_count": 41,
   "id": "linear-extreme",
   "metadata": {},
   "outputs": [],
   "source": [
    "columns = df.video_title.unique()"
   ]
  },
  {
   "cell_type": "code",
   "execution_count": 42,
   "id": "d99fa4d1",
   "metadata": {},
   "outputs": [],
   "source": [
    "data = np.zeros((index.shape[0], columns.shape[0]))"
   ]
  },
  {
   "cell_type": "code",
   "execution_count": null,
   "id": "considered-blend",
   "metadata": {},
   "outputs": [],
   "source": []
  },
  {
   "cell_type": "code",
   "execution_count": null,
   "id": "2a600ceb",
   "metadata": {},
   "outputs": [],
   "source": []
  },
  {
   "cell_type": "code",
   "execution_count": 43,
   "id": "e56b84ec",
   "metadata": {},
   "outputs": [
    {
     "data": {
      "text/plain": [
       "Index(['videoplay', 'videostarts', 'a_media_progress10', 'a_media_progress25',\n",
       "       'a_media_progress50', 'a_media_progress75', 'a_media_progress90'],\n",
       "      dtype='object')"
      ]
     },
     "execution_count": 43,
     "metadata": {},
     "output_type": "execute_result"
    }
   ],
   "source": [
    "df.event_name.value_counts().index"
   ]
  },
  {
   "cell_type": "code",
   "execution_count": 44,
   "id": "acute-brooklyn",
   "metadata": {},
   "outputs": [],
   "source": [
    "reviews = pd.DataFrame(data, index=index, columns=columns)"
   ]
  },
  {
   "cell_type": "code",
   "execution_count": 45,
   "id": "hundred-karen",
   "metadata": {},
   "outputs": [
    {
     "data": {
      "text/html": [
       "<div>\n",
       "<style scoped>\n",
       "    .dataframe tbody tr th:only-of-type {\n",
       "        vertical-align: middle;\n",
       "    }\n",
       "\n",
       "    .dataframe tbody tr th {\n",
       "        vertical-align: top;\n",
       "    }\n",
       "\n",
       "    .dataframe thead th {\n",
       "        text-align: right;\n",
       "    }\n",
       "</style>\n",
       "<table border=\"1\" class=\"dataframe\">\n",
       "  <thead>\n",
       "    <tr style=\"text-align: right;\">\n",
       "      <th></th>\n",
       "      <th>#FallingPlates</th>\n",
       "      <th>1. Jesus, Our Loving Pursuer</th>\n",
       "      <th>2. Jesus, Our Gracious Forgiver</th>\n",
       "      <th>6. Jesus, Our Complete Restorer</th>\n",
       "      <th>7. Jesus Our Living Water</th>\n",
       "      <th>Abraham</th>\n",
       "      <th>Angels at the Tomb</th>\n",
       "      <th>Annas Questions Jesus&amp;#39;s Authority</th>\n",
       "      <th>Announcement to Mary</th>\n",
       "      <th>B Me</th>\n",
       "      <th>...</th>\n",
       "      <th>Fracture</th>\n",
       "      <th>Getting Started Is Easy</th>\n",
       "      <th>God&amp;#39;s Word Becomes Flesh</th>\n",
       "      <th>Good</th>\n",
       "      <th>Great Confrontation</th>\n",
       "      <th>Grief will Turn to Joy!</th>\n",
       "      <th>Growing In Christ</th>\n",
       "      <th>Handiwork</th>\n",
       "      <th>Idols in Athens</th>\n",
       "      <th>In Time</th>\n",
       "    </tr>\n",
       "  </thead>\n",
       "  <tbody>\n",
       "    <tr>\n",
       "      <th>Bangladesh</th>\n",
       "      <td>0.0</td>\n",
       "      <td>0.0</td>\n",
       "      <td>0.0</td>\n",
       "      <td>0.0</td>\n",
       "      <td>0.0</td>\n",
       "      <td>0.0</td>\n",
       "      <td>0.0</td>\n",
       "      <td>0.0</td>\n",
       "      <td>0.0</td>\n",
       "      <td>0.0</td>\n",
       "      <td>...</td>\n",
       "      <td>0.0</td>\n",
       "      <td>0.0</td>\n",
       "      <td>0.0</td>\n",
       "      <td>0.0</td>\n",
       "      <td>0.0</td>\n",
       "      <td>0.0</td>\n",
       "      <td>0.0</td>\n",
       "      <td>0.0</td>\n",
       "      <td>0.0</td>\n",
       "      <td>0.0</td>\n",
       "    </tr>\n",
       "    <tr>\n",
       "      <th>China</th>\n",
       "      <td>0.0</td>\n",
       "      <td>0.0</td>\n",
       "      <td>0.0</td>\n",
       "      <td>0.0</td>\n",
       "      <td>0.0</td>\n",
       "      <td>0.0</td>\n",
       "      <td>0.0</td>\n",
       "      <td>0.0</td>\n",
       "      <td>0.0</td>\n",
       "      <td>0.0</td>\n",
       "      <td>...</td>\n",
       "      <td>0.0</td>\n",
       "      <td>0.0</td>\n",
       "      <td>0.0</td>\n",
       "      <td>0.0</td>\n",
       "      <td>0.0</td>\n",
       "      <td>0.0</td>\n",
       "      <td>0.0</td>\n",
       "      <td>0.0</td>\n",
       "      <td>0.0</td>\n",
       "      <td>0.0</td>\n",
       "    </tr>\n",
       "    <tr>\n",
       "      <th>Egypt</th>\n",
       "      <td>0.0</td>\n",
       "      <td>0.0</td>\n",
       "      <td>0.0</td>\n",
       "      <td>0.0</td>\n",
       "      <td>0.0</td>\n",
       "      <td>0.0</td>\n",
       "      <td>0.0</td>\n",
       "      <td>0.0</td>\n",
       "      <td>0.0</td>\n",
       "      <td>0.0</td>\n",
       "      <td>...</td>\n",
       "      <td>0.0</td>\n",
       "      <td>0.0</td>\n",
       "      <td>0.0</td>\n",
       "      <td>0.0</td>\n",
       "      <td>0.0</td>\n",
       "      <td>0.0</td>\n",
       "      <td>0.0</td>\n",
       "      <td>0.0</td>\n",
       "      <td>0.0</td>\n",
       "      <td>0.0</td>\n",
       "    </tr>\n",
       "    <tr>\n",
       "      <th>India</th>\n",
       "      <td>0.0</td>\n",
       "      <td>0.0</td>\n",
       "      <td>0.0</td>\n",
       "      <td>0.0</td>\n",
       "      <td>0.0</td>\n",
       "      <td>0.0</td>\n",
       "      <td>0.0</td>\n",
       "      <td>0.0</td>\n",
       "      <td>0.0</td>\n",
       "      <td>0.0</td>\n",
       "      <td>...</td>\n",
       "      <td>0.0</td>\n",
       "      <td>0.0</td>\n",
       "      <td>0.0</td>\n",
       "      <td>0.0</td>\n",
       "      <td>0.0</td>\n",
       "      <td>0.0</td>\n",
       "      <td>0.0</td>\n",
       "      <td>0.0</td>\n",
       "      <td>0.0</td>\n",
       "      <td>0.0</td>\n",
       "    </tr>\n",
       "  </tbody>\n",
       "</table>\n",
       "<p>4 rows × 406 columns</p>\n",
       "</div>"
      ],
      "text/plain": [
       "            #FallingPlates  1. Jesus, Our Loving Pursuer  \\\n",
       "Bangladesh             0.0                           0.0   \n",
       "China                  0.0                           0.0   \n",
       "Egypt                  0.0                           0.0   \n",
       "India                  0.0                           0.0   \n",
       "\n",
       "            2. Jesus, Our Gracious Forgiver  6. Jesus, Our Complete Restorer  \\\n",
       "Bangladesh                              0.0                              0.0   \n",
       "China                                   0.0                              0.0   \n",
       "Egypt                                   0.0                              0.0   \n",
       "India                                   0.0                              0.0   \n",
       "\n",
       "            7. Jesus Our Living Water  Abraham  Angels at the Tomb  \\\n",
       "Bangladesh                        0.0      0.0                 0.0   \n",
       "China                             0.0      0.0                 0.0   \n",
       "Egypt                             0.0      0.0                 0.0   \n",
       "India                             0.0      0.0                 0.0   \n",
       "\n",
       "            Annas Questions Jesus&#39;s Authority  Announcement to Mary  B Me  \\\n",
       "Bangladesh                                    0.0                   0.0   0.0   \n",
       "China                                         0.0                   0.0   0.0   \n",
       "Egypt                                         0.0                   0.0   0.0   \n",
       "India                                         0.0                   0.0   0.0   \n",
       "\n",
       "            ...  Fracture  Getting Started Is Easy  \\\n",
       "Bangladesh  ...       0.0                      0.0   \n",
       "China       ...       0.0                      0.0   \n",
       "Egypt       ...       0.0                      0.0   \n",
       "India       ...       0.0                      0.0   \n",
       "\n",
       "            God&#39;s Word Becomes Flesh  Good  Great Confrontation  \\\n",
       "Bangladesh                           0.0   0.0                  0.0   \n",
       "China                                0.0   0.0                  0.0   \n",
       "Egypt                                0.0   0.0                  0.0   \n",
       "India                                0.0   0.0                  0.0   \n",
       "\n",
       "            Grief will Turn to Joy!  Growing In Christ  Handiwork  \\\n",
       "Bangladesh                      0.0                0.0        0.0   \n",
       "China                           0.0                0.0        0.0   \n",
       "Egypt                           0.0                0.0        0.0   \n",
       "India                           0.0                0.0        0.0   \n",
       "\n",
       "            Idols in Athens  In Time  \n",
       "Bangladesh              0.0      0.0  \n",
       "China                   0.0      0.0  \n",
       "Egypt                   0.0      0.0  \n",
       "India                   0.0      0.0  \n",
       "\n",
       "[4 rows x 406 columns]"
      ]
     },
     "execution_count": 45,
     "metadata": {},
     "output_type": "execute_result"
    }
   ],
   "source": [
    "reviews"
   ]
  },
  {
   "cell_type": "code",
   "execution_count": 46,
   "id": "refined-bridge",
   "metadata": {},
   "outputs": [
    {
     "data": {
      "text/html": [
       "<div>\n",
       "<style scoped>\n",
       "    .dataframe tbody tr th:only-of-type {\n",
       "        vertical-align: middle;\n",
       "    }\n",
       "\n",
       "    .dataframe tbody tr th {\n",
       "        vertical-align: top;\n",
       "    }\n",
       "\n",
       "    .dataframe thead th {\n",
       "        text-align: right;\n",
       "    }\n",
       "</style>\n",
       "<table border=\"1\" class=\"dataframe\">\n",
       "  <thead>\n",
       "    <tr style=\"text-align: right;\">\n",
       "      <th></th>\n",
       "      <th>geo__country</th>\n",
       "      <th>event_name</th>\n",
       "      <th>video_title</th>\n",
       "      <th>score</th>\n",
       "    </tr>\n",
       "  </thead>\n",
       "  <tbody>\n",
       "    <tr>\n",
       "      <th>0</th>\n",
       "      <td>Bangladesh</td>\n",
       "      <td>videoplay</td>\n",
       "      <td>#FallingPlates</td>\n",
       "      <td>1.00</td>\n",
       "    </tr>\n",
       "    <tr>\n",
       "      <th>1</th>\n",
       "      <td>Bangladesh</td>\n",
       "      <td>a_media_progress10</td>\n",
       "      <td>#FallingPlates</td>\n",
       "      <td>0.10</td>\n",
       "    </tr>\n",
       "    <tr>\n",
       "      <th>2</th>\n",
       "      <td>Bangladesh</td>\n",
       "      <td>a_media_progress90</td>\n",
       "      <td>#FallingPlates</td>\n",
       "      <td>0.90</td>\n",
       "    </tr>\n",
       "    <tr>\n",
       "      <th>3</th>\n",
       "      <td>Bangladesh</td>\n",
       "      <td>videostarts</td>\n",
       "      <td>#FallingPlates</td>\n",
       "      <td>1.00</td>\n",
       "    </tr>\n",
       "    <tr>\n",
       "      <th>4</th>\n",
       "      <td>Bangladesh</td>\n",
       "      <td>a_media_progress75</td>\n",
       "      <td>#FallingPlates</td>\n",
       "      <td>0.75</td>\n",
       "    </tr>\n",
       "  </tbody>\n",
       "</table>\n",
       "</div>"
      ],
      "text/plain": [
       "  geo__country          event_name     video_title  score\n",
       "0   Bangladesh           videoplay  #FallingPlates   1.00\n",
       "1   Bangladesh  a_media_progress10  #FallingPlates   0.10\n",
       "2   Bangladesh  a_media_progress90  #FallingPlates   0.90\n",
       "3   Bangladesh         videostarts  #FallingPlates   1.00\n",
       "4   Bangladesh  a_media_progress75  #FallingPlates   0.75"
      ]
     },
     "execution_count": 46,
     "metadata": {},
     "output_type": "execute_result"
    }
   ],
   "source": [
    "df.head()"
   ]
  },
  {
   "cell_type": "code",
   "execution_count": null,
   "id": "coupled-bibliography",
   "metadata": {},
   "outputs": [],
   "source": []
  },
  {
   "cell_type": "code",
   "execution_count": null,
   "id": "vocational-supervisor",
   "metadata": {},
   "outputs": [],
   "source": []
  },
  {
   "cell_type": "code",
   "execution_count": null,
   "id": "functioning-runner",
   "metadata": {},
   "outputs": [],
   "source": []
  },
  {
   "cell_type": "code",
   "execution_count": null,
   "id": "spectacular-knitting",
   "metadata": {},
   "outputs": [],
   "source": []
  },
  {
   "cell_type": "code",
   "execution_count": null,
   "id": "resident-relation",
   "metadata": {},
   "outputs": [],
   "source": []
  },
  {
   "cell_type": "code",
   "execution_count": null,
   "id": "smaller-pressure",
   "metadata": {},
   "outputs": [],
   "source": []
  }
 ],
 "metadata": {
  "kernelspec": {
   "display_name": "Python 3",
   "language": "python",
   "name": "python3"
  },
  "language_info": {
   "codemirror_mode": {
    "name": "ipython",
    "version": 3
   },
   "file_extension": ".py",
   "mimetype": "text/x-python",
   "name": "python",
   "nbconvert_exporter": "python",
   "pygments_lexer": "ipython3",
   "version": "3.7.10"
  }
 },
 "nbformat": 4,
 "nbformat_minor": 5
}
