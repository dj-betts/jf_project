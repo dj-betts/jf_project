{
 "cells": [
  {
   "cell_type": "code",
   "execution_count": 1,
   "id": "incomplete-separate",
   "metadata": {},
   "outputs": [],
   "source": [
    "import pandas as pd\n",
    "import numpy as np"
   ]
  },
  {
   "cell_type": "code",
   "execution_count": 2,
   "id": "prescribed-generic",
   "metadata": {},
   "outputs": [
    {
     "name": "stderr",
     "output_type": "stream",
     "text": [
      "In /Users/djbetts/opt/anaconda3/lib/python3.7/site-packages/matplotlib/mpl-data/stylelib/_classic_test.mplstyle: \n",
      "The text.latex.preview rcparam was deprecated in Matplotlib 3.3 and will be removed two minor releases later.\n",
      "In /Users/djbetts/opt/anaconda3/lib/python3.7/site-packages/matplotlib/mpl-data/stylelib/_classic_test.mplstyle: \n",
      "The mathtext.fallback_to_cm rcparam was deprecated in Matplotlib 3.3 and will be removed two minor releases later.\n",
      "In /Users/djbetts/opt/anaconda3/lib/python3.7/site-packages/matplotlib/mpl-data/stylelib/_classic_test.mplstyle: Support for setting the 'mathtext.fallback_to_cm' rcParam is deprecated since 3.3 and will be removed two minor releases later; use 'mathtext.fallback : 'cm' instead.\n",
      "In /Users/djbetts/opt/anaconda3/lib/python3.7/site-packages/matplotlib/mpl-data/stylelib/_classic_test.mplstyle: \n",
      "The validate_bool_maybe_none function was deprecated in Matplotlib 3.3 and will be removed two minor releases later.\n",
      "In /Users/djbetts/opt/anaconda3/lib/python3.7/site-packages/matplotlib/mpl-data/stylelib/_classic_test.mplstyle: \n",
      "The savefig.jpeg_quality rcparam was deprecated in Matplotlib 3.3 and will be removed two minor releases later.\n",
      "In /Users/djbetts/opt/anaconda3/lib/python3.7/site-packages/matplotlib/mpl-data/stylelib/_classic_test.mplstyle: \n",
      "The keymap.all_axes rcparam was deprecated in Matplotlib 3.3 and will be removed two minor releases later.\n",
      "In /Users/djbetts/opt/anaconda3/lib/python3.7/site-packages/matplotlib/mpl-data/stylelib/_classic_test.mplstyle: \n",
      "The animation.avconv_path rcparam was deprecated in Matplotlib 3.3 and will be removed two minor releases later.\n",
      "In /Users/djbetts/opt/anaconda3/lib/python3.7/site-packages/matplotlib/mpl-data/stylelib/_classic_test.mplstyle: \n",
      "The animation.avconv_args rcparam was deprecated in Matplotlib 3.3 and will be removed two minor releases later.\n"
     ]
    }
   ],
   "source": [
    "import matplotlib.pyplot as plt"
   ]
  },
  {
   "cell_type": "code",
   "execution_count": 3,
   "id": "5f2940b5",
   "metadata": {},
   "outputs": [],
   "source": [
    "from src.ItemItemRecommender import ItemItemRecommender\n",
    "from sklearn.model_selection import train_test_split"
   ]
  },
  {
   "cell_type": "code",
   "execution_count": 4,
   "id": "emerging-estonia",
   "metadata": {},
   "outputs": [],
   "source": [
    "from datetime import datetime"
   ]
  },
  {
   "cell_type": "code",
   "execution_count": 5,
   "id": "6037bd59",
   "metadata": {},
   "outputs": [],
   "source": [
    "#Current SQL query\n",
    "\"\"\"\n",
    "SELECT \n",
    "geo__country, \n",
    "#geo__city,\n",
    "event_params__video_title,\n",
    "event_params__videotitle,\n",
    "event_name,\n",
    "#COUNT(event_name) AS times_completed,\n",
    "FROM `jfp-data-warehouse.production_firebase.firebase_event` \n",
    "WHERE geo__country in ('Afghanistan',\n",
    " 'Algeria',\n",
    " 'Azerbaijan',\n",
    " 'Bahrain',\n",
    " 'Bangladesh',\n",
    " 'Bhutan',\n",
    " 'Brunei',\n",
    " 'China',\n",
    " 'Egypt',\n",
    " 'India',\n",
    " 'Indonesia',\n",
    " 'Iran',\n",
    " 'Iraq',\n",
    " 'Japan',\n",
    " 'Jordan',\n",
    " 'Kazakstan',\n",
    " 'Kuwait',\n",
    " 'Kyrgyzstan',\n",
    " 'Laos',\n",
    " 'Libya',\n",
    " 'Malaysia',\n",
    " 'Maldives',\n",
    " 'Mali',\n",
    " 'Mauritania',\n",
    " 'Mongolia',\n",
    " 'Morocco',\n",
    " 'Myanmar',\n",
    " 'Nepal',\n",
    " 'Niger',\n",
    " 'North Korea',\n",
    " 'Oman',\n",
    " 'Pakistan',\n",
    " 'Palestine',\n",
    " 'Qatar',\n",
    " 'Russia',\n",
    " 'Saudia Arabia',\n",
    " 'Somalia',\n",
    " 'Sri Lanka',\n",
    " 'Sudan',\n",
    " 'Syria',\n",
    " 'Tajikistan',\n",
    " 'Thailand',\n",
    " 'Timor Leste',\n",
    " 'Tunisia',\n",
    " 'Turkey',\n",
    " 'Turkmenistan',\n",
    " 'UAE',\n",
    " 'Uzbekistan',\n",
    " 'Vietnam',\n",
    " 'Yemen') AND \n",
    "event_params__video_title IS NOT NULL AND\n",
    "event_name IN ('videostarts',  'videoplay',  'a_media_progress10',  'a_media_progress25',  'a_media_progress50',  'a_media_progress75',  'a_media_progress90') AND \n",
    "DATE(event_date_partition) \n",
    "BETWEEN  \"2021-01-01\" AND \"2021-04-14\" \n",
    "GROUP BY \n",
    "geo__country, \n",
    "geo__city,\n",
    "event_params__videotitle, \n",
    "event_params__video_title,\n",
    "event_name\n",
    "ORDER BY \n",
    "geo__country,\n",
    "event_params__video_title\n",
    "#times_completed DESC \n",
    "LIMIT 16000\n",
    "\"\"\";"
   ]
  },
  {
   "cell_type": "code",
   "execution_count": 6,
   "id": "satellite-spouse",
   "metadata": {},
   "outputs": [],
   "source": [
    "data = pd.read_csv('/Users/djbetts/Desktop/jf_project/data/recommender_base_top_50.csv')"
   ]
  },
  {
   "cell_type": "code",
   "execution_count": 7,
   "id": "preliminary-tract",
   "metadata": {},
   "outputs": [],
   "source": [
    "df = data.copy()\n",
    "#df.drop(['geo__city', 'times_completed'], axis=1, inplace=True)"
   ]
  },
  {
   "cell_type": "code",
   "execution_count": 8,
   "id": "sensitive-sharing",
   "metadata": {},
   "outputs": [
    {
     "data": {
      "text/plain": [
       "Index(['geo__country', 'event_params__video_title', 'event_params__videotitle',\n",
       "       'event_name'],\n",
       "      dtype='object')"
      ]
     },
     "execution_count": 8,
     "metadata": {},
     "output_type": "execute_result"
    }
   ],
   "source": [
    "df.columns"
   ]
  },
  {
   "cell_type": "code",
   "execution_count": 9,
   "id": "comparable-domestic",
   "metadata": {},
   "outputs": [],
   "source": [
    "df['video_title'] = df['event_params__videotitle'].fillna(df['event_params__video_title'])"
   ]
  },
  {
   "cell_type": "code",
   "execution_count": 10,
   "id": "complete-mambo",
   "metadata": {},
   "outputs": [],
   "source": [
    "df.drop(['event_params__videotitle','event_params__video_title'], axis=1, inplace=True)"
   ]
  },
  {
   "cell_type": "code",
   "execution_count": 11,
   "id": "alpine-joshua",
   "metadata": {},
   "outputs": [
    {
     "data": {
      "text/plain": [
       "India          7243\n",
       "Egypt          2810\n",
       "China          2143\n",
       "Bangladesh     2103\n",
       "Algeria         621\n",
       "Afghanistan     390\n",
       "Bahrain         256\n",
       "Azerbaijan      233\n",
       "Bhutan          130\n",
       "Brunei           71\n",
       "Name: geo__country, dtype: int64"
      ]
     },
     "execution_count": 11,
     "metadata": {},
     "output_type": "execute_result"
    }
   ],
   "source": [
    "(df.geo__country.value_counts())"
   ]
  },
  {
   "cell_type": "code",
   "execution_count": 12,
   "id": "pursuant-shoot",
   "metadata": {},
   "outputs": [
    {
     "data": {
      "text/plain": [
       "videoplay             2871\n",
       "videostarts           2781\n",
       "a_media_progress10    2408\n",
       "a_media_progress25    2225\n",
       "a_media_progress50    2048\n",
       "a_media_progress75    1891\n",
       "a_media_progress90    1776\n",
       "Name: event_name, dtype: int64"
      ]
     },
     "execution_count": 12,
     "metadata": {},
     "output_type": "execute_result"
    }
   ],
   "source": [
    "df.event_name.value_counts()"
   ]
  },
  {
   "cell_type": "code",
   "execution_count": 13,
   "id": "16a88f60",
   "metadata": {},
   "outputs": [
    {
     "data": {
      "text/plain": [
       "<AxesSubplot:>"
      ]
     },
     "execution_count": 13,
     "metadata": {},
     "output_type": "execute_result"
    },
    {
     "data": {
      "image/png": "[encoded data removed]",
      "text/plain": [
       "<Figure size 432x288 with 1 Axes>"
      ]
     },
     "metadata": {
      "needs_background": "light"
     },
     "output_type": "display_data"
    }
   ],
   "source": [
    "df.event_name.value_counts().hist(bins=7)"
   ]
  },
  {
   "cell_type": "code",
   "execution_count": 14,
   "id": "armed-pound",
   "metadata": {},
   "outputs": [
    {
     "data": {
      "text/plain": [
       "Baptism of Jesus by John    1161\n",
       "Childhood of Jesus          1158\n",
       "Birth of Jesus              1151\n",
       "JESUS                        806\n",
       "Chosen Witness               686\n",
       "                            ... \n",
       "Witness to the Son             1\n",
       "This Is Freedom                1\n",
       "奮鬥與成就                          1\n",
       "The Li Yan Story               1\n",
       "得救的确据                          1\n",
       "Name: video_title, Length: 435, dtype: int64"
      ]
     },
     "execution_count": 14,
     "metadata": {},
     "output_type": "execute_result"
    }
   ],
   "source": [
    "df.video_title.value_counts()"
   ]
  },
  {
   "cell_type": "code",
   "execution_count": 15,
   "id": "1cbef33f",
   "metadata": {},
   "outputs": [],
   "source": [
    "#df.video_title.hist(bins=435);"
   ]
  },
  {
   "cell_type": "markdown",
   "id": "523361b6",
   "metadata": {},
   "source": [
    "# 90% progress through video"
   ]
  },
  {
   "cell_type": "code",
   "execution_count": 16,
   "id": "broken-chemistry",
   "metadata": {},
   "outputs": [],
   "source": [
    "#df_90 = df[df['event_name'] == 'a_media_progress90']"
   ]
  },
  {
   "cell_type": "code",
   "execution_count": 17,
   "id": "unusual-recommendation",
   "metadata": {},
   "outputs": [],
   "source": [
    "#df_90.video_title.unique()"
   ]
  },
  {
   "cell_type": "code",
   "execution_count": 18,
   "id": "korean-nirvana",
   "metadata": {},
   "outputs": [],
   "source": [
    "#df_90.geo__country.value_counts()"
   ]
  },
  {
   "cell_type": "code",
   "execution_count": 19,
   "id": "considerable-expense",
   "metadata": {},
   "outputs": [],
   "source": [
    "#country_groupby = df.groupby('geo__country')"
   ]
  },
  {
   "cell_type": "code",
   "execution_count": 20,
   "id": "157bd73b",
   "metadata": {},
   "outputs": [],
   "source": [
    "#country_groupby['video_title'].unique()"
   ]
  },
  {
   "cell_type": "code",
   "execution_count": 21,
   "id": "0e197be5",
   "metadata": {},
   "outputs": [],
   "source": [
    "#india = country_groupby.get_group('India')"
   ]
  },
  {
   "cell_type": "code",
   "execution_count": 22,
   "id": "348a07e1",
   "metadata": {},
   "outputs": [],
   "source": [
    "#falling_plates_india = india[india['video_title'] == '#FallingPlates']"
   ]
  },
  {
   "cell_type": "code",
   "execution_count": 23,
   "id": "818d7c54",
   "metadata": {},
   "outputs": [],
   "source": [
    "#event_score = falling_plates_india.event_name.value_counts()"
   ]
  },
  {
   "cell_type": "code",
   "execution_count": 24,
   "id": "f31ed887",
   "metadata": {},
   "outputs": [],
   "source": [
    "#event_score.index"
   ]
  },
  {
   "cell_type": "code",
   "execution_count": 25,
   "id": "4c11185f",
   "metadata": {},
   "outputs": [],
   "source": [
    "#keys = df.video_title.unique()\n",
    "#reviews = dict.fromkeys(keys, 0)"
   ]
  },
  {
   "cell_type": "code",
   "execution_count": 26,
   "id": "f195e257",
   "metadata": {},
   "outputs": [],
   "source": [
    "#tried to make a function by iterating through a groupby. couldn't figure it out.\n",
    "\n",
    "# def rating_calculator(group):\n",
    "#     rating = 0\n",
    "#     reviews = dict.fromkeys(set(group.video_title), 0)\n",
    "#     for event_name in group.event_name:\n",
    "#         if event_name == 'videostarts' or event_name == 'videoplay':\n",
    "#             reviews[group.video_title] += 1\n",
    "#         elif event_name == 'a_media_progress10':\n",
    "#             reviews[group.video_title] += (1 * .1)\n",
    "#         elif event_name == 'a_media_progress25':\n",
    "#             reviews[group.video_title] += (1 * .25)\n",
    "#         elif event_name == 'a_media_progress50':\n",
    "#             reviews[group.video_title] += (1 * .5)\n",
    "#         elif event_name == 'a_media_progress75':\n",
    "#             reviews[group.video_title] += (1 * .75)\n",
    "#         elif event_name == 'a_media_progress90':\n",
    "#             reviews[group.video_title] += (1 * .9)\n",
    "#     print(f'total: {rating}\\nnormalized: {rating/len(events)}')\n",
    "#     return (reviews)\n",
    "# #     return\n",
    "# # print(rating)\n",
    "# # print(rating/len(event_score))"
   ]
  },
  {
   "cell_type": "code",
   "execution_count": 27,
   "id": "8f6e5670",
   "metadata": {},
   "outputs": [],
   "source": [
    "#rating_calculator(event_score)"
   ]
  },
  {
   "cell_type": "code",
   "execution_count": 28,
   "id": "987314e4",
   "metadata": {},
   "outputs": [],
   "source": [
    "# #BROKEN\n",
    "# def review_builder(country_groupby):\n",
    "#     review_dic = dict.fromkeys(country_groupby.groups.keys(), None)\n",
    "#     print(review_dic)\n",
    "#     for country, group in country_groupby:\n",
    "#         review_dic[country] = rating_calculator(group)\n",
    "#     return review_dic"
   ]
  },
  {
   "cell_type": "markdown",
   "id": "756c3da9",
   "metadata": {},
   "source": [
    "# function to return score. not normalized"
   ]
  },
  {
   "cell_type": "code",
   "execution_count": 29,
   "id": "66cdfeff",
   "metadata": {},
   "outputs": [],
   "source": [
    "def view_to_rating(event_name):\n",
    "    d ={\n",
    "        'videostarts':.01,\n",
    "        'videoplay':.01, \n",
    "        'a_media_progress10':(1*.1),\n",
    "        'a_media_progress25':(1*.25),\n",
    "        'a_media_progress50':(1*.5), \n",
    "        'a_media_progress75':(1*.75), \n",
    "        'a_media_progress90':(1*.9)\n",
    "    }\n",
    "    \n",
    "    return(d[event_name])"
   ]
  },
  {
   "cell_type": "code",
   "execution_count": 30,
   "id": "61a86b4e",
   "metadata": {},
   "outputs": [],
   "source": [
    "#view_to_rating('a_media_progress90')"
   ]
  },
  {
   "cell_type": "code",
   "execution_count": 31,
   "id": "4cf5452b",
   "metadata": {},
   "outputs": [],
   "source": [
    "df['score'] = df.event_name.apply(view_to_rating)"
   ]
  },
  {
   "cell_type": "code",
   "execution_count": 32,
   "id": "0a918589",
   "metadata": {},
   "outputs": [],
   "source": [
    "df.drop(['event_name'], axis=1, inplace=True)"
   ]
  },
  {
   "cell_type": "code",
   "execution_count": 33,
   "id": "28a811ee",
   "metadata": {},
   "outputs": [
    {
     "data": {
      "text/plain": [
       "<AxesSubplot:>"
      ]
     },
     "execution_count": 33,
     "metadata": {},
     "output_type": "execute_result"
    },
    {
     "data": {
      "image/png": "[encoded data removed]",
      "text/plain": [
       "<Figure size 432x288 with 1 Axes>"
      ]
     },
     "metadata": {
      "needs_background": "light"
     },
     "output_type": "display_data"
    }
   ],
   "source": [
    "df.geo__country.hist()"
   ]
  },
  {
   "cell_type": "code",
   "execution_count": 83,
   "id": "9b2ce4fe",
   "metadata": {},
   "outputs": [],
   "source": [
    "groupby = df.groupby(['geo__country','video_title'])"
   ]
  },
  {
   "cell_type": "code",
   "execution_count": 84,
   "id": "79ffc368",
   "metadata": {},
   "outputs": [],
   "source": [
    "review_scores = groupby.sum()"
   ]
  },
  {
   "cell_type": "code",
   "execution_count": 94,
   "id": "919fcc19",
   "metadata": {},
   "outputs": [
    {
     "data": {
      "text/plain": [
       "score    0.12\n",
       "Name: (Bhutan, LUMO - John 21:1-25), dtype: float64"
      ]
     },
     "execution_count": 94,
     "metadata": {},
     "output_type": "execute_result"
    }
   ],
   "source": [
    "review_scores.loc[('Bhutan', 'LUMO - John 21:1-25')]"
   ]
  },
  {
   "cell_type": "code",
   "execution_count": 112,
   "id": "8e4098a1",
   "metadata": {},
   "outputs": [
    {
     "data": {
      "text/plain": [
       "score    0.12\n",
       "Name: (Bhutan, LUMO - John 21:1-25), dtype: float64"
      ]
     },
     "execution_count": 112,
     "metadata": {},
     "output_type": "execute_result"
    }
   ],
   "source": [
    "review_scores.loc[('Bhutan','LUMO - John 21:1-25')]"
   ]
  },
  {
   "cell_type": "code",
   "execution_count": 113,
   "id": "ccea36ee",
   "metadata": {},
   "outputs": [
    {
     "data": {
      "text/plain": [
       "MultiIndex([('Afghanistan',                         '#FallingPlates'),\n",
       "            ('Afghanistan',                     'Angels at the Tomb'),\n",
       "            ('Afghanistan',               'Baptism of Jesus by John'),\n",
       "            ('Afghanistan',                             'Beatitudes'),\n",
       "            ('Afghanistan',                         'Birth of Jesus'),\n",
       "            ('Afghanistan',    'Blessed are those Who Hear and Obey'),\n",
       "            ('Afghanistan',                                'Breathe'),\n",
       "            ('Afghanistan',                        'Burial of Jesus'),\n",
       "            ('Afghanistan',                     'Childhood of Jesus'),\n",
       "            ('Afghanistan',                         'Chosen Witness'),\n",
       "            ...\n",
       "            (      'India',                              'Episode 9'),\n",
       "            (      'India', 'Eutychus Raised From the Dead at Troas'),\n",
       "            (      'India',        'Explanation of Miraculous Birth'),\n",
       "            (      'India',                           'Falling Away'),\n",
       "            (      'India',                          'Feeding 5,000'),\n",
       "            (      'India',                'Fellowship Of Believers'),\n",
       "            (      'India',           'Festus Consults King Agrippa'),\n",
       "            (      'India',                          'Finding Peace'),\n",
       "            (      'India',                         'Finishing Well'),\n",
       "            (      'India',                                   'Flow')],\n",
       "           names=['geo__country', 'video_title'], length=829)"
      ]
     },
     "execution_count": 113,
     "metadata": {},
     "output_type": "execute_result"
    }
   ],
   "source": [
    "review_scores.index"
   ]
  },
  {
   "cell_type": "code",
   "execution_count": 37,
   "id": "67235265",
   "metadata": {},
   "outputs": [],
   "source": [
    "from scipy import sparse\n",
    "from scipy.sparse import csr_matrix"
   ]
  },
  {
   "cell_type": "code",
   "execution_count": 115,
   "id": "bb4123cc",
   "metadata": {},
   "outputs": [],
   "source": [
    "df_sparce = df.pivot_table(columns='video_title', values='score', index='geo__country', aggfunc='mean', fill_value=0)\n",
    "movie_list = pd.Series(df_sparce.columns)\n",
    "users = pd.Series(df_sparce.index)"
   ]
  },
  {
   "cell_type": "code",
   "execution_count": 39,
   "id": "5f64b63f",
   "metadata": {},
   "outputs": [
    {
     "data": {
      "text/plain": [
       "(10, 435)"
      ]
     },
     "execution_count": 39,
     "metadata": {},
     "output_type": "execute_result"
    }
   ],
   "source": [
    "df_sparce.shape"
   ]
  },
  {
   "cell_type": "code",
   "execution_count": 40,
   "id": "13e0e0f6",
   "metadata": {},
   "outputs": [
    {
     "name": "stdout",
     "output_type": "stream",
     "text": [
      "The desnsity is: 0.19057471264367817 \n"
     ]
    }
   ],
   "source": [
    "number_ratings = (df_sparce.values > 0).sum()\n",
    "density = number_ratings / (df_sparce.shape[0] * df_sparce.shape[1])\n",
    "print('The desnsity is: {} '.format(density))"
   ]
  },
  {
   "cell_type": "code",
   "execution_count": 41,
   "id": "ff1dd1ff",
   "metadata": {},
   "outputs": [
    {
     "name": "stdout",
     "output_type": "stream",
     "text": [
      "Min number of ratings: 9\n"
     ]
    },
    {
     "data": {
      "image/png": "[encoded data removed]",
      "text/plain": [
       "<Figure size 432x288 with 1 Axes>"
      ]
     },
     "metadata": {
      "needs_background": "light"
     },
     "output_type": "display_data"
    }
   ],
   "source": [
    "ratings = (df_sparce > 0).sum(axis=1)\n",
    "ratings.hist(bins=100)\n",
    "print('Min number of ratings: {}'.format(ratings.min()))"
   ]
  },
  {
   "cell_type": "code",
   "execution_count": 42,
   "id": "8c94fedc",
   "metadata": {},
   "outputs": [
    {
     "name": "stdout",
     "output_type": "stream",
     "text": [
      "Min number of ratings: 1\n"
     ]
    },
    {
     "data": {
      "image/png": "[encoded data removed]",
      "text/plain": [
       "<Figure size 432x288 with 1 Axes>"
      ]
     },
     "metadata": {
      "needs_background": "light"
     },
     "output_type": "display_data"
    }
   ],
   "source": [
    "ratings = (df_sparce > 0).sum(axis=0)\n",
    "ratings.hist(bins=100)\n",
    "print('Min number of ratings: {}'.format(ratings.min()))"
   ]
  },
  {
   "cell_type": "markdown",
   "id": "2936cc8b",
   "metadata": {},
   "source": [
    "# rec"
   ]
  },
  {
   "cell_type": "code",
   "execution_count": 43,
   "id": "1bf6f2d7",
   "metadata": {},
   "outputs": [
    {
     "data": {
      "text/plain": [
       "Index(['Afghanistan', 'Algeria', 'Azerbaijan', 'Bahrain', 'Bangladesh',\n",
       "       'Bhutan', 'Brunei', 'China', 'Egypt', 'India'],\n",
       "      dtype='object', name='geo__country')"
      ]
     },
     "execution_count": 43,
     "metadata": {},
     "output_type": "execute_result"
    }
   ],
   "source": [
    "df_sparce.index"
   ]
  },
  {
   "cell_type": "code",
   "execution_count": 45,
   "id": "ab74b7f8",
   "metadata": {},
   "outputs": [],
   "source": [
    "train, test = train_test_split(df_sparce, random_state = 100)"
   ]
  },
  {
   "cell_type": "code",
   "execution_count": 116,
   "id": "d3c000ff",
   "metadata": {},
   "outputs": [],
   "source": [
    "ratings_as_mat = csr_matrix(df_sparce.values, (df_sparce.index.shape[0], df_sparce.columns.shape[0]))"
   ]
  },
  {
   "cell_type": "code",
   "execution_count": 119,
   "id": "de91ac7e",
   "metadata": {},
   "outputs": [
    {
     "name": "stdout",
     "output_type": "stream",
     "text": [
      "(7, 435)\n",
      "(3, 435)\n",
      "(10, 435)\n"
     ]
    }
   ],
   "source": [
    "print(train.shape)\n",
    "print(test.shape)\n",
    "print(df_sparce.shape)"
   ]
  },
  {
   "cell_type": "code",
   "execution_count": 120,
   "id": "464b94ed",
   "metadata": {},
   "outputs": [
    {
     "data": {
      "text/plain": [
       "(10, 435)"
      ]
     },
     "execution_count": 120,
     "metadata": {},
     "output_type": "execute_result"
    }
   ],
   "source": [
    "ratings_as_mat.shape"
   ]
  },
  {
   "cell_type": "code",
   "execution_count": 121,
   "id": "10b2ca0b",
   "metadata": {},
   "outputs": [],
   "source": [
    "rec = ItemItemRecommender(neighborhood_size=75)\n",
    "rec.fit(ratings_as_mat)"
   ]
  },
  {
   "cell_type": "code",
   "execution_count": 122,
   "id": "c34cd0cf",
   "metadata": {},
   "outputs": [
    {
     "name": "stderr",
     "output_type": "stream",
     "text": [
      "/Users/djbetts/Desktop/jf_project/src/ItemItemRecommender.py:43: RuntimeWarning: invalid value encountered in true_divide\n",
      "  self.item_sim_mat[item_to_rate, relevant_items].sum()\n"
     ]
    }
   ],
   "source": [
    "rec.pred_one_user(user_id=1);"
   ]
  },
  {
   "cell_type": "code",
   "execution_count": 123,
   "id": "65b2551e",
   "metadata": {},
   "outputs": [
    {
     "name": "stdout",
     "output_type": "stream",
     "text": [
      "Execution time: 0.680560 seconds\n"
     ]
    }
   ],
   "source": [
    "rec.pred_all_users(report_run_time=True);"
   ]
  },
  {
   "cell_type": "code",
   "execution_count": 125,
   "id": "c7fa1b79",
   "metadata": {},
   "outputs": [],
   "source": [
    "# test.shape"
   ]
  },
  {
   "cell_type": "code",
   "execution_count": 131,
   "id": "1f6d78d6",
   "metadata": {},
   "outputs": [
    {
     "data": {
      "text/plain": [
       "'Bhutan'"
      ]
     },
     "execution_count": 131,
     "metadata": {},
     "output_type": "execute_result"
    }
   ],
   "source": [
    "users[5]"
   ]
  },
  {
   "cell_type": "code",
   "execution_count": 132,
   "id": "f1260c5b",
   "metadata": {},
   "outputs": [
    {
     "data": {
      "text/plain": [
       "172                                   Jätku Leiba\n",
       "245                          Struggle and Triumph\n",
       "159                    Jesus Taken Up Into Heaven\n",
       "286                                  Who are you?\n",
       "237                             Simeon's Prophecy\n",
       "208                     Official&#39;s Son Healed\n",
       "252    The Arrest of Jesus and Peter&#39;s Denial\n",
       "202              Matthias Chosen to Replace Judas\n",
       "225     Peter&#39;s Miraculous Escape From Prison\n",
       "37                                  Bread of Life\n",
       "Name: video_title, dtype: object"
      ]
     },
     "execution_count": 132,
     "metadata": {},
     "output_type": "execute_result"
    }
   ],
   "source": [
    "movie_list.loc[rec.top_n_recs(user_id=5, n=10)]"
   ]
  },
  {
   "cell_type": "code",
   "execution_count": 133,
   "id": "88be4048",
   "metadata": {},
   "outputs": [
    {
     "data": {
      "text/plain": [
       "'Algeria'"
      ]
     },
     "execution_count": 133,
     "metadata": {},
     "output_type": "execute_result"
    }
   ],
   "source": [
    "users[1]"
   ]
  },
  {
   "cell_type": "markdown",
   "id": "188d37bb",
   "metadata": {},
   "source": [
    "# test"
   ]
  },
  {
   "cell_type": "code",
   "execution_count": 134,
   "id": "91fce0c5",
   "metadata": {},
   "outputs": [
    {
     "data": {
      "text/html": [
       "<div>\n",
       "<style scoped>\n",
       "    .dataframe tbody tr th:only-of-type {\n",
       "        vertical-align: middle;\n",
       "    }\n",
       "\n",
       "    .dataframe tbody tr th {\n",
       "        vertical-align: top;\n",
       "    }\n",
       "\n",
       "    .dataframe thead th {\n",
       "        text-align: right;\n",
       "    }\n",
       "</style>\n",
       "<table border=\"1\" class=\"dataframe\">\n",
       "  <thead>\n",
       "    <tr style=\"text-align: right;\">\n",
       "      <th>video_title</th>\n",
       "      <th>#FallingPlates</th>\n",
       "      <th>#फालिंगप्लेट्स</th>\n",
       "      <th>#掉落的盘子</th>\n",
       "      <th>1- في العائلة</th>\n",
       "      <th>1. Jesus, Our Loving Pursuer</th>\n",
       "      <th>1.가족 중에</th>\n",
       "      <th>1.우리의 사랑의 추구자이신 예수님</th>\n",
       "      <th>2- عمل يدوي</th>\n",
       "      <th>2. Jesus, Our Gracious Forgiver</th>\n",
       "      <th>3. Jesus, Our Power for Living</th>\n",
       "      <th>...</th>\n",
       "      <th>路加福音简介</th>\n",
       "      <th>身份错认于路司得</th>\n",
       "      <th>返回叙利亚的安提阿</th>\n",
       "      <th>选出马提亚替代犹大</th>\n",
       "      <th>那些使人犯罪的人有祸了</th>\n",
       "      <th>钉在十字架上的囚犯</th>\n",
       "      <th>雅典的偶像</th>\n",
       "      <th>非斯都咨询亚基帕王</th>\n",
       "      <th>高贵的比里亚人</th>\n",
       "      <th>魔鬼引诱耶稣</th>\n",
       "    </tr>\n",
       "    <tr>\n",
       "      <th>geo__country</th>\n",
       "      <th></th>\n",
       "      <th></th>\n",
       "      <th></th>\n",
       "      <th></th>\n",
       "      <th></th>\n",
       "      <th></th>\n",
       "      <th></th>\n",
       "      <th></th>\n",
       "      <th></th>\n",
       "      <th></th>\n",
       "      <th></th>\n",
       "      <th></th>\n",
       "      <th></th>\n",
       "      <th></th>\n",
       "      <th></th>\n",
       "      <th></th>\n",
       "      <th></th>\n",
       "      <th></th>\n",
       "      <th></th>\n",
       "      <th></th>\n",
       "      <th></th>\n",
       "    </tr>\n",
       "  </thead>\n",
       "  <tbody>\n",
       "    <tr>\n",
       "      <th>China</th>\n",
       "      <td>0.36</td>\n",
       "      <td>0.0</td>\n",
       "      <td>0.36</td>\n",
       "      <td>0.0</td>\n",
       "      <td>0.0</td>\n",
       "      <td>0.0</td>\n",
       "      <td>0.0</td>\n",
       "      <td>0.0</td>\n",
       "      <td>0.0</td>\n",
       "      <td>0.0</td>\n",
       "      <td>...</td>\n",
       "      <td>0.262727</td>\n",
       "      <td>0.36</td>\n",
       "      <td>0.36</td>\n",
       "      <td>0.36</td>\n",
       "      <td>0.27</td>\n",
       "      <td>0.226364</td>\n",
       "      <td>0.36</td>\n",
       "      <td>0.31625</td>\n",
       "      <td>0.36</td>\n",
       "      <td>0.174</td>\n",
       "    </tr>\n",
       "    <tr>\n",
       "      <th>Brunei</th>\n",
       "      <td>0.00</td>\n",
       "      <td>0.0</td>\n",
       "      <td>0.00</td>\n",
       "      <td>0.0</td>\n",
       "      <td>0.0</td>\n",
       "      <td>0.0</td>\n",
       "      <td>0.0</td>\n",
       "      <td>0.0</td>\n",
       "      <td>0.0</td>\n",
       "      <td>0.0</td>\n",
       "      <td>...</td>\n",
       "      <td>0.000000</td>\n",
       "      <td>0.00</td>\n",
       "      <td>0.00</td>\n",
       "      <td>0.00</td>\n",
       "      <td>0.00</td>\n",
       "      <td>0.000000</td>\n",
       "      <td>0.00</td>\n",
       "      <td>0.00000</td>\n",
       "      <td>0.00</td>\n",
       "      <td>0.000</td>\n",
       "    </tr>\n",
       "    <tr>\n",
       "      <th>Algeria</th>\n",
       "      <td>0.36</td>\n",
       "      <td>0.0</td>\n",
       "      <td>0.00</td>\n",
       "      <td>0.0</td>\n",
       "      <td>0.0</td>\n",
       "      <td>0.0</td>\n",
       "      <td>0.0</td>\n",
       "      <td>0.0</td>\n",
       "      <td>0.0</td>\n",
       "      <td>0.0</td>\n",
       "      <td>...</td>\n",
       "      <td>0.000000</td>\n",
       "      <td>0.00</td>\n",
       "      <td>0.00</td>\n",
       "      <td>0.00</td>\n",
       "      <td>0.00</td>\n",
       "      <td>0.000000</td>\n",
       "      <td>0.00</td>\n",
       "      <td>0.00000</td>\n",
       "      <td>0.00</td>\n",
       "      <td>0.000</td>\n",
       "    </tr>\n",
       "  </tbody>\n",
       "</table>\n",
       "<p>3 rows × 435 columns</p>\n",
       "</div>"
      ],
      "text/plain": [
       "video_title   #FallingPlates  #फालिंगप्लेट्स   #掉落的盘子  1- في العائلة  \\\n",
       "geo__country                                                           \n",
       "China                   0.36              0.0    0.36            0.0   \n",
       "Brunei                  0.00              0.0    0.00            0.0   \n",
       "Algeria                 0.36              0.0    0.00            0.0   \n",
       "\n",
       "video_title   1. Jesus, Our Loving Pursuer  1.가족 중에  1.우리의 사랑의 추구자이신 예수님  \\\n",
       "geo__country                                                               \n",
       "China                                  0.0      0.0                  0.0   \n",
       "Brunei                                 0.0      0.0                  0.0   \n",
       "Algeria                                0.0      0.0                  0.0   \n",
       "\n",
       "video_title   2- عمل يدوي  2. Jesus, Our Gracious Forgiver  \\\n",
       "geo__country                                                 \n",
       "China                 0.0                              0.0   \n",
       "Brunei                0.0                              0.0   \n",
       "Algeria               0.0                              0.0   \n",
       "\n",
       "video_title   3. Jesus, Our Power for Living  ...    路加福音简介  身份错认于路司得  \\\n",
       "geo__country                                  ...                       \n",
       "China                                    0.0  ...  0.262727      0.36   \n",
       "Brunei                                   0.0  ...  0.000000      0.00   \n",
       "Algeria                                  0.0  ...  0.000000      0.00   \n",
       "\n",
       "video_title   返回叙利亚的安提阿  选出马提亚替代犹大  那些使人犯罪的人有祸了  钉在十字架上的囚犯  雅典的偶像  非斯都咨询亚基帕王  \\\n",
       "geo__country                                                                   \n",
       "China              0.36       0.36         0.27   0.226364   0.36    0.31625   \n",
       "Brunei             0.00       0.00         0.00   0.000000   0.00    0.00000   \n",
       "Algeria            0.00       0.00         0.00   0.000000   0.00    0.00000   \n",
       "\n",
       "video_title   高贵的比里亚人  魔鬼引诱耶稣  \n",
       "geo__country                   \n",
       "China            0.36   0.174  \n",
       "Brunei           0.00   0.000  \n",
       "Algeria          0.00   0.000  \n",
       "\n",
       "[3 rows x 435 columns]"
      ]
     },
     "execution_count": 134,
     "metadata": {},
     "output_type": "execute_result"
    }
   ],
   "source": [
    "test"
   ]
  },
  {
   "cell_type": "code",
   "execution_count": 135,
   "id": "e78fdf4d",
   "metadata": {},
   "outputs": [],
   "source": [
    "# bhutan_score = test[test.index == 1]\n",
    "# bhutan_score"
   ]
  },
  {
   "cell_type": "code",
   "execution_count": 136,
   "id": "30f61573",
   "metadata": {},
   "outputs": [
    {
     "name": "stderr",
     "output_type": "stream",
     "text": [
      "/Users/djbetts/Desktop/jf_project/src/ItemItemRecommender.py:43: RuntimeWarning: invalid value encountered in true_divide\n",
      "  self.item_sim_mat[item_to_rate, relevant_items].sum()\n"
     ]
    }
   ],
   "source": [
    "bhutan_pred = rec.pred_one_user(user_id=1)"
   ]
  },
  {
   "cell_type": "code",
   "execution_count": 137,
   "id": "b96a747f",
   "metadata": {},
   "outputs": [],
   "source": [
    "# user_nine['prediction'] = bhutan_pred[test[test.index == 1].movie_list.values]\n",
    "# user_nine"
   ]
  },
  {
   "cell_type": "code",
   "execution_count": null,
   "id": "7b386dfe",
   "metadata": {},
   "outputs": [],
   "source": []
  },
  {
   "cell_type": "code",
   "execution_count": null,
   "id": "85674749",
   "metadata": {},
   "outputs": [],
   "source": []
  },
  {
   "cell_type": "code",
   "execution_count": null,
   "id": "49a35357",
   "metadata": {},
   "outputs": [],
   "source": []
  },
  {
   "cell_type": "markdown",
   "id": "9eebd000",
   "metadata": {},
   "source": [
    "# top rated movies"
   ]
  },
  {
   "cell_type": "code",
   "execution_count": null,
   "id": "75587585",
   "metadata": {},
   "outputs": [],
   "source": [
    "average_rating = df.groupby('video_title').mean()['score']"
   ]
  },
  {
   "cell_type": "code",
   "execution_count": null,
   "id": "13c612c3",
   "metadata": {},
   "outputs": [],
   "source": [
    "average_rating.sort_values(ascending=False)"
   ]
  },
  {
   "cell_type": "code",
   "execution_count": null,
   "id": "ca175166",
   "metadata": {},
   "outputs": [],
   "source": []
  },
  {
   "cell_type": "markdown",
   "id": "e147063a",
   "metadata": {},
   "source": [
    "# utility matrix work"
   ]
  },
  {
   "cell_type": "code",
   "execution_count": null,
   "id": "01962324",
   "metadata": {},
   "outputs": [],
   "source": [
    "index = df.geo__country.unique()"
   ]
  },
  {
   "cell_type": "code",
   "execution_count": null,
   "id": "linear-extreme",
   "metadata": {},
   "outputs": [],
   "source": [
    "columns = df.video_title.unique()"
   ]
  },
  {
   "cell_type": "code",
   "execution_count": null,
   "id": "d99fa4d1",
   "metadata": {},
   "outputs": [],
   "source": [
    "data = np.zeros((index.shape[0], columns.shape[0]))"
   ]
  },
  {
   "cell_type": "code",
   "execution_count": null,
   "id": "acute-brooklyn",
   "metadata": {},
   "outputs": [],
   "source": [
    "reviews = pd.DataFrame(data, index=index, columns=columns)"
   ]
  },
  {
   "cell_type": "code",
   "execution_count": null,
   "id": "hundred-karen",
   "metadata": {},
   "outputs": [],
   "source": [
    "reviews"
   ]
  },
  {
   "cell_type": "code",
   "execution_count": null,
   "id": "refined-bridge",
   "metadata": {},
   "outputs": [],
   "source": [
    "df.head()"
   ]
  },
  {
   "cell_type": "code",
   "execution_count": null,
   "id": "coupled-bibliography",
   "metadata": {},
   "outputs": [],
   "source": []
  },
  {
   "cell_type": "code",
   "execution_count": null,
   "id": "vocational-supervisor",
   "metadata": {},
   "outputs": [],
   "source": []
  },
  {
   "cell_type": "code",
   "execution_count": null,
   "id": "functioning-runner",
   "metadata": {},
   "outputs": [],
   "source": []
  },
  {
   "cell_type": "code",
   "execution_count": null,
   "id": "fd8ed7e4",
   "metadata": {},
   "outputs": [],
   "source": []
  },
  {
   "cell_type": "code",
   "execution_count": null,
   "id": "ce3bf327",
   "metadata": {},
   "outputs": [],
   "source": []
  }
 ],
 "metadata": {
  "kernelspec": {
   "display_name": "Python 3",
   "language": "python",
   "name": "python3"
  },
  "language_info": {
   "codemirror_mode": {
    "name": "ipython",
    "version": 3
   },
   "file_extension": ".py",
   "mimetype": "text/x-python",
   "name": "python",
   "nbconvert_exporter": "python",
   "pygments_lexer": "ipython3",
   "version": "3.7.10"
  }
 },
 "nbformat": 4,
 "nbformat_minor": 5
}
