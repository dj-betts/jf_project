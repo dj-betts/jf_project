{
 "cells": [
  {
   "cell_type": "code",
   "execution_count": 2,
   "id": "incomplete-separate",
   "metadata": {},
   "outputs": [],
   "source": [
    "import pandas as pd\n",
    "import numpy as np"
   ]
  },
  {
   "cell_type": "code",
   "execution_count": 4,
   "id": "prescribed-generic",
   "metadata": {},
   "outputs": [],
   "source": [
    "import matplotlib.pyplot as plt"
   ]
  },
  {
   "cell_type": "code",
   "execution_count": 5,
   "id": "emerging-estonia",
   "metadata": {},
   "outputs": [],
   "source": [
    "from datetime import datetime"
   ]
  },
  {
   "cell_type": "code",
   "execution_count": 9,
   "id": "satellite-spouse",
   "metadata": {},
   "outputs": [],
   "source": [
    "data = pd.read_csv('/Users/djbetts/Desktop/jf_project/recommender_eda.csv')"
   ]
  },
  {
   "cell_type": "code",
   "execution_count": 10,
   "id": "preliminary-tract",
   "metadata": {},
   "outputs": [],
   "source": [
    "df = data.copy()"
   ]
  },
  {
   "cell_type": "code",
   "execution_count": 17,
   "id": "anonymous-posting",
   "metadata": {},
   "outputs": [],
   "source": [
    "df.drop(['event_params__activity_total_time'], axis=1, inplace=True)"
   ]
  },
  {
   "cell_type": "code",
   "execution_count": 22,
   "id": "sensitive-sharing",
   "metadata": {},
   "outputs": [
    {
     "data": {
      "text/plain": [
       "Index(['event_name', 'event_date_partition', 'event_params__video_title',\n",
       "       'event_params__videotitle', 'geo__country', 'geo__city',\n",
       "       'user_pseudo_id'],\n",
       "      dtype='object')"
      ]
     },
     "execution_count": 22,
     "metadata": {},
     "output_type": "execute_result"
    }
   ],
   "source": [
    "df.columns"
   ]
  },
  {
   "cell_type": "code",
   "execution_count": 27,
   "id": "alpine-joshua",
   "metadata": {},
   "outputs": [
    {
     "data": {
      "text/plain": [
       "United States    165\n",
       "India            163\n",
       "Egypt             41\n",
       "Bangladesh        36\n",
       "Nigeria           36\n",
       "                ... \n",
       "Gabon              1\n",
       "Belgium            1\n",
       "Palau              1\n",
       "Azerbaijan         1\n",
       "Belarus            1\n",
       "Name: geo__country, Length: 112, dtype: int64"
      ]
     },
     "execution_count": 27,
     "metadata": {},
     "output_type": "execute_result"
    }
   ],
   "source": [
    "df.geo__country.value_counts()"
   ]
  },
  {
   "cell_type": "code",
   "execution_count": 23,
   "id": "pursuant-shoot",
   "metadata": {},
   "outputs": [
    {
     "data": {
      "text/plain": [
       "Siapakah Tuhan?                    3\n",
       "Women Disciples                    2\n",
       "Sinful Woman Forgiven              1\n",
       "JESUS                              1\n",
       "Book of Acts                       1\n",
       "Breathe                            1\n",
       "Getting Started Is Easy            1\n",
       "The Story of Jesus for Children    1\n",
       "Name: event_params__videotitle, dtype: int64"
      ]
     },
     "execution_count": 23,
     "metadata": {},
     "output_type": "execute_result"
    }
   ],
   "source": [
    "df.event_params__videotitle.value_counts()"
   ]
  },
  {
   "cell_type": "code",
   "execution_count": 25,
   "id": "armed-pound",
   "metadata": {},
   "outputs": [
    {
     "data": {
      "text/plain": [
       "JESUS                              558\n",
       "Life of Jesus (Gospel of John)      25\n",
       "Baptism of Jesus by John            25\n",
       "Childhood of Jesus                  20\n",
       "The Beginning                       17\n",
       "                                  ... \n",
       "Lazarus Rises                        1\n",
       "Episode 2                            1\n",
       "Episode 12                           1\n",
       "Stephen Seized                       1\n",
       "StoryClubs: Jesus and Zacchaeus      1\n",
       "Name: event_params__video_title, Length: 150, dtype: int64"
      ]
     },
     "execution_count": 25,
     "metadata": {},
     "output_type": "execute_result"
    }
   ],
   "source": [
    "df.event_params__video_title.value_counts()"
   ]
  },
  {
   "cell_type": "code",
   "execution_count": null,
   "id": "unusual-recommendation",
   "metadata": {},
   "outputs": [],
   "source": []
  },
  {
   "cell_type": "code",
   "execution_count": null,
   "id": "korean-nirvana",
   "metadata": {},
   "outputs": [],
   "source": []
  },
  {
   "cell_type": "code",
   "execution_count": null,
   "id": "linear-extreme",
   "metadata": {},
   "outputs": [],
   "source": []
  }
 ],
 "metadata": {
  "kernelspec": {
   "display_name": "Python 3",
   "language": "python",
   "name": "python3"
  },
  "language_info": {
   "codemirror_mode": {
    "name": "ipython",
    "version": 3
   },
   "file_extension": ".py",
   "mimetype": "text/x-python",
   "name": "python",
   "nbconvert_exporter": "python",
   "pygments_lexer": "ipython3",
   "version": "3.7.10"
  }
 },
 "nbformat": 4,
 "nbformat_minor": 5
}
