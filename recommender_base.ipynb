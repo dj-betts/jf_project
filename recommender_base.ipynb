{
 "cells": [
  {
   "cell_type": "code",
   "execution_count": 25,
   "id": "incomplete-separate",
   "metadata": {},
   "outputs": [],
   "source": [
    "import pandas as pd\n",
    "import numpy as np"
   ]
  },
  {
   "cell_type": "code",
   "execution_count": 26,
   "id": "prescribed-generic",
   "metadata": {},
   "outputs": [],
   "source": [
    "import matplotlib.pyplot as plt"
   ]
  },
  {
   "cell_type": "code",
   "execution_count": 27,
   "id": "emerging-estonia",
   "metadata": {},
   "outputs": [],
   "source": [
    "from datetime import datetime"
   ]
  },
  {
   "cell_type": "code",
   "execution_count": 28,
   "id": "satellite-spouse",
   "metadata": {},
   "outputs": [],
   "source": [
    "data = pd.read_csv('/Users/djbetts/Desktop/jf_project/data/recommender_base.csv')"
   ]
  },
  {
   "cell_type": "code",
   "execution_count": 29,
   "id": "preliminary-tract",
   "metadata": {},
   "outputs": [],
   "source": [
    "df = data.copy()"
   ]
  },
  {
   "cell_type": "code",
   "execution_count": 30,
   "id": "sensitive-sharing",
   "metadata": {},
   "outputs": [
    {
     "data": {
      "text/plain": [
       "Index(['event_name', 'event_date_partition', 'event_params__video_title',\n",
       "       'event_params__videotitle', 'geo__country', 'geo__city',\n",
       "       'user_pseudo_id'],\n",
       "      dtype='object')"
      ]
     },
     "execution_count": 30,
     "metadata": {},
     "output_type": "execute_result"
    }
   ],
   "source": [
    "df.columns"
   ]
  },
  {
   "cell_type": "code",
   "execution_count": 35,
   "id": "comparable-domestic",
   "metadata": {},
   "outputs": [],
   "source": [
    "df['video_title'] = df['event_params__videotitle'].fillna(df['event_params__video_title'])"
   ]
  },
  {
   "cell_type": "code",
   "execution_count": 37,
   "id": "complete-mambo",
   "metadata": {},
   "outputs": [],
   "source": [
    "df.drop(['event_params__videotitle','event_params__video_title'], axis=1, inplace=True)"
   ]
  },
  {
   "cell_type": "code",
   "execution_count": 38,
   "id": "alpine-joshua",
   "metadata": {},
   "outputs": [
    {
     "data": {
      "text/plain": [
       "United States      3536\n",
       "India              1889\n",
       "United Kingdom      687\n",
       "Canada              508\n",
       "Bangladesh          489\n",
       "                   ... \n",
       "Guadeloupe            1\n",
       "Guam                  1\n",
       "Solomon Islands       1\n",
       "Luxembourg            1\n",
       "Cayman Islands        1\n",
       "Name: geo__country, Length: 183, dtype: int64"
      ]
     },
     "execution_count": 38,
     "metadata": {},
     "output_type": "execute_result"
    }
   ],
   "source": [
    "df.geo__country.value_counts()"
   ]
  },
  {
   "cell_type": "code",
   "execution_count": 39,
   "id": "pursuant-shoot",
   "metadata": {},
   "outputs": [
    {
     "data": {
      "text/plain": [
       "a_media_progress10    2971\n",
       "a_media_progress25    2823\n",
       "videoplay             2468\n",
       "a_media_progress50    2383\n",
       "a_media_progress75    1996\n",
       "a_media_progress90    1941\n",
       "videostarts            418\n",
       "Name: event_name, dtype: int64"
      ]
     },
     "execution_count": 39,
     "metadata": {},
     "output_type": "execute_result"
    }
   ],
   "source": [
    "df.event_name.value_counts()"
   ]
  },
  {
   "cell_type": "code",
   "execution_count": 41,
   "id": "armed-pound",
   "metadata": {},
   "outputs": [
    {
     "data": {
      "text/plain": [
       "JESUS                                4455\n",
       "The Lord&#39;s Prayer                 538\n",
       "The Beginning                         409\n",
       "Baptism of Jesus by John              403\n",
       "Birth of Jesus                        343\n",
       "                                     ... \n",
       "LUMO - The Gospel of Mark 6:1-29        1\n",
       "LUMO - The Gospel of Luke 16:1-18       1\n",
       "Loving Others                           1\n",
       "LUMO - The Gospel of Luke 9:28-50       1\n",
       "Coffee Shop                             1\n",
       "Name: video_title, Length: 493, dtype: int64"
      ]
     },
     "execution_count": 41,
     "metadata": {},
     "output_type": "execute_result"
    }
   ],
   "source": [
    "df.video_title.value_counts()"
   ]
  },
  {
   "cell_type": "code",
   "execution_count": 47,
   "id": "broken-chemistry",
   "metadata": {},
   "outputs": [],
   "source": [
    "df_90 = df[df['event_name'] == 'a_media_progress90']"
   ]
  },
  {
   "cell_type": "code",
   "execution_count": 59,
   "id": "unusual-recommendation",
   "metadata": {},
   "outputs": [
    {
     "data": {
      "text/plain": [
       "JESUS                                    412\n",
       "Baptism of Jesus by John                  71\n",
       "Wedding in Cana                           59\n",
       "The Lord&#39;s Prayer                     57\n",
       "Birth of Jesus                            49\n",
       "                                        ... \n",
       "LUMO - The Gospel of Luke 6:46-7:10        1\n",
       "The Believers Share Their Possessions      1\n",
       "Paul Finally Reaches Rome                  1\n",
       "Simon the Sorcerer                         1\n",
       "Wedding Day                                1\n",
       "Name: video_title, Length: 299, dtype: int64"
      ]
     },
     "execution_count": 59,
     "metadata": {},
     "output_type": "execute_result"
    }
   ],
   "source": [
    "df_90.video_title.value_counts()"
   ]
  },
  {
   "cell_type": "code",
   "execution_count": 55,
   "id": "korean-nirvana",
   "metadata": {},
   "outputs": [
    {
     "data": {
      "text/plain": [
       "Lagos           38\n",
       "(not set)       34\n",
       "Dhaka           32\n",
       "London          26\n",
       "Khartoum        24\n",
       "                ..\n",
       "Surat            1\n",
       "Beckley          1\n",
       "Petropavl        1\n",
       "Las Piedras      1\n",
       "Pattaya City     1\n",
       "Name: geo__city, Length: 756, dtype: int64"
      ]
     },
     "execution_count": 55,
     "metadata": {},
     "output_type": "execute_result"
    }
   ],
   "source": [
    "df_90.geo__city.value_counts()"
   ]
  },
  {
   "cell_type": "code",
   "execution_count": 43,
   "id": "linear-extreme",
   "metadata": {},
   "outputs": [],
   "source": [
    "from scipy import spatial"
   ]
  },
  {
   "cell_type": "code",
   "execution_count": 44,
   "id": "coated-extraction",
   "metadata": {},
   "outputs": [],
   "source": [
    "# from surprise import KNNWithMeans\n",
    "# from surprise import Dataset\n",
    "# from surprise.model_selection import GridSearchCV\n",
    "\n",
    "# data = Dataset.load_builtin(\"ml-100k\")\n",
    "# sim_options = {\n",
    "#     \"name\": [\"msd\", \"cosine\"],\n",
    "#     \"min_support\": [3, 4, 5],\n",
    "#     \"user_based\": [False, True],\n",
    "# }\n",
    "\n",
    "# param_grid = {\"sim_options\": sim_options}\n",
    "\n",
    "# gs = GridSearchCV(KNNWithMeans, param_grid, measures=[\"rmse\", \"mae\"], cv=3)\n",
    "# gs.fit(data)\n",
    "\n",
    "# print(gs.best_score[\"rmse\"])\n",
    "# print(gs.best_params[\"rmse\"])"
   ]
  },
  {
   "cell_type": "code",
   "execution_count": 45,
   "id": "matched-access",
   "metadata": {},
   "outputs": [],
   "source": [
    "# distortions = []\n",
    "# K = range(1,7)\n",
    "# for k in K:\n",
    "#     kmeansModel = KMeans(n_clusters=k)\n",
    "#     kmeansModel = kmeansModel.fit(coords)\n",
    "#     distortions.append(kmeansModel.inertia_)"
   ]
  },
  {
   "cell_type": "code",
   "execution_count": 46,
   "id": "pursuant-riding",
   "metadata": {},
   "outputs": [],
   "source": [
    "# fig, ax = plt.subplots(figsize=(12,8))\n",
    "# plt.plot(K, distortions, marker='o')\n",
    "# plt.xlabel('k')\n",
    "# plt.ylabel('Distortions')\n",
    "# plt.title(\"Elbow Method For Optimal k\")\n",
    "# plt.show()"
   ]
  },
  {
   "cell_type": "code",
   "execution_count": null,
   "id": "resident-contact",
   "metadata": {},
   "outputs": [],
   "source": []
  },
  {
   "cell_type": "code",
   "execution_count": null,
   "id": "considered-blend",
   "metadata": {},
   "outputs": [],
   "source": []
  },
  {
   "cell_type": "code",
   "execution_count": null,
   "id": "acute-brooklyn",
   "metadata": {},
   "outputs": [],
   "source": []
  },
  {
   "cell_type": "code",
   "execution_count": null,
   "id": "defined-optimization",
   "metadata": {},
   "outputs": [],
   "source": []
  },
  {
   "cell_type": "code",
   "execution_count": null,
   "id": "hundred-karen",
   "metadata": {},
   "outputs": [],
   "source": []
  },
  {
   "cell_type": "code",
   "execution_count": null,
   "id": "refined-bridge",
   "metadata": {},
   "outputs": [],
   "source": []
  },
  {
   "cell_type": "code",
   "execution_count": null,
   "id": "coupled-bibliography",
   "metadata": {},
   "outputs": [],
   "source": []
  },
  {
   "cell_type": "code",
   "execution_count": null,
   "id": "vocational-supervisor",
   "metadata": {},
   "outputs": [],
   "source": []
  },
  {
   "cell_type": "code",
   "execution_count": null,
   "id": "functioning-runner",
   "metadata": {},
   "outputs": [],
   "source": []
  },
  {
   "cell_type": "code",
   "execution_count": null,
   "id": "spectacular-knitting",
   "metadata": {},
   "outputs": [],
   "source": []
  },
  {
   "cell_type": "code",
   "execution_count": null,
   "id": "resident-relation",
   "metadata": {},
   "outputs": [],
   "source": []
  },
  {
   "cell_type": "code",
   "execution_count": null,
   "id": "smaller-pressure",
   "metadata": {},
   "outputs": [],
   "source": []
  }
 ],
 "metadata": {
  "kernelspec": {
   "display_name": "Python 3",
   "language": "python",
   "name": "python3"
  },
  "language_info": {
   "codemirror_mode": {
    "name": "ipython",
    "version": 3
   },
   "file_extension": ".py",
   "mimetype": "text/x-python",
   "name": "python",
   "nbconvert_exporter": "python",
   "pygments_lexer": "ipython3",
   "version": "3.7.10"
  }
 },
 "nbformat": 4,
 "nbformat_minor": 5
}
