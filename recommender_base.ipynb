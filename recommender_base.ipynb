{
 "cells": [
  {
   "cell_type": "code",
   "execution_count": 1,
   "id": "incomplete-separate",
   "metadata": {},
   "outputs": [],
   "source": [
    "import pandas as pd\n",
    "import numpy as np"
   ]
  },
  {
   "cell_type": "code",
   "execution_count": 2,
   "id": "prescribed-generic",
   "metadata": {},
   "outputs": [
    {
     "name": "stderr",
     "output_type": "stream",
     "text": [
      "In /Users/djbetts/opt/anaconda3/lib/python3.7/site-packages/matplotlib/mpl-data/stylelib/_classic_test.mplstyle: \n",
      "The text.latex.preview rcparam was deprecated in Matplotlib 3.3 and will be removed two minor releases later.\n",
      "In /Users/djbetts/opt/anaconda3/lib/python3.7/site-packages/matplotlib/mpl-data/stylelib/_classic_test.mplstyle: \n",
      "The mathtext.fallback_to_cm rcparam was deprecated in Matplotlib 3.3 and will be removed two minor releases later.\n",
      "In /Users/djbetts/opt/anaconda3/lib/python3.7/site-packages/matplotlib/mpl-data/stylelib/_classic_test.mplstyle: Support for setting the 'mathtext.fallback_to_cm' rcParam is deprecated since 3.3 and will be removed two minor releases later; use 'mathtext.fallback : 'cm' instead.\n",
      "In /Users/djbetts/opt/anaconda3/lib/python3.7/site-packages/matplotlib/mpl-data/stylelib/_classic_test.mplstyle: \n",
      "The validate_bool_maybe_none function was deprecated in Matplotlib 3.3 and will be removed two minor releases later.\n",
      "In /Users/djbetts/opt/anaconda3/lib/python3.7/site-packages/matplotlib/mpl-data/stylelib/_classic_test.mplstyle: \n",
      "The savefig.jpeg_quality rcparam was deprecated in Matplotlib 3.3 and will be removed two minor releases later.\n",
      "In /Users/djbetts/opt/anaconda3/lib/python3.7/site-packages/matplotlib/mpl-data/stylelib/_classic_test.mplstyle: \n",
      "The keymap.all_axes rcparam was deprecated in Matplotlib 3.3 and will be removed two minor releases later.\n",
      "In /Users/djbetts/opt/anaconda3/lib/python3.7/site-packages/matplotlib/mpl-data/stylelib/_classic_test.mplstyle: \n",
      "The animation.avconv_path rcparam was deprecated in Matplotlib 3.3 and will be removed two minor releases later.\n",
      "In /Users/djbetts/opt/anaconda3/lib/python3.7/site-packages/matplotlib/mpl-data/stylelib/_classic_test.mplstyle: \n",
      "The animation.avconv_args rcparam was deprecated in Matplotlib 3.3 and will be removed two minor releases later.\n"
     ]
    }
   ],
   "source": [
    "import matplotlib.pyplot as plt;"
   ]
  },
  {
   "cell_type": "code",
   "execution_count": 3,
   "id": "5f2940b5",
   "metadata": {},
   "outputs": [],
   "source": [
    "from src.ItemItemRecommender import ItemItemRecommender\n",
    "from sklearn.model_selection import train_test_split"
   ]
  },
  {
   "cell_type": "code",
   "execution_count": 4,
   "id": "emerging-estonia",
   "metadata": {},
   "outputs": [],
   "source": [
    "from datetime import datetime"
   ]
  },
  {
   "cell_type": "code",
   "execution_count": 110,
   "id": "1758dd31",
   "metadata": {},
   "outputs": [],
   "source": [
    "from scipy import sparse\n",
    "from scipy.sparse import csr_matrix"
   ]
  },
  {
   "cell_type": "code",
   "execution_count": 5,
   "id": "6037bd59",
   "metadata": {},
   "outputs": [],
   "source": [
    "#Current SQL query\n",
    "\"\"\"\n",
    "SELECT \n",
    "geo__country, \n",
    "#geo__city,\n",
    "event_params__video_title,\n",
    "event_params__videotitle,\n",
    "event_name,\n",
    "#COUNT(event_name) AS times_completed,\n",
    "FROM `jfp-data-warehouse.production_firebase.firebase_event` \n",
    "WHERE geo__country in ('Afghanistan',\n",
    " 'Algeria',\n",
    " 'Azerbaijan',\n",
    " 'Bahrain',\n",
    " 'Bangladesh',\n",
    " 'Bhutan',\n",
    " 'Brunei',\n",
    " 'China',\n",
    " 'Egypt',\n",
    " 'India',\n",
    " 'Indonesia',\n",
    " 'Iran',\n",
    " 'Iraq',\n",
    " 'Japan',\n",
    " 'Jordan',\n",
    " 'Kazakstan',\n",
    " 'Kuwait',\n",
    " 'Kyrgyzstan',\n",
    " 'Laos',\n",
    " 'Libya',\n",
    " 'Malaysia',\n",
    " 'Maldives',\n",
    " 'Mali',\n",
    " 'Mauritania',\n",
    " 'Mongolia',\n",
    " 'Morocco',\n",
    " 'Myanmar',\n",
    " 'Nepal',\n",
    " 'Niger',\n",
    " 'North Korea',\n",
    " 'Oman',\n",
    " 'Pakistan',\n",
    " 'Palestine',\n",
    " 'Qatar',\n",
    " 'Russia',\n",
    " 'Saudia Arabia',\n",
    " 'Somalia',\n",
    " 'Sri Lanka',\n",
    " 'Sudan',\n",
    " 'Syria',\n",
    " 'Tajikistan',\n",
    " 'Thailand',\n",
    " 'Timor Leste',\n",
    " 'Tunisia',\n",
    " 'Turkey',\n",
    " 'Turkmenistan',\n",
    " 'UAE',\n",
    " 'Uzbekistan',\n",
    " 'Vietnam',\n",
    " 'Yemen') AND \n",
    "event_params__video_title IS NOT NULL AND\n",
    "event_name IN ('videostarts',  'videoplay',  'a_media_progress10',  'a_media_progress25',  'a_media_progress50',  'a_media_progress75',  'a_media_progress90') AND \n",
    "DATE(event_date_partition) \n",
    "BETWEEN  \"2021-01-01\" AND \"2021-04-14\" \n",
    "GROUP BY \n",
    "geo__country, \n",
    "geo__city,\n",
    "event_params__videotitle, \n",
    "event_params__video_title,\n",
    "event_name\n",
    "ORDER BY \n",
    "geo__country,\n",
    "event_params__video_title\n",
    "#times_completed DESC \n",
    "LIMIT 16000\n",
    "\"\"\";"
   ]
  },
  {
   "cell_type": "code",
   "execution_count": 6,
   "id": "satellite-spouse",
   "metadata": {},
   "outputs": [],
   "source": [
    "data = pd.read_csv('/Users/djbetts/Desktop/jf_project/data/recommender_base_top_50.csv')"
   ]
  },
  {
   "cell_type": "code",
   "execution_count": 7,
   "id": "preliminary-tract",
   "metadata": {},
   "outputs": [],
   "source": [
    "df = data.copy()\n",
    "#df.drop(['geo__city', 'times_completed'], axis=1, inplace=True)"
   ]
  },
  {
   "cell_type": "code",
   "execution_count": 8,
   "id": "sensitive-sharing",
   "metadata": {},
   "outputs": [
    {
     "data": {
      "text/plain": [
       "Index(['geo__country', 'event_params__video_title', 'event_params__videotitle',\n",
       "       'event_name'],\n",
       "      dtype='object')"
      ]
     },
     "execution_count": 8,
     "metadata": {},
     "output_type": "execute_result"
    }
   ],
   "source": [
    "df.columns"
   ]
  },
  {
   "cell_type": "code",
   "execution_count": 9,
   "id": "1c426472",
   "metadata": {},
   "outputs": [],
   "source": [
    "def merge_video(df):\n",
    "    df['video_title'] = df['event_params__videotitle'].fillna(df['event_params__video_title'])\n",
    "    df.drop(['event_params__videotitle','event_params__video_title'], axis=1, inplace=True)\n",
    "    return df"
   ]
  },
  {
   "cell_type": "code",
   "execution_count": 10,
   "id": "b22f45b2",
   "metadata": {},
   "outputs": [],
   "source": [
    "def score(event_name):\n",
    "    d ={\n",
    "        'videostarts':.01,\n",
    "        'videoplay':.01, \n",
    "        'a_media_progress10':(1*.1),\n",
    "        'a_media_progress25':(1*.25),\n",
    "        'a_media_progress50':(1*.5), \n",
    "        'a_media_progress75':(1*.75), \n",
    "        'a_media_progress90':(1*.9)\n",
    "    }\n",
    "    \n",
    "    return(d[event_name])"
   ]
  },
  {
   "cell_type": "code",
   "execution_count": 11,
   "id": "comparable-domestic",
   "metadata": {},
   "outputs": [],
   "source": [
    "df['video_title'] = df['event_params__videotitle'].fillna(df['event_params__video_title'])"
   ]
  },
  {
   "cell_type": "code",
   "execution_count": 12,
   "id": "complete-mambo",
   "metadata": {},
   "outputs": [],
   "source": [
    "df.drop(['event_params__videotitle','event_params__video_title'], axis=1, inplace=True)"
   ]
  },
  {
   "cell_type": "code",
   "execution_count": 13,
   "id": "alpine-joshua",
   "metadata": {},
   "outputs": [
    {
     "data": {
      "text/plain": [
       "India          7243\n",
       "Egypt          2810\n",
       "China          2143\n",
       "Bangladesh     2103\n",
       "Algeria         621\n",
       "Afghanistan     390\n",
       "Bahrain         256\n",
       "Azerbaijan      233\n",
       "Bhutan          130\n",
       "Brunei           71\n",
       "Name: geo__country, dtype: int64"
      ]
     },
     "execution_count": 13,
     "metadata": {},
     "output_type": "execute_result"
    }
   ],
   "source": [
    "(df.geo__country.value_counts())"
   ]
  },
  {
   "cell_type": "code",
   "execution_count": 14,
   "id": "pursuant-shoot",
   "metadata": {},
   "outputs": [
    {
     "data": {
      "text/plain": [
       "videoplay             2871\n",
       "videostarts           2781\n",
       "a_media_progress10    2408\n",
       "a_media_progress25    2225\n",
       "a_media_progress50    2048\n",
       "a_media_progress75    1891\n",
       "a_media_progress90    1776\n",
       "Name: event_name, dtype: int64"
      ]
     },
     "execution_count": 14,
     "metadata": {},
     "output_type": "execute_result"
    }
   ],
   "source": [
    "df.event_name.value_counts()"
   ]
  },
  {
   "cell_type": "code",
   "execution_count": 15,
   "id": "16a88f60",
   "metadata": {},
   "outputs": [
    {
     "data": {
      "text/plain": [
       "<AxesSubplot:>"
      ]
     },
     "execution_count": 15,
     "metadata": {},
     "output_type": "execute_result"
    },
    {
     "data": {
      "image/png": "[encoded data removed]",
      "text/plain": [
       "<Figure size 432x288 with 1 Axes>"
      ]
     },
     "metadata": {
      "needs_background": "light"
     },
     "output_type": "display_data"
    }
   ],
   "source": [
    "df.event_name.value_counts().hist(bins=7)"
   ]
  },
  {
   "cell_type": "code",
   "execution_count": 16,
   "id": "armed-pound",
   "metadata": {},
   "outputs": [
    {
     "data": {
      "text/plain": [
       "Baptism of Jesus by John    1161\n",
       "Childhood of Jesus          1158\n",
       "Birth of Jesus              1151\n",
       "JESUS                        806\n",
       "Chosen Witness               686\n",
       "                            ... \n",
       "1.우리의 사랑의 추구자이신 예수님            1\n",
       "JÉSUS                          1\n",
       "使徒行傳                           1\n",
       "得救的确据                          1\n",
       "Witness to the Son             1\n",
       "Name: video_title, Length: 435, dtype: int64"
      ]
     },
     "execution_count": 16,
     "metadata": {},
     "output_type": "execute_result"
    }
   ],
   "source": [
    "df.video_title.value_counts()"
   ]
  },
  {
   "cell_type": "code",
   "execution_count": 17,
   "id": "1cbef33f",
   "metadata": {},
   "outputs": [],
   "source": [
    "#df.video_title.hist(bins=435);"
   ]
  },
  {
   "cell_type": "markdown",
   "id": "523361b6",
   "metadata": {},
   "source": [
    "# 90% progress through video"
   ]
  },
  {
   "cell_type": "code",
   "execution_count": 18,
   "id": "broken-chemistry",
   "metadata": {},
   "outputs": [],
   "source": [
    "#df_90 = df[df['event_name'] == 'a_media_progress90']"
   ]
  },
  {
   "cell_type": "code",
   "execution_count": 19,
   "id": "unusual-recommendation",
   "metadata": {},
   "outputs": [],
   "source": [
    "#df_90.video_title.unique()"
   ]
  },
  {
   "cell_type": "code",
   "execution_count": 20,
   "id": "korean-nirvana",
   "metadata": {},
   "outputs": [],
   "source": [
    "#df_90.geo__country.value_counts()"
   ]
  },
  {
   "cell_type": "code",
   "execution_count": 21,
   "id": "considerable-expense",
   "metadata": {},
   "outputs": [],
   "source": [
    "#country_groupby = df.groupby('geo__country')"
   ]
  },
  {
   "cell_type": "code",
   "execution_count": 22,
   "id": "157bd73b",
   "metadata": {},
   "outputs": [],
   "source": [
    "#country_groupby['video_title'].unique()"
   ]
  },
  {
   "cell_type": "code",
   "execution_count": 23,
   "id": "0e197be5",
   "metadata": {},
   "outputs": [],
   "source": [
    "#india = country_groupby.get_group('India')"
   ]
  },
  {
   "cell_type": "code",
   "execution_count": 24,
   "id": "348a07e1",
   "metadata": {},
   "outputs": [],
   "source": [
    "#falling_plates_india = india[india['video_title'] == '#FallingPlates']"
   ]
  },
  {
   "cell_type": "code",
   "execution_count": 25,
   "id": "818d7c54",
   "metadata": {},
   "outputs": [],
   "source": [
    "#event_score = falling_plates_india.event_name.value_counts()"
   ]
  },
  {
   "cell_type": "code",
   "execution_count": 26,
   "id": "f31ed887",
   "metadata": {},
   "outputs": [],
   "source": [
    "#event_score.index"
   ]
  },
  {
   "cell_type": "code",
   "execution_count": 27,
   "id": "4c11185f",
   "metadata": {},
   "outputs": [],
   "source": [
    "#keys = df.video_title.unique()\n",
    "#reviews = dict.fromkeys(keys, 0)"
   ]
  },
  {
   "cell_type": "code",
   "execution_count": 28,
   "id": "f195e257",
   "metadata": {},
   "outputs": [],
   "source": [
    "#tried to make a function by iterating through a groupby. couldn't figure it out.\n",
    "\n",
    "# def rating_calculator(group):\n",
    "#     rating = 0\n",
    "#     reviews = dict.fromkeys(set(group.video_title), 0)\n",
    "#     for event_name in group.event_name:\n",
    "#         if event_name == 'videostarts' or event_name == 'videoplay':\n",
    "#             reviews[group.video_title] += 1\n",
    "#         elif event_name == 'a_media_progress10':\n",
    "#             reviews[group.video_title] += (1 * .1)\n",
    "#         elif event_name == 'a_media_progress25':\n",
    "#             reviews[group.video_title] += (1 * .25)\n",
    "#         elif event_name == 'a_media_progress50':\n",
    "#             reviews[group.video_title] += (1 * .5)\n",
    "#         elif event_name == 'a_media_progress75':\n",
    "#             reviews[group.video_title] += (1 * .75)\n",
    "#         elif event_name == 'a_media_progress90':\n",
    "#             reviews[group.video_title] += (1 * .9)\n",
    "#     print(f'total: {rating}\\nnormalized: {rating/len(events)}')\n",
    "#     return (reviews)\n",
    "# #     return\n",
    "# # print(rating)\n",
    "# # print(rating/len(event_score))"
   ]
  },
  {
   "cell_type": "code",
   "execution_count": 29,
   "id": "8f6e5670",
   "metadata": {},
   "outputs": [],
   "source": [
    "#rating_calculator(event_score)"
   ]
  },
  {
   "cell_type": "code",
   "execution_count": 30,
   "id": "987314e4",
   "metadata": {},
   "outputs": [],
   "source": [
    "# #BROKEN\n",
    "# def review_builder(country_groupby):\n",
    "#     review_dic = dict.fromkeys(country_groupby.groups.keys(), None)\n",
    "#     print(review_dic)\n",
    "#     for country, group in country_groupby:\n",
    "#         review_dic[country] = rating_calculator(group)\n",
    "#     return review_dic"
   ]
  },
  {
   "cell_type": "markdown",
   "id": "756c3da9",
   "metadata": {},
   "source": [
    "# function to return score. not normalized"
   ]
  },
  {
   "cell_type": "code",
   "execution_count": 31,
   "id": "61a86b4e",
   "metadata": {},
   "outputs": [],
   "source": [
    "#view_to_rating('a_media_progress90')"
   ]
  },
  {
   "cell_type": "code",
   "execution_count": 32,
   "id": "4cf5452b",
   "metadata": {},
   "outputs": [],
   "source": [
    "df['score'] = df.event_name.apply(score)"
   ]
  },
  {
   "cell_type": "code",
   "execution_count": 33,
   "id": "0a918589",
   "metadata": {},
   "outputs": [],
   "source": [
    "df.drop(['event_name'], axis=1, inplace=True)"
   ]
  },
  {
   "cell_type": "code",
   "execution_count": 34,
   "id": "28a811ee",
   "metadata": {},
   "outputs": [
    {
     "data": {
      "text/plain": [
       "<AxesSubplot:>"
      ]
     },
     "execution_count": 34,
     "metadata": {},
     "output_type": "execute_result"
    },
    {
     "data": {
      "image/png": "[encoded data removed]",
      "text/plain": [
       "<Figure size 1440x1440 with 1 Axes>"
      ]
     },
     "metadata": {
      "needs_background": "light"
     },
     "output_type": "display_data"
    }
   ],
   "source": [
    "df.score.hist(xrot=45, figsize=(20,20))"
   ]
  },
  {
   "cell_type": "code",
   "execution_count": 35,
   "id": "9b2ce4fe",
   "metadata": {},
   "outputs": [],
   "source": [
    "groupby = df.groupby(['geo__country','video_title'])"
   ]
  },
  {
   "cell_type": "code",
   "execution_count": 36,
   "id": "79ffc368",
   "metadata": {},
   "outputs": [],
   "source": [
    "review_scores = groupby.sum()"
   ]
  },
  {
   "cell_type": "code",
   "execution_count": 37,
   "id": "919fcc19",
   "metadata": {},
   "outputs": [
    {
     "data": {
      "text/plain": [
       "score    0.12\n",
       "Name: (Bhutan, LUMO - John 21:1-25), dtype: float64"
      ]
     },
     "execution_count": 37,
     "metadata": {},
     "output_type": "execute_result"
    }
   ],
   "source": [
    "review_scores.loc[('Bhutan', 'LUMO - John 21:1-25')]"
   ]
  },
  {
   "cell_type": "code",
   "execution_count": 38,
   "id": "1e45334b",
   "metadata": {},
   "outputs": [],
   "source": [
    "#review_scores.score.plot.bar(figsize=(20,20));"
   ]
  },
  {
   "cell_type": "code",
   "execution_count": 39,
   "id": "8e4098a1",
   "metadata": {},
   "outputs": [
    {
     "data": {
      "text/plain": [
       "score    0.12\n",
       "Name: (Bhutan, LUMO - John 21:1-25), dtype: float64"
      ]
     },
     "execution_count": 39,
     "metadata": {},
     "output_type": "execute_result"
    }
   ],
   "source": [
    "review_scores.loc[('Bhutan','LUMO - John 21:1-25')]"
   ]
  },
  {
   "cell_type": "code",
   "execution_count": 40,
   "id": "1c8cbd4d",
   "metadata": {},
   "outputs": [
    {
     "data": {
      "text/html": [
       "<div>\n",
       "<style scoped>\n",
       "    .dataframe tbody tr th:only-of-type {\n",
       "        vertical-align: middle;\n",
       "    }\n",
       "\n",
       "    .dataframe tbody tr th {\n",
       "        vertical-align: top;\n",
       "    }\n",
       "\n",
       "    .dataframe thead tr th {\n",
       "        text-align: left;\n",
       "    }\n",
       "\n",
       "    .dataframe thead tr:last-of-type th {\n",
       "        text-align: right;\n",
       "    }\n",
       "</style>\n",
       "<table border=\"1\" class=\"dataframe\">\n",
       "  <thead>\n",
       "    <tr>\n",
       "      <th></th>\n",
       "      <th colspan=\"21\" halign=\"left\">score</th>\n",
       "    </tr>\n",
       "    <tr>\n",
       "      <th>video_title</th>\n",
       "      <th>#FallingPlates</th>\n",
       "      <th>#फालिंगप्लेट्स</th>\n",
       "      <th>#掉落的盘子</th>\n",
       "      <th>1- في العائلة</th>\n",
       "      <th>1. Jesus, Our Loving Pursuer</th>\n",
       "      <th>1.가족 중에</th>\n",
       "      <th>1.우리의 사랑의 추구자이신 예수님</th>\n",
       "      <th>2- عمل يدوي</th>\n",
       "      <th>2. Jesus, Our Gracious Forgiver</th>\n",
       "      <th>3. Jesus, Our Power for Living</th>\n",
       "      <th>...</th>\n",
       "      <th>路加福音简介</th>\n",
       "      <th>身份错认于路司得</th>\n",
       "      <th>返回叙利亚的安提阿</th>\n",
       "      <th>选出马提亚替代犹大</th>\n",
       "      <th>那些使人犯罪的人有祸了</th>\n",
       "      <th>钉在十字架上的囚犯</th>\n",
       "      <th>雅典的偶像</th>\n",
       "      <th>非斯都咨询亚基帕王</th>\n",
       "      <th>高贵的比里亚人</th>\n",
       "      <th>魔鬼引诱耶稣</th>\n",
       "    </tr>\n",
       "    <tr>\n",
       "      <th>geo__country</th>\n",
       "      <th></th>\n",
       "      <th></th>\n",
       "      <th></th>\n",
       "      <th></th>\n",
       "      <th></th>\n",
       "      <th></th>\n",
       "      <th></th>\n",
       "      <th></th>\n",
       "      <th></th>\n",
       "      <th></th>\n",
       "      <th></th>\n",
       "      <th></th>\n",
       "      <th></th>\n",
       "      <th></th>\n",
       "      <th></th>\n",
       "      <th></th>\n",
       "      <th></th>\n",
       "      <th></th>\n",
       "      <th></th>\n",
       "      <th></th>\n",
       "      <th></th>\n",
       "    </tr>\n",
       "  </thead>\n",
       "  <tbody>\n",
       "    <tr>\n",
       "      <th>Afghanistan</th>\n",
       "      <td>0.02</td>\n",
       "      <td>NaN</td>\n",
       "      <td>NaN</td>\n",
       "      <td>NaN</td>\n",
       "      <td>NaN</td>\n",
       "      <td>NaN</td>\n",
       "      <td>NaN</td>\n",
       "      <td>NaN</td>\n",
       "      <td>NaN</td>\n",
       "      <td>NaN</td>\n",
       "      <td>...</td>\n",
       "      <td>NaN</td>\n",
       "      <td>NaN</td>\n",
       "      <td>NaN</td>\n",
       "      <td>NaN</td>\n",
       "      <td>NaN</td>\n",
       "      <td>NaN</td>\n",
       "      <td>NaN</td>\n",
       "      <td>NaN</td>\n",
       "      <td>NaN</td>\n",
       "      <td>NaN</td>\n",
       "    </tr>\n",
       "    <tr>\n",
       "      <th>Algeria</th>\n",
       "      <td>2.52</td>\n",
       "      <td>NaN</td>\n",
       "      <td>NaN</td>\n",
       "      <td>NaN</td>\n",
       "      <td>NaN</td>\n",
       "      <td>NaN</td>\n",
       "      <td>NaN</td>\n",
       "      <td>NaN</td>\n",
       "      <td>NaN</td>\n",
       "      <td>NaN</td>\n",
       "      <td>...</td>\n",
       "      <td>NaN</td>\n",
       "      <td>NaN</td>\n",
       "      <td>NaN</td>\n",
       "      <td>NaN</td>\n",
       "      <td>NaN</td>\n",
       "      <td>NaN</td>\n",
       "      <td>NaN</td>\n",
       "      <td>NaN</td>\n",
       "      <td>NaN</td>\n",
       "      <td>NaN</td>\n",
       "    </tr>\n",
       "    <tr>\n",
       "      <th>Azerbaijan</th>\n",
       "      <td>2.52</td>\n",
       "      <td>NaN</td>\n",
       "      <td>NaN</td>\n",
       "      <td>NaN</td>\n",
       "      <td>NaN</td>\n",
       "      <td>NaN</td>\n",
       "      <td>NaN</td>\n",
       "      <td>NaN</td>\n",
       "      <td>NaN</td>\n",
       "      <td>NaN</td>\n",
       "      <td>...</td>\n",
       "      <td>NaN</td>\n",
       "      <td>NaN</td>\n",
       "      <td>NaN</td>\n",
       "      <td>NaN</td>\n",
       "      <td>NaN</td>\n",
       "      <td>NaN</td>\n",
       "      <td>NaN</td>\n",
       "      <td>NaN</td>\n",
       "      <td>NaN</td>\n",
       "      <td>NaN</td>\n",
       "    </tr>\n",
       "    <tr>\n",
       "      <th>Bahrain</th>\n",
       "      <td>NaN</td>\n",
       "      <td>NaN</td>\n",
       "      <td>NaN</td>\n",
       "      <td>NaN</td>\n",
       "      <td>NaN</td>\n",
       "      <td>NaN</td>\n",
       "      <td>NaN</td>\n",
       "      <td>NaN</td>\n",
       "      <td>NaN</td>\n",
       "      <td>NaN</td>\n",
       "      <td>...</td>\n",
       "      <td>NaN</td>\n",
       "      <td>NaN</td>\n",
       "      <td>NaN</td>\n",
       "      <td>NaN</td>\n",
       "      <td>NaN</td>\n",
       "      <td>NaN</td>\n",
       "      <td>NaN</td>\n",
       "      <td>NaN</td>\n",
       "      <td>NaN</td>\n",
       "      <td>NaN</td>\n",
       "    </tr>\n",
       "    <tr>\n",
       "      <th>Bangladesh</th>\n",
       "      <td>5.41</td>\n",
       "      <td>NaN</td>\n",
       "      <td>NaN</td>\n",
       "      <td>NaN</td>\n",
       "      <td>2.52</td>\n",
       "      <td>NaN</td>\n",
       "      <td>NaN</td>\n",
       "      <td>NaN</td>\n",
       "      <td>1.62</td>\n",
       "      <td>NaN</td>\n",
       "      <td>...</td>\n",
       "      <td>NaN</td>\n",
       "      <td>NaN</td>\n",
       "      <td>NaN</td>\n",
       "      <td>NaN</td>\n",
       "      <td>NaN</td>\n",
       "      <td>NaN</td>\n",
       "      <td>NaN</td>\n",
       "      <td>NaN</td>\n",
       "      <td>NaN</td>\n",
       "      <td>NaN</td>\n",
       "    </tr>\n",
       "    <tr>\n",
       "      <th>Bhutan</th>\n",
       "      <td>0.02</td>\n",
       "      <td>NaN</td>\n",
       "      <td>NaN</td>\n",
       "      <td>NaN</td>\n",
       "      <td>NaN</td>\n",
       "      <td>NaN</td>\n",
       "      <td>NaN</td>\n",
       "      <td>NaN</td>\n",
       "      <td>NaN</td>\n",
       "      <td>NaN</td>\n",
       "      <td>...</td>\n",
       "      <td>NaN</td>\n",
       "      <td>NaN</td>\n",
       "      <td>NaN</td>\n",
       "      <td>NaN</td>\n",
       "      <td>NaN</td>\n",
       "      <td>NaN</td>\n",
       "      <td>NaN</td>\n",
       "      <td>NaN</td>\n",
       "      <td>NaN</td>\n",
       "      <td>NaN</td>\n",
       "    </tr>\n",
       "    <tr>\n",
       "      <th>Brunei</th>\n",
       "      <td>NaN</td>\n",
       "      <td>NaN</td>\n",
       "      <td>NaN</td>\n",
       "      <td>NaN</td>\n",
       "      <td>NaN</td>\n",
       "      <td>NaN</td>\n",
       "      <td>NaN</td>\n",
       "      <td>NaN</td>\n",
       "      <td>NaN</td>\n",
       "      <td>NaN</td>\n",
       "      <td>...</td>\n",
       "      <td>NaN</td>\n",
       "      <td>NaN</td>\n",
       "      <td>NaN</td>\n",
       "      <td>NaN</td>\n",
       "      <td>NaN</td>\n",
       "      <td>NaN</td>\n",
       "      <td>NaN</td>\n",
       "      <td>NaN</td>\n",
       "      <td>NaN</td>\n",
       "      <td>NaN</td>\n",
       "    </tr>\n",
       "    <tr>\n",
       "      <th>China</th>\n",
       "      <td>5.04</td>\n",
       "      <td>NaN</td>\n",
       "      <td>7.56</td>\n",
       "      <td>NaN</td>\n",
       "      <td>NaN</td>\n",
       "      <td>NaN</td>\n",
       "      <td>NaN</td>\n",
       "      <td>NaN</td>\n",
       "      <td>NaN</td>\n",
       "      <td>NaN</td>\n",
       "      <td>...</td>\n",
       "      <td>2.89</td>\n",
       "      <td>2.52</td>\n",
       "      <td>2.52</td>\n",
       "      <td>2.52</td>\n",
       "      <td>1.62</td>\n",
       "      <td>2.49</td>\n",
       "      <td>2.52</td>\n",
       "      <td>2.53</td>\n",
       "      <td>2.52</td>\n",
       "      <td>0.87</td>\n",
       "    </tr>\n",
       "    <tr>\n",
       "      <th>Egypt</th>\n",
       "      <td>5.45</td>\n",
       "      <td>NaN</td>\n",
       "      <td>NaN</td>\n",
       "      <td>0.12</td>\n",
       "      <td>NaN</td>\n",
       "      <td>NaN</td>\n",
       "      <td>NaN</td>\n",
       "      <td>0.12</td>\n",
       "      <td>2.69</td>\n",
       "      <td>NaN</td>\n",
       "      <td>...</td>\n",
       "      <td>NaN</td>\n",
       "      <td>NaN</td>\n",
       "      <td>NaN</td>\n",
       "      <td>NaN</td>\n",
       "      <td>NaN</td>\n",
       "      <td>NaN</td>\n",
       "      <td>NaN</td>\n",
       "      <td>NaN</td>\n",
       "      <td>NaN</td>\n",
       "      <td>NaN</td>\n",
       "    </tr>\n",
       "    <tr>\n",
       "      <th>India</th>\n",
       "      <td>43.72</td>\n",
       "      <td>0.03</td>\n",
       "      <td>NaN</td>\n",
       "      <td>NaN</td>\n",
       "      <td>17.67</td>\n",
       "      <td>0.02</td>\n",
       "      <td>0.01</td>\n",
       "      <td>NaN</td>\n",
       "      <td>9.18</td>\n",
       "      <td>5.04</td>\n",
       "      <td>...</td>\n",
       "      <td>NaN</td>\n",
       "      <td>NaN</td>\n",
       "      <td>NaN</td>\n",
       "      <td>NaN</td>\n",
       "      <td>NaN</td>\n",
       "      <td>NaN</td>\n",
       "      <td>NaN</td>\n",
       "      <td>NaN</td>\n",
       "      <td>NaN</td>\n",
       "      <td>NaN</td>\n",
       "    </tr>\n",
       "  </tbody>\n",
       "</table>\n",
       "<p>10 rows × 435 columns</p>\n",
       "</div>"
      ],
      "text/plain": [
       "                      score                                       \\\n",
       "video_title  #FallingPlates #फालिंगप्लेट्स  #掉落的盘子 1- في العائلة   \n",
       "geo__country                                                       \n",
       "Afghanistan            0.02             NaN    NaN           NaN   \n",
       "Algeria                2.52             NaN    NaN           NaN   \n",
       "Azerbaijan             2.52             NaN    NaN           NaN   \n",
       "Bahrain                 NaN             NaN    NaN           NaN   \n",
       "Bangladesh             5.41             NaN    NaN           NaN   \n",
       "Bhutan                 0.02             NaN    NaN           NaN   \n",
       "Brunei                  NaN             NaN    NaN           NaN   \n",
       "China                  5.04             NaN   7.56           NaN   \n",
       "Egypt                  5.45             NaN    NaN          0.12   \n",
       "India                 43.72            0.03    NaN           NaN   \n",
       "\n",
       "                                                                       \\\n",
       "video_title  1. Jesus, Our Loving Pursuer 1.가족 중에 1.우리의 사랑의 추구자이신 예수님   \n",
       "geo__country                                                            \n",
       "Afghanistan                           NaN     NaN                 NaN   \n",
       "Algeria                               NaN     NaN                 NaN   \n",
       "Azerbaijan                            NaN     NaN                 NaN   \n",
       "Bahrain                               NaN     NaN                 NaN   \n",
       "Bangladesh                           2.52     NaN                 NaN   \n",
       "Bhutan                                NaN     NaN                 NaN   \n",
       "Brunei                                NaN     NaN                 NaN   \n",
       "China                                 NaN     NaN                 NaN   \n",
       "Egypt                                 NaN     NaN                 NaN   \n",
       "India                               17.67    0.02                0.01   \n",
       "\n",
       "                                                          \\\n",
       "video_title  2- عمل يدوي 2. Jesus, Our Gracious Forgiver   \n",
       "geo__country                                               \n",
       "Afghanistan          NaN                             NaN   \n",
       "Algeria              NaN                             NaN   \n",
       "Azerbaijan           NaN                             NaN   \n",
       "Bahrain              NaN                             NaN   \n",
       "Bangladesh           NaN                            1.62   \n",
       "Bhutan               NaN                             NaN   \n",
       "Brunei               NaN                             NaN   \n",
       "China                NaN                             NaN   \n",
       "Egypt               0.12                            2.69   \n",
       "India                NaN                            9.18   \n",
       "\n",
       "                                             ...                            \\\n",
       "video_title  3. Jesus, Our Power for Living  ... 路加福音简介 身份错认于路司得 返回叙利亚的安提阿   \n",
       "geo__country                                 ...                             \n",
       "Afghanistan                             NaN  ...    NaN      NaN       NaN   \n",
       "Algeria                                 NaN  ...    NaN      NaN       NaN   \n",
       "Azerbaijan                              NaN  ...    NaN      NaN       NaN   \n",
       "Bahrain                                 NaN  ...    NaN      NaN       NaN   \n",
       "Bangladesh                              NaN  ...    NaN      NaN       NaN   \n",
       "Bhutan                                  NaN  ...    NaN      NaN       NaN   \n",
       "Brunei                                  NaN  ...    NaN      NaN       NaN   \n",
       "China                                   NaN  ...   2.89     2.52      2.52   \n",
       "Egypt                                   NaN  ...    NaN      NaN       NaN   \n",
       "India                                  5.04  ...    NaN      NaN       NaN   \n",
       "\n",
       "                                                                             \n",
       "video_title  选出马提亚替代犹大 那些使人犯罪的人有祸了 钉在十字架上的囚犯 雅典的偶像 非斯都咨询亚基帕王 高贵的比里亚人 魔鬼引诱耶稣  \n",
       "geo__country                                                                 \n",
       "Afghanistan        NaN         NaN       NaN   NaN       NaN     NaN    NaN  \n",
       "Algeria            NaN         NaN       NaN   NaN       NaN     NaN    NaN  \n",
       "Azerbaijan         NaN         NaN       NaN   NaN       NaN     NaN    NaN  \n",
       "Bahrain            NaN         NaN       NaN   NaN       NaN     NaN    NaN  \n",
       "Bangladesh         NaN         NaN       NaN   NaN       NaN     NaN    NaN  \n",
       "Bhutan             NaN         NaN       NaN   NaN       NaN     NaN    NaN  \n",
       "Brunei             NaN         NaN       NaN   NaN       NaN     NaN    NaN  \n",
       "China             2.52        1.62      2.49  2.52      2.53    2.52   0.87  \n",
       "Egypt              NaN         NaN       NaN   NaN       NaN     NaN    NaN  \n",
       "India              NaN         NaN       NaN   NaN       NaN     NaN    NaN  \n",
       "\n",
       "[10 rows x 435 columns]"
      ]
     },
     "execution_count": 40,
     "metadata": {},
     "output_type": "execute_result"
    }
   ],
   "source": [
    "review_scores.unstack()"
   ]
  },
  {
   "cell_type": "code",
   "execution_count": 41,
   "id": "0bcf0989",
   "metadata": {},
   "outputs": [],
   "source": [
    "#review_scores.plot.bar(figsize=(20,20));"
   ]
  },
  {
   "cell_type": "code",
   "execution_count": 42,
   "id": "ccea36ee",
   "metadata": {},
   "outputs": [
    {
     "data": {
      "text/plain": [
       "MultiIndex([('Afghanistan',                         '#FallingPlates'),\n",
       "            ('Afghanistan',                     'Angels at the Tomb'),\n",
       "            ('Afghanistan',               'Baptism of Jesus by John'),\n",
       "            ('Afghanistan',                             'Beatitudes'),\n",
       "            ('Afghanistan',                         'Birth of Jesus'),\n",
       "            ('Afghanistan',    'Blessed are those Who Hear and Obey'),\n",
       "            ('Afghanistan',                                'Breathe'),\n",
       "            ('Afghanistan',                        'Burial of Jesus'),\n",
       "            ('Afghanistan',                     'Childhood of Jesus'),\n",
       "            ('Afghanistan',                         'Chosen Witness'),\n",
       "            ...\n",
       "            (      'India',                              'Episode 9'),\n",
       "            (      'India', 'Eutychus Raised From the Dead at Troas'),\n",
       "            (      'India',        'Explanation of Miraculous Birth'),\n",
       "            (      'India',                           'Falling Away'),\n",
       "            (      'India',                          'Feeding 5,000'),\n",
       "            (      'India',                'Fellowship Of Believers'),\n",
       "            (      'India',           'Festus Consults King Agrippa'),\n",
       "            (      'India',                          'Finding Peace'),\n",
       "            (      'India',                         'Finishing Well'),\n",
       "            (      'India',                                   'Flow')],\n",
       "           names=['geo__country', 'video_title'], length=829)"
      ]
     },
     "execution_count": 42,
     "metadata": {},
     "output_type": "execute_result"
    }
   ],
   "source": [
    "review_scores.index"
   ]
  },
  {
   "cell_type": "code",
   "execution_count": 43,
   "id": "67235265",
   "metadata": {},
   "outputs": [],
   "source": []
  },
  {
   "cell_type": "code",
   "execution_count": 44,
   "id": "bb4123cc",
   "metadata": {},
   "outputs": [],
   "source": [
    "df_sparce = df.pivot_table(columns='video_title', values='score', index='geo__country', aggfunc='mean', fill_value=0)\n",
    "movie_list = pd.Series(df_sparce.columns)\n",
    "users = pd.Series(df_sparce.index)"
   ]
  },
  {
   "cell_type": "code",
   "execution_count": 45,
   "id": "5f64b63f",
   "metadata": {},
   "outputs": [
    {
     "data": {
      "text/plain": [
       "(10, 435)"
      ]
     },
     "execution_count": 45,
     "metadata": {},
     "output_type": "execute_result"
    }
   ],
   "source": [
    "df_sparce.shape"
   ]
  },
  {
   "cell_type": "code",
   "execution_count": 46,
   "id": "13e0e0f6",
   "metadata": {},
   "outputs": [
    {
     "name": "stdout",
     "output_type": "stream",
     "text": [
      "The desnsity is: 0.19057471264367817 \n"
     ]
    }
   ],
   "source": [
    "number_ratings = (df_sparce.values > 0).sum()\n",
    "density = number_ratings / (df_sparce.shape[0] * df_sparce.shape[1])\n",
    "print('The desnsity is: {} '.format(density))"
   ]
  },
  {
   "cell_type": "code",
   "execution_count": 47,
   "id": "ff1dd1ff",
   "metadata": {},
   "outputs": [
    {
     "name": "stdout",
     "output_type": "stream",
     "text": [
      "Min number of ratings: 9\n"
     ]
    },
    {
     "data": {
      "image/png": "[encoded data removed]",
      "text/plain": [
       "<Figure size 432x288 with 1 Axes>"
      ]
     },
     "metadata": {
      "needs_background": "light"
     },
     "output_type": "display_data"
    }
   ],
   "source": [
    "ratings = (df_sparce > 0).sum(axis=1)\n",
    "ratings.hist(bins=100)\n",
    "print('Min number of ratings: {}'.format(ratings.min()))"
   ]
  },
  {
   "cell_type": "code",
   "execution_count": 48,
   "id": "8c94fedc",
   "metadata": {},
   "outputs": [
    {
     "name": "stdout",
     "output_type": "stream",
     "text": [
      "Min number of ratings: 1\n"
     ]
    },
    {
     "data": {
      "image/png": "[encoded data removed]",
      "text/plain": [
       "<Figure size 432x288 with 1 Axes>"
      ]
     },
     "metadata": {
      "needs_background": "light"
     },
     "output_type": "display_data"
    }
   ],
   "source": [
    "ratings = (df_sparce > 0).sum(axis=0)\n",
    "ratings.hist(bins=100)\n",
    "print('Min number of ratings: {}'.format(ratings.min()))"
   ]
  },
  {
   "cell_type": "markdown",
   "id": "2936cc8b",
   "metadata": {},
   "source": [
    "# utility matric"
   ]
  },
  {
   "cell_type": "code",
   "execution_count": 49,
   "id": "1bf6f2d7",
   "metadata": {},
   "outputs": [
    {
     "data": {
      "text/plain": [
       "Index(['Afghanistan', 'Algeria', 'Azerbaijan', 'Bahrain', 'Bangladesh',\n",
       "       'Bhutan', 'Brunei', 'China', 'Egypt', 'India'],\n",
       "      dtype='object', name='geo__country')"
      ]
     },
     "execution_count": 49,
     "metadata": {},
     "output_type": "execute_result"
    }
   ],
   "source": [
    "df_sparce.index"
   ]
  },
  {
   "cell_type": "code",
   "execution_count": 50,
   "id": "ab74b7f8",
   "metadata": {},
   "outputs": [],
   "source": [
    "train, test = train_test_split(df_sparce.values, random_state = 100)"
   ]
  },
  {
   "cell_type": "code",
   "execution_count": 51,
   "id": "d3c000ff",
   "metadata": {},
   "outputs": [],
   "source": [
    "ratings_as_mat = csr_matrix(df_sparce.values, (df_sparce.index.shape[0], df_sparce.columns.shape[0]))"
   ]
  },
  {
   "cell_type": "code",
   "execution_count": 52,
   "id": "de91ac7e",
   "metadata": {},
   "outputs": [
    {
     "name": "stdout",
     "output_type": "stream",
     "text": [
      "(7, 435)\n",
      "(3, 435)\n",
      "(10, 435)\n"
     ]
    }
   ],
   "source": [
    "print(train.shape)\n",
    "print(test.shape)\n",
    "print(df_sparce.shape)"
   ]
  },
  {
   "cell_type": "code",
   "execution_count": 53,
   "id": "464b94ed",
   "metadata": {},
   "outputs": [
    {
     "data": {
      "text/plain": [
       "(10, 435)"
      ]
     },
     "execution_count": 53,
     "metadata": {},
     "output_type": "execute_result"
    }
   ],
   "source": [
    "ratings_as_mat.shape"
   ]
  },
  {
   "cell_type": "code",
   "execution_count": 54,
   "id": "10b2ca0b",
   "metadata": {},
   "outputs": [],
   "source": [
    "rec = ItemItemRecommender(neighborhood_size=75)\n",
    "rec.fit(ratings_as_mat)"
   ]
  },
  {
   "cell_type": "code",
   "execution_count": 55,
   "id": "f9bcd50d",
   "metadata": {},
   "outputs": [
    {
     "data": {
      "text/plain": [
       "0    Afghanistan\n",
       "1        Algeria\n",
       "2     Azerbaijan\n",
       "3        Bahrain\n",
       "4     Bangladesh\n",
       "5         Bhutan\n",
       "6         Brunei\n",
       "7          China\n",
       "8          Egypt\n",
       "9          India\n",
       "Name: geo__country, dtype: object"
      ]
     },
     "execution_count": 55,
     "metadata": {},
     "output_type": "execute_result"
    }
   ],
   "source": [
    "users"
   ]
  },
  {
   "cell_type": "code",
   "execution_count": 56,
   "id": "c34cd0cf",
   "metadata": {},
   "outputs": [
    {
     "name": "stdout",
     "output_type": "stream",
     "text": [
      "Bahrain\n"
     ]
    },
    {
     "name": "stderr",
     "output_type": "stream",
     "text": [
      "/Users/djbetts/Desktop/jf_project/src/ItemItemRecommender.py:43: RuntimeWarning: invalid value encountered in true_divide\n",
      "  self.item_sim_mat[item_to_rate, relevant_items].sum()\n"
     ]
    },
    {
     "data": {
      "text/plain": [
       "array([0.19406524, 0.04      , 0.        , 0.04      , 0.02531806,\n",
       "       0.04      , 0.04      , 0.04      , 0.05164735, 0.04      ,\n",
       "       0.04      , 0.        , 0.04      , 0.04      , 0.10069525,\n",
       "       0.09646734, 0.        , 0.04      , 0.04      , 0.28354756,\n",
       "       0.04      , 0.04      , 0.04      , 0.20818483, 0.05575517,\n",
       "       0.18618744, 0.04      , 0.05256406, 0.09733891, 0.25741687,\n",
       "       0.18319451, 0.04      , 0.27264748, 0.04      , 0.15020326,\n",
       "       0.04      , 0.04      , 0.32832103, 0.19767748, 0.24234841,\n",
       "       0.20990314, 0.04      , 0.12162239, 0.19528045, 0.24455143,\n",
       "       0.04      , 0.04      , 0.04      , 0.04      , 0.04      ,\n",
       "       0.04      , 0.27779905, 0.25869193, 0.04      , 0.04      ,\n",
       "       0.04      , 0.04      , 0.04      , 0.04      , 0.04      ,\n",
       "       0.04      , 0.04      , 0.04      , 0.04      , 0.04      ,\n",
       "       0.04      , 0.04      , 0.04      , 0.04      , 0.04      ,\n",
       "       0.04      , 0.04      , 0.04      , 0.04      , 0.04      ,\n",
       "       0.04      , 0.04      , 0.21079602, 0.17255186, 0.04      ,\n",
       "       0.04      , 0.17301404, 0.04      , 0.04      , 0.04      ,\n",
       "       0.12028348, 0.04      , 0.04      , 0.24213543, 0.04      ,\n",
       "       0.04      , 0.17937514, 0.13898038, 0.05574999, 0.04      ,\n",
       "       0.04      , 0.        , 0.        , 0.05587907, 0.04      ,\n",
       "       0.04      , 0.15735844, 0.04      , 0.15620011, 0.13898038,\n",
       "       0.13898038, 0.14005051, 0.13898038, 0.13343914, 0.13898038,\n",
       "       0.04      , 0.04      , 0.34137061, 0.04      , 0.04      ,\n",
       "       0.04      , 0.34137061, 0.04      , 0.04      , 0.04      ,\n",
       "       0.04      , 0.01      , 0.04      , 0.16029918, 0.04      ,\n",
       "       0.        , 0.        , 0.24591443, 0.25869193, 0.        ,\n",
       "       0.22180382, 0.23202339, 0.24618667, 0.04      , 0.        ,\n",
       "       0.25869193, 0.18676223, 0.04      , 0.25869193, 0.33962416,\n",
       "       0.13683511, 0.21083432, 0.22207294, 0.26276952, 0.28460036,\n",
       "       0.26340462, 0.        , 0.08837769, 0.29422496, 0.24237435,\n",
       "       0.07190207, 0.26171674, 0.04      , 0.24546261, 0.13205089,\n",
       "       0.14945944, 0.29153607, 0.04      , 0.23883935, 0.31490443,\n",
       "       0.16250766, 0.04      , 0.28994644, 0.14934515, 0.1137818 ,\n",
       "       0.23140319, 0.18205577, 0.24146716, 0.11367642, 0.23221002,\n",
       "       0.14060833, 0.25869193, 0.26498907, 0.13343914, 0.13343914,\n",
       "       0.34137061, 0.13343914, 0.13343914, 0.13343914, 0.13343914,\n",
       "       0.13343914, 0.13343914, 0.04      , 0.        , 0.23448585,\n",
       "       0.        , 0.21025174, 0.14047247, 0.25869193, 0.22999375,\n",
       "       0.29820254, 0.        , 0.29153607, 0.24567363, 0.26115811,\n",
       "       0.29153607, 0.13343914, 0.04      , 0.21770926, 0.24494811,\n",
       "       0.21175579, 0.13343914, 0.31684355, 0.21393094, 0.25869193,\n",
       "       0.04      , 0.28264829, 0.25869193, 0.31684355, 0.17866624,\n",
       "       0.18377849, 0.09311488, 0.1978354 , 0.30491036, 0.07110024,\n",
       "       0.04      , 0.04      , 0.04      , 0.04      , 0.14430205,\n",
       "       0.23221002, 0.04      , 0.13205089, 0.14360079, 0.07525754,\n",
       "       0.31684355, 0.2092198 , 0.09311327, 0.22110242, 0.13489761,\n",
       "       0.13343914, 0.36      , 0.34137061, 0.26964171, 0.13343914,\n",
       "       0.13343914, 0.21666672, 0.31684355, 0.26122598, 0.18835768,\n",
       "       0.04      , 0.        , 0.13343914, 0.04      , 0.1550361 ,\n",
       "       0.30347781, 0.13500038, 0.07133243, 0.22466473, 0.32127141,\n",
       "       0.04      , 0.04      , 0.31684355, 0.25870223, 0.09339301,\n",
       "       0.04      , 0.2219887 , 0.19527767, 0.23642801, 0.24179367,\n",
       "       0.07165636, 0.19958178, 0.25869193, 0.1833102 , 0.04      ,\n",
       "       0.25869193, 0.04      , 0.17715707, 0.17588493, 0.13343914,\n",
       "       0.25047378, 0.15960208, 0.        , 0.25776198, 0.24220896,\n",
       "       0.        , 0.22406541, 0.04      , 0.        , 0.14596914,\n",
       "       0.04      , 0.04      , 0.25930719, 0.19958178, 0.13343914,\n",
       "       0.34137061, 0.31684355, 0.15228096, 0.15491063, 0.24351885,\n",
       "       0.        , 0.14176016, 0.23992337, 0.04      , 0.04      ,\n",
       "       0.04      , 0.04      , 0.04      , 0.04      , 0.        ,\n",
       "       0.        , 0.        , 0.        , 0.        , 0.        ,\n",
       "       0.        , 0.        , 0.        , 0.        , 0.        ,\n",
       "       0.        , 0.        , 0.        , 0.        , 0.        ,\n",
       "       0.        , 0.        , 0.        , 0.        , 0.        ,\n",
       "       0.        , 0.        , 0.        , 0.        , 0.        ,\n",
       "       0.        , 0.        , 0.        , 0.        , 0.        ,\n",
       "       0.        , 0.        , 0.        , 0.        , 0.        ,\n",
       "       0.        , 0.        , 0.        , 0.        , 0.        ,\n",
       "       0.        , 0.        , 0.        , 0.        , 0.        ,\n",
       "       0.        , 0.        , 0.        , 0.        , 0.        ,\n",
       "       0.        , 0.        , 0.        , 0.        , 0.        ,\n",
       "       0.        , 0.        , 0.        , 0.        , 0.        ,\n",
       "       0.        , 0.        , 0.        , 0.        , 0.        ,\n",
       "       0.        , 0.        , 0.        , 0.        , 0.        ,\n",
       "       0.        , 0.        , 0.        , 0.        , 0.        ,\n",
       "       0.        , 0.        , 0.        , 0.        , 0.        ,\n",
       "       0.        , 0.        , 0.        , 0.        , 0.        ,\n",
       "       0.        , 0.        , 0.        , 0.        , 0.        ,\n",
       "       0.        , 0.        , 0.        , 0.        , 0.        ,\n",
       "       0.        , 0.        , 0.        , 0.        , 0.        ,\n",
       "       0.        , 0.        , 0.        , 0.        , 0.        ,\n",
       "       0.        , 0.        , 0.        , 0.        , 0.        ,\n",
       "       0.        , 0.        , 0.        , 0.        , 0.        ,\n",
       "       0.        , 0.        , 0.        , 0.        , 0.        ,\n",
       "       0.        , 0.        , 0.        , 0.        , 0.        ,\n",
       "       0.        , 0.        , 0.        , 0.        , 0.        ,\n",
       "       0.        , 0.        , 0.        , 0.        , 0.        ])"
      ]
     },
     "execution_count": 56,
     "metadata": {},
     "output_type": "execute_result"
    }
   ],
   "source": [
    "print(users[3])\n",
    "rec.pred_one_user(user_id=3)"
   ]
  },
  {
   "cell_type": "markdown",
   "id": "9eebd000",
   "metadata": {},
   "source": [
    "# top rated movies"
   ]
  },
  {
   "cell_type": "code",
   "execution_count": 57,
   "id": "75587585",
   "metadata": {},
   "outputs": [],
   "source": [
    "average_rating = df.groupby('video_title').mean()['score']"
   ]
  },
  {
   "cell_type": "code",
   "execution_count": 58,
   "id": "13c612c3",
   "metadata": {},
   "outputs": [
    {
     "data": {
      "text/plain": [
       "video_title\n",
       "十字架上的标志                                      0.384000\n",
       "Paul Transferred to Caesarea                 0.384000\n",
       "耶路撒冷会议                                       0.368462\n",
       "介绍                                           0.367647\n",
       "Parable of the Pharisee and Tax Collector    0.363608\n",
       "                                               ...   \n",
       "This Is Freedom                              0.010000\n",
       "JÉSUS                                        0.010000\n",
       "Waiting on the Alchemist                     0.010000\n",
       "#फालिंगप्लेट्स                               0.010000\n",
       "Jesus Gathers Disciples                      0.010000\n",
       "Name: score, Length: 435, dtype: float64"
      ]
     },
     "execution_count": 58,
     "metadata": {},
     "output_type": "execute_result"
    }
   ],
   "source": [
    "average_rating.sort_values(ascending=False)"
   ]
  },
  {
   "cell_type": "markdown",
   "id": "e147063a",
   "metadata": {},
   "source": [
    "# utility matrix work"
   ]
  },
  {
   "cell_type": "code",
   "execution_count": 59,
   "id": "01962324",
   "metadata": {},
   "outputs": [],
   "source": [
    "index = df.geo__country.unique()"
   ]
  },
  {
   "cell_type": "code",
   "execution_count": 60,
   "id": "linear-extreme",
   "metadata": {},
   "outputs": [],
   "source": [
    "columns = df.video_title.unique()"
   ]
  },
  {
   "cell_type": "code",
   "execution_count": 61,
   "id": "d99fa4d1",
   "metadata": {},
   "outputs": [],
   "source": [
    "data = np.zeros((index.shape[0], columns.shape[0]))"
   ]
  },
  {
   "cell_type": "code",
   "execution_count": 62,
   "id": "acute-brooklyn",
   "metadata": {},
   "outputs": [],
   "source": [
    "reviews = pd.DataFrame(data, index=index, columns=columns)"
   ]
  },
  {
   "cell_type": "code",
   "execution_count": 63,
   "id": "hundred-karen",
   "metadata": {},
   "outputs": [
    {
     "data": {
      "text/html": [
       "<div>\n",
       "<style scoped>\n",
       "    .dataframe tbody tr th:only-of-type {\n",
       "        vertical-align: middle;\n",
       "    }\n",
       "\n",
       "    .dataframe tbody tr th {\n",
       "        vertical-align: top;\n",
       "    }\n",
       "\n",
       "    .dataframe thead th {\n",
       "        text-align: right;\n",
       "    }\n",
       "</style>\n",
       "<table border=\"1\" class=\"dataframe\">\n",
       "  <thead>\n",
       "    <tr style=\"text-align: right;\">\n",
       "      <th></th>\n",
       "      <th>#FallingPlates</th>\n",
       "      <th>Angels at the Tomb</th>\n",
       "      <th>Baptism of Jesus by John</th>\n",
       "      <th>Beatitudes</th>\n",
       "      <th>Birth of Jesus</th>\n",
       "      <th>Blessed are those Who Hear and Obey</th>\n",
       "      <th>Breathe</th>\n",
       "      <th>Burial of Jesus</th>\n",
       "      <th>Childhood of Jesus</th>\n",
       "      <th>Chosen Witness</th>\n",
       "      <th>...</th>\n",
       "      <th>Division in Corinth</th>\n",
       "      <th>Don&amp;#39;t Hold Your Breath</th>\n",
       "      <th>Doubting Thomas</th>\n",
       "      <th>Dying Roads</th>\n",
       "      <th>Eutychus Raised From the Dead at Troas</th>\n",
       "      <th>Falling Away</th>\n",
       "      <th>Feeding 5,000</th>\n",
       "      <th>Fellowship Of Believers</th>\n",
       "      <th>Festus Consults King Agrippa</th>\n",
       "      <th>Finishing Well</th>\n",
       "    </tr>\n",
       "  </thead>\n",
       "  <tbody>\n",
       "    <tr>\n",
       "      <th>Afghanistan</th>\n",
       "      <td>0.0</td>\n",
       "      <td>0.0</td>\n",
       "      <td>0.0</td>\n",
       "      <td>0.0</td>\n",
       "      <td>0.0</td>\n",
       "      <td>0.0</td>\n",
       "      <td>0.0</td>\n",
       "      <td>0.0</td>\n",
       "      <td>0.0</td>\n",
       "      <td>0.0</td>\n",
       "      <td>...</td>\n",
       "      <td>0.0</td>\n",
       "      <td>0.0</td>\n",
       "      <td>0.0</td>\n",
       "      <td>0.0</td>\n",
       "      <td>0.0</td>\n",
       "      <td>0.0</td>\n",
       "      <td>0.0</td>\n",
       "      <td>0.0</td>\n",
       "      <td>0.0</td>\n",
       "      <td>0.0</td>\n",
       "    </tr>\n",
       "    <tr>\n",
       "      <th>Algeria</th>\n",
       "      <td>0.0</td>\n",
       "      <td>0.0</td>\n",
       "      <td>0.0</td>\n",
       "      <td>0.0</td>\n",
       "      <td>0.0</td>\n",
       "      <td>0.0</td>\n",
       "      <td>0.0</td>\n",
       "      <td>0.0</td>\n",
       "      <td>0.0</td>\n",
       "      <td>0.0</td>\n",
       "      <td>...</td>\n",
       "      <td>0.0</td>\n",
       "      <td>0.0</td>\n",
       "      <td>0.0</td>\n",
       "      <td>0.0</td>\n",
       "      <td>0.0</td>\n",
       "      <td>0.0</td>\n",
       "      <td>0.0</td>\n",
       "      <td>0.0</td>\n",
       "      <td>0.0</td>\n",
       "      <td>0.0</td>\n",
       "    </tr>\n",
       "    <tr>\n",
       "      <th>Azerbaijan</th>\n",
       "      <td>0.0</td>\n",
       "      <td>0.0</td>\n",
       "      <td>0.0</td>\n",
       "      <td>0.0</td>\n",
       "      <td>0.0</td>\n",
       "      <td>0.0</td>\n",
       "      <td>0.0</td>\n",
       "      <td>0.0</td>\n",
       "      <td>0.0</td>\n",
       "      <td>0.0</td>\n",
       "      <td>...</td>\n",
       "      <td>0.0</td>\n",
       "      <td>0.0</td>\n",
       "      <td>0.0</td>\n",
       "      <td>0.0</td>\n",
       "      <td>0.0</td>\n",
       "      <td>0.0</td>\n",
       "      <td>0.0</td>\n",
       "      <td>0.0</td>\n",
       "      <td>0.0</td>\n",
       "      <td>0.0</td>\n",
       "    </tr>\n",
       "    <tr>\n",
       "      <th>Bahrain</th>\n",
       "      <td>0.0</td>\n",
       "      <td>0.0</td>\n",
       "      <td>0.0</td>\n",
       "      <td>0.0</td>\n",
       "      <td>0.0</td>\n",
       "      <td>0.0</td>\n",
       "      <td>0.0</td>\n",
       "      <td>0.0</td>\n",
       "      <td>0.0</td>\n",
       "      <td>0.0</td>\n",
       "      <td>...</td>\n",
       "      <td>0.0</td>\n",
       "      <td>0.0</td>\n",
       "      <td>0.0</td>\n",
       "      <td>0.0</td>\n",
       "      <td>0.0</td>\n",
       "      <td>0.0</td>\n",
       "      <td>0.0</td>\n",
       "      <td>0.0</td>\n",
       "      <td>0.0</td>\n",
       "      <td>0.0</td>\n",
       "    </tr>\n",
       "    <tr>\n",
       "      <th>Bangladesh</th>\n",
       "      <td>0.0</td>\n",
       "      <td>0.0</td>\n",
       "      <td>0.0</td>\n",
       "      <td>0.0</td>\n",
       "      <td>0.0</td>\n",
       "      <td>0.0</td>\n",
       "      <td>0.0</td>\n",
       "      <td>0.0</td>\n",
       "      <td>0.0</td>\n",
       "      <td>0.0</td>\n",
       "      <td>...</td>\n",
       "      <td>0.0</td>\n",
       "      <td>0.0</td>\n",
       "      <td>0.0</td>\n",
       "      <td>0.0</td>\n",
       "      <td>0.0</td>\n",
       "      <td>0.0</td>\n",
       "      <td>0.0</td>\n",
       "      <td>0.0</td>\n",
       "      <td>0.0</td>\n",
       "      <td>0.0</td>\n",
       "    </tr>\n",
       "    <tr>\n",
       "      <th>Bhutan</th>\n",
       "      <td>0.0</td>\n",
       "      <td>0.0</td>\n",
       "      <td>0.0</td>\n",
       "      <td>0.0</td>\n",
       "      <td>0.0</td>\n",
       "      <td>0.0</td>\n",
       "      <td>0.0</td>\n",
       "      <td>0.0</td>\n",
       "      <td>0.0</td>\n",
       "      <td>0.0</td>\n",
       "      <td>...</td>\n",
       "      <td>0.0</td>\n",
       "      <td>0.0</td>\n",
       "      <td>0.0</td>\n",
       "      <td>0.0</td>\n",
       "      <td>0.0</td>\n",
       "      <td>0.0</td>\n",
       "      <td>0.0</td>\n",
       "      <td>0.0</td>\n",
       "      <td>0.0</td>\n",
       "      <td>0.0</td>\n",
       "    </tr>\n",
       "    <tr>\n",
       "      <th>Brunei</th>\n",
       "      <td>0.0</td>\n",
       "      <td>0.0</td>\n",
       "      <td>0.0</td>\n",
       "      <td>0.0</td>\n",
       "      <td>0.0</td>\n",
       "      <td>0.0</td>\n",
       "      <td>0.0</td>\n",
       "      <td>0.0</td>\n",
       "      <td>0.0</td>\n",
       "      <td>0.0</td>\n",
       "      <td>...</td>\n",
       "      <td>0.0</td>\n",
       "      <td>0.0</td>\n",
       "      <td>0.0</td>\n",
       "      <td>0.0</td>\n",
       "      <td>0.0</td>\n",
       "      <td>0.0</td>\n",
       "      <td>0.0</td>\n",
       "      <td>0.0</td>\n",
       "      <td>0.0</td>\n",
       "      <td>0.0</td>\n",
       "    </tr>\n",
       "    <tr>\n",
       "      <th>China</th>\n",
       "      <td>0.0</td>\n",
       "      <td>0.0</td>\n",
       "      <td>0.0</td>\n",
       "      <td>0.0</td>\n",
       "      <td>0.0</td>\n",
       "      <td>0.0</td>\n",
       "      <td>0.0</td>\n",
       "      <td>0.0</td>\n",
       "      <td>0.0</td>\n",
       "      <td>0.0</td>\n",
       "      <td>...</td>\n",
       "      <td>0.0</td>\n",
       "      <td>0.0</td>\n",
       "      <td>0.0</td>\n",
       "      <td>0.0</td>\n",
       "      <td>0.0</td>\n",
       "      <td>0.0</td>\n",
       "      <td>0.0</td>\n",
       "      <td>0.0</td>\n",
       "      <td>0.0</td>\n",
       "      <td>0.0</td>\n",
       "    </tr>\n",
       "    <tr>\n",
       "      <th>Egypt</th>\n",
       "      <td>0.0</td>\n",
       "      <td>0.0</td>\n",
       "      <td>0.0</td>\n",
       "      <td>0.0</td>\n",
       "      <td>0.0</td>\n",
       "      <td>0.0</td>\n",
       "      <td>0.0</td>\n",
       "      <td>0.0</td>\n",
       "      <td>0.0</td>\n",
       "      <td>0.0</td>\n",
       "      <td>...</td>\n",
       "      <td>0.0</td>\n",
       "      <td>0.0</td>\n",
       "      <td>0.0</td>\n",
       "      <td>0.0</td>\n",
       "      <td>0.0</td>\n",
       "      <td>0.0</td>\n",
       "      <td>0.0</td>\n",
       "      <td>0.0</td>\n",
       "      <td>0.0</td>\n",
       "      <td>0.0</td>\n",
       "    </tr>\n",
       "    <tr>\n",
       "      <th>India</th>\n",
       "      <td>0.0</td>\n",
       "      <td>0.0</td>\n",
       "      <td>0.0</td>\n",
       "      <td>0.0</td>\n",
       "      <td>0.0</td>\n",
       "      <td>0.0</td>\n",
       "      <td>0.0</td>\n",
       "      <td>0.0</td>\n",
       "      <td>0.0</td>\n",
       "      <td>0.0</td>\n",
       "      <td>...</td>\n",
       "      <td>0.0</td>\n",
       "      <td>0.0</td>\n",
       "      <td>0.0</td>\n",
       "      <td>0.0</td>\n",
       "      <td>0.0</td>\n",
       "      <td>0.0</td>\n",
       "      <td>0.0</td>\n",
       "      <td>0.0</td>\n",
       "      <td>0.0</td>\n",
       "      <td>0.0</td>\n",
       "    </tr>\n",
       "  </tbody>\n",
       "</table>\n",
       "<p>10 rows × 435 columns</p>\n",
       "</div>"
      ],
      "text/plain": [
       "             #FallingPlates  Angels at the Tomb  Baptism of Jesus by John  \\\n",
       "Afghanistan             0.0                 0.0                       0.0   \n",
       "Algeria                 0.0                 0.0                       0.0   \n",
       "Azerbaijan              0.0                 0.0                       0.0   \n",
       "Bahrain                 0.0                 0.0                       0.0   \n",
       "Bangladesh              0.0                 0.0                       0.0   \n",
       "Bhutan                  0.0                 0.0                       0.0   \n",
       "Brunei                  0.0                 0.0                       0.0   \n",
       "China                   0.0                 0.0                       0.0   \n",
       "Egypt                   0.0                 0.0                       0.0   \n",
       "India                   0.0                 0.0                       0.0   \n",
       "\n",
       "             Beatitudes  Birth of Jesus  Blessed are those Who Hear and Obey  \\\n",
       "Afghanistan         0.0             0.0                                  0.0   \n",
       "Algeria             0.0             0.0                                  0.0   \n",
       "Azerbaijan          0.0             0.0                                  0.0   \n",
       "Bahrain             0.0             0.0                                  0.0   \n",
       "Bangladesh          0.0             0.0                                  0.0   \n",
       "Bhutan              0.0             0.0                                  0.0   \n",
       "Brunei              0.0             0.0                                  0.0   \n",
       "China               0.0             0.0                                  0.0   \n",
       "Egypt               0.0             0.0                                  0.0   \n",
       "India               0.0             0.0                                  0.0   \n",
       "\n",
       "             Breathe  Burial of Jesus  Childhood of Jesus  Chosen Witness  \\\n",
       "Afghanistan      0.0              0.0                 0.0             0.0   \n",
       "Algeria          0.0              0.0                 0.0             0.0   \n",
       "Azerbaijan       0.0              0.0                 0.0             0.0   \n",
       "Bahrain          0.0              0.0                 0.0             0.0   \n",
       "Bangladesh       0.0              0.0                 0.0             0.0   \n",
       "Bhutan           0.0              0.0                 0.0             0.0   \n",
       "Brunei           0.0              0.0                 0.0             0.0   \n",
       "China            0.0              0.0                 0.0             0.0   \n",
       "Egypt            0.0              0.0                 0.0             0.0   \n",
       "India            0.0              0.0                 0.0             0.0   \n",
       "\n",
       "             ...  Division in Corinth  Don&#39;t Hold Your Breath  \\\n",
       "Afghanistan  ...                  0.0                         0.0   \n",
       "Algeria      ...                  0.0                         0.0   \n",
       "Azerbaijan   ...                  0.0                         0.0   \n",
       "Bahrain      ...                  0.0                         0.0   \n",
       "Bangladesh   ...                  0.0                         0.0   \n",
       "Bhutan       ...                  0.0                         0.0   \n",
       "Brunei       ...                  0.0                         0.0   \n",
       "China        ...                  0.0                         0.0   \n",
       "Egypt        ...                  0.0                         0.0   \n",
       "India        ...                  0.0                         0.0   \n",
       "\n",
       "             Doubting Thomas  Dying Roads  \\\n",
       "Afghanistan              0.0          0.0   \n",
       "Algeria                  0.0          0.0   \n",
       "Azerbaijan               0.0          0.0   \n",
       "Bahrain                  0.0          0.0   \n",
       "Bangladesh               0.0          0.0   \n",
       "Bhutan                   0.0          0.0   \n",
       "Brunei                   0.0          0.0   \n",
       "China                    0.0          0.0   \n",
       "Egypt                    0.0          0.0   \n",
       "India                    0.0          0.0   \n",
       "\n",
       "             Eutychus Raised From the Dead at Troas  Falling Away  \\\n",
       "Afghanistan                                     0.0           0.0   \n",
       "Algeria                                         0.0           0.0   \n",
       "Azerbaijan                                      0.0           0.0   \n",
       "Bahrain                                         0.0           0.0   \n",
       "Bangladesh                                      0.0           0.0   \n",
       "Bhutan                                          0.0           0.0   \n",
       "Brunei                                          0.0           0.0   \n",
       "China                                           0.0           0.0   \n",
       "Egypt                                           0.0           0.0   \n",
       "India                                           0.0           0.0   \n",
       "\n",
       "             Feeding 5,000  Fellowship Of Believers  \\\n",
       "Afghanistan            0.0                      0.0   \n",
       "Algeria                0.0                      0.0   \n",
       "Azerbaijan             0.0                      0.0   \n",
       "Bahrain                0.0                      0.0   \n",
       "Bangladesh             0.0                      0.0   \n",
       "Bhutan                 0.0                      0.0   \n",
       "Brunei                 0.0                      0.0   \n",
       "China                  0.0                      0.0   \n",
       "Egypt                  0.0                      0.0   \n",
       "India                  0.0                      0.0   \n",
       "\n",
       "             Festus Consults King Agrippa  Finishing Well  \n",
       "Afghanistan                           0.0             0.0  \n",
       "Algeria                               0.0             0.0  \n",
       "Azerbaijan                            0.0             0.0  \n",
       "Bahrain                               0.0             0.0  \n",
       "Bangladesh                            0.0             0.0  \n",
       "Bhutan                                0.0             0.0  \n",
       "Brunei                                0.0             0.0  \n",
       "China                                 0.0             0.0  \n",
       "Egypt                                 0.0             0.0  \n",
       "India                                 0.0             0.0  \n",
       "\n",
       "[10 rows x 435 columns]"
      ]
     },
     "execution_count": 63,
     "metadata": {},
     "output_type": "execute_result"
    }
   ],
   "source": [
    "reviews"
   ]
  },
  {
   "cell_type": "code",
   "execution_count": 64,
   "id": "refined-bridge",
   "metadata": {},
   "outputs": [
    {
     "data": {
      "text/html": [
       "<div>\n",
       "<style scoped>\n",
       "    .dataframe tbody tr th:only-of-type {\n",
       "        vertical-align: middle;\n",
       "    }\n",
       "\n",
       "    .dataframe tbody tr th {\n",
       "        vertical-align: top;\n",
       "    }\n",
       "\n",
       "    .dataframe thead th {\n",
       "        text-align: right;\n",
       "    }\n",
       "</style>\n",
       "<table border=\"1\" class=\"dataframe\">\n",
       "  <thead>\n",
       "    <tr style=\"text-align: right;\">\n",
       "      <th></th>\n",
       "      <th>geo__country</th>\n",
       "      <th>video_title</th>\n",
       "      <th>score</th>\n",
       "    </tr>\n",
       "  </thead>\n",
       "  <tbody>\n",
       "    <tr>\n",
       "      <th>0</th>\n",
       "      <td>Afghanistan</td>\n",
       "      <td>#FallingPlates</td>\n",
       "      <td>0.01</td>\n",
       "    </tr>\n",
       "    <tr>\n",
       "      <th>1</th>\n",
       "      <td>Afghanistan</td>\n",
       "      <td>#FallingPlates</td>\n",
       "      <td>0.01</td>\n",
       "    </tr>\n",
       "    <tr>\n",
       "      <th>2</th>\n",
       "      <td>Afghanistan</td>\n",
       "      <td>Angels at the Tomb</td>\n",
       "      <td>0.10</td>\n",
       "    </tr>\n",
       "    <tr>\n",
       "      <th>3</th>\n",
       "      <td>Afghanistan</td>\n",
       "      <td>Angels at the Tomb</td>\n",
       "      <td>0.50</td>\n",
       "    </tr>\n",
       "    <tr>\n",
       "      <th>4</th>\n",
       "      <td>Afghanistan</td>\n",
       "      <td>Angels at the Tomb</td>\n",
       "      <td>0.01</td>\n",
       "    </tr>\n",
       "  </tbody>\n",
       "</table>\n",
       "</div>"
      ],
      "text/plain": [
       "  geo__country         video_title  score\n",
       "0  Afghanistan      #FallingPlates   0.01\n",
       "1  Afghanistan      #FallingPlates   0.01\n",
       "2  Afghanistan  Angels at the Tomb   0.10\n",
       "3  Afghanistan  Angels at the Tomb   0.50\n",
       "4  Afghanistan  Angels at the Tomb   0.01"
      ]
     },
     "execution_count": 64,
     "metadata": {},
     "output_type": "execute_result"
    }
   ],
   "source": [
    "df.head()"
   ]
  },
  {
   "cell_type": "markdown",
   "id": "0ad20917",
   "metadata": {},
   "source": [
    "# geo__city runthrough"
   ]
  },
  {
   "cell_type": "code",
   "execution_count": 65,
   "id": "271c5d48",
   "metadata": {},
   "outputs": [],
   "source": [
    "#1. import data\n",
    "#2. convert to score\n",
    "#5. drop event_name\n",
    "#3. merge video titles\n",
    "#4. remove unlabeled city names\n",
    "#5. groupby user, item and sum\n",
    "#6. reset index to create list of reviews\n",
    "\n",
    "#7. create pivot table to visualize sparse matrix df\n",
    "#8. create user, movie encoder/id system\n",
    "#9. encode reviews for scipy.sparse.csr_matrix. index MUST be int not str\n",
    "\n",
    "#10. test, train, split"
   ]
  },
  {
   "cell_type": "code",
   "execution_count": 66,
   "id": "vocational-supervisor",
   "metadata": {},
   "outputs": [],
   "source": [
    "data = pd.read_csv('/Users/djbetts/Desktop/jf_project/data/recommender_top50_geo__city.csv')"
   ]
  },
  {
   "cell_type": "code",
   "execution_count": 67,
   "id": "41cefb93",
   "metadata": {},
   "outputs": [],
   "source": [
    "df = data.copy()"
   ]
  },
  {
   "cell_type": "code",
   "execution_count": 68,
   "id": "230e50e8",
   "metadata": {},
   "outputs": [],
   "source": [
    "df = df[df['geo__city'] != '(not set)']"
   ]
  },
  {
   "cell_type": "code",
   "execution_count": 69,
   "id": "c1516f6e",
   "metadata": {},
   "outputs": [],
   "source": [
    "df = merge_video(df)"
   ]
  },
  {
   "cell_type": "code",
   "execution_count": 70,
   "id": "31c8b1a8",
   "metadata": {},
   "outputs": [],
   "source": [
    "df['score'] = df['event_name'].apply(score)"
   ]
  },
  {
   "cell_type": "code",
   "execution_count": 71,
   "id": "496050c6",
   "metadata": {},
   "outputs": [],
   "source": [
    "df.drop(['event_name'], axis=1, inplace=True)"
   ]
  },
  {
   "cell_type": "code",
   "execution_count": 72,
   "id": "21c45e41",
   "metadata": {},
   "outputs": [],
   "source": [
    "groupby = df.groupby(['geo__city', 'video_title'])"
   ]
  },
  {
   "cell_type": "code",
   "execution_count": 73,
   "id": "75c0dd8c",
   "metadata": {},
   "outputs": [],
   "source": [
    "reviews = groupby.mean()"
   ]
  },
  {
   "cell_type": "code",
   "execution_count": 74,
   "id": "8d969383",
   "metadata": {},
   "outputs": [],
   "source": [
    "reviews.reset_index(inplace=True)"
   ]
  },
  {
   "cell_type": "code",
   "execution_count": 75,
   "id": "0b9e98ac",
   "metadata": {},
   "outputs": [],
   "source": [
    "pivot_table = reviews.pivot_table(values='score', index='geo__city', columns='video_title')"
   ]
  },
  {
   "cell_type": "code",
   "execution_count": 78,
   "id": "8d22380c",
   "metadata": {},
   "outputs": [],
   "source": [
    "cities = pd.Series(pivot_table.index, index=np.arange(1,(len(pivot_table.index)+1)))\n",
    "#cities['id'] = pd.Series(np.arange(1,(len(cities)+1)))"
   ]
  },
  {
   "cell_type": "code",
   "execution_count": 79,
   "id": "baafdf21",
   "metadata": {},
   "outputs": [
    {
     "data": {
      "text/plain": [
       "1                         10th of Ramadan City\n",
       "2                          6th of October City\n",
       "3                                        Adoor\n",
       "4                                     Agartala\n",
       "5                                         Agra\n",
       "                        ...                   \n",
       "375    Xishuangbanna Dai Autonomous Prefecture\n",
       "376                                   Yavatmal\n",
       "377                                    Zagazig\n",
       "378                                  Zhengzhou\n",
       "379                                  Zhongshan\n",
       "Name: geo__city, Length: 379, dtype: object"
      ]
     },
     "execution_count": 79,
     "metadata": {},
     "output_type": "execute_result"
    }
   ],
   "source": [
    "cities"
   ]
  },
  {
   "cell_type": "code",
   "execution_count": 80,
   "id": "f38f5f64",
   "metadata": {},
   "outputs": [],
   "source": [
    "cities_code = {v: k for k, v in cities.items()}"
   ]
  },
  {
   "cell_type": "code",
   "execution_count": 81,
   "id": "5e27e161",
   "metadata": {},
   "outputs": [],
   "source": [
    "reviews['city_id'] = reviews.geo__city.replace(to_replace=cities_code)"
   ]
  },
  {
   "cell_type": "code",
   "execution_count": 82,
   "id": "53e43307",
   "metadata": {},
   "outputs": [],
   "source": [
    "movies = pd.Series(pivot_table.columns, index=np.arange(1,(len(pivot_table.columns)+1)))"
   ]
  },
  {
   "cell_type": "code",
   "execution_count": 83,
   "id": "f7e97bab",
   "metadata": {},
   "outputs": [
    {
     "data": {
      "text/plain": [
       "1                    #FallingPlates\n",
       "2                   #फालिंगप्लेट्स \n",
       "3                            #掉落的盘子\n",
       "4                     1- في العائلة\n",
       "5      1. Jesus, Our Loving Pursuer\n",
       "                   ...             \n",
       "363                          路加福音简介\n",
       "364                     那些使人犯罪的人有祸了\n",
       "365                       钉在十字架上的囚犯\n",
       "366                       非斯都咨询亚基帕王\n",
       "367                          魔鬼引诱耶稣\n",
       "Name: video_title, Length: 367, dtype: object"
      ]
     },
     "execution_count": 83,
     "metadata": {},
     "output_type": "execute_result"
    }
   ],
   "source": [
    "movies"
   ]
  },
  {
   "cell_type": "code",
   "execution_count": 84,
   "id": "9f431521",
   "metadata": {},
   "outputs": [],
   "source": [
    "#movies['id'] = pd.Series(np.arange(1,(len(movies)+1)))"
   ]
  },
  {
   "cell_type": "code",
   "execution_count": 85,
   "id": "91996393",
   "metadata": {},
   "outputs": [],
   "source": [
    "movies_code = {v: k for k, v in movies.items()}"
   ]
  },
  {
   "cell_type": "code",
   "execution_count": 86,
   "id": "b9fc3860",
   "metadata": {},
   "outputs": [],
   "source": [
    "reviews['movie_id'] = reviews.video_title.replace(to_replace=movies_code)"
   ]
  },
  {
   "cell_type": "code",
   "execution_count": 87,
   "id": "d2fc9a7e",
   "metadata": {},
   "outputs": [],
   "source": [
    "reviews = reviews[['city_id', 'movie_id', 'score']]"
   ]
  },
  {
   "cell_type": "code",
   "execution_count": 88,
   "id": "2845839f",
   "metadata": {},
   "outputs": [
    {
     "data": {
      "text/html": [
       "<div>\n",
       "<style scoped>\n",
       "    .dataframe tbody tr th:only-of-type {\n",
       "        vertical-align: middle;\n",
       "    }\n",
       "\n",
       "    .dataframe tbody tr th {\n",
       "        vertical-align: top;\n",
       "    }\n",
       "\n",
       "    .dataframe thead th {\n",
       "        text-align: right;\n",
       "    }\n",
       "</style>\n",
       "<table border=\"1\" class=\"dataframe\">\n",
       "  <thead>\n",
       "    <tr style=\"text-align: right;\">\n",
       "      <th></th>\n",
       "      <th>city_id</th>\n",
       "      <th>movie_id</th>\n",
       "      <th>score</th>\n",
       "    </tr>\n",
       "  </thead>\n",
       "  <tbody>\n",
       "    <tr>\n",
       "      <th>0</th>\n",
       "      <td>1</td>\n",
       "      <td>30</td>\n",
       "      <td>0.360000</td>\n",
       "    </tr>\n",
       "    <tr>\n",
       "      <th>1</th>\n",
       "      <td>1</td>\n",
       "      <td>33</td>\n",
       "      <td>0.360000</td>\n",
       "    </tr>\n",
       "    <tr>\n",
       "      <th>2</th>\n",
       "      <td>1</td>\n",
       "      <td>44</td>\n",
       "      <td>0.360000</td>\n",
       "    </tr>\n",
       "    <tr>\n",
       "      <th>3</th>\n",
       "      <td>1</td>\n",
       "      <td>145</td>\n",
       "      <td>0.360000</td>\n",
       "    </tr>\n",
       "    <tr>\n",
       "      <th>4</th>\n",
       "      <td>1</td>\n",
       "      <td>240</td>\n",
       "      <td>0.173333</td>\n",
       "    </tr>\n",
       "    <tr>\n",
       "      <th>...</th>\n",
       "      <td>...</td>\n",
       "      <td>...</td>\n",
       "      <td>...</td>\n",
       "    </tr>\n",
       "    <tr>\n",
       "      <th>2634</th>\n",
       "      <td>377</td>\n",
       "      <td>198</td>\n",
       "      <td>0.360000</td>\n",
       "    </tr>\n",
       "    <tr>\n",
       "      <th>2635</th>\n",
       "      <td>377</td>\n",
       "      <td>204</td>\n",
       "      <td>0.360000</td>\n",
       "    </tr>\n",
       "    <tr>\n",
       "      <th>2636</th>\n",
       "      <td>377</td>\n",
       "      <td>243</td>\n",
       "      <td>0.360000</td>\n",
       "    </tr>\n",
       "    <tr>\n",
       "      <th>2637</th>\n",
       "      <td>378</td>\n",
       "      <td>12</td>\n",
       "      <td>0.360000</td>\n",
       "    </tr>\n",
       "    <tr>\n",
       "      <th>2638</th>\n",
       "      <td>379</td>\n",
       "      <td>145</td>\n",
       "      <td>0.040000</td>\n",
       "    </tr>\n",
       "  </tbody>\n",
       "</table>\n",
       "<p>2639 rows × 3 columns</p>\n",
       "</div>"
      ],
      "text/plain": [
       "      city_id  movie_id     score\n",
       "0           1        30  0.360000\n",
       "1           1        33  0.360000\n",
       "2           1        44  0.360000\n",
       "3           1       145  0.360000\n",
       "4           1       240  0.173333\n",
       "...       ...       ...       ...\n",
       "2634      377       198  0.360000\n",
       "2635      377       204  0.360000\n",
       "2636      377       243  0.360000\n",
       "2637      378        12  0.360000\n",
       "2638      379       145  0.040000\n",
       "\n",
       "[2639 rows x 3 columns]"
      ]
     },
     "execution_count": 88,
     "metadata": {},
     "output_type": "execute_result"
    }
   ],
   "source": [
    "reviews"
   ]
  },
  {
   "cell_type": "code",
   "execution_count": 89,
   "id": "f91b64d7",
   "metadata": {},
   "outputs": [],
   "source": [
    "train, test = train_test_split(reviews, random_state = 100)"
   ]
  },
  {
   "cell_type": "code",
   "execution_count": 90,
   "id": "2dd602b4",
   "metadata": {},
   "outputs": [
    {
     "data": {
      "text/plain": [
       "26"
      ]
     },
     "execution_count": 90,
     "metadata": {},
     "output_type": "execute_result"
    }
   ],
   "source": [
    "# Number of users that are in train and not test\n",
    "len(np.setdiff1d(test.city_id.unique(), train.city_id.unique()))"
   ]
  },
  {
   "cell_type": "code",
   "execution_count": 91,
   "id": "f6e81194",
   "metadata": {},
   "outputs": [
    {
     "data": {
      "text/plain": [
       "39"
      ]
     },
     "execution_count": 91,
     "metadata": {},
     "output_type": "execute_result"
    }
   ],
   "source": [
    "# Number of movies in train and not test\n",
    "len(np.setdiff1d(test.movie_id.unique(), train.movie_id.unique()))"
   ]
  },
  {
   "cell_type": "code",
   "execution_count": 92,
   "id": "c6776451",
   "metadata": {},
   "outputs": [],
   "source": [
    "average_rating = reviews.groupby('movie_id').mean()['score']"
   ]
  },
  {
   "cell_type": "code",
   "execution_count": 93,
   "id": "8c906866",
   "metadata": {},
   "outputs": [
    {
     "data": {
      "text/plain": [
       "movie_id\n",
       "217         Rivka Believes\n",
       "313                  奮鬥與成就\n",
       "317               彼得向围观者发言\n",
       "318                  得救的确据\n",
       "244    The Four Principles\n",
       "              ...         \n",
       "275        Women Disciples\n",
       "289                     介绍\n",
       "353                 耶路撒冷会议\n",
       "303                十字架上的标志\n",
       "117           Falling Away\n",
       "Name: video_title, Length: 367, dtype: object"
      ]
     },
     "execution_count": 93,
     "metadata": {},
     "output_type": "execute_result"
    }
   ],
   "source": [
    "movies.loc[average_rating.sort_values().index]"
   ]
  },
  {
   "cell_type": "code",
   "execution_count": 94,
   "id": "928d7c28",
   "metadata": {},
   "outputs": [],
   "source": [
    "ratings_as_mat = csr_matrix((train.score, \n",
    "        ((train.city_id), (train.movie_id))))"
   ]
  },
  {
   "cell_type": "code",
   "execution_count": 95,
   "id": "c0808a60",
   "metadata": {},
   "outputs": [
    {
     "data": {
      "text/plain": [
       "(380, 368)"
      ]
     },
     "execution_count": 95,
     "metadata": {},
     "output_type": "execute_result"
    }
   ],
   "source": [
    "ratings_as_mat.shape"
   ]
  },
  {
   "cell_type": "code",
   "execution_count": 96,
   "id": "262011f3",
   "metadata": {},
   "outputs": [],
   "source": [
    "rec = ItemItemRecommender(neighborhood_size=75)\n",
    "rec.fit(ratings_as_mat)"
   ]
  },
  {
   "cell_type": "code",
   "execution_count": 97,
   "id": "5b1b7844",
   "metadata": {},
   "outputs": [
    {
     "name": "stderr",
     "output_type": "stream",
     "text": [
      "/Users/djbetts/Desktop/jf_project/src/ItemItemRecommender.py:43: RuntimeWarning: invalid value encountered in true_divide\n",
      "  self.item_sim_mat[item_to_rate, relevant_items].sum()\n"
     ]
    },
    {
     "data": {
      "text/plain": [
       "31                              Beatitudes\n",
       "47                      Cleaning the Lamps\n",
       "125                               Fracture\n",
       "42                                Cabernet\n",
       "119                Fellowship Of Believers\n",
       "36                        Blind Man Healed\n",
       "56           Darkness and Jesus&#39; Death\n",
       "352                                     耶穌\n",
       "35     Blessed are those Who Hear and Obey\n",
       "28                  Assurance Of Salvation\n",
       "Name: video_title, dtype: object"
      ]
     },
     "execution_count": 97,
     "metadata": {},
     "output_type": "execute_result"
    }
   ],
   "source": [
    "movies.loc[rec.top_n_recs(user_id=1, n=10)]"
   ]
  },
  {
   "cell_type": "code",
   "execution_count": 98,
   "id": "af2b702f",
   "metadata": {},
   "outputs": [
    {
     "data": {
      "text/plain": [
       "1                         10th of Ramadan City\n",
       "2                          6th of October City\n",
       "3                                        Adoor\n",
       "4                                     Agartala\n",
       "5                                         Agra\n",
       "                        ...                   \n",
       "375    Xishuangbanna Dai Autonomous Prefecture\n",
       "376                                   Yavatmal\n",
       "377                                    Zagazig\n",
       "378                                  Zhengzhou\n",
       "379                                  Zhongshan\n",
       "Name: geo__city, Length: 379, dtype: object"
      ]
     },
     "execution_count": 98,
     "metadata": {},
     "output_type": "execute_result"
    }
   ],
   "source": [
    "cities"
   ]
  },
  {
   "cell_type": "markdown",
   "id": "74805ce2",
   "metadata": {},
   "source": [
    "# Finally testing!"
   ]
  },
  {
   "cell_type": "code",
   "execution_count": 99,
   "id": "fc73c801",
   "metadata": {},
   "outputs": [
    {
     "data": {
      "text/html": [
       "<div>\n",
       "<style scoped>\n",
       "    .dataframe tbody tr th:only-of-type {\n",
       "        vertical-align: middle;\n",
       "    }\n",
       "\n",
       "    .dataframe tbody tr th {\n",
       "        vertical-align: top;\n",
       "    }\n",
       "\n",
       "    .dataframe thead th {\n",
       "        text-align: right;\n",
       "    }\n",
       "</style>\n",
       "<table border=\"1\" class=\"dataframe\">\n",
       "  <thead>\n",
       "    <tr style=\"text-align: right;\">\n",
       "      <th></th>\n",
       "      <th>movie_id</th>\n",
       "      <th>score</th>\n",
       "    </tr>\n",
       "    <tr>\n",
       "      <th>city_id</th>\n",
       "      <th></th>\n",
       "      <th></th>\n",
       "    </tr>\n",
       "  </thead>\n",
       "  <tbody>\n",
       "    <tr>\n",
       "      <th>1</th>\n",
       "      <td>1</td>\n",
       "      <td>1</td>\n",
       "    </tr>\n",
       "    <tr>\n",
       "      <th>2</th>\n",
       "      <td>3</td>\n",
       "      <td>3</td>\n",
       "    </tr>\n",
       "    <tr>\n",
       "      <th>3</th>\n",
       "      <td>1</td>\n",
       "      <td>1</td>\n",
       "    </tr>\n",
       "    <tr>\n",
       "      <th>5</th>\n",
       "      <td>4</td>\n",
       "      <td>4</td>\n",
       "    </tr>\n",
       "    <tr>\n",
       "      <th>6</th>\n",
       "      <td>4</td>\n",
       "      <td>4</td>\n",
       "    </tr>\n",
       "    <tr>\n",
       "      <th>9</th>\n",
       "      <td>1</td>\n",
       "      <td>1</td>\n",
       "    </tr>\n",
       "    <tr>\n",
       "      <th>10</th>\n",
       "      <td>15</td>\n",
       "      <td>15</td>\n",
       "    </tr>\n",
       "    <tr>\n",
       "      <th>11</th>\n",
       "      <td>2</td>\n",
       "      <td>2</td>\n",
       "    </tr>\n",
       "    <tr>\n",
       "      <th>13</th>\n",
       "      <td>1</td>\n",
       "      <td>1</td>\n",
       "    </tr>\n",
       "    <tr>\n",
       "      <th>14</th>\n",
       "      <td>1</td>\n",
       "      <td>1</td>\n",
       "    </tr>\n",
       "    <tr>\n",
       "      <th>17</th>\n",
       "      <td>2</td>\n",
       "      <td>2</td>\n",
       "    </tr>\n",
       "    <tr>\n",
       "      <th>20</th>\n",
       "      <td>1</td>\n",
       "      <td>1</td>\n",
       "    </tr>\n",
       "    <tr>\n",
       "      <th>21</th>\n",
       "      <td>3</td>\n",
       "      <td>3</td>\n",
       "    </tr>\n",
       "    <tr>\n",
       "      <th>23</th>\n",
       "      <td>2</td>\n",
       "      <td>2</td>\n",
       "    </tr>\n",
       "    <tr>\n",
       "      <th>24</th>\n",
       "      <td>6</td>\n",
       "      <td>6</td>\n",
       "    </tr>\n",
       "  </tbody>\n",
       "</table>\n",
       "</div>"
      ],
      "text/plain": [
       "         movie_id  score\n",
       "city_id                 \n",
       "1               1      1\n",
       "2               3      3\n",
       "3               1      1\n",
       "5               4      4\n",
       "6               4      4\n",
       "9               1      1\n",
       "10             15     15\n",
       "11              2      2\n",
       "13              1      1\n",
       "14              1      1\n",
       "17              2      2\n",
       "20              1      1\n",
       "21              3      3\n",
       "23              2      2\n",
       "24              6      6"
      ]
     },
     "execution_count": 99,
     "metadata": {},
     "output_type": "execute_result"
    }
   ],
   "source": [
    "test.groupby('city_id').count().head(15)"
   ]
  },
  {
   "cell_type": "code",
   "execution_count": 100,
   "id": "732f7d61",
   "metadata": {},
   "outputs": [
    {
     "data": {
      "text/plain": [
       "'Alexandria'"
      ]
     },
     "execution_count": 100,
     "metadata": {},
     "output_type": "execute_result"
    }
   ],
   "source": [
    "cities.loc[10]"
   ]
  },
  {
   "cell_type": "code",
   "execution_count": 101,
   "id": "dc198720",
   "metadata": {},
   "outputs": [],
   "source": [
    "city_ten = test[test.city_id == 10]"
   ]
  },
  {
   "cell_type": "code",
   "execution_count": 102,
   "id": "0b0aa444",
   "metadata": {},
   "outputs": [
    {
     "name": "stderr",
     "output_type": "stream",
     "text": [
      "/Users/djbetts/Desktop/jf_project/src/ItemItemRecommender.py:43: RuntimeWarning: invalid value encountered in true_divide\n",
      "  self.item_sim_mat[item_to_rate, relevant_items].sum()\n"
     ]
    }
   ],
   "source": [
    "predictions = rec.pred_one_user(user_id=10)"
   ]
  },
  {
   "cell_type": "code",
   "execution_count": 103,
   "id": "ed72ad68",
   "metadata": {},
   "outputs": [
    {
     "name": "stderr",
     "output_type": "stream",
     "text": [
      "/Users/djbetts/opt/anaconda3/lib/python3.7/site-packages/ipykernel_launcher.py:1: SettingWithCopyWarning: \n",
      "A value is trying to be set on a copy of a slice from a DataFrame.\n",
      "Try using .loc[row_indexer,col_indexer] = value instead\n",
      "\n",
      "See the caveats in the documentation: https://pandas.pydata.org/pandas-docs/stable/user_guide/indexing.html#returning-a-view-versus-a-copy\n",
      "  \"\"\"Entry point for launching an IPython kernel.\n"
     ]
    },
    {
     "data": {
      "text/html": [
       "<div>\n",
       "<style scoped>\n",
       "    .dataframe tbody tr th:only-of-type {\n",
       "        vertical-align: middle;\n",
       "    }\n",
       "\n",
       "    .dataframe tbody tr th {\n",
       "        vertical-align: top;\n",
       "    }\n",
       "\n",
       "    .dataframe thead th {\n",
       "        text-align: right;\n",
       "    }\n",
       "</style>\n",
       "<table border=\"1\" class=\"dataframe\">\n",
       "  <thead>\n",
       "    <tr style=\"text-align: right;\">\n",
       "      <th></th>\n",
       "      <th>city_id</th>\n",
       "      <th>movie_id</th>\n",
       "      <th>score</th>\n",
       "      <th>prediction</th>\n",
       "    </tr>\n",
       "  </thead>\n",
       "  <tbody>\n",
       "    <tr>\n",
       "      <th>117</th>\n",
       "      <td>10</td>\n",
       "      <td>275</td>\n",
       "      <td>0.3600</td>\n",
       "      <td>0.217825</td>\n",
       "    </tr>\n",
       "    <tr>\n",
       "      <th>63</th>\n",
       "      <td>10</td>\n",
       "      <td>45</td>\n",
       "      <td>0.3600</td>\n",
       "      <td>0.215773</td>\n",
       "    </tr>\n",
       "    <tr>\n",
       "      <th>65</th>\n",
       "      <td>10</td>\n",
       "      <td>79</td>\n",
       "      <td>0.0100</td>\n",
       "      <td>0.330851</td>\n",
       "    </tr>\n",
       "    <tr>\n",
       "      <th>71</th>\n",
       "      <td>10</td>\n",
       "      <td>97</td>\n",
       "      <td>0.0100</td>\n",
       "      <td>0.327574</td>\n",
       "    </tr>\n",
       "    <tr>\n",
       "      <th>115</th>\n",
       "      <td>10</td>\n",
       "      <td>262</td>\n",
       "      <td>0.0100</td>\n",
       "      <td>0.236011</td>\n",
       "    </tr>\n",
       "    <tr>\n",
       "      <th>85</th>\n",
       "      <td>10</td>\n",
       "      <td>145</td>\n",
       "      <td>0.3600</td>\n",
       "      <td>0.242863</td>\n",
       "    </tr>\n",
       "    <tr>\n",
       "      <th>116</th>\n",
       "      <td>10</td>\n",
       "      <td>272</td>\n",
       "      <td>0.1740</td>\n",
       "      <td>0.209180</td>\n",
       "    </tr>\n",
       "    <tr>\n",
       "      <th>107</th>\n",
       "      <td>10</td>\n",
       "      <td>217</td>\n",
       "      <td>0.0100</td>\n",
       "      <td>0.000000</td>\n",
       "    </tr>\n",
       "    <tr>\n",
       "      <th>75</th>\n",
       "      <td>10</td>\n",
       "      <td>107</td>\n",
       "      <td>0.3600</td>\n",
       "      <td>0.360000</td>\n",
       "    </tr>\n",
       "    <tr>\n",
       "      <th>57</th>\n",
       "      <td>10</td>\n",
       "      <td>16</td>\n",
       "      <td>0.0100</td>\n",
       "      <td>0.212327</td>\n",
       "    </tr>\n",
       "    <tr>\n",
       "      <th>114</th>\n",
       "      <td>10</td>\n",
       "      <td>251</td>\n",
       "      <td>0.0925</td>\n",
       "      <td>0.262528</td>\n",
       "    </tr>\n",
       "    <tr>\n",
       "      <th>91</th>\n",
       "      <td>10</td>\n",
       "      <td>173</td>\n",
       "      <td>0.0925</td>\n",
       "      <td>0.000000</td>\n",
       "    </tr>\n",
       "    <tr>\n",
       "      <th>95</th>\n",
       "      <td>10</td>\n",
       "      <td>188</td>\n",
       "      <td>0.0400</td>\n",
       "      <td>0.189669</td>\n",
       "    </tr>\n",
       "    <tr>\n",
       "      <th>103</th>\n",
       "      <td>10</td>\n",
       "      <td>204</td>\n",
       "      <td>0.3600</td>\n",
       "      <td>0.233440</td>\n",
       "    </tr>\n",
       "    <tr>\n",
       "      <th>55</th>\n",
       "      <td>10</td>\n",
       "      <td>1</td>\n",
       "      <td>0.0100</td>\n",
       "      <td>0.282170</td>\n",
       "    </tr>\n",
       "  </tbody>\n",
       "</table>\n",
       "</div>"
      ],
      "text/plain": [
       "     city_id  movie_id   score  prediction\n",
       "117       10       275  0.3600    0.217825\n",
       "63        10        45  0.3600    0.215773\n",
       "65        10        79  0.0100    0.330851\n",
       "71        10        97  0.0100    0.327574\n",
       "115       10       262  0.0100    0.236011\n",
       "85        10       145  0.3600    0.242863\n",
       "116       10       272  0.1740    0.209180\n",
       "107       10       217  0.0100    0.000000\n",
       "75        10       107  0.3600    0.360000\n",
       "57        10        16  0.0100    0.212327\n",
       "114       10       251  0.0925    0.262528\n",
       "91        10       173  0.0925    0.000000\n",
       "95        10       188  0.0400    0.189669\n",
       "103       10       204  0.3600    0.233440\n",
       "55        10         1  0.0100    0.282170"
      ]
     },
     "execution_count": 103,
     "metadata": {},
     "output_type": "execute_result"
    }
   ],
   "source": [
    "city_ten['prediction'] = predictions[test[test.city_id == 10].movie_id.values]\n",
    "city_ten"
   ]
  },
  {
   "cell_type": "code",
   "execution_count": 109,
   "id": "c63b77a2",
   "metadata": {},
   "outputs": [
    {
     "data": {
      "text/plain": [
       "'Jätku Leiba'"
      ]
     },
     "execution_count": 109,
     "metadata": {},
     "output_type": "execute_result"
    }
   ],
   "source": [
    "movies.loc[173]"
   ]
  },
  {
   "cell_type": "code",
   "execution_count": 105,
   "id": "da508d33",
   "metadata": {},
   "outputs": [
    {
     "data": {
      "image/png": "[encoded data removed]",
      "text/plain": [
       "<Figure size 432x288 with 1 Axes>"
      ]
     },
     "metadata": {
      "needs_background": "light"
     },
     "output_type": "display_data"
    }
   ],
   "source": [
    "city_ten.score.hist();"
   ]
  },
  {
   "cell_type": "code",
   "execution_count": 106,
   "id": "7b48a2f9",
   "metadata": {},
   "outputs": [
    {
     "data": {
      "image/png": "[encoded data removed]",
      "text/plain": [
       "<Figure size 432x288 with 1 Axes>"
      ]
     },
     "metadata": {
      "needs_background": "light"
     },
     "output_type": "display_data"
    }
   ],
   "source": [
    "city_ten.prediction.hist();"
   ]
  },
  {
   "cell_type": "code",
   "execution_count": 107,
   "id": "253724c0",
   "metadata": {},
   "outputs": [
    {
     "data": {
      "text/plain": [
       "0.18291163085994452"
      ]
     },
     "execution_count": 107,
     "metadata": {},
     "output_type": "execute_result"
    }
   ],
   "source": [
    "#import necessary libraries\n",
    "from sklearn.metrics import mean_squared_error\n",
    "from math import sqrt\n",
    "\n",
    "#calculate RMSE\n",
    "sqrt(mean_squared_error(city_ten.score, city_ten.prediction))"
   ]
  },
  {
   "cell_type": "code",
   "execution_count": 108,
   "id": "a2db201d",
   "metadata": {},
   "outputs": [
    {
     "name": "stderr",
     "output_type": "stream",
     "text": [
      "/Users/djbetts/Desktop/jf_project/src/ItemItemRecommender.py:43: RuntimeWarning: invalid value encountered in true_divide\n",
      "  self.item_sim_mat[item_to_rate, relevant_items].sum()\n"
     ]
    },
    {
     "data": {
      "text/plain": [
       "107                          Episode 5\n",
       "2                      #फालिंगप्लेट्स \n",
       "69           Day 4: Devil Tempts Jesus\n",
       "58                   Day 1: Beginnings\n",
       "65             Day 2: Miraculous Birth\n",
       "15     6. Jesus, Our Complete Restorer\n",
       "63             Day 29: Triumphal Entry\n",
       "52                            Creation\n",
       "90                     Doubting Thomas\n",
       "10      3. Jesus, Our Power for Living\n",
       "Name: video_title, dtype: object"
      ]
     },
     "execution_count": 108,
     "metadata": {},
     "output_type": "execute_result"
    }
   ],
   "source": [
    "movies.loc[rec.top_n_recs(user_id=10, n=10)]"
   ]
  },
  {
   "cell_type": "code",
   "execution_count": null,
   "id": "f524a529",
   "metadata": {},
   "outputs": [],
   "source": []
  },
  {
   "cell_type": "code",
   "execution_count": null,
   "id": "febd74e5",
   "metadata": {},
   "outputs": [],
   "source": []
  }
 ],
 "metadata": {
  "kernelspec": {
   "display_name": "Python 3",
   "language": "python",
   "name": "python3"
  },
  "language_info": {
   "codemirror_mode": {
    "name": "ipython",
    "version": 3
   },
   "file_extension": ".py",
   "mimetype": "text/x-python",
   "name": "python",
   "nbconvert_exporter": "python",
   "pygments_lexer": "ipython3",
   "version": "3.7.10"
  }
 },
 "nbformat": 4,
 "nbformat_minor": 5
}
