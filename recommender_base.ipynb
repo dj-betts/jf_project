{
 "cells": [
  {
   "cell_type": "code",
   "execution_count": 76,
   "id": "incomplete-separate",
   "metadata": {},
   "outputs": [],
   "source": [
    "import pandas as pd\n",
    "import numpy as np"
   ]
  },
  {
   "cell_type": "code",
   "execution_count": 77,
   "id": "prescribed-generic",
   "metadata": {},
   "outputs": [],
   "source": [
    "import matplotlib.pyplot as plt"
   ]
  },
  {
   "cell_type": "code",
   "execution_count": 78,
   "id": "emerging-estonia",
   "metadata": {},
   "outputs": [],
   "source": [
    "from datetime import datetime"
   ]
  },
  {
   "cell_type": "code",
   "execution_count": 79,
   "id": "satellite-spouse",
   "metadata": {},
   "outputs": [],
   "source": [
    "data = pd.read_csv('/Users/djbetts/Desktop/jf_project/data/recommender_base.csv')"
   ]
  },
  {
   "cell_type": "code",
   "execution_count": 80,
   "id": "preliminary-tract",
   "metadata": {},
   "outputs": [],
   "source": [
    "df = data.copy()"
   ]
  },
  {
   "cell_type": "code",
   "execution_count": 81,
   "id": "sensitive-sharing",
   "metadata": {},
   "outputs": [
    {
     "data": {
      "text/plain": [
       "Index(['geo__country', 'event_params__video_title', 'event_params__videotitle',\n",
       "       'event_name', 'times_completed'],\n",
       "      dtype='object')"
      ]
     },
     "execution_count": 81,
     "metadata": {},
     "output_type": "execute_result"
    }
   ],
   "source": [
    "df.columns"
   ]
  },
  {
   "cell_type": "code",
   "execution_count": 82,
   "id": "comparable-domestic",
   "metadata": {},
   "outputs": [],
   "source": [
    "df['video_title'] = df['event_params__videotitle'].fillna(df['event_params__video_title'])"
   ]
  },
  {
   "cell_type": "code",
   "execution_count": 83,
   "id": "complete-mambo",
   "metadata": {},
   "outputs": [],
   "source": [
    "df.drop(['event_params__videotitle','event_params__video_title'], axis=1, inplace=True)"
   ]
  },
  {
   "cell_type": "code",
   "execution_count": 84,
   "id": "alpine-joshua",
   "metadata": {},
   "outputs": [
    {
     "data": {
      "text/plain": [
       "Canada                      2825\n",
       "Australia                   1993\n",
       "Colombia                    1415\n",
       "Brazil                      1211\n",
       "China                        852\n",
       "Bangladesh                   688\n",
       "Argentina                    553\n",
       "Cameroon                     462\n",
       "Belgium                      440\n",
       "Congo - Kinshasa             423\n",
       "Chile                        393\n",
       "Armenia                      349\n",
       "Cambodia                     303\n",
       "Bolivia                      293\n",
       "Benin                        273\n",
       "Burkina Faso                 227\n",
       "Belarus                      208\n",
       "Afghanistan                  191\n",
       "Bahrain                      189\n",
       "Bahamas                      188\n",
       "Botswana                     155\n",
       "Azerbaijan                   141\n",
       "Austria                      131\n",
       "Barbados                     118\n",
       "Chad                         115\n",
       "Bulgaria                     108\n",
       "Belize                        96\n",
       "Angola                        91\n",
       "Bhutan                        68\n",
       "Burundi                       67\n",
       "Bosnia & Herzegovina          63\n",
       "Algeria                       58\n",
       "Albania                       51\n",
       "Caribbean Netherlands         44\n",
       "Central African Republic      43\n",
       "Congo - Brazzaville           34\n",
       "Cayman Islands                32\n",
       "Cape Verde                    29\n",
       "Brunei                        25\n",
       "Aruba                         17\n",
       "Comoros                       15\n",
       "Antigua & Barbuda             12\n",
       "British Virgin Islands         8\n",
       "American Samoa                 3\n",
       "Name: geo__country, dtype: int64"
      ]
     },
     "execution_count": 84,
     "metadata": {},
     "output_type": "execute_result"
    }
   ],
   "source": [
    "(df.geo__country.value_counts())"
   ]
  },
  {
   "cell_type": "code",
   "execution_count": 73,
   "id": "pursuant-shoot",
   "metadata": {},
   "outputs": [
    {
     "data": {
      "text/plain": [
       "videoplay             2824\n",
       "videostarts           2768\n",
       "a_media_progress10    2232\n",
       "a_media_progress25    2072\n",
       "a_media_progress50    1858\n",
       "a_media_progress75    1674\n",
       "a_media_progress90    1572\n",
       "Name: event_name, dtype: int64"
      ]
     },
     "execution_count": 73,
     "metadata": {},
     "output_type": "execute_result"
    }
   ],
   "source": [
    "df.event_name.value_counts()"
   ]
  },
  {
   "cell_type": "code",
   "execution_count": 74,
   "id": "armed-pound",
   "metadata": {},
   "outputs": [
    {
     "data": {
      "text/plain": [
       "JESUS                                                   1234\n",
       "#FallingPlates                                           447\n",
       "Jesus is Crucified                                       405\n",
       "The Beginning                                            353\n",
       "The Story of Jesus for Children                          324\n",
       "                                                        ... \n",
       "Prier cest Parler Avec Dieu                                1\n",
       "البحث                                                      1\n",
       "Magdalena - Director's Cut                                 1\n",
       "Magdalena Explains Jesus&#39; Death and Resurrection       1\n",
       "Explanation of Miraculous Birth                            1\n",
       "Name: video_title, Length: 456, dtype: int64"
      ]
     },
     "execution_count": 74,
     "metadata": {},
     "output_type": "execute_result"
    }
   ],
   "source": [
    "df.video_title.value_counts()"
   ]
  },
  {
   "cell_type": "code",
   "execution_count": 53,
   "id": "broken-chemistry",
   "metadata": {},
   "outputs": [],
   "source": [
    "df_90 = df[df['event_name'] == 'a_media_progress90']"
   ]
  },
  {
   "cell_type": "code",
   "execution_count": 54,
   "id": "unusual-recommendation",
   "metadata": {},
   "outputs": [
    {
     "data": {
      "text/plain": [
       "JESUS                                           110\n",
       "#FallingPlates                                   50\n",
       "Jesus is Crucified                               49\n",
       "Baptism of Jesus by John                         44\n",
       "The Beginning                                    42\n",
       "                                               ... \n",
       "Paul Transferred to Caesarea                      1\n",
       "7. Jésus, Notre Eau Vive                          1\n",
       "Day 38: He is Risen!                              1\n",
       "Episode 2: I AM the Bread of Life - Part One      1\n",
       "Jangled                                           1\n",
       "Name: video_title, Length: 346, dtype: int64"
      ]
     },
     "execution_count": 54,
     "metadata": {},
     "output_type": "execute_result"
    }
   ],
   "source": [
    "df_90.video_title.value_counts()"
   ]
  },
  {
   "cell_type": "code",
   "execution_count": 55,
   "id": "korean-nirvana",
   "metadata": {},
   "outputs": [
    {
     "data": {
      "text/plain": [
       "Sydney                181\n",
       "Melbourne              90\n",
       "Perth                  90\n",
       "(not set)              90\n",
       "Brisbane               69\n",
       "                     ... \n",
       "Olivos                  1\n",
       "Thimphu                 1\n",
       "Balneario Camboriu      1\n",
       "Saalfelden              1\n",
       "Waregem                 1\n",
       "Name: geo__city, Length: 252, dtype: int64"
      ]
     },
     "execution_count": 55,
     "metadata": {},
     "output_type": "execute_result"
    }
   ],
   "source": [
    "df_90.geo__city.value_counts()"
   ]
  },
  {
   "cell_type": "code",
   "execution_count": null,
   "id": "bacterial-promise",
   "metadata": {},
   "outputs": [],
   "source": []
  },
  {
   "cell_type": "code",
   "execution_count": null,
   "id": "handmade-acceptance",
   "metadata": {},
   "outputs": [],
   "source": []
  },
  {
   "cell_type": "code",
   "execution_count": null,
   "id": "considerable-expense",
   "metadata": {},
   "outputs": [],
   "source": []
  },
  {
   "cell_type": "code",
   "execution_count": 43,
   "id": "linear-extreme",
   "metadata": {},
   "outputs": [],
   "source": [
    "from scipy import spatial"
   ]
  },
  {
   "cell_type": "code",
   "execution_count": 44,
   "id": "coated-extraction",
   "metadata": {},
   "outputs": [],
   "source": [
    "# from surprise import KNNWithMeans\n",
    "# from surprise import Dataset\n",
    "# from surprise.model_selection import GridSearchCV\n",
    "\n",
    "# data = Dataset.load_builtin(\"ml-100k\")\n",
    "# sim_options = {\n",
    "#     \"name\": [\"msd\", \"cosine\"],\n",
    "#     \"min_support\": [3, 4, 5],\n",
    "#     \"user_based\": [False, True],\n",
    "# }\n",
    "\n",
    "# param_grid = {\"sim_options\": sim_options}\n",
    "\n",
    "# gs = GridSearchCV(KNNWithMeans, param_grid, measures=[\"rmse\", \"mae\"], cv=3)\n",
    "# gs.fit(data)\n",
    "\n",
    "# print(gs.best_score[\"rmse\"])\n",
    "# print(gs.best_params[\"rmse\"])"
   ]
  },
  {
   "cell_type": "code",
   "execution_count": 45,
   "id": "matched-access",
   "metadata": {},
   "outputs": [],
   "source": [
    "# distortions = []\n",
    "# K = range(1,7)\n",
    "# for k in K:\n",
    "#     kmeansModel = KMeans(n_clusters=k)\n",
    "#     kmeansModel = kmeansModel.fit(coords)\n",
    "#     distortions.append(kmeansModel.inertia_)"
   ]
  },
  {
   "cell_type": "code",
   "execution_count": 46,
   "id": "pursuant-riding",
   "metadata": {},
   "outputs": [],
   "source": [
    "# fig, ax = plt.subplots(figsize=(12,8))\n",
    "# plt.plot(K, distortions, marker='o')\n",
    "# plt.xlabel('k')\n",
    "# plt.ylabel('Distortions')\n",
    "# plt.title(\"Elbow Method For Optimal k\")\n",
    "# plt.show()"
   ]
  },
  {
   "cell_type": "code",
   "execution_count": null,
   "id": "resident-contact",
   "metadata": {},
   "outputs": [],
   "source": []
  },
  {
   "cell_type": "code",
   "execution_count": null,
   "id": "considered-blend",
   "metadata": {},
   "outputs": [],
   "source": []
  },
  {
   "cell_type": "code",
   "execution_count": null,
   "id": "acute-brooklyn",
   "metadata": {},
   "outputs": [],
   "source": []
  },
  {
   "cell_type": "code",
   "execution_count": null,
   "id": "defined-optimization",
   "metadata": {},
   "outputs": [],
   "source": []
  },
  {
   "cell_type": "code",
   "execution_count": null,
   "id": "hundred-karen",
   "metadata": {},
   "outputs": [],
   "source": []
  },
  {
   "cell_type": "code",
   "execution_count": null,
   "id": "refined-bridge",
   "metadata": {},
   "outputs": [],
   "source": []
  },
  {
   "cell_type": "code",
   "execution_count": null,
   "id": "coupled-bibliography",
   "metadata": {},
   "outputs": [],
   "source": []
  },
  {
   "cell_type": "code",
   "execution_count": null,
   "id": "vocational-supervisor",
   "metadata": {},
   "outputs": [],
   "source": []
  },
  {
   "cell_type": "code",
   "execution_count": null,
   "id": "functioning-runner",
   "metadata": {},
   "outputs": [],
   "source": []
  },
  {
   "cell_type": "code",
   "execution_count": null,
   "id": "spectacular-knitting",
   "metadata": {},
   "outputs": [],
   "source": []
  },
  {
   "cell_type": "code",
   "execution_count": null,
   "id": "resident-relation",
   "metadata": {},
   "outputs": [],
   "source": []
  },
  {
   "cell_type": "code",
   "execution_count": null,
   "id": "smaller-pressure",
   "metadata": {},
   "outputs": [],
   "source": []
  }
 ],
 "metadata": {
  "kernelspec": {
   "display_name": "Python 3",
   "language": "python",
   "name": "python3"
  },
  "language_info": {
   "codemirror_mode": {
    "name": "ipython",
    "version": 3
   },
   "file_extension": ".py",
   "mimetype": "text/x-python",
   "name": "python",
   "nbconvert_exporter": "python",
   "pygments_lexer": "ipython3",
   "version": "3.7.10"
  }
 },
 "nbformat": 4,
 "nbformat_minor": 5
}
