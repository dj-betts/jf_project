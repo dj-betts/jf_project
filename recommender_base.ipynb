{
 "cells": [
  {
   "cell_type": "code",
   "execution_count": 4,
   "id": "incomplete-separate",
   "metadata": {},
   "outputs": [],
   "source": [
    "import pandas as pd\n",
    "import numpy as np"
   ]
  },
  {
   "cell_type": "code",
   "execution_count": 5,
   "id": "prescribed-generic",
   "metadata": {},
   "outputs": [
    {
     "name": "stderr",
     "output_type": "stream",
     "text": [
      "In /Users/djbetts/opt/anaconda3/lib/python3.7/site-packages/matplotlib/mpl-data/stylelib/_classic_test.mplstyle: \n",
      "The text.latex.preview rcparam was deprecated in Matplotlib 3.3 and will be removed two minor releases later.\n",
      "In /Users/djbetts/opt/anaconda3/lib/python3.7/site-packages/matplotlib/mpl-data/stylelib/_classic_test.mplstyle: \n",
      "The mathtext.fallback_to_cm rcparam was deprecated in Matplotlib 3.3 and will be removed two minor releases later.\n",
      "In /Users/djbetts/opt/anaconda3/lib/python3.7/site-packages/matplotlib/mpl-data/stylelib/_classic_test.mplstyle: Support for setting the 'mathtext.fallback_to_cm' rcParam is deprecated since 3.3 and will be removed two minor releases later; use 'mathtext.fallback : 'cm' instead.\n",
      "In /Users/djbetts/opt/anaconda3/lib/python3.7/site-packages/matplotlib/mpl-data/stylelib/_classic_test.mplstyle: \n",
      "The validate_bool_maybe_none function was deprecated in Matplotlib 3.3 and will be removed two minor releases later.\n",
      "In /Users/djbetts/opt/anaconda3/lib/python3.7/site-packages/matplotlib/mpl-data/stylelib/_classic_test.mplstyle: \n",
      "The savefig.jpeg_quality rcparam was deprecated in Matplotlib 3.3 and will be removed two minor releases later.\n",
      "In /Users/djbetts/opt/anaconda3/lib/python3.7/site-packages/matplotlib/mpl-data/stylelib/_classic_test.mplstyle: \n",
      "The keymap.all_axes rcparam was deprecated in Matplotlib 3.3 and will be removed two minor releases later.\n",
      "In /Users/djbetts/opt/anaconda3/lib/python3.7/site-packages/matplotlib/mpl-data/stylelib/_classic_test.mplstyle: \n",
      "The animation.avconv_path rcparam was deprecated in Matplotlib 3.3 and will be removed two minor releases later.\n",
      "In /Users/djbetts/opt/anaconda3/lib/python3.7/site-packages/matplotlib/mpl-data/stylelib/_classic_test.mplstyle: \n",
      "The animation.avconv_args rcparam was deprecated in Matplotlib 3.3 and will be removed two minor releases later.\n"
     ]
    }
   ],
   "source": [
    "import matplotlib.pyplot as plt;"
   ]
  },
  {
   "cell_type": "code",
   "execution_count": 6,
   "id": "5f2940b5",
   "metadata": {},
   "outputs": [],
   "source": [
    "from src.ItemItemRecommender import ItemItemRecommender\n",
    "from sklearn.model_selection import train_test_split"
   ]
  },
  {
   "cell_type": "code",
   "execution_count": 7,
   "id": "emerging-estonia",
   "metadata": {},
   "outputs": [],
   "source": [
    "from datetime import datetime"
   ]
  },
  {
   "cell_type": "code",
   "execution_count": 8,
   "id": "1758dd31",
   "metadata": {},
   "outputs": [],
   "source": [
    "from scipy import sparse\n",
    "from scipy.sparse import csr_matrix"
   ]
  },
  {
   "cell_type": "code",
   "execution_count": 9,
   "id": "6037bd59",
   "metadata": {},
   "outputs": [],
   "source": [
    "#Current SQL query\n",
    "\"\"\"\n",
    "SELECT \n",
    "geo__country, \n",
    "#geo__city,\n",
    "event_params__video_title,\n",
    "event_params__videotitle,\n",
    "event_name,\n",
    "#COUNT(event_name) AS times_completed,\n",
    "FROM `jfp-data-warehouse.production_firebase.firebase_event` \n",
    "WHERE geo__country in ('Afghanistan',\n",
    " 'Algeria',\n",
    " 'Azerbaijan',\n",
    " 'Bahrain',\n",
    " 'Bangladesh',\n",
    " 'Bhutan',\n",
    " 'Brunei',\n",
    " 'China',\n",
    " 'Egypt',\n",
    " 'India',\n",
    " 'Indonesia',\n",
    " 'Iran',\n",
    " 'Iraq',\n",
    " 'Japan',\n",
    " 'Jordan',\n",
    " 'Kazakstan',\n",
    " 'Kuwait',\n",
    " 'Kyrgyzstan',\n",
    " 'Laos',\n",
    " 'Libya',\n",
    " 'Malaysia',\n",
    " 'Maldives',\n",
    " 'Mali',\n",
    " 'Mauritania',\n",
    " 'Mongolia',\n",
    " 'Morocco',\n",
    " 'Myanmar',\n",
    " 'Nepal',\n",
    " 'Niger',\n",
    " 'North Korea',\n",
    " 'Oman',\n",
    " 'Pakistan',\n",
    " 'Palestine',\n",
    " 'Qatar',\n",
    " 'Russia',\n",
    " 'Saudia Arabia',\n",
    " 'Somalia',\n",
    " 'Sri Lanka',\n",
    " 'Sudan',\n",
    " 'Syria',\n",
    " 'Tajikistan',\n",
    " 'Thailand',\n",
    " 'Timor Leste',\n",
    " 'Tunisia',\n",
    " 'Turkey',\n",
    " 'Turkmenistan',\n",
    " 'UAE',\n",
    " 'Uzbekistan',\n",
    " 'Vietnam',\n",
    " 'Yemen') AND \n",
    "event_params__video_title IS NOT NULL AND\n",
    "event_name IN ('videostarts',  'videoplay',  'a_media_progress10',  'a_media_progress25',  'a_media_progress50',  'a_media_progress75',  'a_media_progress90') AND \n",
    "DATE(event_date_partition) \n",
    "BETWEEN  \"2021-01-01\" AND \"2021-04-14\" \n",
    "GROUP BY \n",
    "geo__country, \n",
    "geo__city,\n",
    "event_params__videotitle, \n",
    "event_params__video_title,\n",
    "event_name\n",
    "ORDER BY \n",
    "geo__country,\n",
    "event_params__video_title\n",
    "#times_completed DESC \n",
    "LIMIT 16000\n",
    "\"\"\";"
   ]
  },
  {
   "cell_type": "code",
   "execution_count": 119,
   "id": "satellite-spouse",
   "metadata": {},
   "outputs": [],
   "source": [
    "data = pd.read_csv('/Users/djbetts/Desktop/jf_project/data/recommender_base_top_50.csv')\n"
   ]
  },
  {
   "cell_type": "code",
   "execution_count": 120,
   "id": "preliminary-tract",
   "metadata": {},
   "outputs": [],
   "source": [
    "df = data.copy()\n",
    "#df.drop(['geo__city', 'times_completed'], axis=1, inplace=True)"
   ]
  },
  {
   "cell_type": "code",
   "execution_count": 121,
   "id": "sensitive-sharing",
   "metadata": {},
   "outputs": [
    {
     "data": {
      "text/plain": [
       "Index(['geo__country', 'event_params__video_title', 'event_params__videotitle',\n",
       "       'event_name'],\n",
       "      dtype='object')"
      ]
     },
     "execution_count": 121,
     "metadata": {},
     "output_type": "execute_result"
    }
   ],
   "source": [
    "df.columns"
   ]
  },
  {
   "cell_type": "code",
   "execution_count": 122,
   "id": "1c426472",
   "metadata": {},
   "outputs": [],
   "source": [
    "def merge_video(df):\n",
    "    df['video_title'] = df['event_params__videotitle'].fillna(df['event_params__video_title'])\n",
    "    df.drop(['event_params__videotitle','event_params__video_title'], axis=1, inplace=True)\n",
    "    return df"
   ]
  },
  {
   "cell_type": "code",
   "execution_count": 123,
   "id": "b22f45b2",
   "metadata": {},
   "outputs": [],
   "source": [
    "def score(event_name):\n",
    "    d ={\n",
    "        'videostarts':1,\n",
    "        'videoplay':1, \n",
    "        'a_media_progress10':(1*.1),\n",
    "        'a_media_progress25':(1*.25),\n",
    "        'a_media_progress50':(1*.5), \n",
    "        'a_media_progress75':(1*.75), \n",
    "        'a_media_progress90':(1*.9)\n",
    "    }\n",
    "    \n",
    "    return(d[event_name])"
   ]
  },
  {
   "cell_type": "code",
   "execution_count": 124,
   "id": "comparable-domestic",
   "metadata": {},
   "outputs": [],
   "source": [
    "df['video_title'] = df['event_params__videotitle'].fillna(df['event_params__video_title'])"
   ]
  },
  {
   "cell_type": "code",
   "execution_count": 125,
   "id": "complete-mambo",
   "metadata": {},
   "outputs": [],
   "source": [
    "df.drop(['event_params__videotitle','event_params__video_title'], axis=1, inplace=True)"
   ]
  },
  {
   "cell_type": "code",
   "execution_count": 126,
   "id": "alpine-joshua",
   "metadata": {},
   "outputs": [
    {
     "data": {
      "text/plain": [
       "India          7243\n",
       "Egypt          2810\n",
       "China          2143\n",
       "Bangladesh     2103\n",
       "Algeria         621\n",
       "Afghanistan     390\n",
       "Bahrain         256\n",
       "Azerbaijan      233\n",
       "Bhutan          130\n",
       "Brunei           71\n",
       "Name: geo__country, dtype: int64"
      ]
     },
     "execution_count": 126,
     "metadata": {},
     "output_type": "execute_result"
    }
   ],
   "source": [
    "(df.geo__country.value_counts())"
   ]
  },
  {
   "cell_type": "code",
   "execution_count": 127,
   "id": "pursuant-shoot",
   "metadata": {},
   "outputs": [
    {
     "data": {
      "text/plain": [
       "videoplay             2871\n",
       "videostarts           2781\n",
       "a_media_progress10    2408\n",
       "a_media_progress25    2225\n",
       "a_media_progress50    2048\n",
       "a_media_progress75    1891\n",
       "a_media_progress90    1776\n",
       "Name: event_name, dtype: int64"
      ]
     },
     "execution_count": 127,
     "metadata": {},
     "output_type": "execute_result"
    }
   ],
   "source": [
    "df.event_name.value_counts()"
   ]
  },
  {
   "cell_type": "code",
   "execution_count": 128,
   "id": "16a88f60",
   "metadata": {},
   "outputs": [
    {
     "data": {
      "image/png": "[encoded data removed]",
      "text/plain": [
       "<Figure size 432x288 with 1 Axes>"
      ]
     },
     "metadata": {
      "needs_background": "light"
     },
     "output_type": "display_data"
    }
   ],
   "source": [
    "df.event_name.value_counts().hist(bins=7);"
   ]
  },
  {
   "cell_type": "code",
   "execution_count": 129,
   "id": "armed-pound",
   "metadata": {},
   "outputs": [
    {
     "data": {
      "text/plain": [
       "Baptism of Jesus by John                                1161\n",
       "Childhood of Jesus                                      1158\n",
       "Birth of Jesus                                          1151\n",
       "JESUS                                                    806\n",
       "Chosen Witness                                           686\n",
       "                                                        ... \n",
       "使徒行傳                                                       1\n",
       "JÉSUS                                                      1\n",
       "Magdalena Explains Jesus&#39; Death and Resurrection       1\n",
       "圣灵                                                         1\n",
       "The Wilson Kipsang Story                                   1\n",
       "Name: video_title, Length: 435, dtype: int64"
      ]
     },
     "execution_count": 129,
     "metadata": {},
     "output_type": "execute_result"
    }
   ],
   "source": [
    "df.video_title.value_counts()"
   ]
  },
  {
   "cell_type": "code",
   "execution_count": 130,
   "id": "1cbef33f",
   "metadata": {},
   "outputs": [],
   "source": [
    "#df.video_title.hist(bins=435);"
   ]
  },
  {
   "cell_type": "markdown",
   "id": "523361b6",
   "metadata": {},
   "source": [
    "# 90% progress through video"
   ]
  },
  {
   "cell_type": "code",
   "execution_count": 19,
   "id": "broken-chemistry",
   "metadata": {},
   "outputs": [],
   "source": [
    "#df_90 = df[df['event_name'] == 'a_media_progress90']"
   ]
  },
  {
   "cell_type": "code",
   "execution_count": 20,
   "id": "unusual-recommendation",
   "metadata": {},
   "outputs": [],
   "source": [
    "#df_90.video_title.unique()"
   ]
  },
  {
   "cell_type": "code",
   "execution_count": 21,
   "id": "korean-nirvana",
   "metadata": {},
   "outputs": [],
   "source": [
    "#df_90.geo__country.value_counts()"
   ]
  },
  {
   "cell_type": "code",
   "execution_count": 22,
   "id": "considerable-expense",
   "metadata": {},
   "outputs": [],
   "source": [
    "#country_groupby = df.groupby('geo__country')"
   ]
  },
  {
   "cell_type": "code",
   "execution_count": 23,
   "id": "157bd73b",
   "metadata": {},
   "outputs": [],
   "source": [
    "#country_groupby['video_title'].unique()"
   ]
  },
  {
   "cell_type": "code",
   "execution_count": 24,
   "id": "0e197be5",
   "metadata": {},
   "outputs": [],
   "source": [
    "#india = country_groupby.get_group('India')"
   ]
  },
  {
   "cell_type": "code",
   "execution_count": 25,
   "id": "348a07e1",
   "metadata": {},
   "outputs": [],
   "source": [
    "#falling_plates_india = india[india['video_title'] == '#FallingPlates']"
   ]
  },
  {
   "cell_type": "code",
   "execution_count": 26,
   "id": "818d7c54",
   "metadata": {},
   "outputs": [],
   "source": [
    "#event_score = falling_plates_india.event_name.value_counts()"
   ]
  },
  {
   "cell_type": "code",
   "execution_count": 27,
   "id": "f31ed887",
   "metadata": {},
   "outputs": [],
   "source": [
    "#event_score.index"
   ]
  },
  {
   "cell_type": "code",
   "execution_count": 28,
   "id": "4c11185f",
   "metadata": {},
   "outputs": [],
   "source": [
    "#keys = df.video_title.unique()\n",
    "#reviews = dict.fromkeys(keys, 0)"
   ]
  },
  {
   "cell_type": "code",
   "execution_count": 29,
   "id": "f195e257",
   "metadata": {},
   "outputs": [],
   "source": [
    "#tried to make a function by iterating through a groupby. couldn't figure it out.\n",
    "\n",
    "# def rating_calculator(group):\n",
    "#     rating = 0\n",
    "#     reviews = dict.fromkeys(set(group.video_title), 0)\n",
    "#     for event_name in group.event_name:\n",
    "#         if event_name == 'videostarts' or event_name == 'videoplay':\n",
    "#             reviews[group.video_title] += 1\n",
    "#         elif event_name == 'a_media_progress10':\n",
    "#             reviews[group.video_title] += (1 * .1)\n",
    "#         elif event_name == 'a_media_progress25':\n",
    "#             reviews[group.video_title] += (1 * .25)\n",
    "#         elif event_name == 'a_media_progress50':\n",
    "#             reviews[group.video_title] += (1 * .5)\n",
    "#         elif event_name == 'a_media_progress75':\n",
    "#             reviews[group.video_title] += (1 * .75)\n",
    "#         elif event_name == 'a_media_progress90':\n",
    "#             reviews[group.video_title] += (1 * .9)\n",
    "#     print(f'total: {rating}\\nnormalized: {rating/len(events)}')\n",
    "#     return (reviews)\n",
    "# #     return\n",
    "# # print(rating)\n",
    "# # print(rating/len(event_score))"
   ]
  },
  {
   "cell_type": "code",
   "execution_count": 30,
   "id": "8f6e5670",
   "metadata": {},
   "outputs": [],
   "source": [
    "#rating_calculator(event_score)"
   ]
  },
  {
   "cell_type": "code",
   "execution_count": 31,
   "id": "987314e4",
   "metadata": {},
   "outputs": [],
   "source": [
    "# #BROKEN\n",
    "# def review_builder(country_groupby):\n",
    "#     review_dic = dict.fromkeys(country_groupby.groups.keys(), None)\n",
    "#     print(review_dic)\n",
    "#     for country, group in country_groupby:\n",
    "#         review_dic[country] = rating_calculator(group)\n",
    "#     return review_dic"
   ]
  },
  {
   "cell_type": "markdown",
   "id": "756c3da9",
   "metadata": {},
   "source": [
    "# function to return score. not normalized"
   ]
  },
  {
   "cell_type": "code",
   "execution_count": 32,
   "id": "61a86b4e",
   "metadata": {},
   "outputs": [],
   "source": [
    "#view_to_rating('a_media_progress90')"
   ]
  },
  {
   "cell_type": "code",
   "execution_count": 33,
   "id": "4cf5452b",
   "metadata": {},
   "outputs": [],
   "source": [
    "df['score'] = df.event_name.apply(score)"
   ]
  },
  {
   "cell_type": "code",
   "execution_count": 34,
   "id": "0a918589",
   "metadata": {},
   "outputs": [],
   "source": [
    "df.drop(['event_name'], axis=1, inplace=True)"
   ]
  },
  {
   "cell_type": "code",
   "execution_count": 35,
   "id": "28a811ee",
   "metadata": {},
   "outputs": [
    {
     "data": {
      "text/plain": [
       "<AxesSubplot:>"
      ]
     },
     "execution_count": 35,
     "metadata": {},
     "output_type": "execute_result"
    },
    {
     "data": {
      "image/png": "[encoded data removed]",
      "text/plain": [
       "<Figure size 1440x1440 with 1 Axes>"
      ]
     },
     "metadata": {
      "needs_background": "light"
     },
     "output_type": "display_data"
    }
   ],
   "source": [
    "df.score.hist(xrot=45, figsize=(20,20))"
   ]
  },
  {
   "cell_type": "code",
   "execution_count": 36,
   "id": "9b2ce4fe",
   "metadata": {},
   "outputs": [],
   "source": [
    "groupby = df.groupby(['geo__country','video_title'])"
   ]
  },
  {
   "cell_type": "code",
   "execution_count": 37,
   "id": "79ffc368",
   "metadata": {},
   "outputs": [],
   "source": [
    "review_scores = groupby.sum()"
   ]
  },
  {
   "cell_type": "code",
   "execution_count": 38,
   "id": "919fcc19",
   "metadata": {},
   "outputs": [
    {
     "data": {
      "text/plain": [
       "score    2.1\n",
       "Name: (Bhutan, LUMO - John 21:1-25), dtype: float64"
      ]
     },
     "execution_count": 38,
     "metadata": {},
     "output_type": "execute_result"
    }
   ],
   "source": [
    "review_scores.loc[('Bhutan', 'LUMO - John 21:1-25')]"
   ]
  },
  {
   "cell_type": "code",
   "execution_count": 39,
   "id": "1e45334b",
   "metadata": {},
   "outputs": [],
   "source": [
    "#review_scores.score.plot.bar(figsize=(20,20));"
   ]
  },
  {
   "cell_type": "code",
   "execution_count": 40,
   "id": "8e4098a1",
   "metadata": {},
   "outputs": [
    {
     "data": {
      "text/plain": [
       "score    2.1\n",
       "Name: (Bhutan, LUMO - John 21:1-25), dtype: float64"
      ]
     },
     "execution_count": 40,
     "metadata": {},
     "output_type": "execute_result"
    }
   ],
   "source": [
    "review_scores.loc[('Bhutan','LUMO - John 21:1-25')]"
   ]
  },
  {
   "cell_type": "code",
   "execution_count": 41,
   "id": "1c8cbd4d",
   "metadata": {},
   "outputs": [
    {
     "data": {
      "text/html": [
       "<div>\n",
       "<style scoped>\n",
       "    .dataframe tbody tr th:only-of-type {\n",
       "        vertical-align: middle;\n",
       "    }\n",
       "\n",
       "    .dataframe tbody tr th {\n",
       "        vertical-align: top;\n",
       "    }\n",
       "\n",
       "    .dataframe thead tr th {\n",
       "        text-align: left;\n",
       "    }\n",
       "\n",
       "    .dataframe thead tr:last-of-type th {\n",
       "        text-align: right;\n",
       "    }\n",
       "</style>\n",
       "<table border=\"1\" class=\"dataframe\">\n",
       "  <thead>\n",
       "    <tr>\n",
       "      <th></th>\n",
       "      <th colspan=\"21\" halign=\"left\">score</th>\n",
       "    </tr>\n",
       "    <tr>\n",
       "      <th>video_title</th>\n",
       "      <th>#FallingPlates</th>\n",
       "      <th>#फालिंगप्लेट्स</th>\n",
       "      <th>#掉落的盘子</th>\n",
       "      <th>1- في العائلة</th>\n",
       "      <th>1. Jesus, Our Loving Pursuer</th>\n",
       "      <th>1.가족 중에</th>\n",
       "      <th>1.우리의 사랑의 추구자이신 예수님</th>\n",
       "      <th>2- عمل يدوي</th>\n",
       "      <th>2. Jesus, Our Gracious Forgiver</th>\n",
       "      <th>3. Jesus, Our Power for Living</th>\n",
       "      <th>...</th>\n",
       "      <th>路加福音简介</th>\n",
       "      <th>身份错认于路司得</th>\n",
       "      <th>返回叙利亚的安提阿</th>\n",
       "      <th>选出马提亚替代犹大</th>\n",
       "      <th>那些使人犯罪的人有祸了</th>\n",
       "      <th>钉在十字架上的囚犯</th>\n",
       "      <th>雅典的偶像</th>\n",
       "      <th>非斯都咨询亚基帕王</th>\n",
       "      <th>高贵的比里亚人</th>\n",
       "      <th>魔鬼引诱耶稣</th>\n",
       "    </tr>\n",
       "    <tr>\n",
       "      <th>geo__country</th>\n",
       "      <th></th>\n",
       "      <th></th>\n",
       "      <th></th>\n",
       "      <th></th>\n",
       "      <th></th>\n",
       "      <th></th>\n",
       "      <th></th>\n",
       "      <th></th>\n",
       "      <th></th>\n",
       "      <th></th>\n",
       "      <th></th>\n",
       "      <th></th>\n",
       "      <th></th>\n",
       "      <th></th>\n",
       "      <th></th>\n",
       "      <th></th>\n",
       "      <th></th>\n",
       "      <th></th>\n",
       "      <th></th>\n",
       "      <th></th>\n",
       "      <th></th>\n",
       "    </tr>\n",
       "  </thead>\n",
       "  <tbody>\n",
       "    <tr>\n",
       "      <th>Afghanistan</th>\n",
       "      <td>2.00</td>\n",
       "      <td>NaN</td>\n",
       "      <td>NaN</td>\n",
       "      <td>NaN</td>\n",
       "      <td>NaN</td>\n",
       "      <td>NaN</td>\n",
       "      <td>NaN</td>\n",
       "      <td>NaN</td>\n",
       "      <td>NaN</td>\n",
       "      <td>NaN</td>\n",
       "      <td>...</td>\n",
       "      <td>NaN</td>\n",
       "      <td>NaN</td>\n",
       "      <td>NaN</td>\n",
       "      <td>NaN</td>\n",
       "      <td>NaN</td>\n",
       "      <td>NaN</td>\n",
       "      <td>NaN</td>\n",
       "      <td>NaN</td>\n",
       "      <td>NaN</td>\n",
       "      <td>NaN</td>\n",
       "    </tr>\n",
       "    <tr>\n",
       "      <th>Algeria</th>\n",
       "      <td>4.50</td>\n",
       "      <td>NaN</td>\n",
       "      <td>NaN</td>\n",
       "      <td>NaN</td>\n",
       "      <td>NaN</td>\n",
       "      <td>NaN</td>\n",
       "      <td>NaN</td>\n",
       "      <td>NaN</td>\n",
       "      <td>NaN</td>\n",
       "      <td>NaN</td>\n",
       "      <td>...</td>\n",
       "      <td>NaN</td>\n",
       "      <td>NaN</td>\n",
       "      <td>NaN</td>\n",
       "      <td>NaN</td>\n",
       "      <td>NaN</td>\n",
       "      <td>NaN</td>\n",
       "      <td>NaN</td>\n",
       "      <td>NaN</td>\n",
       "      <td>NaN</td>\n",
       "      <td>NaN</td>\n",
       "    </tr>\n",
       "    <tr>\n",
       "      <th>Azerbaijan</th>\n",
       "      <td>4.50</td>\n",
       "      <td>NaN</td>\n",
       "      <td>NaN</td>\n",
       "      <td>NaN</td>\n",
       "      <td>NaN</td>\n",
       "      <td>NaN</td>\n",
       "      <td>NaN</td>\n",
       "      <td>NaN</td>\n",
       "      <td>NaN</td>\n",
       "      <td>NaN</td>\n",
       "      <td>...</td>\n",
       "      <td>NaN</td>\n",
       "      <td>NaN</td>\n",
       "      <td>NaN</td>\n",
       "      <td>NaN</td>\n",
       "      <td>NaN</td>\n",
       "      <td>NaN</td>\n",
       "      <td>NaN</td>\n",
       "      <td>NaN</td>\n",
       "      <td>NaN</td>\n",
       "      <td>NaN</td>\n",
       "    </tr>\n",
       "    <tr>\n",
       "      <th>Bahrain</th>\n",
       "      <td>NaN</td>\n",
       "      <td>NaN</td>\n",
       "      <td>NaN</td>\n",
       "      <td>NaN</td>\n",
       "      <td>NaN</td>\n",
       "      <td>NaN</td>\n",
       "      <td>NaN</td>\n",
       "      <td>NaN</td>\n",
       "      <td>NaN</td>\n",
       "      <td>NaN</td>\n",
       "      <td>...</td>\n",
       "      <td>NaN</td>\n",
       "      <td>NaN</td>\n",
       "      <td>NaN</td>\n",
       "      <td>NaN</td>\n",
       "      <td>NaN</td>\n",
       "      <td>NaN</td>\n",
       "      <td>NaN</td>\n",
       "      <td>NaN</td>\n",
       "      <td>NaN</td>\n",
       "      <td>NaN</td>\n",
       "    </tr>\n",
       "    <tr>\n",
       "      <th>Bangladesh</th>\n",
       "      <td>11.35</td>\n",
       "      <td>NaN</td>\n",
       "      <td>NaN</td>\n",
       "      <td>NaN</td>\n",
       "      <td>4.5</td>\n",
       "      <td>NaN</td>\n",
       "      <td>NaN</td>\n",
       "      <td>NaN</td>\n",
       "      <td>3.60</td>\n",
       "      <td>NaN</td>\n",
       "      <td>...</td>\n",
       "      <td>NaN</td>\n",
       "      <td>NaN</td>\n",
       "      <td>NaN</td>\n",
       "      <td>NaN</td>\n",
       "      <td>NaN</td>\n",
       "      <td>NaN</td>\n",
       "      <td>NaN</td>\n",
       "      <td>NaN</td>\n",
       "      <td>NaN</td>\n",
       "      <td>NaN</td>\n",
       "    </tr>\n",
       "    <tr>\n",
       "      <th>Bhutan</th>\n",
       "      <td>2.00</td>\n",
       "      <td>NaN</td>\n",
       "      <td>NaN</td>\n",
       "      <td>NaN</td>\n",
       "      <td>NaN</td>\n",
       "      <td>NaN</td>\n",
       "      <td>NaN</td>\n",
       "      <td>NaN</td>\n",
       "      <td>NaN</td>\n",
       "      <td>NaN</td>\n",
       "      <td>...</td>\n",
       "      <td>NaN</td>\n",
       "      <td>NaN</td>\n",
       "      <td>NaN</td>\n",
       "      <td>NaN</td>\n",
       "      <td>NaN</td>\n",
       "      <td>NaN</td>\n",
       "      <td>NaN</td>\n",
       "      <td>NaN</td>\n",
       "      <td>NaN</td>\n",
       "      <td>NaN</td>\n",
       "    </tr>\n",
       "    <tr>\n",
       "      <th>Brunei</th>\n",
       "      <td>NaN</td>\n",
       "      <td>NaN</td>\n",
       "      <td>NaN</td>\n",
       "      <td>NaN</td>\n",
       "      <td>NaN</td>\n",
       "      <td>NaN</td>\n",
       "      <td>NaN</td>\n",
       "      <td>NaN</td>\n",
       "      <td>NaN</td>\n",
       "      <td>NaN</td>\n",
       "      <td>...</td>\n",
       "      <td>NaN</td>\n",
       "      <td>NaN</td>\n",
       "      <td>NaN</td>\n",
       "      <td>NaN</td>\n",
       "      <td>NaN</td>\n",
       "      <td>NaN</td>\n",
       "      <td>NaN</td>\n",
       "      <td>NaN</td>\n",
       "      <td>NaN</td>\n",
       "      <td>NaN</td>\n",
       "    </tr>\n",
       "    <tr>\n",
       "      <th>China</th>\n",
       "      <td>9.00</td>\n",
       "      <td>NaN</td>\n",
       "      <td>13.5</td>\n",
       "      <td>NaN</td>\n",
       "      <td>NaN</td>\n",
       "      <td>NaN</td>\n",
       "      <td>NaN</td>\n",
       "      <td>NaN</td>\n",
       "      <td>NaN</td>\n",
       "      <td>NaN</td>\n",
       "      <td>...</td>\n",
       "      <td>6.85</td>\n",
       "      <td>4.5</td>\n",
       "      <td>4.5</td>\n",
       "      <td>4.5</td>\n",
       "      <td>3.6</td>\n",
       "      <td>6.45</td>\n",
       "      <td>4.5</td>\n",
       "      <td>5.5</td>\n",
       "      <td>4.5</td>\n",
       "      <td>2.85</td>\n",
       "    </tr>\n",
       "    <tr>\n",
       "      <th>Egypt</th>\n",
       "      <td>15.35</td>\n",
       "      <td>NaN</td>\n",
       "      <td>NaN</td>\n",
       "      <td>2.1</td>\n",
       "      <td>NaN</td>\n",
       "      <td>NaN</td>\n",
       "      <td>NaN</td>\n",
       "      <td>2.1</td>\n",
       "      <td>6.65</td>\n",
       "      <td>NaN</td>\n",
       "      <td>...</td>\n",
       "      <td>NaN</td>\n",
       "      <td>NaN</td>\n",
       "      <td>NaN</td>\n",
       "      <td>NaN</td>\n",
       "      <td>NaN</td>\n",
       "      <td>NaN</td>\n",
       "      <td>NaN</td>\n",
       "      <td>NaN</td>\n",
       "      <td>NaN</td>\n",
       "      <td>NaN</td>\n",
       "    </tr>\n",
       "    <tr>\n",
       "      <th>India</th>\n",
       "      <td>100.15</td>\n",
       "      <td>3.0</td>\n",
       "      <td>NaN</td>\n",
       "      <td>NaN</td>\n",
       "      <td>34.5</td>\n",
       "      <td>2.0</td>\n",
       "      <td>1.0</td>\n",
       "      <td>NaN</td>\n",
       "      <td>17.10</td>\n",
       "      <td>9.0</td>\n",
       "      <td>...</td>\n",
       "      <td>NaN</td>\n",
       "      <td>NaN</td>\n",
       "      <td>NaN</td>\n",
       "      <td>NaN</td>\n",
       "      <td>NaN</td>\n",
       "      <td>NaN</td>\n",
       "      <td>NaN</td>\n",
       "      <td>NaN</td>\n",
       "      <td>NaN</td>\n",
       "      <td>NaN</td>\n",
       "    </tr>\n",
       "  </tbody>\n",
       "</table>\n",
       "<p>10 rows × 435 columns</p>\n",
       "</div>"
      ],
      "text/plain": [
       "                      score                                       \\\n",
       "video_title  #FallingPlates #फालिंगप्लेट्स  #掉落的盘子 1- في العائلة   \n",
       "geo__country                                                       \n",
       "Afghanistan            2.00             NaN    NaN           NaN   \n",
       "Algeria                4.50             NaN    NaN           NaN   \n",
       "Azerbaijan             4.50             NaN    NaN           NaN   \n",
       "Bahrain                 NaN             NaN    NaN           NaN   \n",
       "Bangladesh            11.35             NaN    NaN           NaN   \n",
       "Bhutan                 2.00             NaN    NaN           NaN   \n",
       "Brunei                  NaN             NaN    NaN           NaN   \n",
       "China                  9.00             NaN   13.5           NaN   \n",
       "Egypt                 15.35             NaN    NaN           2.1   \n",
       "India                100.15             3.0    NaN           NaN   \n",
       "\n",
       "                                                                       \\\n",
       "video_title  1. Jesus, Our Loving Pursuer 1.가족 중에 1.우리의 사랑의 추구자이신 예수님   \n",
       "geo__country                                                            \n",
       "Afghanistan                           NaN     NaN                 NaN   \n",
       "Algeria                               NaN     NaN                 NaN   \n",
       "Azerbaijan                            NaN     NaN                 NaN   \n",
       "Bahrain                               NaN     NaN                 NaN   \n",
       "Bangladesh                            4.5     NaN                 NaN   \n",
       "Bhutan                                NaN     NaN                 NaN   \n",
       "Brunei                                NaN     NaN                 NaN   \n",
       "China                                 NaN     NaN                 NaN   \n",
       "Egypt                                 NaN     NaN                 NaN   \n",
       "India                                34.5     2.0                 1.0   \n",
       "\n",
       "                                                          \\\n",
       "video_title  2- عمل يدوي 2. Jesus, Our Gracious Forgiver   \n",
       "geo__country                                               \n",
       "Afghanistan          NaN                             NaN   \n",
       "Algeria              NaN                             NaN   \n",
       "Azerbaijan           NaN                             NaN   \n",
       "Bahrain              NaN                             NaN   \n",
       "Bangladesh           NaN                            3.60   \n",
       "Bhutan               NaN                             NaN   \n",
       "Brunei               NaN                             NaN   \n",
       "China                NaN                             NaN   \n",
       "Egypt                2.1                            6.65   \n",
       "India                NaN                           17.10   \n",
       "\n",
       "                                             ...                            \\\n",
       "video_title  3. Jesus, Our Power for Living  ... 路加福音简介 身份错认于路司得 返回叙利亚的安提阿   \n",
       "geo__country                                 ...                             \n",
       "Afghanistan                             NaN  ...    NaN      NaN       NaN   \n",
       "Algeria                                 NaN  ...    NaN      NaN       NaN   \n",
       "Azerbaijan                              NaN  ...    NaN      NaN       NaN   \n",
       "Bahrain                                 NaN  ...    NaN      NaN       NaN   \n",
       "Bangladesh                              NaN  ...    NaN      NaN       NaN   \n",
       "Bhutan                                  NaN  ...    NaN      NaN       NaN   \n",
       "Brunei                                  NaN  ...    NaN      NaN       NaN   \n",
       "China                                   NaN  ...   6.85      4.5       4.5   \n",
       "Egypt                                   NaN  ...    NaN      NaN       NaN   \n",
       "India                                   9.0  ...    NaN      NaN       NaN   \n",
       "\n",
       "                                                                             \n",
       "video_title  选出马提亚替代犹大 那些使人犯罪的人有祸了 钉在十字架上的囚犯 雅典的偶像 非斯都咨询亚基帕王 高贵的比里亚人 魔鬼引诱耶稣  \n",
       "geo__country                                                                 \n",
       "Afghanistan        NaN         NaN       NaN   NaN       NaN     NaN    NaN  \n",
       "Algeria            NaN         NaN       NaN   NaN       NaN     NaN    NaN  \n",
       "Azerbaijan         NaN         NaN       NaN   NaN       NaN     NaN    NaN  \n",
       "Bahrain            NaN         NaN       NaN   NaN       NaN     NaN    NaN  \n",
       "Bangladesh         NaN         NaN       NaN   NaN       NaN     NaN    NaN  \n",
       "Bhutan             NaN         NaN       NaN   NaN       NaN     NaN    NaN  \n",
       "Brunei             NaN         NaN       NaN   NaN       NaN     NaN    NaN  \n",
       "China              4.5         3.6      6.45   4.5       5.5     4.5   2.85  \n",
       "Egypt              NaN         NaN       NaN   NaN       NaN     NaN    NaN  \n",
       "India              NaN         NaN       NaN   NaN       NaN     NaN    NaN  \n",
       "\n",
       "[10 rows x 435 columns]"
      ]
     },
     "execution_count": 41,
     "metadata": {},
     "output_type": "execute_result"
    }
   ],
   "source": [
    "review_scores.unstack()"
   ]
  },
  {
   "cell_type": "code",
   "execution_count": 42,
   "id": "0bcf0989",
   "metadata": {},
   "outputs": [],
   "source": [
    "#review_scores.plot.bar(figsize=(20,20));"
   ]
  },
  {
   "cell_type": "code",
   "execution_count": 43,
   "id": "ccea36ee",
   "metadata": {},
   "outputs": [
    {
     "data": {
      "text/plain": [
       "MultiIndex([('Afghanistan',                         '#FallingPlates'),\n",
       "            ('Afghanistan',                     'Angels at the Tomb'),\n",
       "            ('Afghanistan',               'Baptism of Jesus by John'),\n",
       "            ('Afghanistan',                             'Beatitudes'),\n",
       "            ('Afghanistan',                         'Birth of Jesus'),\n",
       "            ('Afghanistan',    'Blessed are those Who Hear and Obey'),\n",
       "            ('Afghanistan',                                'Breathe'),\n",
       "            ('Afghanistan',                        'Burial of Jesus'),\n",
       "            ('Afghanistan',                     'Childhood of Jesus'),\n",
       "            ('Afghanistan',                         'Chosen Witness'),\n",
       "            ...\n",
       "            (      'India',                              'Episode 9'),\n",
       "            (      'India', 'Eutychus Raised From the Dead at Troas'),\n",
       "            (      'India',        'Explanation of Miraculous Birth'),\n",
       "            (      'India',                           'Falling Away'),\n",
       "            (      'India',                          'Feeding 5,000'),\n",
       "            (      'India',                'Fellowship Of Believers'),\n",
       "            (      'India',           'Festus Consults King Agrippa'),\n",
       "            (      'India',                          'Finding Peace'),\n",
       "            (      'India',                         'Finishing Well'),\n",
       "            (      'India',                                   'Flow')],\n",
       "           names=['geo__country', 'video_title'], length=829)"
      ]
     },
     "execution_count": 43,
     "metadata": {},
     "output_type": "execute_result"
    }
   ],
   "source": [
    "review_scores.index"
   ]
  },
  {
   "cell_type": "code",
   "execution_count": null,
   "id": "67235265",
   "metadata": {},
   "outputs": [],
   "source": []
  },
  {
   "cell_type": "code",
   "execution_count": 44,
   "id": "bb4123cc",
   "metadata": {},
   "outputs": [],
   "source": [
    "df_sparce = df.pivot_table(columns='video_title', values='score', index='geo__country', aggfunc='mean', fill_value=0)\n",
    "movie_list = pd.Series(df_sparce.columns)\n",
    "users = pd.Series(df_sparce.index)"
   ]
  },
  {
   "cell_type": "code",
   "execution_count": 45,
   "id": "5f64b63f",
   "metadata": {},
   "outputs": [
    {
     "data": {
      "text/plain": [
       "(10, 435)"
      ]
     },
     "execution_count": 45,
     "metadata": {},
     "output_type": "execute_result"
    }
   ],
   "source": [
    "df_sparce.shape"
   ]
  },
  {
   "cell_type": "code",
   "execution_count": 46,
   "id": "13e0e0f6",
   "metadata": {},
   "outputs": [
    {
     "name": "stdout",
     "output_type": "stream",
     "text": [
      "The desnsity is: 0.19057471264367817 \n"
     ]
    }
   ],
   "source": [
    "number_ratings = (df_sparce.values > 0).sum()\n",
    "density = number_ratings / (df_sparce.shape[0] * df_sparce.shape[1])\n",
    "print('The desnsity is: {} '.format(density))"
   ]
  },
  {
   "cell_type": "code",
   "execution_count": 47,
   "id": "ff1dd1ff",
   "metadata": {},
   "outputs": [
    {
     "name": "stdout",
     "output_type": "stream",
     "text": [
      "Min number of ratings: 9\n"
     ]
    },
    {
     "data": {
      "image/png": "[encoded data removed]",
      "text/plain": [
       "<Figure size 432x288 with 1 Axes>"
      ]
     },
     "metadata": {
      "needs_background": "light"
     },
     "output_type": "display_data"
    }
   ],
   "source": [
    "ratings = (df_sparce > 0).sum(axis=1)\n",
    "ratings.hist(bins=100)\n",
    "print('Min number of ratings: {}'.format(ratings.min()))"
   ]
  },
  {
   "cell_type": "code",
   "execution_count": 48,
   "id": "8c94fedc",
   "metadata": {},
   "outputs": [
    {
     "name": "stdout",
     "output_type": "stream",
     "text": [
      "Min number of ratings: 1\n"
     ]
    },
    {
     "data": {
      "image/png": "[encoded data removed]",
      "text/plain": [
       "<Figure size 432x288 with 1 Axes>"
      ]
     },
     "metadata": {
      "needs_background": "light"
     },
     "output_type": "display_data"
    }
   ],
   "source": [
    "ratings = (df_sparce > 0).sum(axis=0)\n",
    "ratings.hist(bins=100)\n",
    "print('Min number of ratings: {}'.format(ratings.min()))"
   ]
  },
  {
   "cell_type": "markdown",
   "id": "2936cc8b",
   "metadata": {},
   "source": [
    "# utility matric"
   ]
  },
  {
   "cell_type": "code",
   "execution_count": 49,
   "id": "1bf6f2d7",
   "metadata": {},
   "outputs": [
    {
     "data": {
      "text/plain": [
       "Index(['Afghanistan', 'Algeria', 'Azerbaijan', 'Bahrain', 'Bangladesh',\n",
       "       'Bhutan', 'Brunei', 'China', 'Egypt', 'India'],\n",
       "      dtype='object', name='geo__country')"
      ]
     },
     "execution_count": 49,
     "metadata": {},
     "output_type": "execute_result"
    }
   ],
   "source": [
    "df_sparce.index"
   ]
  },
  {
   "cell_type": "code",
   "execution_count": 50,
   "id": "ab74b7f8",
   "metadata": {},
   "outputs": [],
   "source": [
    "train, test = train_test_split(df_sparce.values, random_state = 100)"
   ]
  },
  {
   "cell_type": "code",
   "execution_count": 51,
   "id": "d3c000ff",
   "metadata": {},
   "outputs": [],
   "source": [
    "ratings_as_mat = csr_matrix(df_sparce.values, (df_sparce.index.shape[0], df_sparce.columns.shape[0]))"
   ]
  },
  {
   "cell_type": "code",
   "execution_count": 52,
   "id": "de91ac7e",
   "metadata": {},
   "outputs": [
    {
     "name": "stdout",
     "output_type": "stream",
     "text": [
      "(7, 435)\n",
      "(3, 435)\n",
      "(10, 435)\n"
     ]
    }
   ],
   "source": [
    "print(train.shape)\n",
    "print(test.shape)\n",
    "print(df_sparce.shape)"
   ]
  },
  {
   "cell_type": "code",
   "execution_count": 53,
   "id": "464b94ed",
   "metadata": {},
   "outputs": [
    {
     "data": {
      "text/plain": [
       "(10, 435)"
      ]
     },
     "execution_count": 53,
     "metadata": {},
     "output_type": "execute_result"
    }
   ],
   "source": [
    "ratings_as_mat.shape"
   ]
  },
  {
   "cell_type": "code",
   "execution_count": 54,
   "id": "10b2ca0b",
   "metadata": {},
   "outputs": [],
   "source": [
    "rec = ItemItemRecommender(neighborhood_size=75)\n",
    "rec.fit(ratings_as_mat)"
   ]
  },
  {
   "cell_type": "code",
   "execution_count": 55,
   "id": "f9bcd50d",
   "metadata": {},
   "outputs": [
    {
     "data": {
      "text/plain": [
       "0    Afghanistan\n",
       "1        Algeria\n",
       "2     Azerbaijan\n",
       "3        Bahrain\n",
       "4     Bangladesh\n",
       "5         Bhutan\n",
       "6         Brunei\n",
       "7          China\n",
       "8          Egypt\n",
       "9          India\n",
       "Name: geo__country, dtype: object"
      ]
     },
     "execution_count": 55,
     "metadata": {},
     "output_type": "execute_result"
    }
   ],
   "source": [
    "users"
   ]
  },
  {
   "cell_type": "code",
   "execution_count": 56,
   "id": "c34cd0cf",
   "metadata": {},
   "outputs": [
    {
     "name": "stdout",
     "output_type": "stream",
     "text": [
      "Bahrain\n"
     ]
    },
    {
     "name": "stderr",
     "output_type": "stream",
     "text": [
      "/Users/djbetts/Desktop/jf_project/src/ItemItemRecommender.py:44: RuntimeWarning: invalid value encountered in true_divide\n",
      "  self.item_sim_mat[item_to_rate, relevant_items].sum()\n"
     ]
    },
    {
     "data": {
      "text/plain": [
       "array([0.69712845, 0.        , 0.        , 0.64285714, 0.57      ,\n",
       "       0.        , 0.        , 0.64285714, 0.63180137, 0.        ,\n",
       "       0.        , 0.        , 0.64285714, 0.64285714, 0.57      ,\n",
       "       0.63194142, 0.        , 0.        , 0.        , 0.6934121 ,\n",
       "       0.        , 0.        , 0.        , 0.68330185, 0.63198174,\n",
       "       0.66435982, 0.        , 0.75023101, 0.67278884, 0.68491811,\n",
       "       0.68311673, 0.        , 0.68560585, 0.        , 0.68886172,\n",
       "       0.        , 0.66995805, 0.67373961, 0.69734347, 0.66462635,\n",
       "       0.68334557, 0.        , 0.64703555, 0.6867959 , 0.6811315 ,\n",
       "       0.64285714, 0.        , 0.66751123, 0.        , 0.64285714,\n",
       "       0.        , 0.67809894, 0.69560127, 0.63179959, 0.        ,\n",
       "       0.        , 0.        , 0.        , 0.        , 0.        ,\n",
       "       0.        , 0.64285714, 0.        , 0.        , 0.        ,\n",
       "       0.        , 0.        , 0.        , 0.        , 0.64285714,\n",
       "       0.        , 0.        , 0.        , 0.66721873, 0.        ,\n",
       "       0.64285714, 0.66738434, 0.68338159, 0.66667636, 0.        ,\n",
       "       0.        , 0.69526205, 0.        , 0.        , 0.66735075,\n",
       "       0.63176631, 0.        , 0.        , 0.63961526, 0.        ,\n",
       "       0.64285714, 0.67894591, 0.65412388, 0.65595833, 0.64627576,\n",
       "       0.7       , 0.7       , 0.        , 0.65590094, 0.7       ,\n",
       "       0.64285714, 0.68065974, 0.64285714, 0.65592919, 0.65412388,\n",
       "       0.65412388, 0.65593163, 0.65412388, 0.67343173, 0.65412388,\n",
       "       0.        , 0.64285714, 0.69229239, 0.        , 0.        ,\n",
       "       0.        , 0.69229239, 0.        , 0.6272082 , 0.        ,\n",
       "       0.64285714, 0.64285714, 0.64285714, 0.62978462, 0.64285714,\n",
       "       0.        , 0.        , 0.68387756, 0.69560127, 0.        ,\n",
       "       0.68764065, 0.69490473, 0.63979897, 0.64285714, 0.        ,\n",
       "       0.69560127, 0.63637127, 0.64285714, 0.69560127, 0.68496679,\n",
       "       0.64285714, 0.59807404, 0.67036713, 0.68813061, 0.64285714,\n",
       "       0.68386955, 0.        , 0.64284831, 0.6892118 , 0.63951471,\n",
       "       0.61722206, 0.70833077, 0.64285714, 0.6265474 , 0.60927174,\n",
       "       0.67760685, 0.70560008, 0.64285714, 0.68767899, 0.67394223,\n",
       "       0.63519057, 0.64285714, 0.68083766, 0.61484364, 0.61476018,\n",
       "       0.69488982, 0.6836851 , 0.66871836, 0.60305018, 0.69006439,\n",
       "       0.67708695, 0.69560127, 0.69030797, 0.67343173, 0.67343173,\n",
       "       0.69229239, 0.67343173, 0.67343173, 0.67343173, 0.67343173,\n",
       "       0.67343173, 0.67343173, 0.64285714, 0.        , 0.64285201,\n",
       "       0.        , 0.70190402, 0.61480921, 0.69560127, 0.68703338,\n",
       "       0.67607673, 0.63662931, 0.70560008, 0.6912921 , 0.68723873,\n",
       "       0.70560008, 0.67343173, 0.64285714, 0.68185212, 0.63418295,\n",
       "       0.69032482, 0.67343173, 0.67746778, 0.68739566, 0.69560127,\n",
       "       0.64285714, 0.68591412, 0.69560127, 0.67746778, 0.69438799,\n",
       "       0.63085914, 0.60112436, 0.67719072, 0.68809947, 0.61476388,\n",
       "       0.64285714, 0.64285714, 0.64285714, 0.64285714, 0.687658  ,\n",
       "       0.69006439, 0.64285714, 0.60927174, 0.63925017, 0.61476005,\n",
       "       0.67746778, 0.66714307, 0.67373701, 0.69229706, 0.61506336,\n",
       "       0.67343173, 0.73412657, 0.69229239, 0.68352562, 0.67343173,\n",
       "       0.67343173, 0.63970903, 0.67746778, 0.69330589, 0.63957712,\n",
       "       0.64285714, 0.        , 0.67343173, 0.68833442, 0.        ,\n",
       "       0.67518484, 0.67747701, 0.6172393 , 0.68679661, 0.64282722,\n",
       "       0.64285714, 0.64285714, 0.67746778, 0.68074674, 0.61474578,\n",
       "       0.64285714, 0.68200272, 0.64285714, 0.68487857, 0.62650908,\n",
       "       0.61720956, 0.65053067, 0.69560127, 0.68416092, 0.64285714,\n",
       "       0.69560127, 0.64285714, 0.69878757, 0.69107474, 0.67343173,\n",
       "       0.63969131, 0.63946314, 0.        , 0.68666094, 0.64285714,\n",
       "       0.        , 0.68607621, 0.64285714, 0.63440628, 0.63981504,\n",
       "       0.64285714, 0.64285714, 0.68386651, 0.65053067, 0.67343173,\n",
       "       0.69229239, 0.67746778, 0.63632058, 0.63637896, 0.63976662,\n",
       "       0.        , 0.63063486, 0.70497698, 0.64285714, 0.64285714,\n",
       "       0.64285714, 0.64285714, 0.64285714, 0.64285714, 0.        ,\n",
       "       0.        , 0.        , 0.        , 0.        , 0.        ,\n",
       "       0.        , 0.        , 0.        , 0.        , 0.        ,\n",
       "       0.        , 0.        , 0.        , 0.        , 0.        ,\n",
       "       0.        , 0.        , 0.        , 0.        , 0.        ,\n",
       "       0.        , 0.        , 0.        , 0.        , 0.        ,\n",
       "       0.        , 0.        , 0.        , 0.        , 0.        ,\n",
       "       0.        , 0.        , 0.        , 0.        , 0.        ,\n",
       "       0.        , 0.        , 0.        , 0.        , 0.        ,\n",
       "       0.        , 0.        , 0.        , 0.        , 0.        ,\n",
       "       0.        , 0.        , 0.        , 0.        , 0.        ,\n",
       "       0.        , 0.        , 0.        , 0.        , 0.        ,\n",
       "       0.        , 0.        , 0.        , 0.        , 0.        ,\n",
       "       0.        , 0.        , 0.        , 0.        , 0.        ,\n",
       "       0.        , 0.        , 0.        , 0.        , 0.        ,\n",
       "       0.        , 0.        , 0.        , 0.        , 0.        ,\n",
       "       0.        , 0.        , 0.        , 0.        , 0.        ,\n",
       "       0.        , 0.        , 0.        , 0.        , 0.        ,\n",
       "       0.        , 0.        , 0.        , 0.        , 0.        ,\n",
       "       0.        , 0.        , 0.        , 0.        , 0.        ,\n",
       "       0.        , 0.        , 0.        , 0.        , 0.        ,\n",
       "       0.        , 0.        , 0.        , 0.        , 0.        ,\n",
       "       0.        , 0.        , 0.        , 0.        , 0.        ,\n",
       "       0.        , 0.        , 0.        , 0.        , 0.        ,\n",
       "       0.        , 0.        , 0.        , 0.        , 0.        ,\n",
       "       0.        , 0.        , 0.        , 0.        , 0.        ,\n",
       "       0.        , 0.        , 0.        , 0.        , 0.        ,\n",
       "       0.        , 0.        , 0.        , 0.        , 0.        ])"
      ]
     },
     "execution_count": 56,
     "metadata": {},
     "output_type": "execute_result"
    }
   ],
   "source": [
    "print(users[3])\n",
    "rec.pred_one_user(user_id=3)"
   ]
  },
  {
   "cell_type": "markdown",
   "id": "9eebd000",
   "metadata": {},
   "source": [
    "# top rated movies"
   ]
  },
  {
   "cell_type": "code",
   "execution_count": 57,
   "id": "75587585",
   "metadata": {},
   "outputs": [],
   "source": [
    "average_rating = df.groupby('video_title').mean()['score']"
   ]
  },
  {
   "cell_type": "code",
   "execution_count": 58,
   "id": "13c612c3",
   "metadata": {},
   "outputs": [
    {
     "data": {
      "text/plain": [
       "video_title\n",
       "Day 2: Miraculous Birth      1.00\n",
       "圣灵                           1.00\n",
       "Witness to the Son           1.00\n",
       "The Wilson Kipsang Story     1.00\n",
       "The Four Principles          1.00\n",
       "                             ... \n",
       "Introduction de Luc          0.57\n",
       "Faith v. Feeling             0.57\n",
       "灯的比喻                         0.57\n",
       "Day 7: Grace on the Cross    0.57\n",
       "魔鬼引诱耶稣                       0.57\n",
       "Name: score, Length: 435, dtype: float64"
      ]
     },
     "execution_count": 58,
     "metadata": {},
     "output_type": "execute_result"
    }
   ],
   "source": [
    "average_rating.sort_values(ascending=False)"
   ]
  },
  {
   "cell_type": "markdown",
   "id": "e147063a",
   "metadata": {},
   "source": [
    "# utility matrix work"
   ]
  },
  {
   "cell_type": "code",
   "execution_count": 59,
   "id": "01962324",
   "metadata": {},
   "outputs": [],
   "source": [
    "index = df.geo__country.unique()"
   ]
  },
  {
   "cell_type": "code",
   "execution_count": 60,
   "id": "linear-extreme",
   "metadata": {},
   "outputs": [],
   "source": [
    "columns = df.video_title.unique()"
   ]
  },
  {
   "cell_type": "code",
   "execution_count": 61,
   "id": "d99fa4d1",
   "metadata": {},
   "outputs": [],
   "source": [
    "data = np.zeros((index.shape[0], columns.shape[0]))"
   ]
  },
  {
   "cell_type": "code",
   "execution_count": 62,
   "id": "acute-brooklyn",
   "metadata": {},
   "outputs": [],
   "source": [
    "reviews = pd.DataFrame(data, index=index, columns=columns)"
   ]
  },
  {
   "cell_type": "code",
   "execution_count": 63,
   "id": "hundred-karen",
   "metadata": {},
   "outputs": [
    {
     "data": {
      "text/html": [
       "<div>\n",
       "<style scoped>\n",
       "    .dataframe tbody tr th:only-of-type {\n",
       "        vertical-align: middle;\n",
       "    }\n",
       "\n",
       "    .dataframe tbody tr th {\n",
       "        vertical-align: top;\n",
       "    }\n",
       "\n",
       "    .dataframe thead th {\n",
       "        text-align: right;\n",
       "    }\n",
       "</style>\n",
       "<table border=\"1\" class=\"dataframe\">\n",
       "  <thead>\n",
       "    <tr style=\"text-align: right;\">\n",
       "      <th></th>\n",
       "      <th>#FallingPlates</th>\n",
       "      <th>Angels at the Tomb</th>\n",
       "      <th>Baptism of Jesus by John</th>\n",
       "      <th>Beatitudes</th>\n",
       "      <th>Birth of Jesus</th>\n",
       "      <th>Blessed are those Who Hear and Obey</th>\n",
       "      <th>Breathe</th>\n",
       "      <th>Burial of Jesus</th>\n",
       "      <th>Childhood of Jesus</th>\n",
       "      <th>Chosen Witness</th>\n",
       "      <th>...</th>\n",
       "      <th>Division in Corinth</th>\n",
       "      <th>Don&amp;#39;t Hold Your Breath</th>\n",
       "      <th>Doubting Thomas</th>\n",
       "      <th>Dying Roads</th>\n",
       "      <th>Eutychus Raised From the Dead at Troas</th>\n",
       "      <th>Falling Away</th>\n",
       "      <th>Feeding 5,000</th>\n",
       "      <th>Fellowship Of Believers</th>\n",
       "      <th>Festus Consults King Agrippa</th>\n",
       "      <th>Finishing Well</th>\n",
       "    </tr>\n",
       "  </thead>\n",
       "  <tbody>\n",
       "    <tr>\n",
       "      <th>Afghanistan</th>\n",
       "      <td>0.0</td>\n",
       "      <td>0.0</td>\n",
       "      <td>0.0</td>\n",
       "      <td>0.0</td>\n",
       "      <td>0.0</td>\n",
       "      <td>0.0</td>\n",
       "      <td>0.0</td>\n",
       "      <td>0.0</td>\n",
       "      <td>0.0</td>\n",
       "      <td>0.0</td>\n",
       "      <td>...</td>\n",
       "      <td>0.0</td>\n",
       "      <td>0.0</td>\n",
       "      <td>0.0</td>\n",
       "      <td>0.0</td>\n",
       "      <td>0.0</td>\n",
       "      <td>0.0</td>\n",
       "      <td>0.0</td>\n",
       "      <td>0.0</td>\n",
       "      <td>0.0</td>\n",
       "      <td>0.0</td>\n",
       "    </tr>\n",
       "    <tr>\n",
       "      <th>Algeria</th>\n",
       "      <td>0.0</td>\n",
       "      <td>0.0</td>\n",
       "      <td>0.0</td>\n",
       "      <td>0.0</td>\n",
       "      <td>0.0</td>\n",
       "      <td>0.0</td>\n",
       "      <td>0.0</td>\n",
       "      <td>0.0</td>\n",
       "      <td>0.0</td>\n",
       "      <td>0.0</td>\n",
       "      <td>...</td>\n",
       "      <td>0.0</td>\n",
       "      <td>0.0</td>\n",
       "      <td>0.0</td>\n",
       "      <td>0.0</td>\n",
       "      <td>0.0</td>\n",
       "      <td>0.0</td>\n",
       "      <td>0.0</td>\n",
       "      <td>0.0</td>\n",
       "      <td>0.0</td>\n",
       "      <td>0.0</td>\n",
       "    </tr>\n",
       "    <tr>\n",
       "      <th>Azerbaijan</th>\n",
       "      <td>0.0</td>\n",
       "      <td>0.0</td>\n",
       "      <td>0.0</td>\n",
       "      <td>0.0</td>\n",
       "      <td>0.0</td>\n",
       "      <td>0.0</td>\n",
       "      <td>0.0</td>\n",
       "      <td>0.0</td>\n",
       "      <td>0.0</td>\n",
       "      <td>0.0</td>\n",
       "      <td>...</td>\n",
       "      <td>0.0</td>\n",
       "      <td>0.0</td>\n",
       "      <td>0.0</td>\n",
       "      <td>0.0</td>\n",
       "      <td>0.0</td>\n",
       "      <td>0.0</td>\n",
       "      <td>0.0</td>\n",
       "      <td>0.0</td>\n",
       "      <td>0.0</td>\n",
       "      <td>0.0</td>\n",
       "    </tr>\n",
       "    <tr>\n",
       "      <th>Bahrain</th>\n",
       "      <td>0.0</td>\n",
       "      <td>0.0</td>\n",
       "      <td>0.0</td>\n",
       "      <td>0.0</td>\n",
       "      <td>0.0</td>\n",
       "      <td>0.0</td>\n",
       "      <td>0.0</td>\n",
       "      <td>0.0</td>\n",
       "      <td>0.0</td>\n",
       "      <td>0.0</td>\n",
       "      <td>...</td>\n",
       "      <td>0.0</td>\n",
       "      <td>0.0</td>\n",
       "      <td>0.0</td>\n",
       "      <td>0.0</td>\n",
       "      <td>0.0</td>\n",
       "      <td>0.0</td>\n",
       "      <td>0.0</td>\n",
       "      <td>0.0</td>\n",
       "      <td>0.0</td>\n",
       "      <td>0.0</td>\n",
       "    </tr>\n",
       "    <tr>\n",
       "      <th>Bangladesh</th>\n",
       "      <td>0.0</td>\n",
       "      <td>0.0</td>\n",
       "      <td>0.0</td>\n",
       "      <td>0.0</td>\n",
       "      <td>0.0</td>\n",
       "      <td>0.0</td>\n",
       "      <td>0.0</td>\n",
       "      <td>0.0</td>\n",
       "      <td>0.0</td>\n",
       "      <td>0.0</td>\n",
       "      <td>...</td>\n",
       "      <td>0.0</td>\n",
       "      <td>0.0</td>\n",
       "      <td>0.0</td>\n",
       "      <td>0.0</td>\n",
       "      <td>0.0</td>\n",
       "      <td>0.0</td>\n",
       "      <td>0.0</td>\n",
       "      <td>0.0</td>\n",
       "      <td>0.0</td>\n",
       "      <td>0.0</td>\n",
       "    </tr>\n",
       "    <tr>\n",
       "      <th>Bhutan</th>\n",
       "      <td>0.0</td>\n",
       "      <td>0.0</td>\n",
       "      <td>0.0</td>\n",
       "      <td>0.0</td>\n",
       "      <td>0.0</td>\n",
       "      <td>0.0</td>\n",
       "      <td>0.0</td>\n",
       "      <td>0.0</td>\n",
       "      <td>0.0</td>\n",
       "      <td>0.0</td>\n",
       "      <td>...</td>\n",
       "      <td>0.0</td>\n",
       "      <td>0.0</td>\n",
       "      <td>0.0</td>\n",
       "      <td>0.0</td>\n",
       "      <td>0.0</td>\n",
       "      <td>0.0</td>\n",
       "      <td>0.0</td>\n",
       "      <td>0.0</td>\n",
       "      <td>0.0</td>\n",
       "      <td>0.0</td>\n",
       "    </tr>\n",
       "    <tr>\n",
       "      <th>Brunei</th>\n",
       "      <td>0.0</td>\n",
       "      <td>0.0</td>\n",
       "      <td>0.0</td>\n",
       "      <td>0.0</td>\n",
       "      <td>0.0</td>\n",
       "      <td>0.0</td>\n",
       "      <td>0.0</td>\n",
       "      <td>0.0</td>\n",
       "      <td>0.0</td>\n",
       "      <td>0.0</td>\n",
       "      <td>...</td>\n",
       "      <td>0.0</td>\n",
       "      <td>0.0</td>\n",
       "      <td>0.0</td>\n",
       "      <td>0.0</td>\n",
       "      <td>0.0</td>\n",
       "      <td>0.0</td>\n",
       "      <td>0.0</td>\n",
       "      <td>0.0</td>\n",
       "      <td>0.0</td>\n",
       "      <td>0.0</td>\n",
       "    </tr>\n",
       "    <tr>\n",
       "      <th>China</th>\n",
       "      <td>0.0</td>\n",
       "      <td>0.0</td>\n",
       "      <td>0.0</td>\n",
       "      <td>0.0</td>\n",
       "      <td>0.0</td>\n",
       "      <td>0.0</td>\n",
       "      <td>0.0</td>\n",
       "      <td>0.0</td>\n",
       "      <td>0.0</td>\n",
       "      <td>0.0</td>\n",
       "      <td>...</td>\n",
       "      <td>0.0</td>\n",
       "      <td>0.0</td>\n",
       "      <td>0.0</td>\n",
       "      <td>0.0</td>\n",
       "      <td>0.0</td>\n",
       "      <td>0.0</td>\n",
       "      <td>0.0</td>\n",
       "      <td>0.0</td>\n",
       "      <td>0.0</td>\n",
       "      <td>0.0</td>\n",
       "    </tr>\n",
       "    <tr>\n",
       "      <th>Egypt</th>\n",
       "      <td>0.0</td>\n",
       "      <td>0.0</td>\n",
       "      <td>0.0</td>\n",
       "      <td>0.0</td>\n",
       "      <td>0.0</td>\n",
       "      <td>0.0</td>\n",
       "      <td>0.0</td>\n",
       "      <td>0.0</td>\n",
       "      <td>0.0</td>\n",
       "      <td>0.0</td>\n",
       "      <td>...</td>\n",
       "      <td>0.0</td>\n",
       "      <td>0.0</td>\n",
       "      <td>0.0</td>\n",
       "      <td>0.0</td>\n",
       "      <td>0.0</td>\n",
       "      <td>0.0</td>\n",
       "      <td>0.0</td>\n",
       "      <td>0.0</td>\n",
       "      <td>0.0</td>\n",
       "      <td>0.0</td>\n",
       "    </tr>\n",
       "    <tr>\n",
       "      <th>India</th>\n",
       "      <td>0.0</td>\n",
       "      <td>0.0</td>\n",
       "      <td>0.0</td>\n",
       "      <td>0.0</td>\n",
       "      <td>0.0</td>\n",
       "      <td>0.0</td>\n",
       "      <td>0.0</td>\n",
       "      <td>0.0</td>\n",
       "      <td>0.0</td>\n",
       "      <td>0.0</td>\n",
       "      <td>...</td>\n",
       "      <td>0.0</td>\n",
       "      <td>0.0</td>\n",
       "      <td>0.0</td>\n",
       "      <td>0.0</td>\n",
       "      <td>0.0</td>\n",
       "      <td>0.0</td>\n",
       "      <td>0.0</td>\n",
       "      <td>0.0</td>\n",
       "      <td>0.0</td>\n",
       "      <td>0.0</td>\n",
       "    </tr>\n",
       "  </tbody>\n",
       "</table>\n",
       "<p>10 rows × 435 columns</p>\n",
       "</div>"
      ],
      "text/plain": [
       "             #FallingPlates  Angels at the Tomb  Baptism of Jesus by John  \\\n",
       "Afghanistan             0.0                 0.0                       0.0   \n",
       "Algeria                 0.0                 0.0                       0.0   \n",
       "Azerbaijan              0.0                 0.0                       0.0   \n",
       "Bahrain                 0.0                 0.0                       0.0   \n",
       "Bangladesh              0.0                 0.0                       0.0   \n",
       "Bhutan                  0.0                 0.0                       0.0   \n",
       "Brunei                  0.0                 0.0                       0.0   \n",
       "China                   0.0                 0.0                       0.0   \n",
       "Egypt                   0.0                 0.0                       0.0   \n",
       "India                   0.0                 0.0                       0.0   \n",
       "\n",
       "             Beatitudes  Birth of Jesus  Blessed are those Who Hear and Obey  \\\n",
       "Afghanistan         0.0             0.0                                  0.0   \n",
       "Algeria             0.0             0.0                                  0.0   \n",
       "Azerbaijan          0.0             0.0                                  0.0   \n",
       "Bahrain             0.0             0.0                                  0.0   \n",
       "Bangladesh          0.0             0.0                                  0.0   \n",
       "Bhutan              0.0             0.0                                  0.0   \n",
       "Brunei              0.0             0.0                                  0.0   \n",
       "China               0.0             0.0                                  0.0   \n",
       "Egypt               0.0             0.0                                  0.0   \n",
       "India               0.0             0.0                                  0.0   \n",
       "\n",
       "             Breathe  Burial of Jesus  Childhood of Jesus  Chosen Witness  \\\n",
       "Afghanistan      0.0              0.0                 0.0             0.0   \n",
       "Algeria          0.0              0.0                 0.0             0.0   \n",
       "Azerbaijan       0.0              0.0                 0.0             0.0   \n",
       "Bahrain          0.0              0.0                 0.0             0.0   \n",
       "Bangladesh       0.0              0.0                 0.0             0.0   \n",
       "Bhutan           0.0              0.0                 0.0             0.0   \n",
       "Brunei           0.0              0.0                 0.0             0.0   \n",
       "China            0.0              0.0                 0.0             0.0   \n",
       "Egypt            0.0              0.0                 0.0             0.0   \n",
       "India            0.0              0.0                 0.0             0.0   \n",
       "\n",
       "             ...  Division in Corinth  Don&#39;t Hold Your Breath  \\\n",
       "Afghanistan  ...                  0.0                         0.0   \n",
       "Algeria      ...                  0.0                         0.0   \n",
       "Azerbaijan   ...                  0.0                         0.0   \n",
       "Bahrain      ...                  0.0                         0.0   \n",
       "Bangladesh   ...                  0.0                         0.0   \n",
       "Bhutan       ...                  0.0                         0.0   \n",
       "Brunei       ...                  0.0                         0.0   \n",
       "China        ...                  0.0                         0.0   \n",
       "Egypt        ...                  0.0                         0.0   \n",
       "India        ...                  0.0                         0.0   \n",
       "\n",
       "             Doubting Thomas  Dying Roads  \\\n",
       "Afghanistan              0.0          0.0   \n",
       "Algeria                  0.0          0.0   \n",
       "Azerbaijan               0.0          0.0   \n",
       "Bahrain                  0.0          0.0   \n",
       "Bangladesh               0.0          0.0   \n",
       "Bhutan                   0.0          0.0   \n",
       "Brunei                   0.0          0.0   \n",
       "China                    0.0          0.0   \n",
       "Egypt                    0.0          0.0   \n",
       "India                    0.0          0.0   \n",
       "\n",
       "             Eutychus Raised From the Dead at Troas  Falling Away  \\\n",
       "Afghanistan                                     0.0           0.0   \n",
       "Algeria                                         0.0           0.0   \n",
       "Azerbaijan                                      0.0           0.0   \n",
       "Bahrain                                         0.0           0.0   \n",
       "Bangladesh                                      0.0           0.0   \n",
       "Bhutan                                          0.0           0.0   \n",
       "Brunei                                          0.0           0.0   \n",
       "China                                           0.0           0.0   \n",
       "Egypt                                           0.0           0.0   \n",
       "India                                           0.0           0.0   \n",
       "\n",
       "             Feeding 5,000  Fellowship Of Believers  \\\n",
       "Afghanistan            0.0                      0.0   \n",
       "Algeria                0.0                      0.0   \n",
       "Azerbaijan             0.0                      0.0   \n",
       "Bahrain                0.0                      0.0   \n",
       "Bangladesh             0.0                      0.0   \n",
       "Bhutan                 0.0                      0.0   \n",
       "Brunei                 0.0                      0.0   \n",
       "China                  0.0                      0.0   \n",
       "Egypt                  0.0                      0.0   \n",
       "India                  0.0                      0.0   \n",
       "\n",
       "             Festus Consults King Agrippa  Finishing Well  \n",
       "Afghanistan                           0.0             0.0  \n",
       "Algeria                               0.0             0.0  \n",
       "Azerbaijan                            0.0             0.0  \n",
       "Bahrain                               0.0             0.0  \n",
       "Bangladesh                            0.0             0.0  \n",
       "Bhutan                                0.0             0.0  \n",
       "Brunei                                0.0             0.0  \n",
       "China                                 0.0             0.0  \n",
       "Egypt                                 0.0             0.0  \n",
       "India                                 0.0             0.0  \n",
       "\n",
       "[10 rows x 435 columns]"
      ]
     },
     "execution_count": 63,
     "metadata": {},
     "output_type": "execute_result"
    }
   ],
   "source": [
    "reviews"
   ]
  },
  {
   "cell_type": "code",
   "execution_count": 64,
   "id": "refined-bridge",
   "metadata": {},
   "outputs": [
    {
     "data": {
      "text/html": [
       "<div>\n",
       "<style scoped>\n",
       "    .dataframe tbody tr th:only-of-type {\n",
       "        vertical-align: middle;\n",
       "    }\n",
       "\n",
       "    .dataframe tbody tr th {\n",
       "        vertical-align: top;\n",
       "    }\n",
       "\n",
       "    .dataframe thead th {\n",
       "        text-align: right;\n",
       "    }\n",
       "</style>\n",
       "<table border=\"1\" class=\"dataframe\">\n",
       "  <thead>\n",
       "    <tr style=\"text-align: right;\">\n",
       "      <th></th>\n",
       "      <th>geo__country</th>\n",
       "      <th>video_title</th>\n",
       "      <th>score</th>\n",
       "    </tr>\n",
       "  </thead>\n",
       "  <tbody>\n",
       "    <tr>\n",
       "      <th>0</th>\n",
       "      <td>Afghanistan</td>\n",
       "      <td>#FallingPlates</td>\n",
       "      <td>1.0</td>\n",
       "    </tr>\n",
       "    <tr>\n",
       "      <th>1</th>\n",
       "      <td>Afghanistan</td>\n",
       "      <td>#FallingPlates</td>\n",
       "      <td>1.0</td>\n",
       "    </tr>\n",
       "    <tr>\n",
       "      <th>2</th>\n",
       "      <td>Afghanistan</td>\n",
       "      <td>Angels at the Tomb</td>\n",
       "      <td>0.1</td>\n",
       "    </tr>\n",
       "    <tr>\n",
       "      <th>3</th>\n",
       "      <td>Afghanistan</td>\n",
       "      <td>Angels at the Tomb</td>\n",
       "      <td>0.5</td>\n",
       "    </tr>\n",
       "    <tr>\n",
       "      <th>4</th>\n",
       "      <td>Afghanistan</td>\n",
       "      <td>Angels at the Tomb</td>\n",
       "      <td>1.0</td>\n",
       "    </tr>\n",
       "  </tbody>\n",
       "</table>\n",
       "</div>"
      ],
      "text/plain": [
       "  geo__country         video_title  score\n",
       "0  Afghanistan      #FallingPlates    1.0\n",
       "1  Afghanistan      #FallingPlates    1.0\n",
       "2  Afghanistan  Angels at the Tomb    0.1\n",
       "3  Afghanistan  Angels at the Tomb    0.5\n",
       "4  Afghanistan  Angels at the Tomb    1.0"
      ]
     },
     "execution_count": 64,
     "metadata": {},
     "output_type": "execute_result"
    }
   ],
   "source": [
    "df.head()"
   ]
  },
  {
   "cell_type": "markdown",
   "id": "0ad20917",
   "metadata": {},
   "source": [
    "# geo__city runthrough"
   ]
  },
  {
   "cell_type": "code",
   "execution_count": 10,
   "id": "271c5d48",
   "metadata": {},
   "outputs": [],
   "source": [
    "#1. import data\n",
    "#2. convert to score\n",
    "#5. drop event_name\n",
    "#3. merge video titles\n",
    "#4. remove unlabeled city names\n",
    "#5. groupby user, item and sum\n",
    "#6. reset index to create list of reviews\n",
    "\n",
    "#7. create pivot table to visualize sparse matrix df\n",
    "#8. create user, movie encoder/id system\n",
    "#9. encode reviews for scipy.sparse.csr_matrix. index MUST be int not str\n",
    "\n",
    "#10. test, train, split"
   ]
  },
  {
   "cell_type": "code",
   "execution_count": 11,
   "id": "vocational-supervisor",
   "metadata": {},
   "outputs": [],
   "source": [
    "#data = pd.read_csv('/Users/djbetts/Desktop/jf_project/data/recommender_top50_geo__city.csv')"
   ]
  },
  {
   "cell_type": "code",
   "execution_count": 12,
   "id": "5a52efc5",
   "metadata": {},
   "outputs": [],
   "source": [
    "data = pd.read_csv('/Users/djbetts/Desktop/jf_project/data/recommender_top50_geo__city_noChina.csv') "
   ]
  },
  {
   "cell_type": "code",
   "execution_count": 13,
   "id": "adf4cc8a",
   "metadata": {},
   "outputs": [
    {
     "data": {
      "text/plain": [
       "Index(['geo__country', 'geo__city', 'event_params__video_title',\n",
       "       'event_params__videotitle', 'event_name'],\n",
       "      dtype='object')"
      ]
     },
     "execution_count": 13,
     "metadata": {},
     "output_type": "execute_result"
    }
   ],
   "source": [
    "data.columns"
   ]
  },
  {
   "cell_type": "code",
   "execution_count": 68,
   "id": "41cefb93",
   "metadata": {},
   "outputs": [],
   "source": [
    "df = data.copy()"
   ]
  },
  {
   "cell_type": "code",
   "execution_count": null,
   "id": "d90e822e",
   "metadata": {},
   "outputs": [],
   "source": []
  },
  {
   "cell_type": "code",
   "execution_count": 69,
   "id": "230e50e8",
   "metadata": {},
   "outputs": [],
   "source": [
    "df = df[df['geo__city'] != '(not set)']"
   ]
  },
  {
   "cell_type": "code",
   "execution_count": 70,
   "id": "c1516f6e",
   "metadata": {},
   "outputs": [],
   "source": [
    "df = merge_video(df)"
   ]
  },
  {
   "cell_type": "code",
   "execution_count": 71,
   "id": "31c8b1a8",
   "metadata": {},
   "outputs": [],
   "source": [
    "df['score'] = df['event_name'].apply(score)"
   ]
  },
  {
   "cell_type": "code",
   "execution_count": 72,
   "id": "496050c6",
   "metadata": {},
   "outputs": [],
   "source": [
    "df.drop(['event_name'], axis=1, inplace=True)"
   ]
  },
  {
   "cell_type": "code",
   "execution_count": 73,
   "id": "21c45e41",
   "metadata": {},
   "outputs": [],
   "source": [
    "groupby = df.groupby(['geo__city', 'video_title'])"
   ]
  },
  {
   "cell_type": "code",
   "execution_count": 74,
   "id": "75c0dd8c",
   "metadata": {},
   "outputs": [],
   "source": [
    "reviews = groupby.mean()"
   ]
  },
  {
   "cell_type": "code",
   "execution_count": null,
   "id": "e84cb4a6",
   "metadata": {},
   "outputs": [],
   "source": []
  },
  {
   "cell_type": "code",
   "execution_count": 75,
   "id": "8d969383",
   "metadata": {},
   "outputs": [],
   "source": [
    "reviews.reset_index(inplace=True)"
   ]
  },
  {
   "cell_type": "code",
   "execution_count": 117,
   "id": "63eab835",
   "metadata": {},
   "outputs": [
    {
     "data": {
      "text/html": [
       "<div>\n",
       "<style scoped>\n",
       "    .dataframe tbody tr th:only-of-type {\n",
       "        vertical-align: middle;\n",
       "    }\n",
       "\n",
       "    .dataframe tbody tr th {\n",
       "        vertical-align: top;\n",
       "    }\n",
       "\n",
       "    .dataframe thead th {\n",
       "        text-align: right;\n",
       "    }\n",
       "</style>\n",
       "<table border=\"1\" class=\"dataframe\">\n",
       "  <thead>\n",
       "    <tr style=\"text-align: right;\">\n",
       "      <th></th>\n",
       "      <th>city_id</th>\n",
       "      <th>movie_id</th>\n",
       "      <th>score</th>\n",
       "    </tr>\n",
       "  </thead>\n",
       "  <tbody>\n",
       "    <tr>\n",
       "      <th>0</th>\n",
       "      <td>1</td>\n",
       "      <td>27</td>\n",
       "      <td>0.642857</td>\n",
       "    </tr>\n",
       "    <tr>\n",
       "      <th>1</th>\n",
       "      <td>1</td>\n",
       "      <td>30</td>\n",
       "      <td>0.642857</td>\n",
       "    </tr>\n",
       "    <tr>\n",
       "      <th>2</th>\n",
       "      <td>1</td>\n",
       "      <td>41</td>\n",
       "      <td>0.642857</td>\n",
       "    </tr>\n",
       "    <tr>\n",
       "      <th>3</th>\n",
       "      <td>1</td>\n",
       "      <td>146</td>\n",
       "      <td>0.642857</td>\n",
       "    </tr>\n",
       "    <tr>\n",
       "      <th>4</th>\n",
       "      <td>1</td>\n",
       "      <td>238</td>\n",
       "      <td>0.833333</td>\n",
       "    </tr>\n",
       "    <tr>\n",
       "      <th>...</th>\n",
       "      <td>...</td>\n",
       "      <td>...</td>\n",
       "      <td>...</td>\n",
       "    </tr>\n",
       "    <tr>\n",
       "      <th>2822</th>\n",
       "      <td>546</td>\n",
       "      <td>148</td>\n",
       "      <td>0.642857</td>\n",
       "    </tr>\n",
       "    <tr>\n",
       "      <th>2823</th>\n",
       "      <td>546</td>\n",
       "      <td>157</td>\n",
       "      <td>0.642857</td>\n",
       "    </tr>\n",
       "    <tr>\n",
       "      <th>2824</th>\n",
       "      <td>546</td>\n",
       "      <td>196</td>\n",
       "      <td>0.642857</td>\n",
       "    </tr>\n",
       "    <tr>\n",
       "      <th>2825</th>\n",
       "      <td>546</td>\n",
       "      <td>202</td>\n",
       "      <td>0.642857</td>\n",
       "    </tr>\n",
       "    <tr>\n",
       "      <th>2826</th>\n",
       "      <td>546</td>\n",
       "      <td>241</td>\n",
       "      <td>0.642857</td>\n",
       "    </tr>\n",
       "  </tbody>\n",
       "</table>\n",
       "<p>2827 rows × 3 columns</p>\n",
       "</div>"
      ],
      "text/plain": [
       "      city_id  movie_id     score\n",
       "0           1        27  0.642857\n",
       "1           1        30  0.642857\n",
       "2           1        41  0.642857\n",
       "3           1       146  0.642857\n",
       "4           1       238  0.833333\n",
       "...       ...       ...       ...\n",
       "2822      546       148  0.642857\n",
       "2823      546       157  0.642857\n",
       "2824      546       196  0.642857\n",
       "2825      546       202  0.642857\n",
       "2826      546       241  0.642857\n",
       "\n",
       "[2827 rows x 3 columns]"
      ]
     },
     "execution_count": 117,
     "metadata": {},
     "output_type": "execute_result"
    }
   ],
   "source": [
    "reviews"
   ]
  },
  {
   "cell_type": "code",
   "execution_count": 76,
   "id": "0b9e98ac",
   "metadata": {},
   "outputs": [],
   "source": [
    "pivot_table = reviews.pivot_table(values='score', index='geo__city', columns='video_title')"
   ]
  },
  {
   "cell_type": "code",
   "execution_count": 77,
   "id": "8d22380c",
   "metadata": {},
   "outputs": [],
   "source": [
    "cities = pd.Series(pivot_table.index, index=np.arange(1,(len(pivot_table.index)+1)))\n",
    "#cities['id'] = pd.Series(np.arange(1,(len(cities)+1)))"
   ]
  },
  {
   "cell_type": "code",
   "execution_count": 78,
   "id": "baafdf21",
   "metadata": {},
   "outputs": [
    {
     "data": {
      "text/plain": [
       "1      10th of Ramadan City\n",
       "2       6th of October City\n",
       "3                  Abu Road\n",
       "4                     Adoor\n",
       "5                  Agartala\n",
       "               ...         \n",
       "542                   Vyara\n",
       "543                Warangal\n",
       "544                  Wardha\n",
       "545                Yavatmal\n",
       "546                 Zagazig\n",
       "Name: geo__city, Length: 546, dtype: object"
      ]
     },
     "execution_count": 78,
     "metadata": {},
     "output_type": "execute_result"
    }
   ],
   "source": [
    "cities"
   ]
  },
  {
   "cell_type": "code",
   "execution_count": 79,
   "id": "f38f5f64",
   "metadata": {},
   "outputs": [],
   "source": [
    "cities_code = {v: k for k, v in cities.items()}\n",
    "cities_decode = {v: k for k, v in cities_code.items()}"
   ]
  },
  {
   "cell_type": "code",
   "execution_count": 80,
   "id": "5e27e161",
   "metadata": {},
   "outputs": [],
   "source": [
    "reviews['city_id'] = reviews.geo__city.replace(to_replace=cities_code)"
   ]
  },
  {
   "cell_type": "code",
   "execution_count": 81,
   "id": "53e43307",
   "metadata": {},
   "outputs": [],
   "source": [
    "movies = pd.Series(pivot_table.columns, index=np.arange(1,(len(pivot_table.columns)+1)))"
   ]
  },
  {
   "cell_type": "code",
   "execution_count": 82,
   "id": "f7e97bab",
   "metadata": {},
   "outputs": [
    {
     "data": {
      "text/plain": [
       "1                    #FallingPlates\n",
       "2                   #फालिंगप्लेट्स \n",
       "3                     1- في العائلة\n",
       "4      1. Jesus, Our Loving Pursuer\n",
       "5                           1.가족 중에\n",
       "                   ...             \n",
       "272                  النضال والنجاح\n",
       "273                     سفر الأعمال\n",
       "274            شفاء من الروح الشرير\n",
       "275                       طرق الموت\n",
       "276                       فيلم يسوع\n",
       "Name: video_title, Length: 276, dtype: object"
      ]
     },
     "execution_count": 82,
     "metadata": {},
     "output_type": "execute_result"
    }
   ],
   "source": [
    "movies"
   ]
  },
  {
   "cell_type": "code",
   "execution_count": 83,
   "id": "9f431521",
   "metadata": {},
   "outputs": [],
   "source": [
    "#movies['id'] = pd.Series(np.arange(1,(len(movies)+1)))"
   ]
  },
  {
   "cell_type": "code",
   "execution_count": 84,
   "id": "91996393",
   "metadata": {},
   "outputs": [],
   "source": [
    "movies_code = {v: k for k, v in movies.items()}\n",
    "movies_decode = {v: k for k, v in movies_code.items()}"
   ]
  },
  {
   "cell_type": "code",
   "execution_count": 85,
   "id": "b9fc3860",
   "metadata": {},
   "outputs": [],
   "source": [
    "reviews['movie_id'] = reviews.video_title.replace(to_replace=movies_code)"
   ]
  },
  {
   "cell_type": "code",
   "execution_count": 86,
   "id": "d2fc9a7e",
   "metadata": {},
   "outputs": [],
   "source": [
    "reviews = reviews[['city_id', 'movie_id', 'score']]"
   ]
  },
  {
   "cell_type": "code",
   "execution_count": 87,
   "id": "2845839f",
   "metadata": {},
   "outputs": [
    {
     "data": {
      "text/html": [
       "<div>\n",
       "<style scoped>\n",
       "    .dataframe tbody tr th:only-of-type {\n",
       "        vertical-align: middle;\n",
       "    }\n",
       "\n",
       "    .dataframe tbody tr th {\n",
       "        vertical-align: top;\n",
       "    }\n",
       "\n",
       "    .dataframe thead th {\n",
       "        text-align: right;\n",
       "    }\n",
       "</style>\n",
       "<table border=\"1\" class=\"dataframe\">\n",
       "  <thead>\n",
       "    <tr style=\"text-align: right;\">\n",
       "      <th></th>\n",
       "      <th>city_id</th>\n",
       "      <th>movie_id</th>\n",
       "      <th>score</th>\n",
       "    </tr>\n",
       "  </thead>\n",
       "  <tbody>\n",
       "    <tr>\n",
       "      <th>0</th>\n",
       "      <td>1</td>\n",
       "      <td>27</td>\n",
       "      <td>0.642857</td>\n",
       "    </tr>\n",
       "    <tr>\n",
       "      <th>1</th>\n",
       "      <td>1</td>\n",
       "      <td>30</td>\n",
       "      <td>0.642857</td>\n",
       "    </tr>\n",
       "    <tr>\n",
       "      <th>2</th>\n",
       "      <td>1</td>\n",
       "      <td>41</td>\n",
       "      <td>0.642857</td>\n",
       "    </tr>\n",
       "    <tr>\n",
       "      <th>3</th>\n",
       "      <td>1</td>\n",
       "      <td>146</td>\n",
       "      <td>0.642857</td>\n",
       "    </tr>\n",
       "    <tr>\n",
       "      <th>4</th>\n",
       "      <td>1</td>\n",
       "      <td>238</td>\n",
       "      <td>0.833333</td>\n",
       "    </tr>\n",
       "    <tr>\n",
       "      <th>...</th>\n",
       "      <td>...</td>\n",
       "      <td>...</td>\n",
       "      <td>...</td>\n",
       "    </tr>\n",
       "    <tr>\n",
       "      <th>2822</th>\n",
       "      <td>546</td>\n",
       "      <td>148</td>\n",
       "      <td>0.642857</td>\n",
       "    </tr>\n",
       "    <tr>\n",
       "      <th>2823</th>\n",
       "      <td>546</td>\n",
       "      <td>157</td>\n",
       "      <td>0.642857</td>\n",
       "    </tr>\n",
       "    <tr>\n",
       "      <th>2824</th>\n",
       "      <td>546</td>\n",
       "      <td>196</td>\n",
       "      <td>0.642857</td>\n",
       "    </tr>\n",
       "    <tr>\n",
       "      <th>2825</th>\n",
       "      <td>546</td>\n",
       "      <td>202</td>\n",
       "      <td>0.642857</td>\n",
       "    </tr>\n",
       "    <tr>\n",
       "      <th>2826</th>\n",
       "      <td>546</td>\n",
       "      <td>241</td>\n",
       "      <td>0.642857</td>\n",
       "    </tr>\n",
       "  </tbody>\n",
       "</table>\n",
       "<p>2827 rows × 3 columns</p>\n",
       "</div>"
      ],
      "text/plain": [
       "      city_id  movie_id     score\n",
       "0           1        27  0.642857\n",
       "1           1        30  0.642857\n",
       "2           1        41  0.642857\n",
       "3           1       146  0.642857\n",
       "4           1       238  0.833333\n",
       "...       ...       ...       ...\n",
       "2822      546       148  0.642857\n",
       "2823      546       157  0.642857\n",
       "2824      546       196  0.642857\n",
       "2825      546       202  0.642857\n",
       "2826      546       241  0.642857\n",
       "\n",
       "[2827 rows x 3 columns]"
      ]
     },
     "execution_count": 87,
     "metadata": {},
     "output_type": "execute_result"
    }
   ],
   "source": [
    "reviews"
   ]
  },
  {
   "cell_type": "code",
   "execution_count": 88,
   "id": "f91b64d7",
   "metadata": {},
   "outputs": [],
   "source": [
    "train, test = train_test_split(reviews, random_state = 100)"
   ]
  },
  {
   "cell_type": "code",
   "execution_count": 89,
   "id": "2dd602b4",
   "metadata": {},
   "outputs": [
    {
     "data": {
      "text/plain": [
       "73"
      ]
     },
     "execution_count": 89,
     "metadata": {},
     "output_type": "execute_result"
    }
   ],
   "source": [
    "# Number of users that are in train and not test\n",
    "len(np.setdiff1d(test.city_id.unique(), train.city_id.unique()))"
   ]
  },
  {
   "cell_type": "code",
   "execution_count": 90,
   "id": "f6e81194",
   "metadata": {},
   "outputs": [
    {
     "data": {
      "text/plain": [
       "32"
      ]
     },
     "execution_count": 90,
     "metadata": {},
     "output_type": "execute_result"
    }
   ],
   "source": [
    "# Number of movies in train and not test\n",
    "len(np.setdiff1d(test.movie_id.unique(), train.movie_id.unique()))"
   ]
  },
  {
   "cell_type": "code",
   "execution_count": 91,
   "id": "c6776451",
   "metadata": {},
   "outputs": [],
   "source": [
    "average_rating = reviews.groupby('movie_id').mean()['score']"
   ]
  },
  {
   "cell_type": "code",
   "execution_count": 92,
   "id": "8c906866",
   "metadata": {},
   "outputs": [
    {
     "data": {
      "text/plain": [
       "movie_id\n",
       "109                   Faith v. Feeling\n",
       "275                          طرق الموت\n",
       "227    StoryClubs: Jesus and Zacchaeus\n",
       "71           Day 7: Grace on the Cross\n",
       "69                    Day 5: Zacchaeus\n",
       "                    ...               \n",
       "231                Talk with Nicodemus\n",
       "242                The Four Principles\n",
       "65           Day 4: Devil Tempts Jesus\n",
       "176                 LUMO - Luke 1:1-56\n",
       "258                     Tümlükden Nura\n",
       "Name: video_title, Length: 276, dtype: object"
      ]
     },
     "execution_count": 92,
     "metadata": {},
     "output_type": "execute_result"
    }
   ],
   "source": [
    "movies.loc[average_rating.sort_values().index]"
   ]
  },
  {
   "cell_type": "code",
   "execution_count": 93,
   "id": "928d7c28",
   "metadata": {},
   "outputs": [],
   "source": [
    "ratings_as_mat = csr_matrix((train.score, \n",
    "        ((train.city_id), (train.movie_id))))"
   ]
  },
  {
   "cell_type": "code",
   "execution_count": 94,
   "id": "c0808a60",
   "metadata": {},
   "outputs": [
    {
     "data": {
      "text/plain": [
       "(547, 277)"
      ]
     },
     "execution_count": 94,
     "metadata": {},
     "output_type": "execute_result"
    }
   ],
   "source": [
    "ratings_as_mat.shape"
   ]
  },
  {
   "cell_type": "code",
   "execution_count": 95,
   "id": "262011f3",
   "metadata": {},
   "outputs": [],
   "source": [
    "rec = ItemItemRecommender(neighborhood_size=75)\n",
    "rec.fit(ratings_as_mat)"
   ]
  },
  {
   "cell_type": "markdown",
   "id": "74805ce2",
   "metadata": {},
   "source": [
    "# Finally testing!"
   ]
  },
  {
   "cell_type": "code",
   "execution_count": 97,
   "id": "fc73c801",
   "metadata": {},
   "outputs": [
    {
     "data": {
      "text/html": [
       "<div>\n",
       "<style scoped>\n",
       "    .dataframe tbody tr th:only-of-type {\n",
       "        vertical-align: middle;\n",
       "    }\n",
       "\n",
       "    .dataframe tbody tr th {\n",
       "        vertical-align: top;\n",
       "    }\n",
       "\n",
       "    .dataframe thead th {\n",
       "        text-align: right;\n",
       "    }\n",
       "</style>\n",
       "<table border=\"1\" class=\"dataframe\">\n",
       "  <thead>\n",
       "    <tr style=\"text-align: right;\">\n",
       "      <th></th>\n",
       "      <th>movie_id</th>\n",
       "      <th>score</th>\n",
       "    </tr>\n",
       "    <tr>\n",
       "      <th>city_id</th>\n",
       "      <th></th>\n",
       "      <th></th>\n",
       "    </tr>\n",
       "  </thead>\n",
       "  <tbody>\n",
       "    <tr>\n",
       "      <th>2</th>\n",
       "      <td>3</td>\n",
       "      <td>3</td>\n",
       "    </tr>\n",
       "    <tr>\n",
       "      <th>3</th>\n",
       "      <td>1</td>\n",
       "      <td>1</td>\n",
       "    </tr>\n",
       "    <tr>\n",
       "      <th>5</th>\n",
       "      <td>1</td>\n",
       "      <td>1</td>\n",
       "    </tr>\n",
       "    <tr>\n",
       "      <th>6</th>\n",
       "      <td>4</td>\n",
       "      <td>4</td>\n",
       "    </tr>\n",
       "    <tr>\n",
       "      <th>7</th>\n",
       "      <td>4</td>\n",
       "      <td>4</td>\n",
       "    </tr>\n",
       "    <tr>\n",
       "      <th>9</th>\n",
       "      <td>1</td>\n",
       "      <td>1</td>\n",
       "    </tr>\n",
       "    <tr>\n",
       "      <th>10</th>\n",
       "      <td>1</td>\n",
       "      <td>1</td>\n",
       "    </tr>\n",
       "    <tr>\n",
       "      <th>12</th>\n",
       "      <td>1</td>\n",
       "      <td>1</td>\n",
       "    </tr>\n",
       "    <tr>\n",
       "      <th>14</th>\n",
       "      <td>13</td>\n",
       "      <td>13</td>\n",
       "    </tr>\n",
       "    <tr>\n",
       "      <th>15</th>\n",
       "      <td>1</td>\n",
       "      <td>1</td>\n",
       "    </tr>\n",
       "    <tr>\n",
       "      <th>16</th>\n",
       "      <td>1</td>\n",
       "      <td>1</td>\n",
       "    </tr>\n",
       "    <tr>\n",
       "      <th>17</th>\n",
       "      <td>1</td>\n",
       "      <td>1</td>\n",
       "    </tr>\n",
       "    <tr>\n",
       "      <th>19</th>\n",
       "      <td>1</td>\n",
       "      <td>1</td>\n",
       "    </tr>\n",
       "    <tr>\n",
       "      <th>21</th>\n",
       "      <td>1</td>\n",
       "      <td>1</td>\n",
       "    </tr>\n",
       "    <tr>\n",
       "      <th>22</th>\n",
       "      <td>1</td>\n",
       "      <td>1</td>\n",
       "    </tr>\n",
       "    <tr>\n",
       "      <th>32</th>\n",
       "      <td>1</td>\n",
       "      <td>1</td>\n",
       "    </tr>\n",
       "    <tr>\n",
       "      <th>34</th>\n",
       "      <td>1</td>\n",
       "      <td>1</td>\n",
       "    </tr>\n",
       "    <tr>\n",
       "      <th>36</th>\n",
       "      <td>5</td>\n",
       "      <td>5</td>\n",
       "    </tr>\n",
       "    <tr>\n",
       "      <th>38</th>\n",
       "      <td>3</td>\n",
       "      <td>3</td>\n",
       "    </tr>\n",
       "    <tr>\n",
       "      <th>39</th>\n",
       "      <td>7</td>\n",
       "      <td>7</td>\n",
       "    </tr>\n",
       "  </tbody>\n",
       "</table>\n",
       "</div>"
      ],
      "text/plain": [
       "         movie_id  score\n",
       "city_id                 \n",
       "2               3      3\n",
       "3               1      1\n",
       "5               1      1\n",
       "6               4      4\n",
       "7               4      4\n",
       "9               1      1\n",
       "10              1      1\n",
       "12              1      1\n",
       "14             13     13\n",
       "15              1      1\n",
       "16              1      1\n",
       "17              1      1\n",
       "19              1      1\n",
       "21              1      1\n",
       "22              1      1\n",
       "32              1      1\n",
       "34              1      1\n",
       "36              5      5\n",
       "38              3      3\n",
       "39              7      7"
      ]
     },
     "execution_count": 97,
     "metadata": {},
     "output_type": "execute_result"
    }
   ],
   "source": [
    "test.groupby('city_id').count().head(20)"
   ]
  },
  {
   "cell_type": "code",
   "execution_count": 116,
   "id": "4e6a6c30",
   "metadata": {},
   "outputs": [],
   "source": [
    "def test_function(city_id):\n",
    "    city_name = cities.loc[city_id]\n",
    "    print(f'City selected: {city_name}')\n",
    "    \n",
    "    city_test_df = test[test.city_id == city_id]\n",
    "    predictions = rec.pred_one_user(user_id=city_id)\n",
    "    city_test_df['prediction'] = predictions[test[test.city_id == city_id].movie_id.values]\n",
    "    \n",
    "    print(city_test_df)\n",
    "    \n",
    "    mse = sqrt(mean_squared_error(city_test_df.score, city_test_df.prediction))\n",
    "    recommend = movies.loc[rec.top_n_recs(user_id=city_id, n=10)]\n",
    "    \n",
    "    print(mse)\n",
    "    print(recommend)"
   ]
  },
  {
   "cell_type": "code",
   "execution_count": 98,
   "id": "732f7d61",
   "metadata": {},
   "outputs": [
    {
     "data": {
      "text/plain": [
       "'Alexandria'"
      ]
     },
     "execution_count": 98,
     "metadata": {},
     "output_type": "execute_result"
    }
   ],
   "source": [
    "cities.loc[14]"
   ]
  },
  {
   "cell_type": "code",
   "execution_count": 99,
   "id": "dc198720",
   "metadata": {},
   "outputs": [],
   "source": [
    "city_ten = test[test.city_id == 14]"
   ]
  },
  {
   "cell_type": "code",
   "execution_count": 100,
   "id": "0b0aa444",
   "metadata": {},
   "outputs": [
    {
     "name": "stderr",
     "output_type": "stream",
     "text": [
      "/Users/djbetts/Desktop/jf_project/src/ItemItemRecommender.py:44: RuntimeWarning: invalid value encountered in true_divide\n",
      "  self.item_sim_mat[item_to_rate, relevant_items].sum()\n"
     ]
    }
   ],
   "source": [
    "predictions = rec.pred_one_user(user_id=14)"
   ]
  },
  {
   "cell_type": "code",
   "execution_count": 101,
   "id": "ed72ad68",
   "metadata": {},
   "outputs": [
    {
     "name": "stderr",
     "output_type": "stream",
     "text": [
      "/Users/djbetts/opt/anaconda3/lib/python3.7/site-packages/ipykernel_launcher.py:1: SettingWithCopyWarning: \n",
      "A value is trying to be set on a copy of a slice from a DataFrame.\n",
      "Try using .loc[row_indexer,col_indexer] = value instead\n",
      "\n",
      "See the caveats in the documentation: https://pandas.pydata.org/pandas-docs/stable/user_guide/indexing.html#returning-a-view-versus-a-copy\n",
      "  \"\"\"Entry point for launching an IPython kernel.\n"
     ]
    },
    {
     "data": {
      "text/html": [
       "<div>\n",
       "<style scoped>\n",
       "    .dataframe tbody tr th:only-of-type {\n",
       "        vertical-align: middle;\n",
       "    }\n",
       "\n",
       "    .dataframe tbody tr th {\n",
       "        vertical-align: top;\n",
       "    }\n",
       "\n",
       "    .dataframe thead th {\n",
       "        text-align: right;\n",
       "    }\n",
       "</style>\n",
       "<table border=\"1\" class=\"dataframe\">\n",
       "  <thead>\n",
       "    <tr style=\"text-align: right;\">\n",
       "      <th></th>\n",
       "      <th>city_id</th>\n",
       "      <th>movie_id</th>\n",
       "      <th>score</th>\n",
       "      <th>prediction</th>\n",
       "    </tr>\n",
       "  </thead>\n",
       "  <tbody>\n",
       "    <tr>\n",
       "      <th>98</th>\n",
       "      <td>14</td>\n",
       "      <td>127</td>\n",
       "      <td>0.587500</td>\n",
       "      <td>0.716321</td>\n",
       "    </tr>\n",
       "    <tr>\n",
       "      <th>124</th>\n",
       "      <td>14</td>\n",
       "      <td>217</td>\n",
       "      <td>0.700000</td>\n",
       "      <td>0.693841</td>\n",
       "    </tr>\n",
       "    <tr>\n",
       "      <th>117</th>\n",
       "      <td>14</td>\n",
       "      <td>197</td>\n",
       "      <td>0.700000</td>\n",
       "      <td>0.675110</td>\n",
       "    </tr>\n",
       "    <tr>\n",
       "      <th>116</th>\n",
       "      <td>14</td>\n",
       "      <td>196</td>\n",
       "      <td>0.642857</td>\n",
       "      <td>0.729992</td>\n",
       "    </tr>\n",
       "    <tr>\n",
       "      <th>105</th>\n",
       "      <td>14</td>\n",
       "      <td>157</td>\n",
       "      <td>0.642857</td>\n",
       "      <td>0.679195</td>\n",
       "    </tr>\n",
       "    <tr>\n",
       "      <th>110</th>\n",
       "      <td>14</td>\n",
       "      <td>185</td>\n",
       "      <td>0.642857</td>\n",
       "      <td>0.723012</td>\n",
       "    </tr>\n",
       "    <tr>\n",
       "      <th>121</th>\n",
       "      <td>14</td>\n",
       "      <td>212</td>\n",
       "      <td>1.000000</td>\n",
       "      <td>0.737688</td>\n",
       "    </tr>\n",
       "    <tr>\n",
       "      <th>107</th>\n",
       "      <td>14</td>\n",
       "      <td>173</td>\n",
       "      <td>0.587500</td>\n",
       "      <td>0.000000</td>\n",
       "    </tr>\n",
       "    <tr>\n",
       "      <th>115</th>\n",
       "      <td>14</td>\n",
       "      <td>193</td>\n",
       "      <td>0.587500</td>\n",
       "      <td>0.783900</td>\n",
       "    </tr>\n",
       "    <tr>\n",
       "      <th>130</th>\n",
       "      <td>14</td>\n",
       "      <td>249</td>\n",
       "      <td>0.587500</td>\n",
       "      <td>0.816016</td>\n",
       "    </tr>\n",
       "    <tr>\n",
       "      <th>85</th>\n",
       "      <td>14</td>\n",
       "      <td>82</td>\n",
       "      <td>0.642857</td>\n",
       "      <td>0.791826</td>\n",
       "    </tr>\n",
       "    <tr>\n",
       "      <th>75</th>\n",
       "      <td>14</td>\n",
       "      <td>14</td>\n",
       "      <td>1.000000</td>\n",
       "      <td>0.674322</td>\n",
       "    </tr>\n",
       "    <tr>\n",
       "      <th>114</th>\n",
       "      <td>14</td>\n",
       "      <td>192</td>\n",
       "      <td>0.642857</td>\n",
       "      <td>0.816016</td>\n",
       "    </tr>\n",
       "  </tbody>\n",
       "</table>\n",
       "</div>"
      ],
      "text/plain": [
       "     city_id  movie_id     score  prediction\n",
       "98        14       127  0.587500    0.716321\n",
       "124       14       217  0.700000    0.693841\n",
       "117       14       197  0.700000    0.675110\n",
       "116       14       196  0.642857    0.729992\n",
       "105       14       157  0.642857    0.679195\n",
       "110       14       185  0.642857    0.723012\n",
       "121       14       212  1.000000    0.737688\n",
       "107       14       173  0.587500    0.000000\n",
       "115       14       193  0.587500    0.783900\n",
       "130       14       249  0.587500    0.816016\n",
       "85        14        82  0.642857    0.791826\n",
       "75        14        14  1.000000    0.674322\n",
       "114       14       192  0.642857    0.816016"
      ]
     },
     "execution_count": 101,
     "metadata": {},
     "output_type": "execute_result"
    }
   ],
   "source": [
    "city_ten['prediction'] = predictions[test[test.city_id == 14].movie_id.values]\n",
    "city_ten"
   ]
  },
  {
   "cell_type": "code",
   "execution_count": 102,
   "id": "c63b77a2",
   "metadata": {},
   "outputs": [
    {
     "name": "stdout",
     "output_type": "stream",
     "text": [
      "Isaiah\n",
      "The Thief Promised Paradise\n"
     ]
    }
   ],
   "source": [
    "print(movies.loc[145])\n",
    "print(movies.loc[251])"
   ]
  },
  {
   "cell_type": "code",
   "execution_count": 103,
   "id": "b2f74554",
   "metadata": {},
   "outputs": [
    {
     "name": "stderr",
     "output_type": "stream",
     "text": [
      "/Users/djbetts/opt/anaconda3/lib/python3.7/site-packages/ipykernel_launcher.py:1: SettingWithCopyWarning: \n",
      "A value is trying to be set on a copy of a slice from a DataFrame.\n",
      "Try using .loc[row_indexer,col_indexer] = value instead\n",
      "\n",
      "See the caveats in the documentation: https://pandas.pydata.org/pandas-docs/stable/user_guide/indexing.html#returning-a-view-versus-a-copy\n",
      "  \"\"\"Entry point for launching an IPython kernel.\n"
     ]
    }
   ],
   "source": [
    "city_ten['movie_id_decode'] = city_ten.movie_id.replace(movies_decode)"
   ]
  },
  {
   "cell_type": "code",
   "execution_count": 104,
   "id": "d7448943",
   "metadata": {},
   "outputs": [
    {
     "data": {
      "text/html": [
       "<div>\n",
       "<style scoped>\n",
       "    .dataframe tbody tr th:only-of-type {\n",
       "        vertical-align: middle;\n",
       "    }\n",
       "\n",
       "    .dataframe tbody tr th {\n",
       "        vertical-align: top;\n",
       "    }\n",
       "\n",
       "    .dataframe thead th {\n",
       "        text-align: right;\n",
       "    }\n",
       "</style>\n",
       "<table border=\"1\" class=\"dataframe\">\n",
       "  <thead>\n",
       "    <tr style=\"text-align: right;\">\n",
       "      <th></th>\n",
       "      <th>city_id</th>\n",
       "      <th>movie_id</th>\n",
       "      <th>score</th>\n",
       "      <th>prediction</th>\n",
       "      <th>movie_id_decode</th>\n",
       "    </tr>\n",
       "  </thead>\n",
       "  <tbody>\n",
       "    <tr>\n",
       "      <th>98</th>\n",
       "      <td>14</td>\n",
       "      <td>127</td>\n",
       "      <td>0.587500</td>\n",
       "      <td>0.716321</td>\n",
       "      <td>Great Commission and Ascension</td>\n",
       "    </tr>\n",
       "    <tr>\n",
       "      <th>124</th>\n",
       "      <td>14</td>\n",
       "      <td>217</td>\n",
       "      <td>0.700000</td>\n",
       "      <td>0.693841</td>\n",
       "      <td>Samaritan Woman</td>\n",
       "    </tr>\n",
       "    <tr>\n",
       "      <th>117</th>\n",
       "      <td>14</td>\n",
       "      <td>197</td>\n",
       "      <td>0.700000</td>\n",
       "      <td>0.675110</td>\n",
       "      <td>My Last Day</td>\n",
       "    </tr>\n",
       "    <tr>\n",
       "      <th>116</th>\n",
       "      <td>14</td>\n",
       "      <td>196</td>\n",
       "      <td>0.642857</td>\n",
       "      <td>0.729992</td>\n",
       "      <td>Miraculous Catch of Fish</td>\n",
       "    </tr>\n",
       "    <tr>\n",
       "      <th>105</th>\n",
       "      <td>14</td>\n",
       "      <td>157</td>\n",
       "      <td>0.642857</td>\n",
       "      <td>0.679195</td>\n",
       "      <td>Jesus Proclaims Fulfillment of the Scriptures</td>\n",
       "    </tr>\n",
       "    <tr>\n",
       "      <th>110</th>\n",
       "      <td>14</td>\n",
       "      <td>185</td>\n",
       "      <td>0.642857</td>\n",
       "      <td>0.723012</td>\n",
       "      <td>Legion</td>\n",
       "    </tr>\n",
       "    <tr>\n",
       "      <th>121</th>\n",
       "      <td>14</td>\n",
       "      <td>212</td>\n",
       "      <td>1.000000</td>\n",
       "      <td>0.737688</td>\n",
       "      <td>Portions</td>\n",
       "    </tr>\n",
       "    <tr>\n",
       "      <th>107</th>\n",
       "      <td>14</td>\n",
       "      <td>173</td>\n",
       "      <td>0.587500</td>\n",
       "      <td>0.000000</td>\n",
       "      <td>Jätku Leiba</td>\n",
       "    </tr>\n",
       "    <tr>\n",
       "      <th>115</th>\n",
       "      <td>14</td>\n",
       "      <td>193</td>\n",
       "      <td>0.587500</td>\n",
       "      <td>0.783900</td>\n",
       "      <td>Mary Magdalene Freed from Demons</td>\n",
       "    </tr>\n",
       "    <tr>\n",
       "      <th>130</th>\n",
       "      <td>14</td>\n",
       "      <td>249</td>\n",
       "      <td>0.587500</td>\n",
       "      <td>0.816016</td>\n",
       "      <td>The Story Short Film</td>\n",
       "    </tr>\n",
       "    <tr>\n",
       "      <th>85</th>\n",
       "      <td>14</td>\n",
       "      <td>82</td>\n",
       "      <td>0.642857</td>\n",
       "      <td>0.791826</td>\n",
       "      <td>Doll Face</td>\n",
       "    </tr>\n",
       "    <tr>\n",
       "      <th>75</th>\n",
       "      <td>14</td>\n",
       "      <td>14</td>\n",
       "      <td>1.000000</td>\n",
       "      <td>0.674322</td>\n",
       "      <td>7. Jesus Our Living Water</td>\n",
       "    </tr>\n",
       "    <tr>\n",
       "      <th>114</th>\n",
       "      <td>14</td>\n",
       "      <td>192</td>\n",
       "      <td>0.642857</td>\n",
       "      <td>0.816016</td>\n",
       "      <td>Marea</td>\n",
       "    </tr>\n",
       "  </tbody>\n",
       "</table>\n",
       "</div>"
      ],
      "text/plain": [
       "     city_id  movie_id     score  prediction  \\\n",
       "98        14       127  0.587500    0.716321   \n",
       "124       14       217  0.700000    0.693841   \n",
       "117       14       197  0.700000    0.675110   \n",
       "116       14       196  0.642857    0.729992   \n",
       "105       14       157  0.642857    0.679195   \n",
       "110       14       185  0.642857    0.723012   \n",
       "121       14       212  1.000000    0.737688   \n",
       "107       14       173  0.587500    0.000000   \n",
       "115       14       193  0.587500    0.783900   \n",
       "130       14       249  0.587500    0.816016   \n",
       "85        14        82  0.642857    0.791826   \n",
       "75        14        14  1.000000    0.674322   \n",
       "114       14       192  0.642857    0.816016   \n",
       "\n",
       "                                   movie_id_decode  \n",
       "98                  Great Commission and Ascension  \n",
       "124                                Samaritan Woman  \n",
       "117                                    My Last Day  \n",
       "116                       Miraculous Catch of Fish  \n",
       "105  Jesus Proclaims Fulfillment of the Scriptures  \n",
       "110                                         Legion  \n",
       "121                                       Portions  \n",
       "107                                    Jätku Leiba  \n",
       "115               Mary Magdalene Freed from Demons  \n",
       "130                           The Story Short Film  \n",
       "85                                       Doll Face  \n",
       "75                       7. Jesus Our Living Water  \n",
       "114                                          Marea  "
      ]
     },
     "execution_count": 104,
     "metadata": {},
     "output_type": "execute_result"
    }
   ],
   "source": [
    "city_ten"
   ]
  },
  {
   "cell_type": "code",
   "execution_count": 105,
   "id": "da508d33",
   "metadata": {},
   "outputs": [
    {
     "data": {
      "image/png": "[encoded data removed]",
      "text/plain": [
       "<Figure size 432x288 with 1 Axes>"
      ]
     },
     "metadata": {
      "needs_background": "light"
     },
     "output_type": "display_data"
    }
   ],
   "source": [
    "city_ten.score.hist();"
   ]
  },
  {
   "cell_type": "code",
   "execution_count": 106,
   "id": "7b48a2f9",
   "metadata": {},
   "outputs": [
    {
     "data": {
      "image/png": "[encoded data removed]",
      "text/plain": [
       "<Figure size 432x288 with 1 Axes>"
      ]
     },
     "metadata": {
      "needs_background": "light"
     },
     "output_type": "display_data"
    }
   ],
   "source": [
    "city_ten.prediction.hist();"
   ]
  },
  {
   "cell_type": "code",
   "execution_count": 107,
   "id": "253724c0",
   "metadata": {},
   "outputs": [
    {
     "data": {
      "text/plain": [
       "0.2313153027487109"
      ]
     },
     "execution_count": 107,
     "metadata": {},
     "output_type": "execute_result"
    }
   ],
   "source": [
    "#import necessary libraries\n",
    "from sklearn.metrics import mean_squared_error\n",
    "from math import sqrt\n",
    "\n",
    "#calculate RMSE\n",
    "sqrt(mean_squared_error(city_ten.score, city_ten.prediction))"
   ]
  },
  {
   "cell_type": "code",
   "execution_count": 108,
   "id": "a2db201d",
   "metadata": {},
   "outputs": [
    {
     "name": "stderr",
     "output_type": "stream",
     "text": [
      "/Users/djbetts/Desktop/jf_project/src/ItemItemRecommender.py:44: RuntimeWarning: invalid value encountered in true_divide\n",
      "  self.item_sim_mat[item_to_rate, relevant_items].sum()\n"
     ]
    }
   ],
   "source": [
    "#Are these movies already seen?\n",
    "recommend_10 = movies.loc[rec.top_n_recs(user_id=14, n=10)]"
   ]
  },
  {
   "cell_type": "code",
   "execution_count": 109,
   "id": "56180585",
   "metadata": {},
   "outputs": [
    {
     "data": {
      "text/plain": [
       "192                                                Marea\n",
       "105    Episode 8: I AM the Resurrection and Life - Pa...\n",
       "227                      StoryClubs: Jesus and Zacchaeus\n",
       "55                                  Day 1: Cry for Mercy\n",
       "47                      Confronting Hypocritical Leaders\n",
       "96          Episode 2: I AM the Bread of Life - Part One\n",
       "83                            Don&#39;t Hold Your Breath\n",
       "39                                              Cabernet\n",
       "118                                             Fracture\n",
       "126                                                 Good\n",
       "Name: video_title, dtype: object"
      ]
     },
     "execution_count": 109,
     "metadata": {},
     "output_type": "execute_result"
    }
   ],
   "source": [
    "recommend_10"
   ]
  },
  {
   "cell_type": "code",
   "execution_count": 110,
   "id": "f524a529",
   "metadata": {},
   "outputs": [
    {
     "data": {
      "text/plain": [
       "'Alexandria'"
      ]
     },
     "execution_count": 110,
     "metadata": {},
     "output_type": "execute_result"
    }
   ],
   "source": [
    "cities[14]"
   ]
  },
  {
   "cell_type": "code",
   "execution_count": 111,
   "id": "fde2cef2",
   "metadata": {},
   "outputs": [
    {
     "data": {
      "text/plain": [
       "0.6428571428571429"
      ]
     },
     "execution_count": 111,
     "metadata": {},
     "output_type": "execute_result"
    }
   ],
   "source": [
    "pivot_table.loc[\"Alexandria\",\"Marea\"]"
   ]
  },
  {
   "cell_type": "code",
   "execution_count": 112,
   "id": "3a223d5e",
   "metadata": {},
   "outputs": [
    {
     "name": "stdout",
     "output_type": "stream",
     "text": [
      "Marea: 0.6428571428571429\n",
      "Episode 8: I AM the Resurrection and Life - Part One: nan\n",
      "StoryClubs: Jesus and Zacchaeus: nan\n",
      "Day 1: Cry for Mercy: nan\n",
      "Confronting Hypocritical Leaders: nan\n",
      "Episode 2: I AM the Bread of Life - Part One: nan\n",
      "Don&#39;t Hold Your Breath: nan\n",
      "Cabernet: nan\n",
      "Fracture: nan\n",
      "Good: nan\n"
     ]
    }
   ],
   "source": [
    "for movie in recommend_10:\n",
    "    print(f'{movie}: {pivot_table.loc[\"Alexandria\", movie]}')"
   ]
  },
  {
   "cell_type": "code",
   "execution_count": 113,
   "id": "dd6354bf",
   "metadata": {},
   "outputs": [
    {
     "data": {
      "text/plain": [
       "192                                                Marea\n",
       "105    Episode 8: I AM the Resurrection and Life - Pa...\n",
       "227                      StoryClubs: Jesus and Zacchaeus\n",
       "55                                  Day 1: Cry for Mercy\n",
       "47                      Confronting Hypocritical Leaders\n",
       "96          Episode 2: I AM the Bread of Life - Part One\n",
       "83                            Don&#39;t Hold Your Breath\n",
       "39                                              Cabernet\n",
       "118                                             Fracture\n",
       "126                                                 Good\n",
       "Name: video_title, dtype: object"
      ]
     },
     "execution_count": 113,
     "metadata": {},
     "output_type": "execute_result"
    }
   ],
   "source": [
    "recommend_10"
   ]
  },
  {
   "cell_type": "code",
   "execution_count": null,
   "id": "57ba361a",
   "metadata": {},
   "outputs": [],
   "source": []
  }
 ],
 "metadata": {
  "kernelspec": {
   "display_name": "Python 3",
   "language": "python",
   "name": "python3"
  },
  "language_info": {
   "codemirror_mode": {
    "name": "ipython",
    "version": 3
   },
   "file_extension": ".py",
   "mimetype": "text/x-python",
   "name": "python",
   "nbconvert_exporter": "python",
   "pygments_lexer": "ipython3",
   "version": "3.7.10"
  }
 },
 "nbformat": 4,
 "nbformat_minor": 5
}
